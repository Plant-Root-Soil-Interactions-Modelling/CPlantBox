{
 "cells": [
  {
   "cell_type": "code",
   "execution_count": 1,
   "id": "e34b97a9-2c2b-40d1-9bbf-e6e1b42d95ea",
   "metadata": {},
   "outputs": [
    {
     "name": "stdout",
     "output_type": "stream",
     "text": [
      "Angle (radians): 1.5707963267948966\n",
      "Angle (degrees): 90.0\n"
     ]
    }
   ],
   "source": [
    "import numpy as np\n",
    "\n",
    "def angle_between_vectors(p1, p2, p3):\n",
    "    \"\"\"\n",
    "    Compute the angle (in radians) between two vectors defined by three points in 3D space.\n",
    "    \n",
    "    Parameters:\n",
    "    p1, p2, p3 : array-like\n",
    "        Coordinates of the three points. p1 and p3 are the end points, p2 is the common vertex.\n",
    "    \n",
    "    Returns:\n",
    "    float\n",
    "        Angle in radians.\n",
    "    \"\"\"\n",
    "    v1 = np.array(p1) - np.array(p2)  # Vector from p2 to p1\n",
    "    v2 = np.array(p3) - np.array(p2)  # Vector from p2 to p3\n",
    "    \n",
    "    dot_product = np.dot(v1, v2)\n",
    "    norm_product = np.linalg.norm(v1) * np.linalg.norm(v2)\n",
    "    \n",
    "    # Avoid numerical errors leading to values slightly out of the valid domain for arccos\n",
    "    cos_theta = np.clip(dot_product / norm_product, -1.0, 1.0)\n",
    "    \n",
    "    return np.arccos(cos_theta)  # Returns angle in radians\n",
    "\n"
   ]
  },
  {
   "cell_type": "code",
   "execution_count": 3,
   "id": "8ab6685b-4ea2-4bbf-b3c4-e485e80c682b",
   "metadata": {},
   "outputs": [
    {
     "name": "stdout",
     "output_type": "stream",
     "text": [
      "Angle (radians): 2.7880392629965196\n",
      "Angle (degrees): 159.74288288646514\n",
      "Angle (radians): 2.7880392629965196\n",
      "Angle (degrees): 159.74288288646514\n"
     ]
    }
   ],
   "source": [
    "\n",
    "# Example usage:\n",
    "p1 = [1, 0, 0]\n",
    "p2 = [0, 0, 0]\n",
    "p3 = [0, 1, 0]\n",
    "\n",
    "p0 = [ 0.48824770623520258, -6.9539008804013501e-17, 0.10776909276811855]\n",
    "\n",
    "p1 = [ 0.49536205297909552, -8.6438598448829188e-17,  -0.067944363035764899]\n",
    "p2 =  [0.44119846425319809,  -1.0229292033696767e-16, -0.23525287488279406]\n",
    "p3 = [ 0.3324571563433506, -1.1716662601950873e-16,  -0.3734598227334408]\n",
    "angle = angle_between_vectors(p0, p1, p2)\n",
    "print(\"Angle (radians):\", angle)\n",
    "print(\"Angle (degrees):\", np.degrees(angle))\n",
    "angle = angle_between_vectors(p1, p2, p3)\n",
    "print(\"Angle (radians):\", angle)\n",
    "print(\"Angle (degrees):\", np.degrees(angle))"
   ]
  },
  {
   "cell_type": "code",
   "execution_count": 11,
   "id": "361278b8-4398-4a3a-a23f-2b168e0f271a",
   "metadata": {},
   "outputs": [
    {
     "name": "stdout",
     "output_type": "stream",
     "text": [
      "0\n",
      "Angle (radians): 2.8915926535897936\n",
      "Angle (degrees): 165.67605512172943\n",
      "1\n",
      "Angle (radians): 2.891592653589793\n",
      "Angle (degrees): 165.6760551217294\n",
      "2\n",
      "Angle (radians): 2.891592653589793\n",
      "Angle (degrees): 165.6760551217294\n",
      "3\n",
      "Angle (radians): 2.6415926535897944\n",
      "Angle (degrees): 151.35211024345892\n",
      "4\n",
      "Angle (radians): 3.141592653589793\n",
      "Angle (degrees): 180.0\n",
      "5\n",
      "Angle (radians): 3.141592653589793\n",
      "Angle (degrees): 180.0\n",
      "6\n",
      "Angle (radians): 2.8915926535897953\n",
      "Angle (degrees): 165.67605512172955\n",
      "7\n",
      "Angle (radians): 2.891592653589793\n",
      "Angle (degrees): 165.6760551217294\n",
      "8\n",
      "Angle (radians): 2.891592653589796\n",
      "Angle (degrees): 165.67605512172958\n",
      "9\n",
      "Angle (radians): 2.8915926535897944\n",
      "Angle (degrees): 165.6760551217295\n",
      "10\n",
      "Angle (radians): 2.8915926535897905\n",
      "Angle (degrees): 165.67605512172926\n"
     ]
    }
   ],
   "source": [
    "poly =[[ 5.      ,    4.    ,     -2.        ],\n",
    " [ 5.48824771 , 4.   ,      -1.89223091],\n",
    " [ 5.98360976  ,4.   ,      -1.96017527],\n",
    " [ 6.31606692  ,4.   ,      -2.33363509],\n",
    " [ 6.75726538 , 4.   ,      -2.56888797],\n",
    " [ 7.08972254  ,4.    ,     -2.94234779],\n",
    " [ 7.27231233,  4.   ,      -3.40781634]]\n",
    "poly =[[np.float64(5.0), np.float64(4.0), np.float64(-2.0)], [np.float64(5.237246154838896), np.float64(4.0), np.float64(-1.9211694094011829)], [np.float64(5.4866199014899095), np.float64(4.0), np.float64(-1.903485108984257)], [np.float64(5.732616388208394), np.float64(4.0), np.float64(-1.94804662289663)], [np.float64(5.959940744914814), np.float64(4.0), np.float64(-2.0520833320334155)], [np.float64(6.109558780940803), np.float64(4.0), np.float64(-2.252369235920149)], [np.float64(6.259176816966793), np.float64(4.0), np.float64(-2.4526551398068825)], [np.float64(6.4087948529927825), np.float64(4.0), np.float64(-2.652941043693616)], [np.float64(6.603313152214763), np.float64(4.0), np.float64(-2.809984449374301)], [np.float64(6.752931188240751), np.float64(4.0), np.float64(-3.0102703532610344)], [np.float64(6.848346436253834), np.float64(4.0), np.float64(-3.24134594791915)], [np.float64(6.883626438268801), np.float64(4.0), np.float64(-3.4888440720692615)], [np.float64(6.856577654636274), np.float64(4.0), np.float64(-3.737376491089398)]]\n",
    "for i in range(2,len(poly)):\n",
    "    print(i-2)\n",
    "    angle = angle_between_vectors(poly[i-2],poly[i-1], poly[i])\n",
    "    print(\"Angle (radians):\", angle)\n",
    "    print(\"Angle (degrees):\", np.degrees(angle))"
   ]
  },
  {
   "cell_type": "code",
   "execution_count": 9,
   "id": "5b51ea1a-a1c9-4fc1-80c7-9854619fd0c7",
   "metadata": {},
   "outputs": [
    {
     "data": {
      "text/plain": [
       "120"
      ]
     },
     "execution_count": 9,
     "metadata": {},
     "output_type": "execute_result"
    }
   ],
   "source": [
    "50+70"
   ]
  },
  {
   "cell_type": "code",
   "execution_count": null,
   "id": "a3982ab1-754f-464a-b906-48076f273b04",
   "metadata": {},
   "outputs": [],
   "source": []
  }
 ],
 "metadata": {
  "kernelspec": {
   "display_name": "Python 3 (ipykernel)",
   "language": "python",
   "name": "python3"
  },
  "language_info": {
   "codemirror_mode": {
    "name": "ipython",
    "version": 3
   },
   "file_extension": ".py",
   "mimetype": "text/x-python",
   "name": "python",
   "nbconvert_exporter": "python",
   "pygments_lexer": "ipython3",
   "version": "3.12.3"
  }
 },
 "nbformat": 4,
 "nbformat_minor": 5
}
