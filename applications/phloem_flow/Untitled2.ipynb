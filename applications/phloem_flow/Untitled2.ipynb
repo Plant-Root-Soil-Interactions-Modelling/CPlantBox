{
 "cells": [
  {
   "cell_type": "code",
   "execution_count": 9,
   "id": "61f6ba2b-3563-4c52-8c59-371cb86a8038",
   "metadata": {},
   "outputs": [
    {
     "name": "stdout",
     "output_type": "stream",
     "text": [
      "3.388235294117647 99\n"
     ]
    }
   ],
   "source": [
    "import numpy as np\n",
    "Qs =np.array([400.,700 ])*1e-6\n",
    "MulimSuc =np.array([0.4,0.9,1.4])\n",
    "GrRatio = np.array([3]) \n",
    "CarbonCost = np.array([1]) \n",
    "nodeD = np.array([4,6,8])\n",
    "kss = np.array([0.01, 0.4,0.6])\n",
    "kaa = np.array([ 1. , 3.,  5.,10.])\n",
    "Klight = np.array([0.001,0.005,0.01,0.02])\n",
    "maxrun = len(Qs) * len(MulimSuc) * len(nodeD) * len(GrRatio)*len(CarbonCost)*len(kss)*len(kaa)*len(Klight)\n",
    "print(maxrun/255, maxrun - 255*3)"
   ]
  },
  {
   "cell_type": "code",
   "execution_count": null,
   "id": "08729c48-9e73-4c86-9d90-a941e04f548f",
   "metadata": {},
   "outputs": [],
   "source": []
  }
 ],
 "metadata": {
  "kernelspec": {
   "display_name": "py38",
   "language": "python",
   "name": "py38"
  },
  "language_info": {
   "codemirror_mode": {
    "name": "ipython",
    "version": 3
   },
   "file_extension": ".py",
   "mimetype": "text/x-python",
   "name": "python",
   "nbconvert_exporter": "python",
   "pygments_lexer": "ipython3",
   "version": "3.10.4"
  }
 },
 "nbformat": 4,
 "nbformat_minor": 5
}
