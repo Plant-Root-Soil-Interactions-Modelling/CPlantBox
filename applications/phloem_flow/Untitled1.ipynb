{
 "cells": [
  {
   "cell_type": "code",
   "execution_count": 3,
   "id": "fea83b48-7cf5-4c94-945c-c573bfd65cef",
   "metadata": {},
   "outputs": [
    {
     "name": "stdout",
     "output_type": "stream",
     "text": [
      "[0]\n",
      "False\n"
     ]
    }
   ],
   "source": [
    "import numpy as np\n",
    "arr = np.array([2,1 ,1 ,1, 1, 1, 0, 0 ,0] )\n",
    "nodeD = 7\n",
    "print(arr[(nodeD+1):])\n",
    "print((arr[(nodeD+1):] ==-1).all())"
   ]
  },
  {
   "cell_type": "code",
   "execution_count": null,
   "id": "2a214440-f71a-44d1-8dc0-069ce686efc8",
   "metadata": {},
   "outputs": [],
   "source": [
    "42 4 fail (nodeD_ == 4) and (budStage[3] > 0) [-1  1  1  2  0] 2.083333333333348"
   ]
  },
  {
   "cell_type": "code",
   "execution_count": 4,
   "id": "f87e49be-d22d-4d8b-acae-08c88ce508b5",
   "metadata": {},
   "outputs": [
    {
     "ename": "NameError",
     "evalue": "name 'budStage' is not defined",
     "output_type": "error",
     "traceback": [
      "\u001b[0;31m---------------------------------------------------------------------------\u001b[0m",
      "\u001b[0;31mNameError\u001b[0m                                 Traceback (most recent call last)",
      "Input \u001b[0;32mIn [4]\u001b[0m, in \u001b[0;36m<cell line: 1>\u001b[0;34m()\u001b[0m\n\u001b[0;32m----> 1\u001b[0m \u001b[43mbudStage\u001b[49m,nodeD,budStage[(nodeD\u001b[38;5;241m+\u001b[39m\u001b[38;5;241m1\u001b[39m):] ,(budStage[(nodeD):] \u001b[38;5;241m==\u001b[39m\u001b[38;5;241m-\u001b[39m\u001b[38;5;241m1\u001b[39m),(\u001b[38;5;129;01mnot\u001b[39;00m (budStage[(nodeD):] \u001b[38;5;241m==\u001b[39m\u001b[38;5;241m-\u001b[39m\u001b[38;5;241m1\u001b[39m)\u001b[38;5;241m.\u001b[39mall())\n",
      "\u001b[0;31mNameError\u001b[0m: name 'budStage' is not defined"
     ]
    }
   ],
   "source": [
    "budStage,nodeD,budStage[(nodeD+1):] ,(budStage[(nodeD):] ==-1),(not (budStage[(nodeD):] ==-1).all())"
   ]
  },
  {
   "cell_type": "code",
   "execution_count": 5,
   "id": "3dd37194-e3d6-40fe-966a-46681b48fde1",
   "metadata": {},
   "outputs": [
    {
     "name": "stdout",
     "output_type": "stream",
     "text": [
      "[2 1 1 1 1 1 0 0 0]\n"
     ]
    }
   ],
   "source": [
    "arr = np.array([2,1 ,1 ,1, 1, 1, 0, 0 ,0] )\n",
    "print(str(arr))"
   ]
  },
  {
   "cell_type": "code",
   "execution_count": null,
   "id": "3cad8563-32b4-4b0e-a2cf-3e435426fc44",
   "metadata": {},
   "outputs": [],
   "source": []
  }
 ],
 "metadata": {
  "kernelspec": {
   "display_name": "Python 3 (ipykernel)",
   "language": "python",
   "name": "python3"
  },
  "language_info": {
   "codemirror_mode": {
    "name": "ipython",
    "version": 3
   },
   "file_extension": ".py",
   "mimetype": "text/x-python",
   "name": "python",
   "nbconvert_exporter": "python",
   "pygments_lexer": "ipython3",
   "version": "3.10.4"
  }
 },
 "nbformat": 4,
 "nbformat_minor": 5
}
