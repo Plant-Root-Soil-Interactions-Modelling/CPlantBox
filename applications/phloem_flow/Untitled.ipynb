{
 "cells": [
  {
   "cell_type": "code",
   "execution_count": 1,
   "id": "c5a0fcb8-4e70-41c9-be47-7850cad4d5bb",
   "metadata": {},
   "outputs": [],
   "source": [
    "import numpy as np\n",
    "Qs =np.array([ 120.,  230.,  340.,  450.,  560., ])*1e-6\n",
    "#Qs =np.array([230.,240,250,  260,270,280,290,300,310,320,330])*1e-6\n",
    "#MulimSuc =np.array([0.3,0.6,0.9,1.2,1.5])\n",
    "MulimSuc =np.array([0.4,0.9,1.4])\n",
    "GrRatio = np.array([3, 6, 10]) \n",
    "CarbonCost = np.array([1, 6, 10]) \n",
    "nodeD = np.array([3,4,5,6,7,8])\n",
    "maxrun = len(Qs) * len(MulimSuc) * len(nodeD) * len(GrRatio)*len(CarbonCost)"
   ]
  },
  {
   "cell_type": "code",
   "execution_count": 3,
   "id": "15a871fc-ae73-4c63-899e-c1ea5cd4ea7d",
   "metadata": {},
   "outputs": [
    {
     "name": "stdout",
     "output_type": "stream",
     "text": [
      "3.176470588235294\n"
     ]
    }
   ],
   "source": [
    "print(maxrun/255)"
   ]
  },
  {
   "cell_type": "code",
   "execution_count": null,
   "id": "8adae1ce-3767-42c5-b981-a1bf71296669",
   "metadata": {},
   "outputs": [],
   "source": []
  }
 ],
 "metadata": {
  "kernelspec": {
   "display_name": "py38",
   "language": "python",
   "name": "py38"
  },
  "language_info": {
   "codemirror_mode": {
    "name": "ipython",
    "version": 3
   },
   "file_extension": ".py",
   "mimetype": "text/x-python",
   "name": "python",
   "nbconvert_exporter": "python",
   "pygments_lexer": "ipython3",
   "version": "3.10.4"
  }
 },
 "nbformat": 4,
 "nbformat_minor": 5
}
