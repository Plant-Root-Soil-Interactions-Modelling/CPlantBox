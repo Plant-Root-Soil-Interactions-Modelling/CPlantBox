{
 "cells": [
  {
   "cell_type": "code",
   "execution_count": 2,
   "id": "4be48c04-b6a1-448e-91ee-98a786660811",
   "metadata": {},
   "outputs": [
    {
     "name": "stdout",
     "output_type": "stream",
     "text": [
      "240\n"
     ]
    }
   ],
   "source": [
    "import numpy as np\n",
    "Qs = np.array([300,400,500,700])*1e-6 \n",
    "MulimSuc =np.array([0.6,0.8,1.,1.2,1.4,1.6])\n",
    "GrRatio = np.array([3])# 3, 6, 10 np.array([3, 6, 10]) \n",
    "CarbonCost = np.array([1]) \n",
    "nodeD = np.array([4,7])\n",
    "BerthLim = np.array([0.5])\n",
    "\n",
    "kss = np.array([ 1. ])\n",
    "kaa = np.array([ 1. ])\n",
    "Klight = np.array([0,0.001,0.005,0.01,0.02])\n",
    "maxrun = len(Qs) * len(MulimSuc) * len(nodeD) * len(GrRatio)*len(CarbonCost) * len(Klight)\n",
    "print(maxrun)"
   ]
  },
  {
   "cell_type": "code",
   "execution_count": null,
   "id": "8507b564-9fad-49bd-a97f-6ba1e30d5b1f",
   "metadata": {},
   "outputs": [],
   "source": []
  }
 ],
 "metadata": {
  "kernelspec": {
   "display_name": "py38",
   "language": "python",
   "name": "py38"
  },
  "language_info": {
   "codemirror_mode": {
    "name": "ipython",
    "version": 3
   },
   "file_extension": ".py",
   "mimetype": "text/x-python",
   "name": "python",
   "nbconvert_exporter": "python",
   "pygments_lexer": "ipython3",
   "version": "3.10.4"
  }
 },
 "nbformat": 4,
 "nbformat_minor": 5
}
