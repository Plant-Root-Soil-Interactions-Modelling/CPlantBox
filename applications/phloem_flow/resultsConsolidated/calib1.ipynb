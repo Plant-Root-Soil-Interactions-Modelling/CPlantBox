{
 "cells": [
  {
   "cell_type": "code",
   "execution_count": 1,
   "id": "30b4e40b-8476-4b39-9174-1f8f3fa60a4a",
   "metadata": {},
   "outputs": [
    {
     "name": "stdout",
     "output_type": "stream",
     "text": [
      "/home/m.giraud/auxin_sizeBuds/CPlantBox/applications/phloem_flow/resultsConsolidated\n"
     ]
    }
   ],
   "source": [
    "import numpy as np \n",
    "import pandas as pd\n",
    "import os\n",
    "import sys\n",
    "import shutil\n",
    "import subprocess\n",
    "sys.path.append(\"..\")\n",
    "sys.path.append(\"../results\")\n",
    "print(os.getcwd() )\n",
    "from numpy import loadtxt"
   ]
  },
  {
   "cell_type": "code",
   "execution_count": 250,
   "id": "f07728a8-9b0e-4e4c-acf4-b4b0f7f87e73",
   "metadata": {},
   "outputs": [
    {
     "name": "stdout",
     "output_type": "stream",
     "text": [
      "success\n"
     ]
    }
   ],
   "source": [
    "N1 = loadtxt('CalibPart1_1/successThreads.txt',delimiter=\",\")\n",
    "N2 =  loadtxt('CalibPart1_2/successThreads.txt',delimiter=\",\")\n",
    "N3 = loadtxt('CalibPart1_3/successThreads.txt',delimiter=\",\")\n",
    "N4 = loadtxt('CalibPart1_4/successThreads.txt',delimiter=\",\")\n",
    "successThreadsAll = np.array(np.concatenate((N1,N2,N3,N4)),dtype=\"int64\")\n",
    "\n",
    "N1 = N1[N1 != -1] \n",
    "N2 = N2[N2 != -1] \n",
    "N3 = N3[N3 != -1] \n",
    "N4 = N4[N4 != -1] \n",
    "successThreads = np.array(np.concatenate((N1,N2,N3,N4)),dtype=\"int64\")\n",
    "successFolder =  np.concatenate((np.full(len(N1),1),np.full(len(N2),2),np.full(len(N3),3),np.full(len(N4),4)))\n",
    "\n",
    "endTime1 = np.full(len(successThreads),0)\n",
    "Qsv = np.full(len(successThreads),0.)\n",
    "MulimSucv = np.full(len(successThreads),0.)\n",
    "GrRatiov = np.full(len(successThreads),0.)\n",
    "nodeDv = np.full(len(successThreads),0)\n",
    "CarbonCostv = np.full(len(successThreads),0.)\n",
    "for n,thread in enumerate(successThreads):\n",
    "    folder = successFolder[n]\n",
    "    time_all_name = \"CalibPart1_\"+ str(folder)+\"/time_all_\" + str(thread)+\".txt\"\n",
    "    data = pd.read_csv(time_all_name, header = None)\n",
    "    endTime1[n] = data.loc[:,5].to_numpy( )[-1]\n",
    "    time_all_name = \"CalibPart1_\"+ str(folder)+\"/input_\" + str(thread)+\".txt\"\n",
    "    data = pd.read_csv(time_all_name, header =0)\n",
    "    Qsv[n] = np.round(data[\"Qmax_\"]*1e6)\n",
    "    MulimSucv[n] = data[\"thresholdSuc\"]\n",
    "    nodeDv[n] = data[\"nodeD\"]\n",
    "    GrRatiov[n] = data[\"GrRatio\"]\n",
    "    CarbonCostv[n] = data[\"CarbonCost\"]\n",
    "    \n",
    "# print(len(successThreads))\n",
    "\n",
    "import CalibP1Database \n",
    "from importlib import reload  # Python 3.4+\n",
    "CalibP1Database = reload(CalibP1Database)\n",
    "    \n",
    "params = CalibP1Database.toTry()\n",
    "Qsvt=params['Qsv'][successThreadsAll != -1]\n",
    "Qsvt = np.round(Qsv)\n",
    "MulimSucvt=params['MulimSucv'][successThreadsAll != -1]\n",
    "nodeDvt=np.array(params['nodeDv'][successThreadsAll != -1],dtype = \"int64\")\n",
    "GrRatiovt= params['GrRatiov'][successThreadsAll != -1]\n",
    "CarbonCostvt= params['CarbonCostv'][successThreadsAll != -1]\n",
    "assert((Qsvt == Qsv).all())\n",
    "assert((MulimSucvt == MulimSucv).all())\n",
    "assert((GrRatiovt == GrRatiov).all())\n",
    "assert((nodeDvt == nodeDv).all())\n",
    "assert((CarbonCostvt == CarbonCostv).all())\n",
    "print(\"success\")\n",
    "\n",
    "#==> new things to try? no only those where all nodes succeeded"
   ]
  },
  {
   "cell_type": "code",
   "execution_count": 248,
   "id": "4c1b1e0c-4329-405a-8be5-7b81c2a21cfc",
   "metadata": {},
   "outputs": [
    {
     "name": "stdout",
     "output_type": "stream",
     "text": [
      "{3, 4, 5, 6, 7, 8} {3, 5, 6, 7, 8}\n"
     ]
    }
   ],
   "source": [
    "print(set(params['nodeDv']), set(params['nodeDv'][successThreadsAll != -1]))"
   ]
  },
  {
   "cell_type": "code",
   "execution_count": 251,
   "id": "a2714fa2-4f76-4e7e-8de7-afa3109a5246",
   "metadata": {},
   "outputs": [
    {
     "name": "stdout",
     "output_type": "stream",
     "text": [
      "6.0\n",
      "(6, 7) 42\n"
     ]
    }
   ],
   "source": [
    "\n",
    "aa = pd.crosstab(index=nodeDv, columns=[Qsv,MulimSucv ,GrRatiov,CarbonCostvt],values = successThreads, aggfunc = sum)\n",
    "aaFolder = pd.crosstab(index=nodeDv, columns=[Qsv,MulimSucv ,GrRatiov,CarbonCostvt],values = successFolder, aggfunc = sum)\n",
    "aaTime = pd.crosstab(index=nodeDv, columns=[Qsv,MulimSucv ,GrRatiov,CarbonCostvt],values = endTime1/3600, aggfunc = sum)\n",
    "aaint = pd.crosstab(index=nodeDv, columns=[Qsv,MulimSucv ,GrRatiov,CarbonCostvt],values = 1, aggfunc = sum)\n",
    "\n",
    "print(max(aaint.sum(axis=0)))\n",
    "#1.5 * 120 and 1.5 * 230\n",
    "#0.6 * 120 and 0.6*230\n",
    "bb = aa.iloc[:,np.where(aaint.sum(axis=0) == max(aaint.sum(axis=0)))[0]]\n",
    "bbFolder = aaFolder.iloc[:,np.where(aaint.sum(axis=0) == max(aaint.sum(axis=0)))[0]]\n",
    "bbTime = aaTime.iloc[:,np.where(aaint.sum(axis=0) == max(aaint.sum(axis=0)))[0]]\n",
    "sshape = bb.shape\n",
    "print(sshape,sshape[0]*sshape[1] )"
   ]
  },
  {
   "cell_type": "code",
   "execution_count": 266,
   "id": "04a4c4e1-61d5-42a0-9661-365c407ce102",
   "metadata": {},
   "outputs": [],
   "source": [
    "aa.to_csv(\"outAll.csv\",index=True)\n",
    "aaint.to_csv(\"outTest.csv\",index=True)\n",
    "bb.to_csv(\"out.csv\",index=True)\n",
    "bbFolder.to_csv(\"outFolder.csv\",index=True)\n",
    "bbTime.to_csv(\"outTime.csv\",index=True)\n",
    "bbShort = bb.iloc[:,(bbTime.max(axis=0)<2.).to_numpy()]\n",
    "bbShort.to_csv(\"outTimeShort.csv\",index=True)"
   ]
  },
  {
   "cell_type": "code",
   "execution_count": 268,
   "id": "af53ca10-b4eb-472f-a4d6-2757752d6ad2",
   "metadata": {},
   "outputs": [],
   "source": [
    "successThreads = np.array(bbShort.to_numpy( ).flatten(),dtype=\"int64\")\n",
    "successFolder  = np.array(bbFolder.to_numpy( ).flatten(),dtype=\"int64\")\n",
    "\n",
    "Qsv = np.full(len(successThreads),0.)\n",
    "MulimSucv = np.full(len(successThreads),0.)\n",
    "GrRatiov = np.full(len(successThreads),0.)\n",
    "nodeDv = np.full(len(successThreads),0)\n",
    "CarbonCostv = np.full(len(successThreads),0.)\n",
    "for n,thread in enumerate(successThreads):\n",
    "    folder = successFolder[n]\n",
    "    time_all_name = \"CalibPart1_\"+ str(folder)+\"/time_all_\" + str(thread)+\".txt\"\n",
    "    data = pd.read_csv(time_all_name, header = None)\n",
    "    time_all_name = \"CalibPart1_\"+ str(folder)+\"/input_\" + str(thread)+\".txt\"\n",
    "    data = pd.read_csv(time_all_name, header =0)\n",
    "    Qsv[n] = np.round(data[\"Qmax_\"]*1e6)\n",
    "    MulimSucv[n] = data[\"thresholdSuc\"]\n",
    "    nodeDv[n] = data[\"nodeD\"]\n",
    "    GrRatiov[n] = data[\"GrRatio\"]\n",
    "    CarbonCostv[n] = data[\"CarbonCost\"]\n",
    "    \n",
    "Qsv=Qsv.reshape((-1, 1))\n",
    "MulimSucv=MulimSucv.reshape((-1, 1))\n",
    "nodeDv=nodeDv.reshape((-1, 1))\n",
    "GrRatiov= GrRatiov.reshape((-1, 1))\n",
    "CarbonCostv= CarbonCostv.reshape((-1, 1))\n",
    "df = pd.DataFrame(np.concatenate([nodeDv,Qsv,MulimSucv ,GrRatiov,CarbonCostv], axis=1), columns= [\"nodeD\",\"Qs\",\"MulimSuc\" ,\"GrRatio\",\"CarbonCost\"])\n",
    "df.to_csv(\"paramsPairCalibP1.csv\",index=True)"
   ]
  },
  {
   "cell_type": "code",
   "execution_count": 269,
   "id": "47670913-b672-455b-b3c0-310549af41d7",
   "metadata": {},
   "outputs": [
    {
     "name": "stdout",
     "output_type": "stream",
     "text": [
      "0\n"
     ]
    }
   ],
   "source": [
    "dfP2 = pd.read_csv('paramsPairCalibP1.csv')#.to_numpy()[:,1:]\n",
    "#print(dfP2)\n",
    "print(sum(dfP2.duplicated()))"
   ]
  },
  {
   "cell_type": "code",
   "execution_count": 270,
   "id": "532c0449-6b57-468e-a40b-db6350771544",
   "metadata": {},
   "outputs": [
    {
     "name": "stdout",
     "output_type": "stream",
     "text": [
      "1008 1008 1008\n",
      "0\n",
      "[]\n",
      "Empty DataFrame\n",
      "Columns: [Qsv, nodeDv, MulimSucv, kaav, kssv, GrRatiov, CarbonCost]\n",
      "Index: []\n"
     ]
    }
   ],
   "source": [
    "#test for database\n",
    "dfP2 = pd.read_csv('paramsPairCalibP1.csv')\n",
    "assert(sum(dfP2.duplicated()) == 0)\n",
    "kss = np.array([0.01, 0.1,0.4,0.6])\n",
    "kaa = np.array([ 1. , 3.,  5.,  7.,  9., 11.])\n",
    "\n",
    "Qs =          np.tile((dfP2[\"Qs\"]*1e-6).to_numpy(),  len(kss)*len(kaa)) #numpy.tile(A, reps)[source]\n",
    "MulimSuc =    np.tile(dfP2[\"MulimSuc\"].to_numpy(),   len(kss)*len(kaa))\n",
    "GrRatio =     np.tile(dfP2[\"GrRatio\"].to_numpy(),    len(kss)*len(kaa))\n",
    "CarbonCost =  np.tile(dfP2[\"CarbonCost\"].to_numpy(), len(kss)*len(kaa))\n",
    "nodeD =       np.tile(dfP2[\"nodeD\"].to_numpy(),      len(kss)*len(kaa))\n",
    "\n",
    "kss2 =        np.tile(np.repeat(kss,len(dfP2[\"Qs\"].to_numpy())),len(kaa))\n",
    "kaa2 =        np.repeat(kaa, len(dfP2[\"Qs\"]*1e-6)*len(kss)) #numpy.repeat(a, repeats)\n",
    "print(len(Qs),len(kss2), len(kaa2))\n",
    "\n",
    "dictPara= {'Qsv' : Qs,\n",
    "                'nodeDv':nodeD, \n",
    "           'MulimSucv':MulimSuc,\n",
    "                'kaav':kaa2, \n",
    "           'kssv':kss2,\n",
    "          'GrRatiov':GrRatio,\n",
    "          'CarbonCost':CarbonCost}\n",
    "df = pd.DataFrame(data=dictPara)\n",
    "print(sum(df.duplicated()))\n",
    "print(np.where(df.duplicated().to_numpy())[0])\n",
    "print(df.iloc[df.duplicated().to_numpy(),:])\n",
    "df.to_csv(\"forP2.csv\",index=True)"
   ]
  },
  {
   "cell_type": "code",
   "execution_count": 274,
   "id": "b38a25fc-982d-42b3-8796-835080705014",
   "metadata": {},
   "outputs": [
    {
     "name": "stdout",
     "output_type": "stream",
     "text": [
      "0       0.00045\n",
      "1       0.00045\n",
      "2       0.00045\n",
      "3       0.00045\n",
      "4       0.00045\n",
      "         ...   \n",
      "1003    0.00045\n",
      "1004    0.00045\n",
      "1005    0.00045\n",
      "1006    0.00056\n",
      "1007    0.00056\n",
      "Name: Qsv, Length: 1008, dtype: float64\n",
      "0.00045\n"
     ]
    }
   ],
   "source": [
    "Qsv= df['Qsv']\n",
    "print(Qsv)\n",
    "print(Qsv[2] )"
   ]
  },
  {
   "cell_type": "code",
   "execution_count": 103,
   "id": "0ecebe56-e831-461c-8cb0-b4b42f02084e",
   "metadata": {},
   "outputs": [],
   "source": [
    "#calib P2\n",
    "\n",
    "N1 = loadtxt('CalibPart3_1/successThreads.txt',delimiter=\",\")\n",
    "N2 =  loadtxt('CalibPart3_2/successThreads.txt',delimiter=\",\")\n",
    "N3 = loadtxt('CalibPart3_3/successThreads.txt',delimiter=\",\")"
   ]
  },
  {
   "cell_type": "code",
   "execution_count": 104,
   "id": "db1e6538-617a-46e6-ac40-cea4b7087013",
   "metadata": {},
   "outputs": [],
   "source": [
    "N2[N2 != -1] = N2[N2 != -1] +len(N1)-1\n",
    "N3[N3 != -1] = N3[N3 != -1] +len(N1)+len(N2)-1\n",
    "successThreads = np.concatenate((N1,N2,N3))\n",
    "successThreads = np.array(successThreads[successThreads!= -1], dtype = np.int64)"
   ]
  },
  {
   "cell_type": "code",
   "execution_count": 105,
   "id": "b40ebebc-43cd-4f3b-ab45-c3a44e166d73",
   "metadata": {},
   "outputs": [],
   "source": [
    "from CalibP2Database import toTry\n",
    "params = toTry()\n",
    "Qsv=params['Qsv'][successThreads]\n",
    "Qsv = np.round(Qsv*1e6)\n",
    "MulimSucv=params['MulimSucv'][successThreads]\n",
    "nodeDv=params['nodeDv'][successThreads]\n",
    "GrRatiov= params['GrRatiov'][successThreads]\n",
    "kssv=params['kssv'][successThreads]\n",
    "kaav= params['kaav'][successThreads]"
   ]
  },
  {
   "cell_type": "code",
   "execution_count": 82,
   "id": "f48b5486-c793-44d9-922a-0b87edc40336",
   "metadata": {},
   "outputs": [
    {
     "name": "stdout",
     "output_type": "stream",
     "text": [
      "4.0\n",
      "(5, 26) 130\n"
     ]
    }
   ],
   "source": [
    "\n",
    "aa = pd.crosstab(index=nodeDv, columns=[Qsv,MulimSucv ,GrRatiov,kssv,kaav],values = successThreads, aggfunc = sum)\n",
    "aaint = pd.crosstab(index=nodeDv, columns=[Qsv,MulimSucv ,GrRatiov,kssv,kaav],values = 1, aggfunc = sum)\n",
    "#print(aaint)\n",
    "print(max(aaint.sum(axis=0)))\n",
    "#1.5 * 120 and 1.5 * 230\n",
    "#0.6 * 120 and 0.6*230\n",
    "bb = aa.iloc[:,np.where(aaint.sum(axis=0) == max(aaint.sum(axis=0)))[0]]\n",
    "sshape = bb.shape\n",
    "print(sshape,sshape[0]*sshape[1] )\n",
    "bb.to_csv(\"outP2.csv\",index=True)"
   ]
  },
  {
   "cell_type": "code",
   "execution_count": null,
   "id": "30e58cec-823b-4e63-acfd-296077ed71e5",
   "metadata": {},
   "outputs": [],
   "source": [
    "##set new P2\n",
    "\n",
    "Qs =np.array([230.])*1e-6\n",
    "#MulimSuc =np.array([0.3,0.6,0.9,1.2,1.5])\n",
    "MulimSuc =np.array([0.6,0.9,1.2])\n",
    "GrRatio = np.array([3]) \n",
    "nodeD = np.array([3,4,5,6,7,8])\n",
    "kss = np.array([0.01, 0.2,0.4])# np.array([0.01, 0.100, 0.2, 0.3, 0.4])\n",
    "kaa = np.array([ 1. , 3.,  5.])#,  7.,  9., 11.,15,17])\n",
    "maxrun = len(Qs) * len(MulimSuc) * len(nodeD) * len(GrRatio)*len(kaa)*len(kss)\n",
    "\n",
    "\n",
    "Qsv,MulimSucv,kssv,kaav, nodeDv,GrRatiov = np.meshgrid(Qs,MulimSuc,kss,kaa,nodeD,GrRatio)\n",
    "Qsv=Qsv.flatten()\n",
    "MulimSucv=MulimSucv.flatten()\n",
    "kaav=kaav.flatten()\n",
    "kssv = kssv.flatten()\n",
    "nodeDv=nodeDv.flatten()\n",
    "GrRatiov = GrRatiov.flatten()\n",
    "dictPara= {'Qsv' : Qsv,\n",
    "                'nodeDv':nodeDv, \n",
    "           'MulimSucv':MulimSucv,\n",
    "                'kaav':kaav, \n",
    "           'kssv':kssv,\n",
    "          'GrRatiov':GrRatiov}"
   ]
  },
  {
   "cell_type": "code",
   "execution_count": 3,
   "id": "c259ceb4-1ae4-41c8-a58c-618170cda991",
   "metadata": {},
   "outputs": [
    {
     "name": "stdout",
     "output_type": "stream",
     "text": [
      "216\n"
     ]
    }
   ],
   "source": [
    "import numpy as np\n",
    "Qs =np.array([200.,  340.,  450.,  560., ])*1e-6\n",
    "#Qs =np.array([230.,240,250,  260,270,280,290,300,310,320,330])*1e-6\n",
    "#MulimSuc =np.array([0.3,0.6,0.9,1.2,1.5])\n",
    "MulimSuc =np.array([0.4,0.9,1.4])\n",
    "GrRatio = np.array([3, 6, 10]) \n",
    "CarbonCost = np.array([1, 6, 10]) \n",
    "nodeD = np.array([4,8])\n",
    "maxrun = len(Qs) * len(MulimSuc) * len(nodeD) * len(GrRatio)*len(CarbonCost)\n",
    "print(maxrun)"
   ]
  },
  {
   "cell_type": "code",
   "execution_count": null,
   "id": "c2fcedd0-4440-4bf8-95a6-b3e457cf5158",
   "metadata": {},
   "outputs": [],
   "source": []
  }
 ],
 "metadata": {
  "kernelspec": {
   "display_name": "py38",
   "language": "python",
   "name": "py38"
  },
  "language_info": {
   "codemirror_mode": {
    "name": "ipython",
    "version": 3
   },
   "file_extension": ".py",
   "mimetype": "text/x-python",
   "name": "python",
   "nbconvert_exporter": "python",
   "pygments_lexer": "ipython3",
   "version": "3.10.4"
  }
 },
 "nbformat": 4,
 "nbformat_minor": 5
}
