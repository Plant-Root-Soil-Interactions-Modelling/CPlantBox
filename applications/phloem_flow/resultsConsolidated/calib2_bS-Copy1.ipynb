{
 "cells": [
  {
   "cell_type": "code",
   "execution_count": 2,
   "id": "30b4e40b-8476-4b39-9174-1f8f3fa60a4a",
   "metadata": {},
   "outputs": [],
   "source": [
    "import numpy as np \n",
    "import pandas as pd\n",
    "import os\n",
    "import sys\n",
    "import shutil\n",
    "import subprocess\n",
    "sys.path.append(\"..\")\n",
    "sys.path.append(\"../results\")\n",
    "from numpy import loadtxt"
   ]
  },
  {
   "cell_type": "code",
   "execution_count": 23,
   "id": "f07728a8-9b0e-4e4c-acf4-b4b0f7f87e73",
   "metadata": {},
   "outputs": [
    {
     "name": "stdout",
     "output_type": "stream",
     "text": [
      "success 25 {7} {4, 7}\n"
     ]
    }
   ],
   "source": [
    "def loadsuccessThreads(Nnum = 1):\n",
    "    successThreadsAll = np.array([],dtype=\"int64\")\n",
    "    successThreads = np.array([],dtype=\"int64\")\n",
    "    successFolder = np.array([],dtype=\"int64\")\n",
    "    for i in range(1,Nnum+1):\n",
    "        N = loadtxt('../results/CalibPart1_0512_'+ str(i)+'/successThreads.txt',delimiter=\",\")\n",
    "        successThreadsAll = np.array(np.concatenate((successThreadsAll,N)),dtype=\"int64\")\n",
    "        successThreads = np.array(np.concatenate((successThreads,N[N != -1])),dtype=\"int64\")\n",
    "        successFolder = np.array(np.concatenate((successFolder,np.full(len(N[N != -1]),i) )),dtype=\"int64\")\n",
    "    return successThreadsAll,successThreads,successFolder\n",
    "\n",
    "successThreadsAll,successThreads,successFolder = loadsuccessThreads(1)\n",
    "\n",
    "endTime1 = np.full(len(successThreads),0)\n",
    "Qsv = np.full(len(successThreads),0.)\n",
    "MulimSucv = np.full(len(successThreads),0.)\n",
    "GrRatiov = np.full(len(successThreads),0.)\n",
    "nodeDv = np.full(len(successThreads),0)\n",
    "CarbonCostv = np.full(len(successThreads),0.)\n",
    "kssv = np.full(len(successThreads),0.)\n",
    "kaav = np.full(len(successThreads),0.)\n",
    "Klightv = np.full(len(successThreads),0.)\n",
    "for n,thread in enumerate(successThreads):\n",
    "    folder = successFolder[n]\n",
    "    time_all_name = \"../results/CalibPart1_0512_\"+ str(folder)+\"/time_all_\" + str(thread)+\".csv\"\n",
    "    data = pd.read_csv(time_all_name, header = None)\n",
    "    endTime1[n] = data.loc[:,5].to_numpy( )[-1]\n",
    "    time_all_name = \"../results/CalibPart1_0512_\"+ str(folder)+\"/input_\" + str(thread)+\".csv\"\n",
    "    data = pd.read_csv(time_all_name, header =0)\n",
    "    Qsv[n] = np.round(data[\"Qmax_\"]*1e6)\n",
    "    MulimSucv[n] = data[\"thresholdSuc\"]\n",
    "    nodeDv[n] = data[\"nodeD\"]\n",
    "    GrRatiov[n] = data[\"GrRatio\"]\n",
    "    CarbonCostv[n] = data[\"CarbonCost\"]\n",
    "    kssv[n] = data[\"kss\"]\n",
    "    kaav[n] = data[\"kaa\"]\n",
    "    Klightv[n] = data[\"Klight\"]\n",
    "    \n",
    "# print(len(successThreads))\n",
    "\n",
    "import CalibP1Database_0412 \n",
    "from importlib import reload  # Python 3.4+\n",
    "CalibP1Database_0412 = reload(CalibP1Database_0412)\n",
    "    \n",
    "params = CalibP1Database_0412.toTry()\n",
    "Qsvt=params['Qsv'][successThreadsAll != -1]\n",
    "Qsvt = np.round(Qsv)\n",
    "MulimSucvt=params['MulimSucv'][successThreadsAll != -1]\n",
    "nodeDvt=np.array(params['nodeDv'][successThreadsAll != -1],dtype = \"int64\")\n",
    "GrRatiovt= params['GrRatiov'][successThreadsAll != -1]\n",
    "CarbonCostvt= params['CarbonCostv'][successThreadsAll != -1]\n",
    "#kssvt= params['kssv'][successThreadsAll != -1]\n",
    "#kaavt= params['kaav'][successThreadsAll != -1]\n",
    "Klightvt= params['Klightv'][successThreadsAll != -1]\n",
    "assert((Qsvt == Qsv).all())\n",
    "assert((MulimSucvt == MulimSucv).all())\n",
    "assert((GrRatiovt == GrRatiov).all())\n",
    "assert((nodeDvt == nodeDv).all())\n",
    "assert((CarbonCostvt == CarbonCostv).all())\n",
    "#((kssvt == kssv).all())\n",
    "#assert((kaavt == kaav).all())\n",
    "print(\"success\", len(Qsv), set(nodeDvt), set(params['nodeDv']))\n",
    "\n",
    "#==> new things to try? no only those where all nodes succeeded"
   ]
  },
  {
   "cell_type": "code",
   "execution_count": 24,
   "id": "a2714fa2-4f76-4e7e-8de7-afa3109a5246",
   "metadata": {},
   "outputs": [
    {
     "name": "stdout",
     "output_type": "stream",
     "text": [
      "1\n",
      "(1, 25) 25\n"
     ]
    }
   ],
   "source": [
    "\n",
    "aa = pd.crosstab(index=nodeDv, columns=[Qsv,MulimSucv ,GrRatiov,CarbonCostvt, Klightvt],values = successThreads, aggfunc = sum)\n",
    "aaFolder = pd.crosstab(index=nodeDv, columns=[Qsv,MulimSucv ,GrRatiov,CarbonCostvt, Klightvt],values = successFolder, aggfunc = sum)\n",
    "aaTime = pd.crosstab(index=nodeDv, columns=[Qsv,MulimSucv ,GrRatiov,CarbonCostvt, Klightvt],values = endTime1/3600, aggfunc = sum)\n",
    "aaint = pd.crosstab(index=nodeDv, columns=[Qsv,MulimSucv ,GrRatiov,CarbonCostvt, Klightvt],values = 1, aggfunc = sum)\n",
    "\n",
    "print(max(aaint.sum(axis=0)))\n",
    "#1.5 * 120 and 1.5 * 230\n",
    "#0.6 * 120 and 0.6*230\n",
    "bb = aa.iloc[:,np.where(aaint.sum(axis=0) == max(aaint.sum(axis=0)))[0]]\n",
    "bbFolder = aaFolder.iloc[:,np.where(aaint.sum(axis=0) == max(aaint.sum(axis=0)))[0]]\n",
    "bbTime = aaTime.iloc[:,np.where(aaint.sum(axis=0) == max(aaint.sum(axis=0)))[0]]\n",
    "sshape = bb.shape\n",
    "print(sshape,sshape[0]*sshape[1] )"
   ]
  },
  {
   "cell_type": "code",
   "execution_count": 25,
   "id": "04a4c4e1-61d5-42a0-9661-365c407ce102",
   "metadata": {},
   "outputs": [],
   "source": [
    "aa.to_csv(\"outAll.csv\",index=True)\n",
    "aaint.to_csv(\"outTest.csv\",index=True)\n",
    "bb.to_csv(\"out.csv\",index=True)\n",
    "bbFolder.to_csv(\"outFolder.csv\",index=True)\n",
    "bbTime.to_csv(\"outTime.csv\",index=True)\n",
    "bbShort = bb.iloc[:,(bbTime.max(axis=0)<2.).to_numpy()]\n",
    "bbShort.to_csv(\"outTimeShort.csv\",index=True)"
   ]
  },
  {
   "cell_type": "code",
   "execution_count": 20,
   "id": "bc10171a-e7a0-4783-9c72-7abb8cc1644f",
   "metadata": {},
   "outputs": [
    {
     "name": "stdout",
     "output_type": "stream",
     "text": [
      "[] [                   1                    1                    1\n",
      "                    1                    2                    2\n",
      "                    2                    2                    2\n",
      "                    2                    2                    2\n",
      "                    2                    2                    2\n",
      "                    3                    3                    3\n",
      "                    4                    4                    6\n",
      "                    6                    7                    7\n",
      "                    7                    7                    1\n",
      "                    1                    1                    1\n",
      "                    2                    2                    2\n",
      "                    2                    2                    2\n",
      "                    2                    2                    2\n",
      "                    2                    2                    3\n",
      "                    3                    3 -9223372036854775808\n",
      " -9223372036854775808 -9223372036854775808 -9223372036854775808\n",
      " -9223372036854775808 -9223372036854775808 -9223372036854775808\n",
      " -9223372036854775808                    1                    1\n",
      "                    1                    1                    2\n",
      "                    2                    2                    2\n",
      "                    2                    2                    2\n",
      "                    2                    2                    2\n",
      "                    2                    3                    3\n",
      "                    3                    4                    4\n",
      "                    6                    6                    7\n",
      "                    7                    7                    7\n",
      " -9223372036854775808 -9223372036854775808 -9223372036854775808\n",
      " -9223372036854775808 -9223372036854775808 -9223372036854775808\n",
      " -9223372036854775808 -9223372036854775808 -9223372036854775808\n",
      " -9223372036854775808 -9223372036854775808 -9223372036854775808\n",
      " -9223372036854775808 -9223372036854775808 -9223372036854775808\n",
      " -9223372036854775808 -9223372036854775808 -9223372036854775808\n",
      "                    4                    4                    6\n",
      "                    6                    7                    7\n",
      "                    7                    7]\n"
     ]
    }
   ],
   "source": [
    "bbShort = bbShort.iloc[:,(bbShort.iloc[:,].max(axis=0)<2.).to_numpy()]\n",
    "\n",
    "successThreads = np.array(bbShort.to_numpy( ).flatten(),dtype=\"int64\")\n",
    "successFolder  = np.array(bbFolder.to_numpy( ).flatten(),dtype=\"int64\")\n",
    "print(successThreads,successFolder)"
   ]
  },
  {
   "cell_type": "code",
   "execution_count": 14,
   "id": "af53ca10-b4eb-472f-a4d6-2757752d6ad2",
   "metadata": {},
   "outputs": [
    {
     "ename": "FileNotFoundError",
     "evalue": "[Errno 2] No such file or directory: 'CalibPart1_-9223372036854775808/time_all_-9223372036854775808.txt'",
     "output_type": "error",
     "traceback": [
      "\u001b[0;31m---------------------------------------------------------------------------\u001b[0m",
      "\u001b[0;31mFileNotFoundError\u001b[0m                         Traceback (most recent call last)",
      "Input \u001b[0;32mIn [14]\u001b[0m, in \u001b[0;36m<cell line: 9>\u001b[0;34m()\u001b[0m\n\u001b[1;32m     10\u001b[0m folder \u001b[38;5;241m=\u001b[39m successFolder[n]\n\u001b[1;32m     11\u001b[0m time_all_name \u001b[38;5;241m=\u001b[39m \u001b[38;5;124m\"\u001b[39m\u001b[38;5;124mCalibPart1_\u001b[39m\u001b[38;5;124m\"\u001b[39m\u001b[38;5;241m+\u001b[39m \u001b[38;5;28mstr\u001b[39m(folder)\u001b[38;5;241m+\u001b[39m\u001b[38;5;124m\"\u001b[39m\u001b[38;5;124m/time_all_\u001b[39m\u001b[38;5;124m\"\u001b[39m \u001b[38;5;241m+\u001b[39m \u001b[38;5;28mstr\u001b[39m(thread)\u001b[38;5;241m+\u001b[39m\u001b[38;5;124m\"\u001b[39m\u001b[38;5;124m.txt\u001b[39m\u001b[38;5;124m\"\u001b[39m\n\u001b[0;32m---> 12\u001b[0m data \u001b[38;5;241m=\u001b[39m \u001b[43mpd\u001b[49m\u001b[38;5;241;43m.\u001b[39;49m\u001b[43mread_csv\u001b[49m\u001b[43m(\u001b[49m\u001b[43mtime_all_name\u001b[49m\u001b[43m,\u001b[49m\u001b[43m \u001b[49m\u001b[43mheader\u001b[49m\u001b[43m \u001b[49m\u001b[38;5;241;43m=\u001b[39;49m\u001b[43m \u001b[49m\u001b[38;5;28;43;01mNone\u001b[39;49;00m\u001b[43m)\u001b[49m\n\u001b[1;32m     13\u001b[0m time_all_name \u001b[38;5;241m=\u001b[39m \u001b[38;5;124m\"\u001b[39m\u001b[38;5;124mCalibPart1_\u001b[39m\u001b[38;5;124m\"\u001b[39m\u001b[38;5;241m+\u001b[39m \u001b[38;5;28mstr\u001b[39m(folder)\u001b[38;5;241m+\u001b[39m\u001b[38;5;124m\"\u001b[39m\u001b[38;5;124m/input_\u001b[39m\u001b[38;5;124m\"\u001b[39m \u001b[38;5;241m+\u001b[39m \u001b[38;5;28mstr\u001b[39m(thread)\u001b[38;5;241m+\u001b[39m\u001b[38;5;124m\"\u001b[39m\u001b[38;5;124m.txt\u001b[39m\u001b[38;5;124m\"\u001b[39m\n\u001b[1;32m     14\u001b[0m data \u001b[38;5;241m=\u001b[39m pd\u001b[38;5;241m.\u001b[39mread_csv(time_all_name, header \u001b[38;5;241m=\u001b[39m\u001b[38;5;241m0\u001b[39m)\n",
      "File \u001b[0;32m~/.local/lib/python3.10/site-packages/pandas/util/_decorators.py:211\u001b[0m, in \u001b[0;36mdeprecate_kwarg.<locals>._deprecate_kwarg.<locals>.wrapper\u001b[0;34m(*args, **kwargs)\u001b[0m\n\u001b[1;32m    209\u001b[0m     \u001b[38;5;28;01melse\u001b[39;00m:\n\u001b[1;32m    210\u001b[0m         kwargs[new_arg_name] \u001b[38;5;241m=\u001b[39m new_arg_value\n\u001b[0;32m--> 211\u001b[0m \u001b[38;5;28;01mreturn\u001b[39;00m \u001b[43mfunc\u001b[49m\u001b[43m(\u001b[49m\u001b[38;5;241;43m*\u001b[39;49m\u001b[43margs\u001b[49m\u001b[43m,\u001b[49m\u001b[43m \u001b[49m\u001b[38;5;241;43m*\u001b[39;49m\u001b[38;5;241;43m*\u001b[39;49m\u001b[43mkwargs\u001b[49m\u001b[43m)\u001b[49m\n",
      "File \u001b[0;32m~/.local/lib/python3.10/site-packages/pandas/util/_decorators.py:331\u001b[0m, in \u001b[0;36mdeprecate_nonkeyword_arguments.<locals>.decorate.<locals>.wrapper\u001b[0;34m(*args, **kwargs)\u001b[0m\n\u001b[1;32m    325\u001b[0m \u001b[38;5;28;01mif\u001b[39;00m \u001b[38;5;28mlen\u001b[39m(args) \u001b[38;5;241m>\u001b[39m num_allow_args:\n\u001b[1;32m    326\u001b[0m     warnings\u001b[38;5;241m.\u001b[39mwarn(\n\u001b[1;32m    327\u001b[0m         msg\u001b[38;5;241m.\u001b[39mformat(arguments\u001b[38;5;241m=\u001b[39m_format_argument_list(allow_args)),\n\u001b[1;32m    328\u001b[0m         \u001b[38;5;167;01mFutureWarning\u001b[39;00m,\n\u001b[1;32m    329\u001b[0m         stacklevel\u001b[38;5;241m=\u001b[39mfind_stack_level(),\n\u001b[1;32m    330\u001b[0m     )\n\u001b[0;32m--> 331\u001b[0m \u001b[38;5;28;01mreturn\u001b[39;00m \u001b[43mfunc\u001b[49m\u001b[43m(\u001b[49m\u001b[38;5;241;43m*\u001b[39;49m\u001b[43margs\u001b[49m\u001b[43m,\u001b[49m\u001b[43m \u001b[49m\u001b[38;5;241;43m*\u001b[39;49m\u001b[38;5;241;43m*\u001b[39;49m\u001b[43mkwargs\u001b[49m\u001b[43m)\u001b[49m\n",
      "File \u001b[0;32m~/.local/lib/python3.10/site-packages/pandas/io/parsers/readers.py:950\u001b[0m, in \u001b[0;36mread_csv\u001b[0;34m(filepath_or_buffer, sep, delimiter, header, names, index_col, usecols, squeeze, prefix, mangle_dupe_cols, dtype, engine, converters, true_values, false_values, skipinitialspace, skiprows, skipfooter, nrows, na_values, keep_default_na, na_filter, verbose, skip_blank_lines, parse_dates, infer_datetime_format, keep_date_col, date_parser, dayfirst, cache_dates, iterator, chunksize, compression, thousands, decimal, lineterminator, quotechar, quoting, doublequote, escapechar, comment, encoding, encoding_errors, dialect, error_bad_lines, warn_bad_lines, on_bad_lines, delim_whitespace, low_memory, memory_map, float_precision, storage_options)\u001b[0m\n\u001b[1;32m    935\u001b[0m kwds_defaults \u001b[38;5;241m=\u001b[39m _refine_defaults_read(\n\u001b[1;32m    936\u001b[0m     dialect,\n\u001b[1;32m    937\u001b[0m     delimiter,\n\u001b[0;32m   (...)\u001b[0m\n\u001b[1;32m    946\u001b[0m     defaults\u001b[38;5;241m=\u001b[39m{\u001b[38;5;124m\"\u001b[39m\u001b[38;5;124mdelimiter\u001b[39m\u001b[38;5;124m\"\u001b[39m: \u001b[38;5;124m\"\u001b[39m\u001b[38;5;124m,\u001b[39m\u001b[38;5;124m\"\u001b[39m},\n\u001b[1;32m    947\u001b[0m )\n\u001b[1;32m    948\u001b[0m kwds\u001b[38;5;241m.\u001b[39mupdate(kwds_defaults)\n\u001b[0;32m--> 950\u001b[0m \u001b[38;5;28;01mreturn\u001b[39;00m \u001b[43m_read\u001b[49m\u001b[43m(\u001b[49m\u001b[43mfilepath_or_buffer\u001b[49m\u001b[43m,\u001b[49m\u001b[43m \u001b[49m\u001b[43mkwds\u001b[49m\u001b[43m)\u001b[49m\n",
      "File \u001b[0;32m~/.local/lib/python3.10/site-packages/pandas/io/parsers/readers.py:605\u001b[0m, in \u001b[0;36m_read\u001b[0;34m(filepath_or_buffer, kwds)\u001b[0m\n\u001b[1;32m    602\u001b[0m _validate_names(kwds\u001b[38;5;241m.\u001b[39mget(\u001b[38;5;124m\"\u001b[39m\u001b[38;5;124mnames\u001b[39m\u001b[38;5;124m\"\u001b[39m, \u001b[38;5;28;01mNone\u001b[39;00m))\n\u001b[1;32m    604\u001b[0m \u001b[38;5;66;03m# Create the parser.\u001b[39;00m\n\u001b[0;32m--> 605\u001b[0m parser \u001b[38;5;241m=\u001b[39m \u001b[43mTextFileReader\u001b[49m\u001b[43m(\u001b[49m\u001b[43mfilepath_or_buffer\u001b[49m\u001b[43m,\u001b[49m\u001b[43m \u001b[49m\u001b[38;5;241;43m*\u001b[39;49m\u001b[38;5;241;43m*\u001b[39;49m\u001b[43mkwds\u001b[49m\u001b[43m)\u001b[49m\n\u001b[1;32m    607\u001b[0m \u001b[38;5;28;01mif\u001b[39;00m chunksize \u001b[38;5;129;01mor\u001b[39;00m iterator:\n\u001b[1;32m    608\u001b[0m     \u001b[38;5;28;01mreturn\u001b[39;00m parser\n",
      "File \u001b[0;32m~/.local/lib/python3.10/site-packages/pandas/io/parsers/readers.py:1442\u001b[0m, in \u001b[0;36mTextFileReader.__init__\u001b[0;34m(self, f, engine, **kwds)\u001b[0m\n\u001b[1;32m   1439\u001b[0m     \u001b[38;5;28mself\u001b[39m\u001b[38;5;241m.\u001b[39moptions[\u001b[38;5;124m\"\u001b[39m\u001b[38;5;124mhas_index_names\u001b[39m\u001b[38;5;124m\"\u001b[39m] \u001b[38;5;241m=\u001b[39m kwds[\u001b[38;5;124m\"\u001b[39m\u001b[38;5;124mhas_index_names\u001b[39m\u001b[38;5;124m\"\u001b[39m]\n\u001b[1;32m   1441\u001b[0m \u001b[38;5;28mself\u001b[39m\u001b[38;5;241m.\u001b[39mhandles: IOHandles \u001b[38;5;241m|\u001b[39m \u001b[38;5;28;01mNone\u001b[39;00m \u001b[38;5;241m=\u001b[39m \u001b[38;5;28;01mNone\u001b[39;00m\n\u001b[0;32m-> 1442\u001b[0m \u001b[38;5;28mself\u001b[39m\u001b[38;5;241m.\u001b[39m_engine \u001b[38;5;241m=\u001b[39m \u001b[38;5;28;43mself\u001b[39;49m\u001b[38;5;241;43m.\u001b[39;49m\u001b[43m_make_engine\u001b[49m\u001b[43m(\u001b[49m\u001b[43mf\u001b[49m\u001b[43m,\u001b[49m\u001b[43m \u001b[49m\u001b[38;5;28;43mself\u001b[39;49m\u001b[38;5;241;43m.\u001b[39;49m\u001b[43mengine\u001b[49m\u001b[43m)\u001b[49m\n",
      "File \u001b[0;32m~/.local/lib/python3.10/site-packages/pandas/io/parsers/readers.py:1735\u001b[0m, in \u001b[0;36mTextFileReader._make_engine\u001b[0;34m(self, f, engine)\u001b[0m\n\u001b[1;32m   1733\u001b[0m     \u001b[38;5;28;01mif\u001b[39;00m \u001b[38;5;124m\"\u001b[39m\u001b[38;5;124mb\u001b[39m\u001b[38;5;124m\"\u001b[39m \u001b[38;5;129;01mnot\u001b[39;00m \u001b[38;5;129;01min\u001b[39;00m mode:\n\u001b[1;32m   1734\u001b[0m         mode \u001b[38;5;241m+\u001b[39m\u001b[38;5;241m=\u001b[39m \u001b[38;5;124m\"\u001b[39m\u001b[38;5;124mb\u001b[39m\u001b[38;5;124m\"\u001b[39m\n\u001b[0;32m-> 1735\u001b[0m \u001b[38;5;28mself\u001b[39m\u001b[38;5;241m.\u001b[39mhandles \u001b[38;5;241m=\u001b[39m \u001b[43mget_handle\u001b[49m\u001b[43m(\u001b[49m\n\u001b[1;32m   1736\u001b[0m \u001b[43m    \u001b[49m\u001b[43mf\u001b[49m\u001b[43m,\u001b[49m\n\u001b[1;32m   1737\u001b[0m \u001b[43m    \u001b[49m\u001b[43mmode\u001b[49m\u001b[43m,\u001b[49m\n\u001b[1;32m   1738\u001b[0m \u001b[43m    \u001b[49m\u001b[43mencoding\u001b[49m\u001b[38;5;241;43m=\u001b[39;49m\u001b[38;5;28;43mself\u001b[39;49m\u001b[38;5;241;43m.\u001b[39;49m\u001b[43moptions\u001b[49m\u001b[38;5;241;43m.\u001b[39;49m\u001b[43mget\u001b[49m\u001b[43m(\u001b[49m\u001b[38;5;124;43m\"\u001b[39;49m\u001b[38;5;124;43mencoding\u001b[39;49m\u001b[38;5;124;43m\"\u001b[39;49m\u001b[43m,\u001b[49m\u001b[43m \u001b[49m\u001b[38;5;28;43;01mNone\u001b[39;49;00m\u001b[43m)\u001b[49m\u001b[43m,\u001b[49m\n\u001b[1;32m   1739\u001b[0m \u001b[43m    \u001b[49m\u001b[43mcompression\u001b[49m\u001b[38;5;241;43m=\u001b[39;49m\u001b[38;5;28;43mself\u001b[39;49m\u001b[38;5;241;43m.\u001b[39;49m\u001b[43moptions\u001b[49m\u001b[38;5;241;43m.\u001b[39;49m\u001b[43mget\u001b[49m\u001b[43m(\u001b[49m\u001b[38;5;124;43m\"\u001b[39;49m\u001b[38;5;124;43mcompression\u001b[39;49m\u001b[38;5;124;43m\"\u001b[39;49m\u001b[43m,\u001b[49m\u001b[43m \u001b[49m\u001b[38;5;28;43;01mNone\u001b[39;49;00m\u001b[43m)\u001b[49m\u001b[43m,\u001b[49m\n\u001b[1;32m   1740\u001b[0m \u001b[43m    \u001b[49m\u001b[43mmemory_map\u001b[49m\u001b[38;5;241;43m=\u001b[39;49m\u001b[38;5;28;43mself\u001b[39;49m\u001b[38;5;241;43m.\u001b[39;49m\u001b[43moptions\u001b[49m\u001b[38;5;241;43m.\u001b[39;49m\u001b[43mget\u001b[49m\u001b[43m(\u001b[49m\u001b[38;5;124;43m\"\u001b[39;49m\u001b[38;5;124;43mmemory_map\u001b[39;49m\u001b[38;5;124;43m\"\u001b[39;49m\u001b[43m,\u001b[49m\u001b[43m \u001b[49m\u001b[38;5;28;43;01mFalse\u001b[39;49;00m\u001b[43m)\u001b[49m\u001b[43m,\u001b[49m\n\u001b[1;32m   1741\u001b[0m \u001b[43m    \u001b[49m\u001b[43mis_text\u001b[49m\u001b[38;5;241;43m=\u001b[39;49m\u001b[43mis_text\u001b[49m\u001b[43m,\u001b[49m\n\u001b[1;32m   1742\u001b[0m \u001b[43m    \u001b[49m\u001b[43merrors\u001b[49m\u001b[38;5;241;43m=\u001b[39;49m\u001b[38;5;28;43mself\u001b[39;49m\u001b[38;5;241;43m.\u001b[39;49m\u001b[43moptions\u001b[49m\u001b[38;5;241;43m.\u001b[39;49m\u001b[43mget\u001b[49m\u001b[43m(\u001b[49m\u001b[38;5;124;43m\"\u001b[39;49m\u001b[38;5;124;43mencoding_errors\u001b[39;49m\u001b[38;5;124;43m\"\u001b[39;49m\u001b[43m,\u001b[49m\u001b[43m \u001b[49m\u001b[38;5;124;43m\"\u001b[39;49m\u001b[38;5;124;43mstrict\u001b[39;49m\u001b[38;5;124;43m\"\u001b[39;49m\u001b[43m)\u001b[49m\u001b[43m,\u001b[49m\n\u001b[1;32m   1743\u001b[0m \u001b[43m    \u001b[49m\u001b[43mstorage_options\u001b[49m\u001b[38;5;241;43m=\u001b[39;49m\u001b[38;5;28;43mself\u001b[39;49m\u001b[38;5;241;43m.\u001b[39;49m\u001b[43moptions\u001b[49m\u001b[38;5;241;43m.\u001b[39;49m\u001b[43mget\u001b[49m\u001b[43m(\u001b[49m\u001b[38;5;124;43m\"\u001b[39;49m\u001b[38;5;124;43mstorage_options\u001b[39;49m\u001b[38;5;124;43m\"\u001b[39;49m\u001b[43m,\u001b[49m\u001b[43m \u001b[49m\u001b[38;5;28;43;01mNone\u001b[39;49;00m\u001b[43m)\u001b[49m\u001b[43m,\u001b[49m\n\u001b[1;32m   1744\u001b[0m \u001b[43m\u001b[49m\u001b[43m)\u001b[49m\n\u001b[1;32m   1745\u001b[0m \u001b[38;5;28;01massert\u001b[39;00m \u001b[38;5;28mself\u001b[39m\u001b[38;5;241m.\u001b[39mhandles \u001b[38;5;129;01mis\u001b[39;00m \u001b[38;5;129;01mnot\u001b[39;00m \u001b[38;5;28;01mNone\u001b[39;00m\n\u001b[1;32m   1746\u001b[0m f \u001b[38;5;241m=\u001b[39m \u001b[38;5;28mself\u001b[39m\u001b[38;5;241m.\u001b[39mhandles\u001b[38;5;241m.\u001b[39mhandle\n",
      "File \u001b[0;32m~/.local/lib/python3.10/site-packages/pandas/io/common.py:856\u001b[0m, in \u001b[0;36mget_handle\u001b[0;34m(path_or_buf, mode, encoding, compression, memory_map, is_text, errors, storage_options)\u001b[0m\n\u001b[1;32m    851\u001b[0m \u001b[38;5;28;01melif\u001b[39;00m \u001b[38;5;28misinstance\u001b[39m(handle, \u001b[38;5;28mstr\u001b[39m):\n\u001b[1;32m    852\u001b[0m     \u001b[38;5;66;03m# Check whether the filename is to be opened in binary mode.\u001b[39;00m\n\u001b[1;32m    853\u001b[0m     \u001b[38;5;66;03m# Binary mode does not support 'encoding' and 'newline'.\u001b[39;00m\n\u001b[1;32m    854\u001b[0m     \u001b[38;5;28;01mif\u001b[39;00m ioargs\u001b[38;5;241m.\u001b[39mencoding \u001b[38;5;129;01mand\u001b[39;00m \u001b[38;5;124m\"\u001b[39m\u001b[38;5;124mb\u001b[39m\u001b[38;5;124m\"\u001b[39m \u001b[38;5;129;01mnot\u001b[39;00m \u001b[38;5;129;01min\u001b[39;00m ioargs\u001b[38;5;241m.\u001b[39mmode:\n\u001b[1;32m    855\u001b[0m         \u001b[38;5;66;03m# Encoding\u001b[39;00m\n\u001b[0;32m--> 856\u001b[0m         handle \u001b[38;5;241m=\u001b[39m \u001b[38;5;28;43mopen\u001b[39;49m\u001b[43m(\u001b[49m\n\u001b[1;32m    857\u001b[0m \u001b[43m            \u001b[49m\u001b[43mhandle\u001b[49m\u001b[43m,\u001b[49m\n\u001b[1;32m    858\u001b[0m \u001b[43m            \u001b[49m\u001b[43mioargs\u001b[49m\u001b[38;5;241;43m.\u001b[39;49m\u001b[43mmode\u001b[49m\u001b[43m,\u001b[49m\n\u001b[1;32m    859\u001b[0m \u001b[43m            \u001b[49m\u001b[43mencoding\u001b[49m\u001b[38;5;241;43m=\u001b[39;49m\u001b[43mioargs\u001b[49m\u001b[38;5;241;43m.\u001b[39;49m\u001b[43mencoding\u001b[49m\u001b[43m,\u001b[49m\n\u001b[1;32m    860\u001b[0m \u001b[43m            \u001b[49m\u001b[43merrors\u001b[49m\u001b[38;5;241;43m=\u001b[39;49m\u001b[43merrors\u001b[49m\u001b[43m,\u001b[49m\n\u001b[1;32m    861\u001b[0m \u001b[43m            \u001b[49m\u001b[43mnewline\u001b[49m\u001b[38;5;241;43m=\u001b[39;49m\u001b[38;5;124;43m\"\u001b[39;49m\u001b[38;5;124;43m\"\u001b[39;49m\u001b[43m,\u001b[49m\n\u001b[1;32m    862\u001b[0m \u001b[43m        \u001b[49m\u001b[43m)\u001b[49m\n\u001b[1;32m    863\u001b[0m     \u001b[38;5;28;01melse\u001b[39;00m:\n\u001b[1;32m    864\u001b[0m         \u001b[38;5;66;03m# Binary mode\u001b[39;00m\n\u001b[1;32m    865\u001b[0m         handle \u001b[38;5;241m=\u001b[39m \u001b[38;5;28mopen\u001b[39m(handle, ioargs\u001b[38;5;241m.\u001b[39mmode)\n",
      "\u001b[0;31mFileNotFoundError\u001b[0m: [Errno 2] No such file or directory: 'CalibPart1_-9223372036854775808/time_all_-9223372036854775808.txt'"
     ]
    }
   ],
   "source": [
    "successThreads = np.array(bbShort.to_numpy( ).flatten(),dtype=\"int64\")\n",
    "successFolder  = np.array(bbFolder.to_numpy( ).flatten(),dtype=\"int64\")\n",
    "\n",
    "Qsv = np.full(len(successThreads),0.)\n",
    "MulimSucv = np.full(len(successThreads),0.)\n",
    "GrRatiov = np.full(len(successThreads),0.)\n",
    "nodeDv = np.full(len(successThreads),0)\n",
    "CarbonCostv = np.full(len(successThreads),0.)\n",
    "for n,thread in enumerate(successThreads):\n",
    "    folder = successFolder[n]\n",
    "    time_all_name = \"CalibPart1_\"+ str(folder)+\"/time_all_\" + str(thread)+\".txt\"\n",
    "    data = pd.read_csv(time_all_name, header = None)\n",
    "    time_all_name = \"CalibPart1_\"+ str(folder)+\"/input_\" + str(thread)+\".txt\"\n",
    "    data = pd.read_csv(time_all_name, header =0)\n",
    "    Qsv[n] = np.round(data[\"Qmax_\"]*1e6)\n",
    "    MulimSucv[n] = data[\"thresholdSuc\"]\n",
    "    nodeDv[n] = data[\"nodeD\"]\n",
    "    GrRatiov[n] = data[\"GrRatio\"]\n",
    "    CarbonCostv[n] = data[\"CarbonCost\"]\n",
    "    \n",
    "Qsv=Qsv.reshape((-1, 1))\n",
    "MulimSucv=MulimSucv.reshape((-1, 1))\n",
    "nodeDv=nodeDv.reshape((-1, 1))\n",
    "GrRatiov= GrRatiov.reshape((-1, 1))\n",
    "CarbonCostv= CarbonCostv.reshape((-1, 1))\n",
    "df = pd.DataFrame(np.concatenate([nodeDv,Qsv,MulimSucv ,GrRatiov,CarbonCostv], axis=1), columns= [\"nodeD\",\"Qs\",\"MulimSuc\" ,\"GrRatio\",\"CarbonCost\"])\n",
    "df.to_csv(\"paramsPairCalibP1.csv\",index=True)"
   ]
  },
  {
   "cell_type": "code",
   "execution_count": 269,
   "id": "47670913-b672-455b-b3c0-310549af41d7",
   "metadata": {},
   "outputs": [
    {
     "name": "stdout",
     "output_type": "stream",
     "text": [
      "0\n"
     ]
    }
   ],
   "source": [
    "dfP2 = pd.read_csv('paramsPairCalibP1.csv')#.to_numpy()[:,1:]\n",
    "#print(dfP2)\n",
    "print(sum(dfP2.duplicated()))"
   ]
  },
  {
   "cell_type": "code",
   "execution_count": 270,
   "id": "532c0449-6b57-468e-a40b-db6350771544",
   "metadata": {},
   "outputs": [
    {
     "name": "stdout",
     "output_type": "stream",
     "text": [
      "1008 1008 1008\n",
      "0\n",
      "[]\n",
      "Empty DataFrame\n",
      "Columns: [Qsv, nodeDv, MulimSucv, kaav, kssv, GrRatiov, CarbonCost]\n",
      "Index: []\n"
     ]
    }
   ],
   "source": [
    "#test for database\n",
    "dfP2 = pd.read_csv('paramsPairCalibP1.csv')\n",
    "assert(sum(dfP2.duplicated()) == 0)\n",
    "kss = np.array([0.01, 0.1,0.4,0.6])\n",
    "kaa = np.array([ 1. , 3.,  5.,  7.,  9., 11.])\n",
    "\n",
    "Qs =          np.tile((dfP2[\"Qs\"]*1e-6).to_numpy(),  len(kss)*len(kaa)) #numpy.tile(A, reps)[source]\n",
    "MulimSuc =    np.tile(dfP2[\"MulimSuc\"].to_numpy(),   len(kss)*len(kaa))\n",
    "GrRatio =     np.tile(dfP2[\"GrRatio\"].to_numpy(),    len(kss)*len(kaa))\n",
    "CarbonCost =  np.tile(dfP2[\"CarbonCost\"].to_numpy(), len(kss)*len(kaa))\n",
    "nodeD =       np.tile(dfP2[\"nodeD\"].to_numpy(),      len(kss)*len(kaa))\n",
    "\n",
    "kss2 =        np.tile(np.repeat(kss,len(dfP2[\"Qs\"].to_numpy())),len(kaa))\n",
    "kaa2 =        np.repeat(kaa, len(dfP2[\"Qs\"]*1e-6)*len(kss)) #numpy.repeat(a, repeats)\n",
    "print(len(Qs),len(kss2), len(kaa2))\n",
    "\n",
    "dictPara= {'Qsv' : Qs,\n",
    "                'nodeDv':nodeD, \n",
    "           'MulimSucv':MulimSuc,\n",
    "                'kaav':kaa2, \n",
    "           'kssv':kss2,\n",
    "          'GrRatiov':GrRatio,\n",
    "          'CarbonCost':CarbonCost}\n",
    "df = pd.DataFrame(data=dictPara)\n",
    "print(sum(df.duplicated()))\n",
    "print(np.where(df.duplicated().to_numpy())[0])\n",
    "print(df.iloc[df.duplicated().to_numpy(),:])\n",
    "df.to_csv(\"forP2.csv\",index=True)"
   ]
  },
  {
   "cell_type": "code",
   "execution_count": 274,
   "id": "b38a25fc-982d-42b3-8796-835080705014",
   "metadata": {},
   "outputs": [
    {
     "name": "stdout",
     "output_type": "stream",
     "text": [
      "0       0.00045\n",
      "1       0.00045\n",
      "2       0.00045\n",
      "3       0.00045\n",
      "4       0.00045\n",
      "         ...   \n",
      "1003    0.00045\n",
      "1004    0.00045\n",
      "1005    0.00045\n",
      "1006    0.00056\n",
      "1007    0.00056\n",
      "Name: Qsv, Length: 1008, dtype: float64\n",
      "0.00045\n"
     ]
    }
   ],
   "source": [
    "Qsv= df['Qsv']\n",
    "print(Qsv)\n",
    "print(Qsv[2] )"
   ]
  },
  {
   "cell_type": "code",
   "execution_count": 103,
   "id": "0ecebe56-e831-461c-8cb0-b4b42f02084e",
   "metadata": {},
   "outputs": [],
   "source": [
    "#calib P2\n",
    "\n",
    "N1 = loadtxt('CalibPart3_1/successThreads.txt',delimiter=\",\")\n",
    "N2 =  loadtxt('CalibPart3_2/successThreads.txt',delimiter=\",\")\n",
    "N3 = loadtxt('CalibPart3_3/successThreads.txt',delimiter=\",\")"
   ]
  },
  {
   "cell_type": "code",
   "execution_count": 104,
   "id": "db1e6538-617a-46e6-ac40-cea4b7087013",
   "metadata": {},
   "outputs": [],
   "source": [
    "N2[N2 != -1] = N2[N2 != -1] +len(N1)-1\n",
    "N3[N3 != -1] = N3[N3 != -1] +len(N1)+len(N2)-1\n",
    "successThreads = np.concatenate((N1,N2,N3))\n",
    "successThreads = np.array(successThreads[successThreads!= -1], dtype = np.int64)"
   ]
  },
  {
   "cell_type": "code",
   "execution_count": 105,
   "id": "b40ebebc-43cd-4f3b-ab45-c3a44e166d73",
   "metadata": {},
   "outputs": [],
   "source": [
    "from CalibP2Database import toTry\n",
    "params = toTry()\n",
    "Qsv=params['Qsv'][successThreads]\n",
    "Qsv = np.round(Qsv*1e6)\n",
    "MulimSucv=params['MulimSucv'][successThreads]\n",
    "nodeDv=params['nodeDv'][successThreads]\n",
    "GrRatiov= params['GrRatiov'][successThreads]\n",
    "kssv=params['kssv'][successThreads]\n",
    "kaav= params['kaav'][successThreads]"
   ]
  },
  {
   "cell_type": "code",
   "execution_count": 82,
   "id": "f48b5486-c793-44d9-922a-0b87edc40336",
   "metadata": {},
   "outputs": [
    {
     "name": "stdout",
     "output_type": "stream",
     "text": [
      "4.0\n",
      "(5, 26) 130\n"
     ]
    }
   ],
   "source": [
    "\n",
    "aa = pd.crosstab(index=nodeDv, columns=[Qsv,MulimSucv ,GrRatiov,kssv,kaav],values = successThreads, aggfunc = sum)\n",
    "aaint = pd.crosstab(index=nodeDv, columns=[Qsv,MulimSucv ,GrRatiov,kssv,kaav],values = 1, aggfunc = sum)\n",
    "#print(aaint)\n",
    "print(max(aaint.sum(axis=0)))\n",
    "#1.5 * 120 and 1.5 * 230\n",
    "#0.6 * 120 and 0.6*230\n",
    "bb = aa.iloc[:,np.where(aaint.sum(axis=0) == max(aaint.sum(axis=0)))[0]]\n",
    "sshape = bb.shape\n",
    "print(sshape,sshape[0]*sshape[1] )\n",
    "bb.to_csv(\"outP2.csv\",index=True)"
   ]
  },
  {
   "cell_type": "code",
   "execution_count": null,
   "id": "30e58cec-823b-4e63-acfd-296077ed71e5",
   "metadata": {},
   "outputs": [],
   "source": [
    "##set new P2\n",
    "\n",
    "Qs =np.array([230.])*1e-6\n",
    "#MulimSuc =np.array([0.3,0.6,0.9,1.2,1.5])\n",
    "MulimSuc =np.array([0.6,0.9,1.2])\n",
    "GrRatio = np.array([3]) \n",
    "nodeD = np.array([3,4,5,6,7,8])\n",
    "kss = np.array([0.01, 0.2,0.4])# np.array([0.01, 0.100, 0.2, 0.3, 0.4])\n",
    "kaa = np.array([ 1. , 3.,  5.])#,  7.,  9., 11.,15,17])\n",
    "maxrun = len(Qs) * len(MulimSuc) * len(nodeD) * len(GrRatio)*len(kaa)*len(kss)\n",
    "\n",
    "\n",
    "Qsv,MulimSucv,kssv,kaav, nodeDv,GrRatiov = np.meshgrid(Qs,MulimSuc,kss,kaa,nodeD,GrRatio)\n",
    "Qsv=Qsv.flatten()\n",
    "MulimSucv=MulimSucv.flatten()\n",
    "kaav=kaav.flatten()\n",
    "kssv = kssv.flatten()\n",
    "nodeDv=nodeDv.flatten()\n",
    "GrRatiov = GrRatiov.flatten()\n",
    "dictPara= {'Qsv' : Qsv,\n",
    "                'nodeDv':nodeDv, \n",
    "           'MulimSucv':MulimSucv,\n",
    "                'kaav':kaav, \n",
    "           'kssv':kssv,\n",
    "          'GrRatiov':GrRatiov}"
   ]
  },
  {
   "cell_type": "code",
   "execution_count": 3,
   "id": "c259ceb4-1ae4-41c8-a58c-618170cda991",
   "metadata": {},
   "outputs": [
    {
     "name": "stdout",
     "output_type": "stream",
     "text": [
      "216\n"
     ]
    }
   ],
   "source": [
    "import numpy as np\n",
    "Qs =np.array([200.,  340.,  450.,  560., ])*1e-6\n",
    "#Qs =np.array([230.,240,250,  260,270,280,290,300,310,320,330])*1e-6\n",
    "#MulimSuc =np.array([0.3,0.6,0.9,1.2,1.5])\n",
    "MulimSuc =np.array([0.4,0.9,1.4])\n",
    "GrRatio = np.array([3, 6, 10]) \n",
    "CarbonCost = np.array([1, 6, 10]) \n",
    "nodeD = np.array([4,8])\n",
    "maxrun = len(Qs) * len(MulimSuc) * len(nodeD) * len(GrRatio)*len(CarbonCost)\n",
    "print(maxrun)"
   ]
  },
  {
   "cell_type": "code",
   "execution_count": 23,
   "id": "c2fcedd0-4440-4bf8-95a6-b3e457cf5158",
   "metadata": {},
   "outputs": [
    {
     "name": "stdout",
     "output_type": "stream",
     "text": [
      "6.352941176470588 90\n"
     ]
    }
   ],
   "source": [
    "Qs =np.array([300.,  400.,  500., ])*1e-6\n",
    "MulimSuc =np.array([0.4,0.9,1.4])\n",
    "GrRatio = np.array([3, 6]) \n",
    "CarbonCost = np.array([1]) \n",
    "nodeD = np.array([3,4,5,6,7,8])\n",
    "kss = np.array([0.01, 0.4,0.6])\n",
    "kaa = np.array([ 1. , 3.,  5.,  7.,  10.])\n",
    "maxrun = len(Qs) * len(MulimSuc) * len(nodeD) * len(GrRatio)*len(CarbonCost)*len(kss)*len(kaa)\n",
    "\n",
    "\n",
    "Qsv,MulimSucv,GrRatiov, CarbonCostv, kssv,kaav, nodeDv = np.meshgrid(Qs,MulimSuc,GrRatio, CarbonCost, kss,kaa,nodeD)\n",
    "Qsv=Qsv.flatten()\n",
    "MulimSucv=MulimSucv.flatten()\n",
    "nodeDv=nodeDv.flatten()\n",
    "GrRatiov = GrRatiov.flatten()\n",
    "CarbonCostv = CarbonCostv.flatten()\n",
    "kssv = kssv.flatten()\n",
    "kaav = kaav.flatten()\n",
    "print(maxrun/255,maxrun - 255*int(maxrun/255))"
   ]
  },
  {
   "cell_type": "code",
   "execution_count": 29,
   "id": "da6c12bf-a02c-4e80-b416-f2590d92e8f8",
   "metadata": {},
   "outputs": [
    {
     "name": "stdout",
     "output_type": "stream",
     "text": [
      "1536\n"
     ]
    }
   ],
   "source": [
    "Qs = np.array([300,500 ,700])*1e-6 \n",
    "MulimSuc =np.array([0.4,0.75,1.1,1.4])\n",
    "GrRatio = np.array([1,3,6,9])# 3, 6, 10 np.array([3, 6, 10]) \n",
    "CarbonCost = np.array([1, 3.5,7, 10]) \n",
    "nodeD = np.array([4,8])\n",
    "Klight = np.array([0.001,0.005,0.01,0.02])\n",
    "maxrun = len(Qs) * len(MulimSuc) * len(nodeD) * len(GrRatio)*len(CarbonCost) * len(Klight)\n",
    "print(maxrun)"
   ]
  },
  {
   "cell_type": "code",
   "execution_count": 43,
   "id": "3c341422-ae75-463b-a60e-55e4b1abe3a0",
   "metadata": {},
   "outputs": [
    {
     "name": "stdout",
     "output_type": "stream",
     "text": [
      "2.2588235294117647\n"
     ]
    }
   ],
   "source": [
    "Qs =np.array([400.])#,  500.,700 ])*1e-6\n",
    "MulimSuc =np.array([1.4])#np.array([0.4,0.9,1.4])\n",
    "GrRatio = np.array([3, 6]) \n",
    "CarbonCost = np.array([1]) \n",
    "nodeD = np.array([3,4,5,6,7,8])\n",
    "kss = np.array([0.01, 0.4,0.6])\n",
    "kaa = np.array([ 1. , 3.,  5.,  10.])\n",
    "Klight = np.array([0.001,0.005,0.01,0.02])\n",
    "maxrun = len(Qs) * len(MulimSuc) * len(nodeD) * len(GrRatio)*len(CarbonCost)*len(kss)*len(kaa)*len(Klight)\n",
    "print(maxrun/255)"
   ]
  },
  {
   "cell_type": "code",
   "execution_count": 45,
   "id": "91ce24ef-d0d2-4766-9b46-d9176e3e10a2",
   "metadata": {},
   "outputs": [
    {
     "name": "stdout",
     "output_type": "stream",
     "text": [
      "2.2588235294117647\n"
     ]
    }
   ],
   "source": [
    "Qs =np.array([400.])#,  500.,700 ])*1e-6\n",
    "MulimSuc =np.array([1.4])#np.array([1.4])\n",
    "GrRatio = np.array([3, 6]) \n",
    "CarbonCost = np.array([1]) \n",
    "nodeD = np.array([3,4,5,6,7,8])\n",
    "kss = np.array([0.01, 0.4,0.6])\n",
    "kaa = np.array([ 1. , 3.,  5.,  10.])\n",
    "Klight = np.array([0.001,0.005,0.01,0.02])\n",
    "maxrun = len(Qs) * len(MulimSuc) * len(nodeD) * len(GrRatio)*len(CarbonCost)*len(kss)*len(kaa)*len(Klight)\n",
    "print(maxrun/255)"
   ]
  },
  {
   "cell_type": "code",
   "execution_count": 57,
   "id": "66a9e280-9e1a-4419-a19b-c789d29fa9fa",
   "metadata": {},
   "outputs": [
    {
     "name": "stdout",
     "output_type": "stream",
     "text": [
      "3.388235294117647\n"
     ]
    }
   ],
   "source": [
    "Qs =np.array([200,400.,700])#,  500.,700 ])*1e-6\n",
    "MulimSuc =np.array([0.4,0.9,1.4])#np.array([0.4,0.9,1.4])\n",
    "GrRatio = np.array([3, 6]) \n",
    "CarbonCost = np.array([1]) \n",
    "nodeD = np.array([8]) #3,4,5,6,7,\n",
    "kss = np.array([0.01, 0.4,0.6])\n",
    "kaa = np.array([ 1. , 3.,  5.,  10.])\n",
    "Klight = np.array([0.001,0.005,0.01,0.02])\n",
    "maxrun = len(Qs) * len(MulimSuc) * len(nodeD) * len(GrRatio)*len(CarbonCost)*len(kss)*len(kaa)*len(Klight)\n",
    "print(maxrun/255)"
   ]
  },
  {
   "cell_type": "code",
   "execution_count": 18,
   "id": "89403e45-077b-43f3-9367-8d9173116be1",
   "metadata": {
    "scrolled": true,
    "tags": []
   },
   "outputs": [
    {
     "name": "stdout",
     "output_type": "stream",
     "text": [
      "1.411764705882353\n"
     ]
    }
   ],
   "source": [
    "\n",
    "Qs = np.array([300,500])*1e-6 \n",
    "MulimSuc =np.array([2,1.8,1.5,1.2,1])\n",
    "GrRatio = np.array([3])# 3, 6, 10 np.array([3, 6, 10]) \n",
    "CarbonCost = np.array([1]) \n",
    "nodeD = np.array([4,7])\n",
    "kss = np.array([ 0.2])\n",
    "kaa = np.array([ 1. ])\n",
    "Berthlim = np.array([ 1,2,3,4,6,8 ])\n",
    "Klight = np.array([0.001,0.02,0.05])\n",
    "maxrun = len(Qs) * len(MulimSuc) * len(nodeD) *len(Berthlim) * len(Klight)\n",
    "print(maxrun/255)"
   ]
  },
  {
   "cell_type": "code",
   "execution_count": null,
   "id": "3227e846-f6ff-4d4f-a16c-e59c53f12791",
   "metadata": {},
   "outputs": [],
   "source": []
  }
 ],
 "metadata": {
  "kernelspec": {
   "display_name": "py38",
   "language": "python",
   "name": "py38"
  },
  "language_info": {
   "codemirror_mode": {
    "name": "ipython",
    "version": 3
   },
   "file_extension": ".py",
   "mimetype": "text/x-python",
   "name": "python",
   "nbconvert_exporter": "python",
   "pygments_lexer": "ipython3",
   "version": "3.10.4"
  }
 },
 "nbformat": 4,
 "nbformat_minor": 5
}
