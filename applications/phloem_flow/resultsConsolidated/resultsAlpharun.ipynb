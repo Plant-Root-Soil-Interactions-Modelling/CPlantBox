{
 "cells": [
  {
   "cell_type": "code",
   "execution_count": 17,
   "id": "ace695b9-3291-452c-8519-cf880acd5c42",
   "metadata": {},
   "outputs": [],
   "source": [
    "import numpy as np\n",
    "import os\n",
    "import sys\n",
    "sys.path.append(\"..\")\n",
    "sys.path.append(\"../results\")\n",
    "#\n",
    "#home/m.giraud/auxin_sizeBuds/CPlantBox/applications/phloem_flow/results/setAlpha_run/\n",
    "alpha = np.loadtxt('alphasMSE.txt',delimiter=\",\")\n",
    "mse =  np.loadtxt('resultMSE.txt',delimiter=\",\")"
   ]
  },
  {
   "cell_type": "code",
   "execution_count": 18,
   "id": "0caf3641-4098-4937-b176-c34e5b27ef6a",
   "metadata": {},
   "outputs": [
    {
     "name": "stdout",
     "output_type": "stream",
     "text": [
      "[121] [0.00239336] 0.0009858200387975018\n"
     ]
    }
   ],
   "source": [
    "bestAlpha = alpha[np.where(mse == min(mse))[0]]\n",
    "print(np.where(mse == min(mse))[0],bestAlpha,min(mse))"
   ]
  },
  {
   "cell_type": "code",
   "execution_count": null,
   "id": "71c2b3a0-684a-4aa3-8fd2-44555baa8eec",
   "metadata": {},
   "outputs": [],
   "source": []
  }
 ],
 "metadata": {
  "kernelspec": {
   "display_name": "py38b",
   "language": "python",
   "name": "py38b"
  },
  "language_info": {
   "codemirror_mode": {
    "name": "ipython",
    "version": 3
   },
   "file_extension": ".py",
   "mimetype": "text/x-python",
   "name": "python",
   "nbconvert_exporter": "python",
   "pygments_lexer": "ipython3",
   "version": "3.8.15"
  }
 },
 "nbformat": 4,
 "nbformat_minor": 5
}
