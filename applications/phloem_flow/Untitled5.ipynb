{
 "cells": [
  {
   "cell_type": "code",
   "execution_count": 4,
   "id": "a6388089-bfdd-44d5-84aa-29e5ec068335",
   "metadata": {},
   "outputs": [
    {
     "name": "stdout",
     "output_type": "stream",
     "text": [
      "240\n"
     ]
    }
   ],
   "source": [
    "import numpy as np\n",
    "Qs =np.array([200.,300.,400.,  500.,700 ])*1e-6\n",
    "MulimSuc =np.array([0.4,0.9,1.25,1.5,2.])#np.array([0.4,0.9,1.4])\n",
    "GrRatio = np.array([3]) \n",
    "CarbonCost = np.array([1]) \n",
    "nodeD = np.array([0,7]) #3,4,5,6,7,\n",
    "kss = np.array([0.02])#0.01, 0.4,0.6])\n",
    "kaa = np.array([ 1. ])#, 3.,  5.,  10.])\n",
    "Klight = np.array([0])#0.001,0.005,0.01,0.02])\n",
    "Berthlim = np.array([ 1,2,3,4,6,8 ])\n",
    "\n",
    "\n",
    "Qsv,MulimSucv,GrRatiov, CarbonCostv, kssv,kaav,Klightv,Berthlimv, nodeDv = np.meshgrid(Qs,MulimSuc,GrRatio, CarbonCost, kss,kaa,Klight,Berthlim,nodeD)\n",
    "maxrun = len(Qsv.flatten()/255)\n",
    "print(maxrun)"
   ]
  },
  {
   "cell_type": "code",
   "execution_count": null,
   "id": "5d31a5d5-d4e0-4d14-9119-a18c36b1e437",
   "metadata": {},
   "outputs": [],
   "source": []
  }
 ],
 "metadata": {
  "kernelspec": {
   "display_name": "py38",
   "language": "python",
   "name": "py38"
  },
  "language_info": {
   "codemirror_mode": {
    "name": "ipython",
    "version": 3
   },
   "file_extension": ".py",
   "mimetype": "text/x-python",
   "name": "python",
   "nbconvert_exporter": "python",
   "pygments_lexer": "ipython3",
   "version": "3.10.4"
  }
 },
 "nbformat": 4,
 "nbformat_minor": 5
}
