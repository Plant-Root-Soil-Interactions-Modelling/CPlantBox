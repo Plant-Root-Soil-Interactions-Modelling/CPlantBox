{
 "cells": [
  {
   "cell_type": "code",
   "execution_count": 4,
   "id": "d2b244f9-b1ac-4317-8f80-8480e332cf65",
   "metadata": {},
   "outputs": [
    {
     "name": "stdout",
     "output_type": "stream",
     "text": [
      "1.8823529411764706\n"
     ]
    }
   ],
   "source": [
    "import numpy as np\n",
    "Qs = np.array([300,500])*1e-6 \n",
    "MulimSuc =np.array([2,1.8,1.5,1.2,1])\n",
    "GrRatio = np.array([3])# 3, 6, 10 np.array([3, 6, 10]) \n",
    "CarbonCost = np.array([1]) \n",
    "nodeD = np.array([4,7])\n",
    "Berthlim = np.array([ 1,2,3,4,6,8 ])\n",
    "Klight = np.array([0,0.005,0.01,0.02])\n",
    "\n",
    "\n",
    "Qsv,MulimSucv,GrRatiov, CarbonCostv,Klightv, nodeDv = np.meshgrid(Qs,MulimSuc,GrRatio, Berthlim,Klight, nodeD)\n",
    "Qsv=Qsv.flatten()\n",
    "MulimSucv=MulimSucv.flatten()\n",
    "nodeDv=nodeDv.flatten()\n",
    "GrRatiov = GrRatiov.flatten()\n",
    "Berthlim = Berthlim.flatten()\n",
    "Klightv = Klightv.flatten()\n",
    "dictPara= {'Qsv' : Qsv,\n",
    "                'nodeDv':nodeDv, \n",
    "           'MulimSucv':MulimSucv,\n",
    "          'GrRatiov':GrRatiov,\n",
    "          'Berthlim':Berthlim,\n",
    "          'Klightv':Klightv}\n",
    "print(len(Qsv)/255)"
   ]
  },
  {
   "cell_type": "code",
   "execution_count": null,
   "id": "b65063b2-954f-4350-8997-4e62e3e58b7c",
   "metadata": {},
   "outputs": [],
   "source": []
  }
 ],
 "metadata": {
  "kernelspec": {
   "display_name": "py38",
   "language": "python",
   "name": "py38"
  },
  "language_info": {
   "codemirror_mode": {
    "name": "ipython",
    "version": 3
   },
   "file_extension": ".py",
   "mimetype": "text/x-python",
   "name": "python",
   "nbconvert_exporter": "python",
   "pygments_lexer": "ipython3",
   "version": "3.10.4"
  }
 },
 "nbformat": 4,
 "nbformat_minor": 5
}
