{
 "cells": [
  {
   "cell_type": "markdown",
   "metadata": {
    "tags": []
   },
   "source": [
    "# Coupled carbon and water flow in CPlantBox\n",
    "\n",
    "## Simulation of water and carbon movement \n",
    "\n",
    "\n",
    "In the following we will show how to compute the coupled water and carbon flow in the plant. \n",
    "\n",
    "\n",
    "\n",
    "We consider a dynamic plant and a static soil. \n",
    "To compute the carbon flux, we use the code developped by Lacointe et al. (2019).\n",
    "\n",
    "**Reference**\n",
    "\n",
    "A Lacointe and P. Minchin. A mechanistic model to predict distribution of carbon among multiple sinks. *Methods in molecular biology* (Clifton, N.J.) vol. 2014, 2019.\n",
    "\t"
   ]
  },
  {
   "cell_type": "markdown",
   "metadata": {},
   "source": [
    "The sucrose flow depends on several plant, soil and atmospheric variables. For clarity, the basic functions defining those variables were moved to the file \"parametersSucroseFlow\"."
   ]
  },
  {
   "cell_type": "code",
   "execution_count": 1,
   "metadata": {},
   "outputs": [],
   "source": [
    "import os\n",
    "onCloud = True # the notebook is not being run on a local machine but on a cloud-based service (e.g. mybinder, googlecolab)\n",
    "\n",
    "if onCloud:\n",
    "    import xvfbwrapper\n",
    "    vdisplay = xvfbwrapper.Xvfb()\n",
    "    vdisplay.start()\n",
    "    os.environ[\"CUDA_VISIBLE_DEVICES\"] = \"1\"\n",
    "    doInteractiveImage = False\n",
    "else:\n",
    "    doInteractiveImage = True\n",
    "\n",
    "    \n",
    "sourcedir = os.getcwd()+\"/../../..\"\n",
    "filedir = os.getcwd()\n",
    "import sys; sys.path.append(sourcedir); sys.path.append(sourcedir+\"/src\")\n",
    "sys.path.append(sourcedir+\"/modelparameter/functional\")\n",
    "import plantbox as pb\n",
    "from functional.xylem_flux import XylemFluxPython  # Python hybrid solver\n",
    "import numpy as np\n",
    "import visualisation.vtk_plot as vp # for quick 3d vizualisations\n",
    "import matplotlib.pyplot as plt\n",
    "from functional.phloem_flux import PhloemFluxPython  \n",
    "from plant_photosynthesis.wheat_FcVB_Giraud2023adapted import *\n",
    "from plant_hydraulics.wheat_Giraud2023adapted import *\n",
    "from plant_sucrose.wheat_phloem_Giraud2023adapted import *\n",
    "from climate.dummyWeather import *\n",
    "import numpy as np"
   ]
  },
  {
   "cell_type": "markdown",
   "metadata": {},
   "source": [
    "## 1. Define initial conditions"
   ]
  },
  {
   "cell_type": "code",
   "execution_count": 2,
   "metadata": {},
   "outputs": [],
   "source": [
    "\n",
    "#we start with a small plant to have a lower computation time\n",
    "simInit = 7 # [day] init simtime\n",
    "simMax = 8\n",
    "dt =2/24\n",
    "depth = 60\n",
    "weatherInit = weather(simInit)\n",
    "simDuration = simInit\n",
    "\n",
    "\n",
    "# plant system \n",
    "pl = pb.MappedPlant(seednum = 2) #seednum: gives the option of setting a random seed to make the simulations replicable\n",
    "path = \"../../../modelparameter/structural/plant/\"\n",
    "name = \"Triticum_aestivum_adapted_2023\"\n",
    "pl.readParameters(path + name + \".xml\")\n",
    "\n",
    "sdf = pb.SDF_PlantBox(np.inf, np.inf, depth )\n",
    "pl.setGeometry(sdf) # creates soil space to stop roots from growing out of the soil\n",
    "\n",
    "\n",
    "verbose = False\n",
    "pl.initialize(verbose )\n",
    "pl.simulate(simInit, verbose)\n",
    "\n",
    "\n",
    "#for post-processing\n",
    "Q_out = 0 #sucrose lost by the plant\n",
    "AnSum = 0 #assimilation\n",
    "filename = \"phloemoutputs.txt\" \n",
    "\n",
    "Q_Rmbu      = np.array([0.])\n",
    "Q_Grbu      = np.array([0.])\n",
    "Q_Exudbu    = np.array([0.])\n",
    "Q_STbu    = np.array([0.])\n",
    "\n",
    "Q_Rmall      = np.array([])\n",
    "Q_Grall      = np.array([])\n",
    "Q_Exudall    = np.array([])\n",
    "lengthTotall    = np.array([])\n",
    "time = np.array([])\n",
    "lengthTotInit = sum(pl.segLength())\n",
    "lengthTotBU = sum(pl.segLength())"
   ]
  },
  {
   "cell_type": "markdown",
   "metadata": {},
   "source": [
    "## 2. Define static soil"
   ]
  },
  {
   "cell_type": "code",
   "execution_count": 3,
   "metadata": {},
   "outputs": [],
   "source": [
    "\n",
    "min_b = [-3./2, -12./2, -61.]#distance between wheat plants\n",
    "max_b = [3./2, 12./2, 0.]\n",
    "cell_number = [6, 24, 61] #soil resolution\n",
    "layers = depth; soilvolume = (depth / layers) * 3 * 12\n",
    "k_soil = [] #conductivity of soil when in contact with roots\n",
    "p_mean = weatherInit['p_mean'] #mean soil water potential\n",
    "p_bot = p_mean + depth/2\n",
    "p_top = p_mean - depth/2\n",
    "sx = np.linspace(p_top, p_bot, depth) #soil water potential per voxel\n",
    "\n",
    "picker = lambda x,y,z : max(int(np.floor(-z)),-1) \n",
    "pl.setSoilGrid(picker)  # maps segment\n"
   ]
  },
  {
   "cell_type": "markdown",
   "metadata": {},
   "source": [
    "## 3. create object to compute carbon and water flux\n",
    "The PhloemFluxPython class containes the functionalities of PhotosynthesisPython as well as the sucrose-related functions."
   ]
  },
  {
   "cell_type": "code",
   "execution_count": 4,
   "metadata": {},
   "outputs": [],
   "source": [
    "#give initial guess of leaf water potential and internal CO2 partial pressure (to start computation loop)\n",
    "r = PhloemFluxPython(pl,psiXylInit = min(sx),ciInit = weatherInit[\"cs\"]*0.5)\n"
   ]
  },
  {
   "cell_type": "markdown",
   "metadata": {},
   "source": [
    "## 4. set other parameters and initial variable\n",
    "We present bellow some of the main sucrose-related parameters."
   ]
  },
  {
   "cell_type": "code",
   "execution_count": 5,
   "metadata": {},
   "outputs": [],
   "source": [
    "r = setPhotosynthesisParameters(r,weatherInit)\n",
    "\n",
    "r = setKrKx_phloem(r) # conductivity of the sieve tube\n",
    "r.setKrm2([[2e-5]]) #effect of the sucrose content on maintenance respiration \n",
    "r.setKrm1([[10e-2]]) #effect of structural sucrose content on maintenance respiration\n",
    "r.setRhoSucrose([[0.51],[0.65],[0.56]])  #sucrose density per organ type (mmol/cm3)\n",
    "r.setRmax_st([[14.4,9.0,6.0,14.4],[5.,5.],[15.]]) #maximum growth rate when water and carbon limitation is activated\n",
    "r.KMfu = 0.11                                     #michaelis menten coefficient for usage of sucrose\n",
    "r.beta_loading = 0.6 #feedback effect of sieve tube concentraiton on loading from mesophyll\n",
    "r.Vmaxloading = 0.05 #mmol/d, max loading rate from mesophyll\n",
    "r.Mloading = 0.2                                      #michaelis menten coefficient for loading of sucrose\n",
    "r.Gr_Y = 0.8 # efficiency of sucrose usage for growth. if <1, we have growth respiration\n",
    "r.CSTimin = 0.4 #minimum sucrose concentration below which no sucrose usage occures\n",
    "r.Csoil = 1e-4 #mean soil concentration in sucrose\n",
    "\n",
    "\n",
    "r.update_viscosity = True #update sucrose viscosity according to concentraiton ?\n",
    "r.atol = 1e-12 #max absolute error for sucrose flow solver\n",
    "r.rtol = 1e-8 #max relative error for sucrose flow solver\n"
   ]
  },
  {
   "cell_type": "markdown",
   "metadata": {},
   "source": [
    "## 5. launch simulation\n",
    "In this simulation, we use the same time step for all the modules. The first time steps tend to require longer computation time. increasing the maximum errors allowed for the sucrose computation (r.atol, r.rtol) and the minium and maximum plant segment length (dxMin, dx) can help decrease the computaiton time."
   ]
  },
  {
   "cell_type": "code",
   "execution_count": 6,
   "metadata": {},
   "outputs": [
    {
     "name": "stdout",
     "output_type": "stream",
     "text": [
      "Output times :\n",
      " 7 7.08333\n",
      "starting integration on time segment #1 = [7, 7.08333] 2 2\n",
      "at t = 7 : Y0.size() = 1040\n",
      "at 16:40:35 :  starting step n#1 (tf = 7.08333)\n",
      "at t = 7.08333 : Y0.size() = 1040\n",
      "\n",
      "Final Statistics:\n",
      "nst (num steps) = 20966  nfe  (num call to f)= 37995  nsetups (call to lin solver setup func)= 0     \n",
      "\n",
      "nni (iter of nonlinear solver) = 37992  ncfn (non linsolver conv fail)= 8354   netf (num err test fail) = 3      nge (call to root function) = 0\n",
      " \n",
      "\n",
      "at 16:40:35 :  exiting solver\n",
      "MEMORY LIBERATIONS\n",
      "fortran to python vector\n",
      "computeOrgGrowth\n",
      "\n",
      "\n",
      "\n",
      "\t\tat  7 d 0 h, PAR: 667 mumol m-2 s-1\n",
      "Error in sucrose balance:\n",
      "\tabs (mmol) -4.08e-14\trel (-) -4.55e-13\n",
      "Error in water balance:\n",
      "\tabs (cm3/day) 4.14e-02\n",
      "water fluxes (cm3/day):\n",
      "\ttranspiration -9.80e-01\n",
      "assimilated sucrose (cm)\tAn 8.98e-02\n",
      "sucrose concentration in sieve tube (mmol ml-1):\n",
      "\tmean 1.72e+00\tmin  1.58e+00 at 1 segs \tmax  1.81e+00\n",
      "cumulated \tRm   1.03e-02\tGr   8.04e-03\tExud 3.48e-02\n",
      "aggregated sink repartition at last time step (%) :\n",
      "\tRm    19.3\tGr    15.1\tExud  65.6\n",
      "total aggregated sink repartition (%) :\n",
      "\tRm    19.3\tGr    15.1\tExud  65.6\n",
      "growth rate (cm/day)\ttotal 0.00e+00\tlast time step 0.00e+00\n"
     ]
    }
   ],
   "source": [
    "\n",
    "# while simDuration <= simMax: \n",
    "\n",
    "Nt = len(r.plant.nodes) \n",
    "weatherX = weather(simDuration) #update weather variables\n",
    "r.Qlight = weatherX[\"Qlight\"] #\n",
    "r = setKrKx_xylem(weatherX[\"TairC\"], weatherX[\"RH\"], r) #update xylem conductivity data\n",
    "\n",
    "#compute plant water flow\n",
    "r.solve_photosynthesis(ea_=weatherX[\"ea\"], es_ = weatherX[\"es\"], \n",
    "                       sim_time_ = simDuration, sxx_=sx, cells_ = True,\n",
    "                       verbose_ = False, doLog_ = False,TairC_= weatherX[\"TairC\"] )\n",
    "\n",
    "\n",
    "AnSum += np.sum(r.Ag4Phloem)*dt #total cumulative carbon assimilaiton\n",
    "errLeuning = sum(r.outputFlux) #should be 0 : no storage of water in the plant\n",
    "fluxes = np.array(r.outputFlux)\n",
    "fluxesSoil = r.soilFluxes(simDuration, r.psiXyl, sx, approx=False) #root water flux per soil voxel\n",
    "\n",
    "\n",
    "#simulation of phloem flow\n",
    "startphloem= simDuration\n",
    "endphloem = startphloem + dt\n",
    "stepphloem = 1\n",
    "r.startPM(startphloem, endphloem, stepphloem, ( weatherX[\"TairC\"]  +273.15) , True, filename)\n",
    "\n",
    "#get ouput of sucrose flow computation    \n",
    "Q_ST    = np.array(r.Q_out[0:Nt])          #sieve tube sucrose content\n",
    "Q_meso  = np.array(r.Q_out[Nt:(Nt*2)])     #mesophyll sucrose content\n",
    "Q_Rm    = np.array(r.Q_out[(Nt*2):(Nt*3)]) #sucrose used for maintenance respiration\n",
    "Q_Exud  = np.array(r.Q_out[(Nt*3):(Nt*4)]) #sucrose used for exudation\n",
    "Q_Gr    = np.array(r.Q_out[(Nt*4):(Nt*5)]) #sucrose used for growth and growth respiration\n",
    "\n",
    "C_ST    = np.array(r.C_ST)           #sieve tube sucrose concentraiton\n",
    "volST   = np.array(r.vol_ST)         #sieve tube volume\n",
    "volMeso   = np.array(r.vol_Meso)      #mesophyll volume     \n",
    "C_meso  = Q_meso/volMeso              #sucrose concentration in mesophyll\n",
    "Q_out   = Q_Rm + Q_Exud + Q_Gr       #total sucrose lost/used by the plant\n",
    "error   = sum(Q_ST + Q_meso + Q_out )- AnSum  #balance residual (error)\n",
    "\n",
    "lengthTot = sum(r.plant.segLength()) #total plant length \n",
    "\n",
    "#variation of sucrose content at the last time step (mmol)\n",
    "Q_ST_i        = Q_ST      - Q_STbu #in the sieve tubes\n",
    "Q_Rm_i        = Q_Rm      - Q_Rmbu #for maintenance\n",
    "Q_Gr_i        = Q_Gr      - Q_Grbu #for growth\n",
    "Q_Exud_i      = Q_Exud    - Q_Exudbu #for exudation\n",
    "Q_out_i       = Q_Rm_i    + Q_Exud_i      + Q_Gr_i #total usage\n",
    "\n",
    "#print some outputs\n",
    "print(\"\\n\\n\\n\\t\\tat \", int(np.floor(simDuration)),\"d\", int((simDuration%1)*24),\"h, PAR:\",  round(r.Qlight *1e6),\"mumol m-2 s-1\")\n",
    "print(\"Error in sucrose balance:\\n\\tabs (mmol) {:5.2e}\\trel (-) {:5.2e}\".format(error, div0f(error,AnSum, 1.)))\n",
    "print(\"Error in water balance:\\n\\tabs (cm3/day) {:5.2e}\".format(errLeuning))\n",
    "print(\"water fluxes (cm3/day):\\n\\ttranspiration {:5.2e}\".format(sum(fluxesSoil.values())))\n",
    "print(\"assimilated sucrose (cm)\\tAn {:5.2e}\".format(AnSum)) \n",
    "print(\"sucrose concentration in sieve tube (mmol ml-1):\\n\\tmean {:.2e}\\tmin  {:5.2e} at {:d} segs \\tmax  {:5.2e}\".format(np.mean(C_ST), min(C_ST), len(np.where(C_ST == min(C_ST) )[0]), max(C_ST)))        \n",
    "print('cumulated \\tRm   {:.2e}\\tGr   {:.2e}\\tExud {:5.2e}'.format(sum(Q_Rm), sum(Q_Gr), sum(Q_Exud)))\n",
    "print(\"aggregated sink repartition at last time step (%) :\\n\\tRm   {:5.1f}\\tGr   {:5.1f}\\tExud {:5.1f}\".format(sum(Q_Rm_i)/sum(Q_out_i)*100, \n",
    "     sum(Q_Gr_i)/sum(Q_out_i)*100,sum(Q_Exud_i)/sum(Q_out_i)*100))\n",
    "print(\"total aggregated sink repartition (%) :\\n\\tRm   {:5.1f}\\tGr   {:5.1f}\\tExud {:5.1f}\".format(sum(Q_Rm)/sum(Q_out)*100, \n",
    "     sum(Q_Gr)/sum(Q_out)*100,sum(Q_Exud)/sum(Q_out)*100))\n",
    "print(\"growth rate (cm/day)\\ttotal {:5.2e}\\tlast time step {:5.2e}\".format(lengthTot - lengthTotInit, lengthTot - lengthTotBU))      \n",
    "\n",
    "#plant growth based on Gr * Gr_Y\n",
    "r.plant.simulate(dt, verbose)\n",
    "simDuration += dt\n",
    "\n",
    "#for post processing\n",
    "Ntbu = Nt\n",
    "Nt = len(r.plant.nodes)\n",
    "lengthTotBU = lengthTot\n",
    "Q_STbu       =   np.concatenate((Q_ST, np.full(Nt - Ntbu, 0.)))\n",
    "Q_Rmbu       =   np.concatenate((Q_Rm, np.full(Nt - Ntbu, 0.)))\n",
    "Q_Grbu       =   np.concatenate((Q_Gr, np.full(Nt - Ntbu, 0.))) \n",
    "Q_Exudbu     =   np.concatenate((Q_Exud, np.full(Nt - Ntbu, 0.))) \n",
    "\n",
    "\n",
    "Q_Rmall    = np.append( Q_Rmall  ,sum(Q_Rm_i))\n",
    "Q_Grall    = np.append( Q_Grall  ,sum(Q_Gr_i))\n",
    "Q_Exudall  = np.append( Q_Exudall,sum(Q_Exud_i))\n",
    "lengthTotall  = np.append( lengthTotall,lengthTot)\n",
    "time       = np.append( time ,simDuration)\n",
    "    "
   ]
  },
  {
   "cell_type": "markdown",
   "metadata": {},
   "source": [
    "## 8. plot some results"
   ]
  },
  {
   "cell_type": "code",
   "execution_count": 9,
   "metadata": {},
   "outputs": [],
   "source": [
    "\n",
    "\n",
    "C_ST    = np.array(r.C_ST)           #sieve tube sucrose concentraiton\n",
    "C_ST_ =  np.insert(C_ST, 0, 0)\n",
    "C_ST_[np.where(C_ST_ == 0)] = np.nan # set nan for 0 value to make it easier to see\n",
    "\n",
    "_ = vp.plot_plant(r.rs,  'C_ST', vals=[C_ST_],interactiveImage = doInteractiveImage)  "
   ]
  },
  {
   "cell_type": "markdown",
   "metadata": {},
   "source": [
    "## Take away messages\n",
    "\n",
    "* Basic idea how to use the class *PhloemFlow*\n",
    "* The plant growth follows the rate of carbon usage for growth"
   ]
  }
 ],
 "metadata": {
  "kernelspec": {
   "display_name": "envpy310",
   "language": "python",
   "name": "envpy310"
  },
  "language_info": {
   "codemirror_mode": {
    "name": "ipython",
    "version": 3
   },
   "file_extension": ".py",
   "mimetype": "text/x-python",
   "name": "python",
   "nbconvert_exporter": "python",
   "pygments_lexer": "ipython3",
   "version": "3.10.15"
  },
  "latex_envs": {
   "LaTeX_envs_menu_present": true,
   "autoclose": false,
   "autocomplete": true,
   "bibliofile": "biblio.bib",
   "cite_by": "apalike",
   "current_citInitial": 1,
   "eqLabelWithNumbers": true,
   "eqNumInitial": 1,
   "hotkeys": {
    "equation": "Ctrl-E",
    "itemize": "Ctrl-I"
   },
   "labels_anchors": false,
   "latex_user_defs": false,
   "report_style_numbering": false,
   "user_envs_cfg": false
  }
 },
 "nbformat": 4,
 "nbformat_minor": 4
}
