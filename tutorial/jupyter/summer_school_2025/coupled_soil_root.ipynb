{
 "cells": [
  {
   "cell_type": "code",
   "execution_count": 2,
   "id": "c8f4ee96",
   "metadata": {},
   "outputs": [],
   "source": [
    "import os\n",
    "sourcedir = os.getcwd()+\"/../../..\"\n",
    "filedir = os.getcwd()\n",
    "os.chdir(filedir)"
   ]
  },
  {
   "cell_type": "code",
   "execution_count": 6,
   "id": "60e6fa48",
   "metadata": {},
   "outputs": [],
   "source": [
    "\"\"\" Adding the paths for CPlantBox and DuMux as solver for the soil part \"\"\"\n",
    "import sys; sys.path.append(\"../..\"); sys.path.append(\"../../src/\")\n",
    "sys.path.append(\"../../../dumux-rosi/build-cmake/cpp/python_binding/\")  # dumux python binding\n",
    "sys.path.append(\"../../../dumux-rosi/python/modules/\")  # python wrappers"
   ]
  },
  {
   "cell_type": "code",
   "execution_count": 7,
   "id": "6a58a837",
   "metadata": {},
   "outputs": [
    {
     "ename": "ModuleNotFoundError",
     "evalue": "No module named 'plantbox'",
     "output_type": "error",
     "traceback": [
      "\u001b[0;31m---------------------------------------------------------------------------\u001b[0m",
      "\u001b[0;31mModuleNotFoundError\u001b[0m                       Traceback (most recent call last)",
      "Cell \u001b[0;32mIn[7], line 1\u001b[0m\n\u001b[0;32m----> 1\u001b[0m \u001b[38;5;28;01mimport\u001b[39;00m \u001b[38;5;21;01mplantbox\u001b[39;00m \u001b[38;5;28;01mas\u001b[39;00m \u001b[38;5;21;01mpb\u001b[39;00m\n\u001b[1;32m      2\u001b[0m \u001b[38;5;28;01mimport\u001b[39;00m \u001b[38;5;21;01mvisualisation\u001b[39;00m\u001b[38;5;21;01m.\u001b[39;00m\u001b[38;5;21;01mvtk_plot\u001b[39;00m \u001b[38;5;28;01mas\u001b[39;00m \u001b[38;5;21;01mvp\u001b[39;00m\n\u001b[1;32m      3\u001b[0m \u001b[38;5;28;01mfrom\u001b[39;00m \u001b[38;5;21;01mfunctional\u001b[39;00m\u001b[38;5;21;01m.\u001b[39;00m\u001b[38;5;21;01mxylem_flux\u001b[39;00m \u001b[38;5;28;01mimport\u001b[39;00m XylemFluxPython  \u001b[38;5;66;03m# Python hybrid solver\u001b[39;00m\n",
      "\u001b[0;31mModuleNotFoundError\u001b[0m: No module named 'plantbox'"
     ]
    }
   ],
   "source": [
    "import plantbox as pb\n",
    "import visualisation.vtk_plot as vp\n",
    "from functional.xylem_flux import XylemFluxPython  # Python hybrid solver\n",
    "from functional.root_conductivities import *  # hard coded conductivities\n",
    "from rosi_richards import RichardsSP  # C++ part (Dumux binding)\n",
    "from richards import RichardsWrapper  # Python part\n",
    "\n",
    "import numpy as np\n",
    "import matplotlib.pyplot as plt\n",
    "import timeit"
   ]
  }
 ],
 "metadata": {
  "kernelspec": {
   "display_name": "base",
   "language": "python",
   "name": "python3"
  },
  "language_info": {
   "codemirror_mode": {
    "name": "ipython",
    "version": 3
   },
   "file_extension": ".py",
   "mimetype": "text/x-python",
   "name": "python",
   "nbconvert_exporter": "python",
   "pygments_lexer": "ipython3",
   "version": "3.12.0"
  }
 },
 "nbformat": 4,
 "nbformat_minor": 5
}
