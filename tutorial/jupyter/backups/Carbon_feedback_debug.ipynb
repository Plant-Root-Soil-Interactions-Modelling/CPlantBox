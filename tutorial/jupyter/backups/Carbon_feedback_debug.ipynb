{
 "cells": [
  {
   "cell_type": "code",
   "execution_count": 1,
   "metadata": {},
   "outputs": [],
   "source": [
    "from CPlantBox_PiafMunch import *"
   ]
  },
  {
   "cell_type": "code",
   "execution_count": null,
   "metadata": {},
   "outputs": [],
   "source": [
    "name = \"carbon2020.xml\"\n",
    "plant = pb.Plant()\n",
    "plant.openXML(\"../../modelparameter/plant/\" + name)\n",
    "seeds = plant.getOrganRandomParameter(pb.OrganTypes.seed)\n",
    "roots = plant.getOrganRandomParameter(pb.OrganTypes.root)\n",
    "stems = plant.getOrganRandomParameter(pb.OrganTypes.stem)\n",
    "leafs = plant.getOrganRandomParameter(pb.OrganTypes.leaf)\n",
    "plant.initialize(True)"
   ]
  },
  {
   "cell_type": "code",
   "execution_count": null,
   "metadata": {},
   "outputs": [],
   "source": [
    "organ[0].getParam().r"
   ]
  },
  {
   "cell_type": "code",
   "execution_count": null,
   "metadata": {},
   "outputs": [],
   "source": [
    "# make two root system, both grow to 1day at same speed, but one change the growthrate to o.1 the other changed to 10. we can find the difference though output\n",
    "#test of python modification of growth rate change it to 10\n",
    "plant.simulate(1)\n",
    "organ = plant.getOrgans()\n",
    "plant.write(\"{}{}{}.vtp\".format(1,str(name),\"change10\"))\n",
    "organ[0].getParam().r=10\n",
    "plant.simulate(5)\n",
    "plant.write(\"{}{}{}.vtp\".format(5,str(name),\"change10\"))"
   ]
  },
  {
   "cell_type": "code",
   "execution_count": null,
   "metadata": {},
   "outputs": [],
   "source": [
    "# setting root water potential (this can be changeed by resistance )\n",
    "# getting id (check the nodeId of one orgen children and then check if it belongs to)\n",
    "# rewrite growth rate\n",
    "\n",
    "plant.simulate(time)\n",
    "plant.write(\"{}.vtp\".format(str(name)))\n",
    "dict_all  = convert( plant )\n",
    "piafmunch_outputname = name +\".ini\"\n",
    "\n",
    "write_PiafMunch_parameter(dict_all['node_connection'], dict_all['nodes_organtype'], dict_all['nodes_r_st'], dict_all['unq_cnt'], piafmunch_outputname)\n"
   ]
  },
  {
   "cell_type": "code",
   "execution_count": null,
   "metadata": {},
   "outputs": [],
   "source": [
    "organ = plant.getOrgans()\n",
    "nodeIDtoOrgan = [0]*plant.getNumberOfNodes()\n",
    "i =0\n",
    "for i in range(0, len(organ)):\n",
    "    j=0\n",
    "    for j in range(0,organ[i].getNumberOfNodes()):\n",
    "        nodeIDtoOrgan[organ[i].getNodeId(j)]=i+1\n",
    "        \n",
    "nodeIDtoOrgan[organ[i].getNodeId(j)]=i+1\n"
   ]
  },
  {
   "cell_type": "code",
   "execution_count": null,
   "metadata": {},
   "outputs": [],
   "source": [
    "organ = plant.getOrgans()\n",
    "nodeIDtoOrgan = [0]*plant.getNumberOfNodes()\n",
    "i =0\n",
    "for i in range(0, len(organ)):\n",
    "    j=0\n",
    "    for j in range(0,organ[i].getNumberOfNodes()):\n",
    "        nodeIDtoOrgan[organ[i].getNodeId(j)]=i+1"
   ]
  },
  {
   "cell_type": "code",
   "execution_count": null,
   "metadata": {},
   "outputs": [],
   "source": [
    "organ[3].getNodeId(1)"
   ]
  },
  {
   "cell_type": "code",
   "execution_count": null,
   "metadata": {},
   "outputs": [],
   "source": [
    "nodeIDtoOrgan"
   ]
  },
  {
   "cell_type": "code",
   "execution_count": null,
   "metadata": {},
   "outputs": [],
   "source": [
    "dict_all  = convert( plant )\n",
    "piafmunch_outputname = name +\".ini\"\n",
    "write_PiafMunch_parameter(dict_all['node_connection'], dict_all['nodes_organtype'], dict_all['nodes_r_st'], dict_all['unq_cnt'], piafmunch_outputname)\n",
    "nodes_organtype = dict_all['nodes_organtype']\n",
    "N1R_node = nodes_organtype[(nodes_organtype[:,0] >2 ) & (nodes_organtype[:,1] ==2 ) & (nodes_organtype[:,2] ==1 )]\n",
    "N1L_node = nodes_organtype[(nodes_organtype[:,0] >2 ) & ((nodes_organtype[:,1] ==4)|(nodes_organtype[:,1] ==3)  ) & (nodes_organtype[:,2] ==1 )]"
   ]
  },
  {
   "cell_type": "code",
   "execution_count": null,
   "metadata": {},
   "outputs": [],
   "source": [
    "nodeIDtoOrgan[int(N1R_node[1][0])]"
   ]
  },
  {
   "cell_type": "code",
   "execution_count": null,
   "metadata": {},
   "outputs": [],
   "source": [
    "day = 1\n",
    "hour= day*24\n",
    "plant.simulate(day)\n",
    "organ = plant.getOrgans()\n",
    "plant.write(\"{}{}{}.vtp\".format(hour,str(name),\"1st_test\"))\n",
    "dict_all  = convert( plant )\n",
    "piafmunch_outputname = name +\".ini\"\n",
    "Soil_water = [0]*(len(dict_all['node_connection'])+1)\n",
    "write_PiafMunch_parameter(dict_all['node_connection'], dict_all['nodes_organtype'], dict_all['nodes_r_st'], dict_all['unq_cnt'], Soil_water,piafmunch_outputname,hour)\n",
    "\n"
   ]
  },
  {
   "cell_type": "code",
   "execution_count": null,
   "metadata": {},
   "outputs": [],
   "source": [
    "os.system(' /mnt/c/prog_sct.bas/programs/C++/PIAFMunch2/projects/PIAFMunch2.exe {} -noGUI -q'.format(piafmunch_outputname))\n",
    "now = datetime.datetime.now()\n",
    "os.system('mv ./{}_{}-{:02}-{:02}*output.txt  ./{}_output.txt'.format(name, now.year ,now.month, now.day,name ) )\n",
    "\n",
    "nodeIDtoOrgan = [0]*plant.getNumberOfNodes()\n",
    "i =0\n",
    "for i in range(0, len(organ)):\n",
    "    j=0\n",
    "    for j in range(0,organ[i].getNumberOfNodes()):\n",
    "        nodeIDtoOrgan[organ[i].getNodeId(j)]=i+1\n",
    "\n",
    "nodes_organtype = dict_all['nodes_organtype']\n",
    "N1R_node = nodes_organtype[(nodes_organtype[:,0] >2 ) & (nodes_organtype[:,1] ==2 ) & (nodes_organtype[:,2] ==1 )]\n",
    "N1L_node = nodes_organtype[(nodes_organtype[:,0] >2 ) & ((nodes_organtype[:,1] ==4)|(nodes_organtype[:,1] ==3)  ) & (nodes_organtype[:,2] ==1 )]\n",
    "piaf_output = read_output(name,  dict_all[\"node_connection\"])\n",
    "print(piaf_output[\"Q_ST\"])\n"
   ]
  },
  {
   "cell_type": "code",
   "execution_count": null,
   "metadata": {},
   "outputs": [],
   "source": [
    "#assign growth rate of first root organ\n",
    "organ[nodeIDtoOrgan[int(N1R_node[0][0])]].getParam().r"
   ]
  },
  {
   "cell_type": "code",
   "execution_count": null,
   "metadata": {},
   "outputs": [],
   "source": [
    "nodeIDtoOrgan[N1R_node]"
   ]
  },
  {
   "cell_type": "code",
   "execution_count": null,
   "metadata": {},
   "outputs": [],
   "source": [
    "piaf_output[\"Q_ST\"][int(N1R_node[1][0])][-1]\n",
    "# piaf_output[\"Q_ST\"][int(N1R_node[0][0])][-1]"
   ]
  },
  {
   "cell_type": "code",
   "execution_count": null,
   "metadata": {},
   "outputs": [],
   "source": [
    "nodeIDtoOrgan = [0]*plant.getNumberOfNodes()\n",
    "i =0\n",
    "for i in range(0, len(organ)):\n",
    "    j=0\n",
    "    for j in range(0,organ[i].getNumberOfNodes()):\n",
    "        nodeIDtoOrgan[organ[i].getNodeId(j)]=i+1"
   ]
  },
  {
   "cell_type": "code",
   "execution_count": null,
   "metadata": {},
   "outputs": [],
   "source": [
    "nodeIDtoOrgan[int(N1R_node[1][0])]"
   ]
  },
  {
   "cell_type": "code",
   "execution_count": null,
   "metadata": {},
   "outputs": [],
   "source": [
    "organ[nodeIDtoOrgan[int(N1R_node[0][0])]].getParam().r"
   ]
  },
  {
   "cell_type": "code",
   "execution_count": null,
   "metadata": {},
   "outputs": [],
   "source": [
    "organ[nodeIDtoOrgan[int(N1R_node[1][0])]].getParam().r"
   ]
  },
  {
   "cell_type": "code",
   "execution_count": null,
   "metadata": {},
   "outputs": [],
   "source": [
    "ana = pb.SegmentAnalyser(plant)\n",
    "ana.write(\"{}.vtp\".format(str(name)))"
   ]
  },
  {
   "cell_type": "code",
   "execution_count": null,
   "metadata": {},
   "outputs": [],
   "source": [
    "nodes_organtype = dict_all['nodes_organtype']\n",
    "N1R_node = nodes_organtype[(nodes_organtype[:,0] >2 ) & (nodes_organtype[:,1] ==2 ) & (nodes_organtype[:,2] ==1 )]\n",
    "N1L_node = nodes_organtype[(nodes_organtype[:,0] >2 ) & ((nodes_organtype[:,1] ==4)|(nodes_organtype[:,1] ==3)  ) & (nodes_organtype[:,2] ==1 )]"
   ]
  },
  {
   "cell_type": "code",
   "execution_count": null,
   "metadata": {},
   "outputs": [],
   "source": [
    "\n",
    "nodes_cor = python_nodes(plant)"
   ]
  },
  {
   "cell_type": "code",
   "execution_count": null,
   "metadata": {},
   "outputs": [],
   "source": [
    "for i in range(len(N1R_node)):\n",
    "    print(nodes_cor[int(N1R_node[i][0])-1])"
   ]
  },
  {
   "cell_type": "code",
   "execution_count": null,
   "metadata": {},
   "outputs": [],
   "source": [
    "\n",
    "N1R_node"
   ]
  },
  {
   "cell_type": "code",
   "execution_count": 43,
   "metadata": {},
   "outputs": [
    {
     "data": {
      "text/plain": [
       "256"
      ]
     },
     "execution_count": 43,
     "metadata": {},
     "output_type": "execute_result"
    }
   ],
   "source": [
    "os.system(' /mnt/c/prog_sct.bas/programs/C++/PIAFMunch2/projects/PIAFMunch2.exe {} -noGUI -q'.format(piafmunch_outputname))"
   ]
  },
  {
   "cell_type": "code",
   "execution_count": 49,
   "metadata": {},
   "outputs": [
    {
     "name": "stdout",
     "output_type": "stream",
     "text": [
      "8\n",
      "1.31633\n",
      "16\n",
      "1.31779\n"
     ]
    }
   ],
   "source": [
    "\n",
    "#os.system('mv ./{}_{}-{:02}-{:02}*output.txt  ./{}_output.txt'.format(name, now.year ,now.month, now.day,name ) )\n",
    "piaf_output = read_output(name,  dict_all[\"node_connection\"])\n",
    "now = datetime.datetime.now()\n",
    "for i in N1R_node: # CPlantBox growth rate: cm day-1\n",
    "        # print(i)\n",
    "        carbon_content = piaf_output[\"Q_ST\"][-1][int(i[0])-1]* 1e4 # directly pass the Q_ST * 1e5 to carbon content\n",
    "        print(int(i[0])-1)\n",
    "        print(carbon_content)"
   ]
  },
  {
   "cell_type": "code",
   "execution_count": 48,
   "metadata": {},
   "outputs": [
    {
     "data": {
      "text/plain": [
       "array([0.00000e+00, 1.10894e-10, 1.37410e-06, 3.34100e-06, 4.73845e-06,\n",
       "       5.88244e-06, 6.85277e-06, 7.68242e-06, 8.40099e-06, 9.01969e-06,\n",
       "       9.55870e-06, 1.00247e-05, 1.04296e-05, 1.07817e-05, 1.10886e-05,\n",
       "       1.13553e-05, 1.15873e-05, 1.17890e-05, 1.19651e-05, 1.21187e-05,\n",
       "       1.22027e-05, 1.23593e-05, 1.24703e-05, 1.25588e-05, 1.26358e-05,\n",
       "       1.27030e-05, 1.27600e-05, 1.28122e-05, 1.28572e-05, 1.28960e-05,\n",
       "       1.29299e-05, 1.28758e-05, 1.28199e-05, 1.27712e-05, 1.27290e-05,\n",
       "       1.26924e-05, 1.26607e-05, 1.27167e-05, 1.27743e-05, 1.28243e-05,\n",
       "       1.28678e-05, 1.29028e-05, 1.29388e-05, 1.29676e-05, 1.29926e-05,\n",
       "       1.30143e-05, 1.30333e-05, 1.30498e-05, 1.30641e-05, 1.30766e-05,\n",
       "       1.30875e-05, 1.30969e-05, 1.31052e-05, 1.31123e-05, 1.31186e-05,\n",
       "       1.31240e-05, 1.31287e-05, 1.31328e-05, 1.31364e-05, 1.31395e-05,\n",
       "       1.31422e-05, 1.31446e-05, 1.31467e-05, 1.31484e-05, 1.31500e-05,\n",
       "       1.31513e-05, 1.31525e-05, 1.31536e-05, 1.31544e-05, 1.31552e-05,\n",
       "       1.31559e-05, 1.31565e-05, 1.31570e-05, 1.31574e-05, 1.31578e-05,\n",
       "       1.31582e-05, 1.31585e-05, 1.31587e-05, 1.31589e-05, 1.31591e-05,\n",
       "       1.31593e-05, 1.31595e-05, 1.31596e-05, 1.31596e-05, 1.31596e-05,\n",
       "       1.31598e-05, 1.31599e-05, 1.31600e-05, 1.31600e-05, 1.31600e-05,\n",
       "       1.31600e-05, 1.31602e-05, 1.31602e-05, 1.31603e-05, 1.31603e-05,\n",
       "       1.31603e-05, 1.31603e-05, 1.31603e-05, 1.31603e-05, 1.31603e-05,\n",
       "       1.31603e-05, 1.31604e-05, 1.31604e-05, 1.32431e-05, 1.33235e-05,\n",
       "       1.33934e-05, 1.34544e-05, 1.35077e-05, 1.35542e-05, 1.35122e-05,\n",
       "       1.34673e-05, 1.34281e-05, 1.33938e-05, 1.33686e-05, 1.33380e-05,\n",
       "       1.33153e-05, 1.32954e-05, 1.32782e-05, 1.32705e-05, 1.32499e-05,\n",
       "       1.32385e-05, 1.32285e-05, 1.32198e-05, 1.32122e-05, 1.32055e-05,\n",
       "       1.31998e-05, 1.31947e-05, 1.31903e-05, 1.31865e-05, 1.31831e-05,\n",
       "       1.31802e-05, 1.31777e-05, 1.31755e-05, 1.31735e-05, 1.31719e-05,\n",
       "       1.31704e-05, 1.31691e-05, 1.31680e-05, 1.31670e-05, 1.31662e-05,\n",
       "       1.31654e-05, 1.31648e-05, 1.31643e-05, 1.31637e-05, 1.31633e-05])"
      ]
     },
     "execution_count": 48,
     "metadata": {},
     "output_type": "execute_result"
    }
   ],
   "source": [
    "piaf_output[\"Q_ST\"][:,8]"
   ]
  },
  {
   "cell_type": "code",
   "execution_count": 47,
   "metadata": {},
   "outputs": [
    {
     "data": {
      "text/plain": [
       "array([0.00000e+00, 1.44706e-10, 1.42334e-06, 3.37321e-06, 4.76268e-06,\n",
       "       5.90333e-06, 6.87185e-06, 7.70038e-06, 8.41818e-06, 9.03633e-06,\n",
       "       9.57492e-06, 1.00406e-05, 1.04453e-05, 1.07972e-05, 1.11040e-05,\n",
       "       1.13705e-05, 1.16025e-05, 1.18040e-05, 1.19801e-05, 1.21336e-05,\n",
       "       1.22176e-05, 1.23741e-05, 1.24852e-05, 1.25736e-05, 1.26506e-05,\n",
       "       1.27177e-05, 1.27747e-05, 1.28269e-05, 1.28719e-05, 1.29107e-05,\n",
       "       1.29445e-05, 1.28902e-05, 1.28342e-05, 1.27856e-05, 1.27433e-05,\n",
       "       1.27067e-05, 1.26750e-05, 1.27312e-05, 1.27888e-05, 1.28388e-05,\n",
       "       1.28823e-05, 1.29173e-05, 1.29533e-05, 1.29821e-05, 1.30070e-05,\n",
       "       1.30288e-05, 1.30477e-05, 1.30642e-05, 1.30785e-05, 1.30910e-05,\n",
       "       1.31019e-05, 1.31113e-05, 1.31196e-05, 1.31267e-05, 1.31330e-05,\n",
       "       1.31384e-05, 1.31431e-05, 1.31472e-05, 1.31508e-05, 1.31539e-05,\n",
       "       1.31566e-05, 1.31590e-05, 1.31611e-05, 1.31628e-05, 1.31644e-05,\n",
       "       1.31658e-05, 1.31669e-05, 1.31680e-05, 1.31689e-05, 1.31696e-05,\n",
       "       1.31703e-05, 1.31709e-05, 1.31714e-05, 1.31718e-05, 1.31722e-05,\n",
       "       1.31726e-05, 1.31729e-05, 1.31731e-05, 1.31734e-05, 1.31736e-05,\n",
       "       1.31737e-05, 1.31739e-05, 1.31740e-05, 1.31740e-05, 1.31740e-05,\n",
       "       1.31742e-05, 1.31744e-05, 1.31744e-05, 1.31744e-05, 1.31744e-05,\n",
       "       1.31744e-05, 1.31746e-05, 1.31746e-05, 1.31747e-05, 1.31747e-05,\n",
       "       1.31747e-05, 1.31747e-05, 1.31747e-05, 1.31747e-05, 1.31747e-05,\n",
       "       1.31747e-05, 1.31748e-05, 1.31748e-05, 1.32578e-05, 1.33382e-05,\n",
       "       1.34081e-05, 1.34691e-05, 1.35224e-05, 1.35690e-05, 1.35267e-05,\n",
       "       1.34818e-05, 1.34426e-05, 1.34084e-05, 1.33831e-05, 1.33525e-05,\n",
       "       1.33298e-05, 1.33100e-05, 1.32927e-05, 1.32851e-05, 1.32645e-05,\n",
       "       1.32531e-05, 1.32431e-05, 1.32344e-05, 1.32268e-05, 1.32201e-05,\n",
       "       1.32144e-05, 1.32093e-05, 1.32049e-05, 1.32011e-05, 1.31977e-05,\n",
       "       1.31948e-05, 1.31923e-05, 1.31901e-05, 1.31881e-05, 1.31865e-05,\n",
       "       1.31850e-05, 1.31837e-05, 1.31826e-05, 1.31816e-05, 1.31808e-05,\n",
       "       1.31800e-05, 1.31794e-05, 1.31789e-05, 1.31783e-05, 1.31779e-05])"
      ]
     },
     "execution_count": 47,
     "metadata": {},
     "output_type": "execute_result"
    }
   ],
   "source": [
    "piaf_output[\"Q_ST\"][:,16]"
   ]
  },
  {
   "cell_type": "code",
   "execution_count": 45,
   "metadata": {},
   "outputs": [
    {
     "data": {
      "text/plain": [
       "[<matplotlib.lines.Line2D at 0x7feb6b3d0978>]"
      ]
     },
     "execution_count": 45,
     "metadata": {},
     "output_type": "execute_result"
    },
    {
     "data": {
      "image/png": "[encoded data removed]",
      "text/plain": [
       "<Figure size 720x720 with 1 Axes>"
      ]
     },
     "metadata": {
      "needs_background": "light"
     },
     "output_type": "display_data"
    }
   ],
   "source": [
    "f=plt\n",
    "f.plot(piaf_output[\"Q_ST\"][:,8])\n",
    "f.plot(piaf_output[\"Q_ST\"][:,16])"
   ]
  },
  {
   "cell_type": "code",
   "execution_count": 24,
   "metadata": {},
   "outputs": [
    {
     "data": {
      "text/plain": [
       "array([[0.00000e+00, 0.00000e+00, 0.00000e+00, ..., 0.00000e+00,\n",
       "        0.00000e+00, 0.00000e+00],\n",
       "       [2.08794e-06, 1.61481e-06, 1.19058e-06, ..., 3.60585e-06,\n",
       "        4.11217e-06, 5.40728e-06],\n",
       "       [3.59812e-06, 3.27330e-06, 3.03831e-06, ..., 4.92872e-06,\n",
       "        5.30613e-06, 6.45377e-06],\n",
       "       ...,\n",
       "       [1.45320e-05, 1.44491e-05, 1.43780e-05, ..., 1.51713e-05,\n",
       "        1.52756e-05, 1.57161e-05],\n",
       "       [1.44877e-05, 1.44047e-05, 1.43335e-05, ..., 1.51275e-05,\n",
       "        1.52321e-05, 1.56741e-05],\n",
       "       [        nan,         nan,         nan, ...,         nan,\n",
       "                nan,         nan]])"
      ]
     },
     "execution_count": 24,
     "metadata": {},
     "output_type": "execute_result"
    }
   ],
   "source": [
    "piaf_output[\"Q_ST\"]"
   ]
  },
  {
   "cell_type": "code",
   "execution_count": 188,
   "metadata": {},
   "outputs": [],
   "source": [
    "rs = pb.RootSystem()\n",
    "name = \"../../modelparameter/plant/carbon2020.xml\"\n",
    "rs.readParameters(name )\n",
    "# 2. A split pot experiment\n",
    "topBox = pb.SDF_PlantBox(22, 20, 5)\n",
    "#topBox = pb.SDF_RotateTranslate(topBox, pb.Vector3d(0, 0, 5))\n",
    "# sideBox = pb.SDF_PlantBox(12, 12, 35)\n",
    "# left = pb.SDF_RotateTranslate(sideBox, pb.Vector3d(-6.5, 0, -5))\n",
    "# right = pb.SDF_RotateTranslate(sideBox, pb.Vector3d(6.5, 0, -5))\n",
    "sideBox = pb.SDF_PlantBox(10, 20, 35)\n",
    "left = pb.SDF_RotateTranslate(sideBox, pb.Vector3d(-6, 0, -5))\n",
    "right = pb.SDF_RotateTranslate(sideBox, pb.Vector3d(6, 0, -5))\n",
    "box_ = []\n",
    "box_.append(topBox)\n",
    "box_.append(left)\n",
    "box_.append(right)\n",
    "splitBox = pb.SDF_Union(box_)\n",
    "rs.setGeometry(splitBox)\n",
    "# Export container geometry as Paraview Python script\n",
    "rs.initialize()\n",
    "rs.simulate(90)  # days\n",
    "rs.write(\"splitBox.py\")\n"
   ]
  },
  {
   "cell_type": "code",
   "execution_count": null,
   "metadata": {},
   "outputs": [],
   "source": [
    "for i in range(0,len(plant.getNodes())): \n",
    "    print(left.getDist(plant.getNodes()[i]))"
   ]
  },
  {
   "cell_type": "code",
   "execution_count": 198,
   "metadata": {},
   "outputs": [
    {
     "data": {
      "text/plain": [
       "array([[ 1.,  2.,  3.,  3.],\n",
       "       [ 2.,  2.,  2.,  2.],\n",
       "       [ 3.,  2.,  2.,  2.],\n",
       "       [ 4.,  2.,  2.,  2.],\n",
       "       [ 5.,  2.,  2.,  2.],\n",
       "       [ 6.,  2.,  2.,  2.],\n",
       "       [ 7.,  2.,  2.,  2.],\n",
       "       [ 8.,  2.,  2.,  2.],\n",
       "       [ 9.,  2.,  1.,  1.],\n",
       "       [10.,  2.,  2.,  2.],\n",
       "       [11.,  2.,  2.,  2.],\n",
       "       [12.,  2.,  2.,  2.],\n",
       "       [13.,  2.,  2.,  2.],\n",
       "       [14.,  2.,  2.,  2.],\n",
       "       [15.,  2.,  2.,  2.],\n",
       "       [16.,  2.,  2.,  2.],\n",
       "       [17.,  2.,  1.,  1.],\n",
       "       [18.,  3.,  2.,  2.],\n",
       "       [19.,  3.,  2.,  2.],\n",
       "       [20.,  3.,  3.,  3.],\n",
       "       [21.,  4.,  2.,  2.],\n",
       "       [22.,  4.,  2.,  2.],\n",
       "       [23.,  4.,  1.,  1.],\n",
       "       [24.,  3.,  2.,  2.],\n",
       "       [25.,  3.,  2.,  2.],\n",
       "       [26.,  3.,  2.,  2.],\n",
       "       [27.,  3.,  1.,  1.]])"
      ]
     },
     "execution_count": 198,
     "metadata": {},
     "output_type": "execute_result"
    }
   ],
   "source": [
    "\n",
    "nodes_organtype"
   ]
  },
  {
   "cell_type": "markdown",
   "metadata": {},
   "source": [
    "## Carbon feedback\n",
    "Growth control is the main purpose of having a feedback from carbon content on the growth rate.\n"
   ]
  },
  {
   "cell_type": "code",
   "execution_count": 2,
   "metadata": {},
   "outputs": [],
   "source": [
    "from CPlantBox_PiafMunch import * #import all the libraries"
   ]
  },
  {
   "cell_type": "code",
   "execution_count": null,
   "metadata": {},
   "outputs": [],
   "source": [
    "for i, roottip in enumerate(N1R_node):\n",
    "        print(i)\n",
    "        if left.getDist(plant.getNodes()[int(roottip[0]-1)]) <0: # if it is in the left box\n",
    "            \n",
    "            Soil_water[i] = 0.2 # unit is added with a minus sign, actuall value is -0.2\n",
    "        elif right.getDist(plant.getNodes()[int(roottip[0]-1)]) <0: # if it is in the right box\n",
    "            Soil_water[i] = 0.5 # actuall value is -0.5\n",
    "        else:\n",
    "            Soil_water[i] = 0.1 # actuall value is -0.1"
   ]
  },
  {
   "cell_type": "code",
   "execution_count": null,
   "metadata": {},
   "outputs": [],
   "source": [
    "plant.getNodes()[0]"
   ]
  },
  {
   "cell_type": "code",
   "execution_count": null,
   "metadata": {},
   "outputs": [],
   "source": [
    "N1R_node"
   ]
  },
  {
   "cell_type": "code",
   "execution_count": 75,
   "metadata": {},
   "outputs": [],
   "source": [
    "name = \"carbon2020.xml\"\n",
    "plant = pb.Plant()\n",
    "\n",
    "# 2. A split pot experiment\n",
    "topBox = pb.SDF_PlantBox(22, 20, 5)\n",
    "#topBox = pb.SDF_RotateTranslate(topBox, pb.Vector3d(0, 0, 5))\n",
    "# sideBox = pb.SDF_PlantBox(12, 12, 35)\n",
    "# left = pb.SDF_RotateTranslate(sideBox, pb.Vector3d(-6.5, 0, -5))\n",
    "# right = pb.SDF_RotateTranslate(sideBox, pb.Vector3d(6.5, 0, -5))\n",
    "sideBox = pb.SDF_PlantBox(10, 20, 35)\n",
    "left = pb.SDF_RotateTranslate(sideBox, pb.Vector3d(-6, 0, -5))\n",
    "right = pb.SDF_RotateTranslate(sideBox, pb.Vector3d(6, 0, -5))\n",
    "box_ = []\n",
    "box_.append(topBox)\n",
    "box_.append(left)\n",
    "box_.append(right)\n",
    "splitBox = pb.SDF_Union(box_)\n",
    "\n",
    "\n",
    "# Set geometry: rotatedRhizotron, splitBox, or rhizoTube\n",
    "plant.setGeometry(splitBox)\n",
    "#plant.write(\"splitBox.py\")\n",
    "plant.openXML(\"../../modelparameter/plant/\" + name)\n",
    "seeds = plant.getOrganRandomParameter(pb.OrganTypes.seed)\n",
    "roots = plant.getOrganRandomParameter(pb.OrganTypes.root)\n",
    "stems = plant.getOrganRandomParameter(pb.OrganTypes.stem)\n",
    "leafs = plant.getOrganRandomParameter(pb.OrganTypes.leaf)\n",
    "plant.initialize(True)\n",
    "\n"
   ]
  },
  {
   "cell_type": "code",
   "execution_count": 90,
   "metadata": {},
   "outputs": [
    {
     "name": "stdout",
     "output_type": "stream",
     "text": [
      "output successful\n",
      "output successful\n",
      "output successful\n"
     ]
    }
   ],
   "source": [
    "\n",
    "carbon_logger = []\n",
    "root_length_logger = []\n",
    "# absolute respiration maintenance of plant segment = volumen of the segment\n",
    "# TODO to see if some other parameters from the output can be used as input\n",
    "# carbon feedback loop by days.\n",
    "for i in range(1,4): # how many i*days to simulation\n",
    "    plant.setGeometry(splitBox)\n",
    "    day = 1 # the step of every loop (day)\n",
    "    hour = 24 # the hour of every loop (hour) used in PiafMunch\n",
    "    plant.simulate(day) # start simulation\n",
    "    organ = plant.getOrgans()\n",
    "    plant.write(\"{}{}{}.vtp\".format(\"only_Q_ST_test\",str(name),i*day)) #writes vtp the name is followed by the number of days simulated\n",
    "    # plant.write(\"{}{}{}.py\".format(hour,str(name),\"1st_test\"))\n",
    "    dict_all  = convert( plant ) # convert plant to python outputs\n",
    "    piafmunch_outputname = name +\".ini\" # set the name of the parameters\n",
    "    Soil_water = [0]*(len(dict_all['node_connection'])+1) # initiate soil water potentil\n",
    "    Seg_radius = [0]*((len(organ))+1) # initiate the radius of each segment\n",
    "    k1 = [0]*(len(dict_all['node_connection'])+1) # k1 parameter in equation\n",
    "    nodeIDtoOrgan = [0]*plant.getNumberOfNodes() #\n",
    "    r_k1 = 1e-10 # magnitude midification, because the realistic value in literature need to be found\n",
    "    k = 0\n",
    "    ########################################## python nodes conversion #########################################\n",
    "    \n",
    "    nodes_organtype = dict_all['nodes_organtype']\n",
    "    # sink nodes (nodes have one connection and on the right hand side)\n",
    "    N1R_node = nodes_organtype[(nodes_organtype[:,0] >2 ) & (nodes_organtype[:,1] ==2 ) & (nodes_organtype[:,2] ==1 )] # no seed, root, one connection\n",
    "    # source nodes\n",
    "    N1L_node = nodes_organtype[(nodes_organtype[:,0] >2 ) & ((nodes_organtype[:,1] ==4)|(nodes_organtype[:,1] ==3)  ) & (nodes_organtype[:,2] ==1 )] # no seed, stem or leaf, one connection\n",
    "\n",
    "    \n",
    "    ########################## nodewise iteration to know which organ it belongs to ###########################################\n",
    "    for k in range(0, len(organ)):  # get all the organs\n",
    "        Seg_radius[k] = organ[k].getParam().a #the diameter of root\n",
    "        j=0\n",
    "        for j in range(0,organ[k].getNumberOfNodes()): # get all segments in one organs\n",
    "            nodeIDtoOrgan[organ[k].getNodeId(j)]=k # set an id, so we can get the organ number from a node number\n",
    "            Carbon_main = Seg_radius[k]**2*3.1415926* organ[i].getOrganRandomParameter().dx *r_k1 # calculate the maintenance by volume \n",
    "            # Carbon_main = 0\n",
    "            # print(Carbon_main)  absolute carbon maintentance\n",
    "            k1[organ[k].getNodeId(j)] = Carbon_main\n",
    "        \n",
    "    ############################# water potential in left and right boxex ##################################################\n",
    "    for i, roottip in enumerate(N1R_node): \n",
    "        if left.getDist(plant.getNodes()[int(roottip[0])-1]) <0: # if it is in the left box\n",
    "            Soil_water[i] = 0.1 # unit is added with a minus sign, actuall value is -0.2\n",
    "        elif right.getDist(plant.getNodes()[int(roottip[0])-1]) <0: # if it is in the right box\n",
    "            Soil_water[i] = 0.1 # actuall value is -0.5\n",
    "        else:\n",
    "            Soil_water[i] = 0.1 # actuall value is -0.1\n",
    "    \n",
    "    ################################# coupling layer with piafmunch ###################################################\n",
    "    \n",
    "    # pass the absolute carbon maintentance to piafmunch\n",
    "    write_PiafMunch_parameter(dict_all['node_connection'], dict_all['nodes_organtype'], dict_all['nodes_r_st'], dict_all['unq_cnt'], Soil_water, k1, piafmunch_outputname,hour)\n",
    "    # call piafmunch and rename the output file of the PiafMunch\n",
    "    os.system(' /mnt/c/prog_sct.bas/programs/C++/PIAFMunch2/projects/PIAFMunch2.exe {} -noGUI -q'.format(piafmunch_outputname))\n",
    "    now = datetime.datetime.now()\n",
    "    os.system('mv ./{}_{}-{:02}-{:02}*output.txt  ./{}_output.txt'.format(name, now.year ,now.month, now.day,name ) )\n",
    "    \n",
    "    ########################## convert carbon to growth rate ###########################################\n",
    "    piaf_output = read_output(name,  dict_all[\"node_connection\"])\n",
    "    one_carbon_log = []\n",
    "    for i in N1R_node: # CPlantBox growth rate: cm day-1\n",
    "        # print(i)\n",
    "        carbon_content = piaf_output[\"Q_ST\"][-1][int(i[0])-1]* 1e5 # directly pass the Q_ST * 1e5 to carbon content\n",
    "        one_carbon_log.append(carbon_content)\n",
    "        organ[nodeIDtoOrgan[int(i[0])-1]].getParam().r =         carbon_content \n",
    "  #  print(plant.getSeed().getNumberOfChildren())\n",
    "    carbon_logger.append(one_carbon_log)\n",
    "    \n",
    " # growthrate() CPlantBox growth rate: cm day-1\n",
    "#total length two curve with total water potential"
   ]
  },
  {
   "cell_type": "code",
   "execution_count": 92,
   "metadata": {},
   "outputs": [
    {
     "name": "stdout",
     "output_type": "stream",
     "text": [
      "taproot 0\n",
      "taproot 1\n"
     ]
    }
   ],
   "source": [
    "taproot_n = []\n",
    "taproot_length = [0] * (len(plant.getOrgans())+1)\n",
    "for root_n, root in enumerate(plant.getOrgans()): # recrusive get all the roots\n",
    "    if root.organType() == 2 and root.getParent().organType()==1: #make sure it is taproot\n",
    "        taproot_length[root_n] = taproot_length[root_n] + root.getLength()\n",
    "        taproot_n.append(root_n)\n",
    "        #plant.getOrgans()[root_n].getLength()\n",
    "        print(\"taproot\", root_n)\n",
    "    elif root.organType() == 2: \n",
    "        print(\"lateral\",root.getParent().getId() ,  root_n)\n",
    "        taproot_length[root.getParent().getId()] = taproot_length[root.getParent().getId()]+root.getLength()"
   ]
  },
  {
   "cell_type": "code",
   "execution_count": 93,
   "metadata": {},
   "outputs": [
    {
     "data": {
      "text/plain": [
       "[14.01382438723477, 13.843112162108984, 0, 0, 0, 0, 0]"
      ]
     },
     "execution_count": 93,
     "metadata": {},
     "output_type": "execute_result"
    }
   ],
   "source": [
    "taproot_length"
   ]
  },
  {
   "cell_type": "code",
   "execution_count": 94,
   "metadata": {},
   "outputs": [
    {
     "data": {
      "text/plain": [
       "[[2.7129600000000003, 2.63963], [2.67463, 2.63293], [2.65334, 2.61324]]"
      ]
     },
     "execution_count": 94,
     "metadata": {},
     "output_type": "execute_result"
    }
   ],
   "source": [
    "carbon_logger"
   ]
  },
  {
   "cell_type": "code",
   "execution_count": 65,
   "metadata": {},
   "outputs": [
    {
     "name": "stdout",
     "output_type": "stream",
     "text": [
      "0\n",
      "0\n",
      "1\n",
      "0\n",
      "2\n",
      "0\n",
      "3\n",
      "0\n",
      "4\n",
      "0\n",
      "5\n",
      "0\n",
      "6\n",
      "0\n",
      "7\n",
      "0\n",
      "8\n",
      "0\n",
      "27\n",
      "0\n",
      "28\n",
      "0\n",
      "29\n",
      "0\n",
      "30\n",
      "0\n",
      "31\n",
      "0\n",
      "32\n",
      "0\n",
      "33\n",
      "0\n",
      "34\n",
      "0\n",
      "52\n",
      "0\n",
      "53\n",
      "0\n",
      "54\n",
      "0\n",
      "55\n",
      "0\n",
      "56\n",
      "0\n",
      "57\n",
      "0\n",
      "58\n",
      "0\n",
      "59\n",
      "0\n",
      "0\n",
      "1\n",
      "9\n",
      "1\n",
      "10\n",
      "1\n",
      "11\n",
      "1\n",
      "12\n",
      "1\n",
      "13\n",
      "1\n",
      "14\n",
      "1\n",
      "15\n",
      "1\n",
      "16\n",
      "1\n",
      "35\n",
      "1\n",
      "36\n",
      "1\n",
      "37\n",
      "1\n",
      "38\n",
      "1\n",
      "39\n",
      "1\n",
      "60\n",
      "1\n",
      "61\n",
      "1\n",
      "62\n",
      "1\n",
      "63\n",
      "1\n",
      "64\n",
      "1\n",
      "65\n",
      "1\n",
      "66\n",
      "1\n",
      "67\n",
      "1\n",
      "68\n",
      "1\n",
      "0\n",
      "2\n",
      "17\n",
      "2\n",
      "18\n",
      "2\n",
      "19\n",
      "2\n",
      "23\n",
      "2\n",
      "24\n",
      "2\n",
      "25\n",
      "2\n",
      "26\n",
      "2\n",
      "43\n",
      "2\n",
      "44\n",
      "2\n",
      "49\n",
      "2\n",
      "50\n",
      "2\n",
      "51\n",
      "2\n",
      "72\n",
      "2\n",
      "73\n",
      "2\n",
      "74\n",
      "2\n",
      "19\n",
      "3\n",
      "20\n",
      "3\n",
      "21\n",
      "3\n",
      "22\n",
      "3\n",
      "40\n",
      "3\n",
      "41\n",
      "3\n",
      "42\n",
      "3\n",
      "69\n",
      "3\n",
      "44\n",
      "4\n",
      "45\n",
      "4\n",
      "46\n",
      "4\n",
      "47\n",
      "4\n",
      "48\n",
      "4\n",
      "70\n",
      "4\n",
      "71\n",
      "4\n"
     ]
    }
   ],
   "source": [
    "k=0\n",
    "for k in range(0, len(organ)):  # get all the organs\n",
    "        Seg_radius[k] = organ[k].getParam().a #the diameter of root\n",
    "        j=0\n",
    "        for j in range(0,organ[k].getNumberOfNodes()): # get all segments in one organs\n",
    "            print(organ[k].getNodeId(j))\n",
    "            print(k)\n",
    "            #nodeIDtoOrgan[]=i # set an id, so we can get the organ number from a node number\n",
    "            # Carbon_main = Seg_radius[k]**2*3.1415926* organ[i].getOrganRandomParameter().dx *r_k1 # calculate the maintenance by volume \n",
    "            Carbon_main = 0\n",
    "            # print(Carbon_main)  absolute carbon maintentance\n",
    "            k1[organ[k].getNodeId(j)] = Carbon_main"
   ]
  },
  {
   "cell_type": "code",
   "execution_count": 63,
   "metadata": {},
   "outputs": [
    {
     "data": {
      "text/plain": [
       "48"
      ]
     },
     "execution_count": 63,
     "metadata": {},
     "output_type": "execute_result"
    }
   ],
   "source": [
    "organ[k].getNodeId(j)"
   ]
  },
  {
   "cell_type": "code",
   "execution_count": 59,
   "metadata": {},
   "outputs": [
    {
     "data": {
      "text/plain": [
       "[1,\n",
       " 1,\n",
       " 1,\n",
       " 1,\n",
       " 1,\n",
       " 1,\n",
       " 1,\n",
       " 1,\n",
       " 1,\n",
       " 1,\n",
       " 1,\n",
       " 1,\n",
       " 1,\n",
       " 1,\n",
       " 1,\n",
       " 1,\n",
       " 1,\n",
       " 1,\n",
       " 1,\n",
       " 1,\n",
       " 1,\n",
       " 1,\n",
       " 1,\n",
       " 1,\n",
       " 1,\n",
       " 1,\n",
       " 1,\n",
       " 1,\n",
       " 1,\n",
       " 1,\n",
       " 1,\n",
       " 1,\n",
       " 1,\n",
       " 1,\n",
       " 1,\n",
       " 1,\n",
       " 1,\n",
       " 1,\n",
       " 1,\n",
       " 1,\n",
       " 1,\n",
       " 1,\n",
       " 1,\n",
       " 1,\n",
       " 1,\n",
       " 1,\n",
       " 1,\n",
       " 1,\n",
       " 1,\n",
       " 1,\n",
       " 1,\n",
       " 1]"
      ]
     },
     "execution_count": 59,
     "metadata": {},
     "output_type": "execute_result"
    }
   ],
   "source": [
    "nodeIDtoOrgan"
   ]
  },
  {
   "cell_type": "code",
   "execution_count": 67,
   "metadata": {},
   "outputs": [
    {
     "data": {
      "text/plain": [
       "[0,\n",
       " 0,\n",
       " 0,\n",
       " 0,\n",
       " 0,\n",
       " 0,\n",
       " 0,\n",
       " 0,\n",
       " 0,\n",
       " 0,\n",
       " 0,\n",
       " 0,\n",
       " 0,\n",
       " 0,\n",
       " 0,\n",
       " 0,\n",
       " 0,\n",
       " 0,\n",
       " 0,\n",
       " 0,\n",
       " 0,\n",
       " 0,\n",
       " 0,\n",
       " 0,\n",
       " 0,\n",
       " 0,\n",
       " 0,\n",
       " 0,\n",
       " 0,\n",
       " 0,\n",
       " 0,\n",
       " 0,\n",
       " 0,\n",
       " 0,\n",
       " 0,\n",
       " 0,\n",
       " 0,\n",
       " 0,\n",
       " 0,\n",
       " 0,\n",
       " 0,\n",
       " 0,\n",
       " 0,\n",
       " 0,\n",
       " 0,\n",
       " 0,\n",
       " 0,\n",
       " 0,\n",
       " 0,\n",
       " 0,\n",
       " 0,\n",
       " 0,\n",
       " 0,\n",
       " 0,\n",
       " 0,\n",
       " 0,\n",
       " 0,\n",
       " 0,\n",
       " 0,\n",
       " 0,\n",
       " 0,\n",
       " 0,\n",
       " 0,\n",
       " 0,\n",
       " 0,\n",
       " 0,\n",
       " 0,\n",
       " 0,\n",
       " 0,\n",
       " 0,\n",
       " 0,\n",
       " 0,\n",
       " 0,\n",
       " 0,\n",
       " 0]"
      ]
     },
     "execution_count": 67,
     "metadata": {},
     "output_type": "execute_result"
    }
   ],
   "source": [
    "k1"
   ]
  },
  {
   "cell_type": "code",
   "execution_count": 31,
   "metadata": {},
   "outputs": [
    {
     "data": {
      "text/plain": [
       "array([[ 1.,  2.,  3.,  3.],\n",
       "       [ 2.,  2.,  2.,  2.],\n",
       "       [ 3.,  2.,  2.,  2.],\n",
       "       [ 4.,  2.,  2.,  2.],\n",
       "       [ 5.,  2.,  2.,  2.],\n",
       "       [ 6.,  2.,  2.,  2.],\n",
       "       [ 7.,  2.,  2.,  2.],\n",
       "       [ 8.,  2.,  2.,  2.],\n",
       "       [ 9.,  2.,  1.,  1.],\n",
       "       [10.,  2.,  2.,  2.],\n",
       "       [11.,  2.,  2.,  2.],\n",
       "       [12.,  2.,  2.,  2.],\n",
       "       [13.,  2.,  2.,  2.],\n",
       "       [14.,  2.,  2.,  2.],\n",
       "       [15.,  2.,  2.,  2.],\n",
       "       [16.,  2.,  2.,  2.],\n",
       "       [17.,  2.,  1.,  1.],\n",
       "       [18.,  3.,  2.,  2.],\n",
       "       [19.,  3.,  2.,  2.],\n",
       "       [20.,  3.,  3.,  3.],\n",
       "       [21.,  4.,  2.,  2.],\n",
       "       [22.,  4.,  2.,  2.],\n",
       "       [23.,  4.,  1.,  1.],\n",
       "       [24.,  3.,  2.,  2.],\n",
       "       [25.,  3.,  2.,  2.],\n",
       "       [26.,  3.,  2.,  2.],\n",
       "       [27.,  3.,  1.,  1.]])"
      ]
     },
     "execution_count": 31,
     "metadata": {},
     "output_type": "execute_result"
    }
   ],
   "source": [
    "nodes_organtype"
   ]
  },
  {
   "cell_type": "code",
   "execution_count": 18,
   "metadata": {},
   "outputs": [],
   "source": [
    "node_connection = dict_all[\"node_connection\"]"
   ]
  },
  {
   "cell_type": "code",
   "execution_count": 22,
   "metadata": {},
   "outputs": [
    {
     "data": {
      "text/plain": [
       "27"
      ]
     },
     "execution_count": 22,
     "metadata": {},
     "output_type": "execute_result"
    }
   ],
   "source": [
    "len(piaf_output[\"Q_ST\"][-1])"
   ]
  },
  {
   "cell_type": "code",
   "execution_count": 24,
   "metadata": {},
   "outputs": [
    {
     "name": "stdout",
     "output_type": "stream",
     "text": [
      "0\n",
      "1\n",
      "2\n",
      "3\n",
      "4\n",
      "5\n",
      "6\n",
      "7\n",
      "8\n",
      "0\n",
      "9\n",
      "10\n",
      "11\n",
      "12\n",
      "13\n",
      "14\n",
      "15\n",
      "16\n",
      "0\n",
      "17\n",
      "18\n",
      "19\n",
      "23\n",
      "24\n",
      "25\n",
      "26\n",
      "19\n",
      "20\n",
      "21\n",
      "22\n"
     ]
    }
   ],
   "source": [
    "for k in range(0, len(organ)):  # get all the organs\n",
    "    Seg_radius[k] = organ[k].getParam().a #the diameter of root\n",
    "    j=0\n",
    "    for j in range(0,organ[k].getNumberOfNodes()): # get all segments in one organs\n",
    "        #nodeIDtoOrgan[organ[k].getNodeId(j)]=i # set an id, so we can get the organ number from a node number\n",
    "        print(organ[k].getNodeId(j))\n",
    "        "
   ]
  },
  {
   "cell_type": "code",
   "execution_count": null,
   "metadata": {},
   "outputs": [],
   "source": [
    "for i, node in enumerate(plant.getNodes())\n",
    "    Carbon_main = Seg_radius[k]**2*3.1415926* organ[i].getOrganRandomParameter().dx *r_k1 # calculate the maintenance by volume \n",
    "    # print(Carbon_main)  absolute carbon maintentance\n",
    "    k1[organ[k].getNodeId(j)-1] = Carbon_main"
   ]
  },
  {
   "cell_type": "code",
   "execution_count": 23,
   "metadata": {},
   "outputs": [
    {
     "data": {
      "text/plain": [
       "[<plantbox.Vector3d at 0x7fc5cf7dfb90>,\n",
       " <plantbox.Vector3d at 0x7fc5cf7df618>,\n",
       " <plantbox.Vector3d at 0x7fc5cf7df650>,\n",
       " <plantbox.Vector3d at 0x7fc5cf7dfc38>,\n",
       " <plantbox.Vector3d at 0x7fc5cf7dff80>,\n",
       " <plantbox.Vector3d at 0x7fc5cf7dfb58>,\n",
       " <plantbox.Vector3d at 0x7fc5cf7df4c8>,\n",
       " <plantbox.Vector3d at 0x7fc5cf7df9d0>,\n",
       " <plantbox.Vector3d at 0x7fc5cf7df6f8>,\n",
       " <plantbox.Vector3d at 0x7fc5cf7df8b8>,\n",
       " <plantbox.Vector3d at 0x7fc5cf7dfa40>,\n",
       " <plantbox.Vector3d at 0x7fc5cf7dfe30>,\n",
       " <plantbox.Vector3d at 0x7fc5cf7dfdf8>,\n",
       " <plantbox.Vector3d at 0x7fc5cf7dfdc0>,\n",
       " <plantbox.Vector3d at 0x7fc5cf7dfc00>,\n",
       " <plantbox.Vector3d at 0x7fc5d3c28f80>,\n",
       " <plantbox.Vector3d at 0x7fc5d3c288b8>,\n",
       " <plantbox.Vector3d at 0x7fc5d3c28768>,\n",
       " <plantbox.Vector3d at 0x7fc5d3c28fb8>,\n",
       " <plantbox.Vector3d at 0x7fc5d3c28650>,\n",
       " <plantbox.Vector3d at 0x7fc5d3c28340>,\n",
       " <plantbox.Vector3d at 0x7fc5d3c28f10>,\n",
       " <plantbox.Vector3d at 0x7fc5d3c28d18>,\n",
       " <plantbox.Vector3d at 0x7fc5d3c28df8>,\n",
       " <plantbox.Vector3d at 0x7fc5d3c28ce0>,\n",
       " <plantbox.Vector3d at 0x7fc5d3c286f8>,\n",
       " <plantbox.Vector3d at 0x7fc5d3c28490>]"
      ]
     },
     "execution_count": 23,
     "metadata": {},
     "output_type": "execute_result"
    }
   ],
   "source": [
    "plant.getNodes()"
   ]
  },
  {
   "cell_type": "code",
   "execution_count": 216,
   "metadata": {},
   "outputs": [
    {
     "name": "stdout",
     "output_type": "stream",
     "text": [
      "taproot 0\n",
      "taproot 1\n"
     ]
    }
   ],
   "source": [
    "taproot_n = []\n",
    "taproot_length = [0] * (len(plant.getOrgans())+1)\n",
    "for root_n, root in enumerate(plant.getOrgans()): # recrusive get all the roots\n",
    "    if root.organType() == 2 and root.getParent().organType()==1: #make sure it is taproot\n",
    "        taproot_length[root_n] = taproot_length[root_n] + root.getLength()\n",
    "        taproot_n.append(root_n)\n",
    "        #plant.getOrgans()[root_n].getLength()\n",
    "        print(\"taproot\", root_n)\n",
    "    elif root.organType() == 2: \n",
    "        print(\"lateral\",root.getParent().organType() ,  root_n)\n",
    "        taproot_length[root.getParent().organType()] = taproot_length[root.getParent().getId()]+root.getLength()"
   ]
  },
  {
   "cell_type": "code",
   "execution_count": 217,
   "metadata": {},
   "outputs": [
    {
     "data": {
      "text/plain": [
       "[20.73454234546257, 21.148040205425637, 0, 0, 0, 0, 0]"
      ]
     },
     "execution_count": 217,
     "metadata": {},
     "output_type": "execute_result"
    }
   ],
   "source": [
    "taproot_length"
   ]
  },
  {
   "cell_type": "code",
   "execution_count": 147,
   "metadata": {},
   "outputs": [
    {
     "data": {
      "text/plain": [
       "1"
      ]
     },
     "execution_count": 147,
     "metadata": {},
     "output_type": "execute_result"
    }
   ],
   "source": [
    "plant.getOrgans()[9].getParent().getId()"
   ]
  },
  {
   "cell_type": "code",
   "execution_count": 209,
   "metadata": {},
   "outputs": [],
   "source": [
    "\n",
    "plant.setGeometry(splitBox)\n",
    "day = 10 # the step of every loop (day)\n",
    "hour = 24 # the hour of every loop (hour) used in PiafMunch\n",
    "plant.simulate(day) # start simulation\n",
    "organ = plant.getOrgans()\n",
    "plant.write(\"{}{}{}.vtp\".format(\"only_Q_ST_test\",str(name),i*day)) #writes vtp the name is followed by the number of days simulated"
   ]
  },
  {
   "cell_type": "code",
   "execution_count": null,
   "metadata": {},
   "outputs": [],
   "source": [
    "for i, roottip in enumerate(N1R_node):\n",
    "    if left.getDist(plant.getNodes()[roottip[0]]) <0: # if it is in the left box\n",
    "        Soil_water[i] = -0.2\n",
    "    elif right.getDist(plant.getNodes()[roottip[0]]) <0: # if it is in the right box\n",
    "        Soil_water[i] = -0.5\n",
    "    else:\n",
    "        Soil_water[i] = -0.1"
   ]
  },
  {
   "cell_type": "code",
   "execution_count": 57,
   "metadata": {},
   "outputs": [
    {
     "name": "stdout",
     "output_type": "stream",
     "text": [
      "Help on Root in module plantbox object:\n",
      "\n",
      "class Root(Organ)\n",
      " |  Method resolution order:\n",
      " |      Root\n",
      " |      Organ\n",
      " |      pybind11_builtins.pybind11_object\n",
      " |      builtins.object\n",
      " |  \n",
      " |  Methods defined here:\n",
      " |  \n",
      " |  __init__(...)\n",
      " |      __init__(*args, **kwargs)\n",
      " |      Overloaded function.\n",
      " |      \n",
      " |      1. __init__(self: plantbox.Root, arg0: plantbox.Organism, arg1: int, arg2: plantbox.Vector3d, arg3: float, arg4: plantbox.Organ, arg5: float, arg6: int) -> None\n",
      " |      \n",
      " |      2. __init__(self: plantbox.Root, arg0: int, arg1: plantbox.OrganSpecificParameter, arg2: bool, arg3: bool, arg4: float, arg5: float, arg6: plantbox.Vector3d, arg7: float, arg8: int, arg9: bool, arg10: int) -> None\n",
      " |  \n",
      " |  calcAge(...)\n",
      " |      calcAge(self: plantbox.Root, arg0: float) -> float\n",
      " |  \n",
      " |  calcCreationTime(...)\n",
      " |      calcCreationTime(self: plantbox.Root, arg0: float) -> float\n",
      " |  \n",
      " |  calcLength(...)\n",
      " |      calcLength(self: plantbox.Root, arg0: float) -> float\n",
      " |  \n",
      " |  dx(...)\n",
      " |      dx(self: plantbox.Root) -> float\n",
      " |  \n",
      " |  getRootRandomParameter(...)\n",
      " |      getRootRandomParameter(self: plantbox.Root) -> plantbox.RootRandomParameter\n",
      " |  \n",
      " |  param(...)\n",
      " |      param(self: plantbox.Root) -> plantbox.RootSpecificParameter\n",
      " |  \n",
      " |  ----------------------------------------------------------------------\n",
      " |  Methods inherited from Organ:\n",
      " |  \n",
      " |  __str__(...)\n",
      " |      __str__(self: plantbox.Organ) -> str\n",
      " |  \n",
      " |  addChild(...)\n",
      " |      addChild(self: plantbox.Organ, arg0: plantbox.Organ) -> None\n",
      " |  \n",
      " |  addNode(...)\n",
      " |      addNode(*args, **kwargs)\n",
      " |      Overloaded function.\n",
      " |      \n",
      " |      1. addNode(self: plantbox.Organ, arg0: plantbox.Vector3d, arg1: float) -> None\n",
      " |      \n",
      " |      2. addNode(self: plantbox.Organ, arg0: plantbox.Vector3d, arg1: int, arg2: float) -> None\n",
      " |  \n",
      " |  copy(...)\n",
      " |      copy(self: plantbox.Organ, arg0: CPlantBox::Organism) -> plantbox.Organ\n",
      " |  \n",
      " |  getAge(...)\n",
      " |      getAge(self: plantbox.Organ) -> float\n",
      " |  \n",
      " |  getChild(...)\n",
      " |      getChild(self: plantbox.Organ, arg0: int) -> plantbox.Organ\n",
      " |  \n",
      " |  getId(...)\n",
      " |      getId(self: plantbox.Organ) -> int\n",
      " |  \n",
      " |  getLength(...)\n",
      " |      getLength(self: plantbox.Organ) -> float\n",
      " |  \n",
      " |  getNode(...)\n",
      " |      getNode(self: plantbox.Organ, arg0: int) -> plantbox.Vector3d\n",
      " |  \n",
      " |  getNodeCT(...)\n",
      " |      getNodeCT(self: plantbox.Organ, arg0: int) -> float\n",
      " |  \n",
      " |  getNodeId(...)\n",
      " |      getNodeId(self: plantbox.Organ, arg0: int) -> int\n",
      " |  \n",
      " |  getNumberOfChildren(...)\n",
      " |      getNumberOfChildren(self: plantbox.Organ) -> int\n",
      " |  \n",
      " |  getNumberOfNodes(...)\n",
      " |      getNumberOfNodes(self: plantbox.Organ) -> int\n",
      " |  \n",
      " |  getOldNumberOfNodes(...)\n",
      " |      getOldNumberOfNodes(self: plantbox.Organ) -> int\n",
      " |  \n",
      " |  getOrganRandomParameter(...)\n",
      " |      getOrganRandomParameter(self: plantbox.Organ) -> plantbox.OrganRandomParameter\n",
      " |  \n",
      " |  getOrganism(...)\n",
      " |      getOrganism(self: plantbox.Organ) -> CPlantBox::Organism\n",
      " |  \n",
      " |  getOrgans(...)\n",
      " |      getOrgans(*args, **kwargs)\n",
      " |      Overloaded function.\n",
      " |      \n",
      " |      1. getOrgans(self: plantbox.Organ, ot: int = -1) -> List[plantbox.Organ]\n",
      " |      \n",
      " |      2. getOrgans(self: plantbox.Organ, arg0: int, arg1: List[plantbox.Organ]) -> None\n",
      " |  \n",
      " |  getParam(...)\n",
      " |      getParam(self: plantbox.Organ) -> plantbox.OrganSpecificParameter\n",
      " |  \n",
      " |  getParameter(...)\n",
      " |      getParameter(self: plantbox.Organ, arg0: str) -> float\n",
      " |  \n",
      " |  getParent(...)\n",
      " |      getParent(self: plantbox.Organ) -> plantbox.Organ\n",
      " |  \n",
      " |  getSegments(...)\n",
      " |      getSegments(self: plantbox.Organ) -> List[plantbox.Vector2i]\n",
      " |  \n",
      " |  hasMoved(...)\n",
      " |      hasMoved(self: plantbox.Organ) -> bool\n",
      " |  \n",
      " |  isActive(...)\n",
      " |      isActive(self: plantbox.Organ) -> bool\n",
      " |  \n",
      " |  isAlive(...)\n",
      " |      isAlive(self: plantbox.Organ) -> bool\n",
      " |  \n",
      " |  organType(...)\n",
      " |      organType(self: plantbox.Organ) -> int\n",
      " |  \n",
      " |  setOrganism(...)\n",
      " |      setOrganism(self: plantbox.Organ, arg0: CPlantBox::Organism) -> None\n",
      " |  \n",
      " |  setParent(...)\n",
      " |      setParent(self: plantbox.Organ, arg0: plantbox.Organ) -> None\n",
      " |  \n",
      " |  simulate(...)\n",
      " |      simulate(self: plantbox.Organ, dt: float, verbose: bool = False) -> None\n",
      " |  \n",
      " |  ----------------------------------------------------------------------\n",
      " |  Data descriptors inherited from Organ:\n",
      " |  \n",
      " |  iHeading\n",
      " |  \n",
      " |  parentBaseLength\n",
      " |  \n",
      " |  parentNI\n",
      " |  \n",
      " |  ----------------------------------------------------------------------\n",
      " |  Methods inherited from pybind11_builtins.pybind11_object:\n",
      " |  \n",
      " |  __new__(*args, **kwargs) from pybind11_builtins.pybind11_type\n",
      " |      Create and return a new object.  See help(type) for accurate signature.\n",
      "\n"
     ]
    }
   ],
   "source": [
    "# Calculate root total length depends on the basal root number\n",
    "\n",
    "help(plant.getOrgans()[0])"
   ]
  },
  {
   "cell_type": "code",
   "execution_count": 41,
   "metadata": {},
   "outputs": [
    {
     "data": {
      "text/plain": [
       "5"
      ]
     },
     "execution_count": 41,
     "metadata": {},
     "output_type": "execute_result"
    }
   ],
   "source": [
    "plant.getSeed().getNumberOfChildren()"
   ]
  },
  {
   "cell_type": "code",
   "execution_count": 86,
   "metadata": {},
   "outputs": [
    {
     "data": {
      "text/plain": [
       "True"
      ]
     },
     "execution_count": 86,
     "metadata": {},
     "output_type": "execute_result"
    }
   ],
   "source": [
    "#plant.getOrgans()[0].getLength()\n",
    "\n",
    "plant.getOrgans()[1].getOrganRandomParameter().successor == []"
   ]
  },
  {
   "cell_type": "code",
   "execution_count": 137,
   "metadata": {},
   "outputs": [
    {
     "name": "stdout",
     "output_type": "stream",
     "text": [
      "1\n",
      "3\n",
      "4\n",
      "5\n",
      "6\n"
     ]
    }
   ],
   "source": [
    "taproot_n = []\n",
    "taproot_length = [0] * (plant.getSeed().getNumberOfChildren()+1)\n",
    "for root_n, root in enumerate(plant.getOrgans()): # recrusive get all the roots\n",
    "    if root.organType() == 2 and root.getParent().organType()==1: #make sure it is taproot\n",
    "        taproot_length[root_n] = taproot_length[root_n] + root.getLength()\n",
    "        taproot_n.append(root_n)\n",
    "        #plant.getOrgans()[root_n].getLength()\n",
    "    else: \n",
    "        print(root_n)\n",
    "        taproot_length[root.getParent().getId()] = taproot_length[root.getParent().getId()]+root.getLength()\n",
    "        "
   ]
  },
  {
   "cell_type": "code",
   "execution_count": 135,
   "metadata": {},
   "outputs": [
    {
     "data": {
      "text/plain": [
       "[6.6355885840261415, 0.6900076905179044, 3.916625440725813, 2.1597425783700817]"
      ]
     },
     "execution_count": 135,
     "metadata": {},
     "output_type": "execute_result"
    }
   ],
   "source": [
    "taproot_length"
   ]
  },
  {
   "cell_type": "code",
   "execution_count": 138,
   "metadata": {},
   "outputs": [
    {
     "data": {
      "text/plain": [
       "[0, 2]"
      ]
     },
     "execution_count": 138,
     "metadata": {},
     "output_type": "execute_result"
    }
   ],
   "source": [
    "taproot_n "
   ]
  },
  {
   "cell_type": "code",
   "execution_count": 128,
   "metadata": {},
   "outputs": [
    {
     "data": {
      "text/plain": [
       "3"
      ]
     },
     "execution_count": 128,
     "metadata": {},
     "output_type": "execute_result"
    }
   ],
   "source": [
    "plant.getOrgans()[5].getParent().getId()"
   ]
  },
  {
   "cell_type": "code",
   "execution_count": 116,
   "metadata": {},
   "outputs": [
    {
     "data": {
      "text/plain": [
       "1"
      ]
     },
     "execution_count": 116,
     "metadata": {},
     "output_type": "execute_result"
    }
   ],
   "source": [
    "plant.getOrgans()[0].getId()"
   ]
  },
  {
   "cell_type": "code",
   "execution_count": null,
   "metadata": {},
   "outputs": [],
   "source": [
    "len(plant.getNodes())"
   ]
  },
  {
   "cell_type": "code",
   "execution_count": 80,
   "metadata": {},
   "outputs": [
    {
     "data": {
      "text/plain": [
       "4"
      ]
     },
     "execution_count": 80,
     "metadata": {},
     "output_type": "execute_result"
    }
   ],
   "source": [
    "plant.getOrgans()[1].parentNI"
   ]
  },
  {
   "cell_type": "code",
   "execution_count": null,
   "metadata": {},
   "outputs": [],
   "source": [
    "plant.getNodes()[3].z"
   ]
  },
  {
   "cell_type": "code",
   "execution_count": null,
   "metadata": {},
   "outputs": [],
   "source": [
    "dict_all['nodes_co']"
   ]
  },
  {
   "cell_type": "code",
   "execution_count": null,
   "metadata": {},
   "outputs": [],
   "source": [
    "for i in dict_all[\"nodes_organtype\"]\n",
    "    print(i + )"
   ]
  },
  {
   "cell_type": "code",
   "execution_count": null,
   "metadata": {},
   "outputs": [],
   "source": [
    "N1R_node = nodes_organtype[(nodes_organtype[:,0] >2 ) & (nodes_organtype[:,1] ==2 ) & (nodes_organtype[:,2] ==1 )]\n",
    "N1L_node = nodes_organtype[(nodes_organtype[:,0] >2 ) & ((nodes_organtype[:,1] ==4)|(nodes_organtype[:,1] ==3)  ) & (nodes_organtype[:,2] ==1 )]"
   ]
  },
  {
   "cell_type": "code",
   "execution_count": null,
   "metadata": {},
   "outputs": [],
   "source": [
    "python_nodes(plant)"
   ]
  },
  {
   "cell_type": "code",
   "execution_count": null,
   "metadata": {},
   "outputs": [],
   "source": [
    "day = 1\n",
    "hour= day*24\n",
    "plant.simulate(day)\n",
    "organ = plant.getOrgans()\n",
    "plant.write(\"{}{}{}.vtp\".format(\"only_Q_ST_test\",str(name),hour))\n",
    "# plant.write(\"{}{}{}.py\".format(hour,str(name),\"1st_test\"))\n",
    "dict_all  = convert( plant )\n",
    "piafmunch_outputname = name +\".ini\"\n",
    "Soil_water = [0]*(len(dict_all['node_connection'])+1)\n",
    "write_PiafMunch_parameter(dict_all['node_connection'], dict_all['nodes_organtype'], dict_all['nodes_r_st'], dict_all['unq_cnt'], Soil_water,piafmunch_outputname,hour)\n",
    "\n",
    "os.system(' /mnt/c/prog_sct.bas/programs/C++/PIAFMunch2/projects/PIAFMunch2.exe {} -noGUI -q'.format(piafmunch_outputname))\n",
    "now = datetime.datetime.now()\n",
    "os.system('mv ./{}_{}-{:02}-{:02}*output.txt  ./{}_output.txt'.format(name, now.year ,now.month, now.day,name ) )\n",
    "\n",
    "nodeIDtoOrgan = [0]*plant.getNumberOfNodes()\n",
    "i =0\n",
    "for i in range(0, len(organ)):\n",
    "    j=0\n",
    "    for j in range(0,organ[i].getNumberOfNodes()):\n",
    "        nodeIDtoOrgan[organ[i].getNodeId(j)]=i+1\n",
    "\n",
    "nodes_organtype = dict_all['nodes_organtype']\n",
    "N1R_node = nodes_organtype[(nodes_organtype[:,0] >2 ) & (nodes_organtype[:,1] ==2 ) & (nodes_organtype[:,2] ==1 )]\n",
    "N1L_node = nodes_organtype[(nodes_organtype[:,0] >2 ) & ((nodes_organtype[:,1] ==4)|(nodes_organtype[:,1] ==3)  ) & (nodes_organtype[:,2] ==1 )]\n",
    "piaf_output = read_output(name,  dict_all[\"node_connection\"])\n",
    "for i in range(len(N1R_node)):\n",
    "    organ[nodeIDtoOrgan[int(N1R_node[i][0])-1]].getParam().r = piaf_output[\"Q_ST\"][-1][int(N1R_node[i][0])-1] # directly pass the Q_ST to growth rate"
   ]
  },
  {
   "cell_type": "code",
   "execution_count": null,
   "metadata": {},
   "outputs": [],
   "source": [
    "N1R_node"
   ]
  },
  {
   "cell_type": "code",
   "execution_count": null,
   "metadata": {},
   "outputs": [],
   "source": [
    "piaf_output[\"Q_ST\"][-1][int(N1R_node[i][0])]"
   ]
  },
  {
   "cell_type": "code",
   "execution_count": 87,
   "metadata": {},
   "outputs": [
    {
     "data": {
      "text/plain": [
       "256"
      ]
     },
     "execution_count": 87,
     "metadata": {},
     "output_type": "execute_result"
    }
   ],
   "source": [
    "os.system(' /mnt/c/prog_sct.bas/programs/C++/PIAFMunch2/projects/PIAFMunch2.exe {} -noGUI -q'.format(piafmunch_outputname))"
   ]
  },
  {
   "cell_type": "code",
   "execution_count": null,
   "metadata": {},
   "outputs": [],
   "source": [
    "Soil_water = [0]*(len(node_connection)+1)\n",
    "write_PiafMunch_parameter(node_connection, nodes_organtype, nodes_r_st, unq_cnt, Soil_water, piafmunch_outputname, hour)\n",
    "\n"
   ]
  },
  {
   "cell_type": "code",
   "execution_count": null,
   "metadata": {},
   "outputs": [],
   "source": [
    "os.system(' /mnt/c/prog_sct.bas/programs/C++/PIAFMunch2/projects/PIAFMunch2.exe {} -noGUI -q'.format(piafmunch_outputname))\n",
    "now = datetime.datetime.now()\n",
    "os.system('mv ./{}_{}-{:02}-{:02}*output.txt  ./{}_output.txt'.format(name, now.year ,now.month, now.day,name ) )\n",
    "\n",
    "nodeIDtoOrgan = [0]*plant.getNumberOfNodes()\n",
    "i =0\n",
    "for i in range(0, len(organ)):\n",
    "    j=0\n",
    "    for j in range(0,organ[i].getNumberOfNodes()):\n",
    "        nodeIDtoOrgan[organ[i].getNodeId(j)]=i+1\n",
    "\n",
    "nodes_organtype = dict_all['nodes_organtype']\n",
    "N1R_node = nodes_organtype[(nodes_organtype[:,0] >2 ) & (nodes_organtype[:,1] ==2 ) & (nodes_organtype[:,2] ==1 )]\n",
    "N1L_node = nodes_organtype[(nodes_organtype[:,0] >2 ) & ((nodes_organtype[:,1] ==4)|(nodes_organtype[:,1] ==3)  ) & (nodes_organtype[:,2] ==1 )]\n",
    "piaf_output = read_output(name,  dict_all[\"node_connection\"])\n",
    "print(piaf_output[\"Q_ST\"])\n"
   ]
  },
  {
   "cell_type": "code",
   "execution_count": null,
   "metadata": {},
   "outputs": [],
   "source": [
    "\n",
    "piaf_output[\"Q_ST\"][-1][16]"
   ]
  },
  {
   "cell_type": "code",
   "execution_count": 24,
   "metadata": {},
   "outputs": [],
   "source": [
    "nodes_organtype=dict_all[\"nodes_organtype\"]\n",
    "node_connection = dict_all[\"node_connection\"]"
   ]
  },
  {
   "cell_type": "code",
   "execution_count": 25,
   "metadata": {},
   "outputs": [],
   "source": [
    "################## Nodes With 3 Connections #########################\n",
    "N3_node = nodes_organtype[ (nodes_organtype[:,2] ==3 )]\n",
    "#print(N3_node)\n",
    "\n",
    "N3_c_nd_1 = list(range(0, len(N3_node)+1))\n",
    "N3_conn_1 = list(range(0, len(N3_node)+1))\n",
    "for i,node in enumerate(N3_node):\n",
    "    if N3_node[i,0] == N3_node[i-1,0]+1 : # some n3 nodes are inter connected # not valid if the connection growth is not even.\n",
    "        N3_c_nd_1[i] = node_connection[(node_connection[:,1] == N3_node[i,0])][0][0]\n",
    "        N3_conn_1[i] = 0-np.where( node_connection[:,0] ==  node_connection[(node_connection[:,0] == N3_node[i-1,0])][1][1])[0][0]\n",
    "    elif  N3_node[i,1] == 2 or N3_node[i,1] == 1:\n",
    "        N3_c_nd_1[i] = node_connection[(node_connection[:,1] == N3_node[i,0])][0][0]\n",
    "        N3_conn_1[i] = 0-np.where( node_connection[:,0] == N3_c_nd_1[i])[0][0]-1 \n",
    "    else:\n",
    "        N3_c_nd_1[i] = node_connection[(node_connection[:,0] == N3_node[i,0])][0][1]\n",
    "        N3_conn_1[i] = np.where( node_connection[:,1] == N3_c_nd_1[i])[0][0]+1\n",
    "\n",
    "N3_c_nd_2 = list(range(0, len(N3_node)+1))\n",
    "N3_conn_2 = list(range(0, len(N3_node)+1))\n",
    "for i in range(len(N3_node)):\n",
    "    if N3_node[i,1] == 2 or N3_node[i,1] == 1 and N3_node[i,0] != N3_node[i-1,0]+1:\n",
    "        N3_c_nd_2[i] = node_connection[(node_connection[:,0] == N3_node[i,0])][0][1]\n",
    "        N3_conn_2[i] = np.where( node_connection[:,1] == N3_c_nd_2[i])[0][0]+1\n",
    "    else:\n",
    "        N3_c_nd_2[i] = node_connection[(node_connection[:,1] == N3_node[i,0])][0][0]\n",
    "        N3_conn_2[i] = 0-np.where( node_connection[:,0] == N3_c_nd_2[i])[0][0]-1\n",
    "\n",
    "N3_c_nd_3 = list(range(0, len(N3_node)+1))\n",
    "N3_conn_3 = list(range(0, len(N3_node)+1))\n",
    "for i in range(len(N3_node)):\n",
    "    if N3_node[i,1] == 2 or N3_node[i,1] == 1 and N3_node[i,0] != N3_node[i-1,0]+1:\n",
    "        N3_c_nd_3[i] = node_connection[(node_connection[:,0] == N3_node[i,0])][1][1]\n",
    "        N3_conn_3[i] = np.where( node_connection[:,1] == N3_c_nd_3[i])[0][0]+1\n",
    "    else:\n",
    "        N3_c_nd_3[i] = node_connection[(node_connection[:,1] == N3_node[i,0])][1][0]\n",
    "        N3_conn_3[i] = 0-np.where( node_connection[:,0] == N3_c_nd_3[i])[0][0]-1"
   ]
  },
  {
   "cell_type": "code",
   "execution_count": 26,
   "metadata": {},
   "outputs": [
    {
     "data": {
      "text/plain": [
       "array([[ 1.,  2.,  3.,  3.],\n",
       "       [20.,  3.,  3.,  3.]])"
      ]
     },
     "execution_count": 26,
     "metadata": {},
     "output_type": "execute_result"
    }
   ],
   "source": [
    "N3_node"
   ]
  },
  {
   "cell_type": "code",
   "execution_count": 36,
   "metadata": {},
   "outputs": [],
   "source": [
    "loc_n3 = np.where(node_connection==20)"
   ]
  },
  {
   "cell_type": "code",
   "execution_count": 38,
   "metadata": {},
   "outputs": [
    {
     "data": {
      "text/plain": [
       "19"
      ]
     },
     "execution_count": 38,
     "metadata": {},
     "output_type": "execute_result"
    }
   ],
   "source": [
    " N3_node:\n",
    "    node_i =1\n",
    "    node_number_row = loc_n3[0][node_i]\n",
    "    node_number_column = loc_n3[1][node_i]\n"
   ]
  },
  {
   "cell_type": "code",
   "execution_count": 65,
   "metadata": {},
   "outputs": [],
   "source": [
    "position_switch=[1,0]\n",
    "positive_switch=[1,-1]"
   ]
  },
  {
   "cell_type": "code",
   "execution_count": 86,
   "metadata": {},
   "outputs": [
    {
     "data": {
      "text/plain": [
       "[[1, 2, 1, 10, 9, 18, -17], [20, 19, 19, 24, -20, 21, -24]]"
      ]
     },
     "execution_count": 86,
     "metadata": {},
     "output_type": "execute_result"
    }
   ],
   "source": [
    "position_switch=[1,0]\n",
    "positive_switch=[1,-1]\n",
    "\n",
    "n_c = 3\n",
    "all_3n_output = []\n",
    "for i, node_i in enumerate(N3_node):\n",
    "    row_3n_output= [0]*(n_c*2+1)\n",
    "    row_3n_output[0] = int(node_i[0])\n",
    "    loc_n3 = np.where(node_connection==node_i[0])\n",
    "    loc_n3_col, loc_n3_row = np.where(node_connection==N3_node[i][0])\n",
    "    for j in range(0, n_c):\n",
    "        row_3n_output[j*2+1] = node_connection[loc_n3_col[j]][position_switch[loc_n3_row[j]]]\n",
    "        row_3n_output[j*2+2] = (loc_n3_col[j]+1) * positive_switch[loc_n3_row[j]]\n",
    "    all_3n_output.append(row_3n_output)        \n",
    "\n",
    "all_3n_output"
   ]
  },
  {
   "cell_type": "code",
   "execution_count": 45,
   "metadata": {},
   "outputs": [
    {
     "ename": "TypeError",
     "evalue": "can't multiply sequence by non-int of type 'list'",
     "output_type": "error",
     "traceback": [
      "\u001b[0;31m---------------------------------------------------------------------------\u001b[0m",
      "\u001b[0;31mTypeError\u001b[0m                                 Traceback (most recent call last)",
      "\u001b[0;32m<ipython-input-45-ed8c4768f29c>\u001b[0m in \u001b[0;36m<module>\u001b[0;34m\u001b[0m\n\u001b[0;32m----> 1\u001b[0;31m \u001b[0mtotal_3n_output\u001b[0m \u001b[0;34m=\u001b[0m  \u001b[0mrow_3n_output\u001b[0m \u001b[0;34m*\u001b[0m \u001b[0;34m[\u001b[0m\u001b[0;36m0\u001b[0m\u001b[0;34m,\u001b[0m\u001b[0mlen\u001b[0m\u001b[0;34m(\u001b[0m\u001b[0mN3_node\u001b[0m\u001b[0;34m)\u001b[0m\u001b[0;34m]\u001b[0m\u001b[0;34m\u001b[0m\u001b[0;34m\u001b[0m\u001b[0m\n\u001b[0m",
      "\u001b[0;31mTypeError\u001b[0m: can't multiply sequence by non-int of type 'list'"
     ]
    }
   ],
   "source": [
    "total_3n_output =  row_3n_output * [0,len(N3_node)]"
   ]
  },
  {
   "cell_type": "code",
   "execution_count": 61,
   "metadata": {},
   "outputs": [],
   "source": [
    "#node_i[0]\n"
   ]
  },
  {
   "cell_type": "code",
   "execution_count": 75,
   "metadata": {},
   "outputs": [],
   "source": [
    "j = 2\n",
    " \n",
    "c_nd_j = node_connection[loc_n3_col[j]][position_switch[loc_n3_row[j]]]"
   ]
  },
  {
   "cell_type": "code",
   "execution_count": 71,
   "metadata": {},
   "outputs": [
    {
     "data": {
      "text/plain": [
       "-17"
      ]
     },
     "execution_count": 71,
     "metadata": {},
     "output_type": "execute_result"
    }
   ],
   "source": [
    "j = 2\n",
    "conn_j = (loc_n3_col[j]+1) * positive_switch[loc_n3_row[j]]"
   ]
  },
  {
   "cell_type": "code",
   "execution_count": 80,
   "metadata": {},
   "outputs": [
    {
     "data": {
      "text/plain": [
       "array([[ 1.,  2.,  3.,  3.],\n",
       "       [20.,  3.,  3.,  3.]])"
      ]
     },
     "execution_count": 80,
     "metadata": {},
     "output_type": "execute_result"
    }
   ],
   "source": [
    "N3_node"
   ]
  },
  {
   "cell_type": "code",
   "execution_count": null,
   "metadata": {},
   "outputs": [],
   "source": [
    "N4_node = nodes_organtype[ (nodes_organtype[:,2] ==4 )]\n",
    "#print(N4_node)\n",
    "\n",
    "N4_c_nd_1 = list(range(0, len(N4_node)+1))\n",
    "N4_conn_1 = list(range(0, len(N4_node)+1))\n",
    "for i in range(len(N4_node)):\n",
    "    N4_c_nd_1[i] = node_connection[(node_connection[:,0] == N4_node[i,0])][0][1]\n",
    "    N4_conn_1[i] = np.where( node_connection[:,1] == N4_c_nd_1[i])[0][0]+1\n",
    "\n",
    "#print(N4_c_nd_1)\n",
    "#print(N4_conn_1)\n",
    "#for i in range(len(N4_node)):\n",
    "#\tprint(N4_c_nd_1[i])\n",
    "#for i in range(len(N4_node)):\n",
    "#\tprint(N4_conn_1[i][0]+1)\n",
    "\n",
    "\n",
    "N4_c_nd_2 = list(range(0, len(N4_node)+1))\n",
    "N4_conn_2 = list(range(0, len(N4_node)+1))\n",
    "N4_conn_3 = list(range(0, len(N4_node)+1))\n",
    "N4_conn_4 = list(range(0, len(N4_node)+1))\n",
    "for i in range(len(N4_node)):\n",
    "    N4_c_nd_2[i] = node_connection[(node_connection[:,1] == N4_node[i,0])]\n",
    "    N4_conn_2[i] = np.where( node_connection[:,0] == N4_c_nd_2[i][0][0])[0]\n",
    "    N4_conn_3[i] = np.where( node_connection[:,0] == N4_c_nd_2[i][1][0])[0]\n",
    "    N4_conn_4[i] = np.where( node_connection[:,0] == N4_c_nd_2[i][2][0])[0]"
   ]
  },
  {
   "cell_type": "code",
   "execution_count": null,
   "metadata": {},
   "outputs": [],
   "source": [
    "n4_at_0 = np.where(node_connection[:,0] == N4_node[i,0])\n",
    "n4_at_1 = np.where(node_connection[:,1] == N4_node[i,0])\n",
    "\n"
   ]
  },
  {
   "cell_type": "code",
   "execution_count": null,
   "metadata": {},
   "outputs": [],
   "source": []
  },
  {
   "cell_type": "code",
   "execution_count": null,
   "metadata": {},
   "outputs": [],
   "source": [
    "N4_conn_2"
   ]
  },
  {
   "cell_type": "code",
   "execution_count": null,
   "metadata": {},
   "outputs": [],
   "source": [
    "def read_output(name, node_connection= dict_all[\"node_connection\"],  ):\n",
    "    path = name+'_output.txt'\n",
    "    #path = 'PiafMunch2_PMA1_output.txt'\n",
    "    output = pd.read_table(path,sep='\\t',header=1)\n",
    "    time = np.array(output.iloc[:,0])\n",
    "    ##################### Segment Values ##################### \n",
    "\n",
    "    # water exchange between xylem and phloem from output of PiafMunch\n",
    "    n_begin = output.columns.get_loc(\"JW_Trsv (ml / h)[{first: >{width}}]\".format(first='1', width=2))\n",
    "    print('at Nr.',n_begin, 'we can find',output.columns[n_begin])\n",
    "    n_end = n_begin + len(node_connection)\n",
    "    print('the end is',output.columns[n_end])\n",
    "    JW_Trsv = np.array(output.iloc[:,n_begin:n_end])\n",
    "\n",
    "    # water exchange between xylem and phloem from output of PiafMunch\n",
    "    n_begin = output.columns.get_loc(\"JW_Apo (ml / h)[{first: >{width}}]\".format(first='1', width=2))\n",
    "    print('at Nr.',n_begin, 'we can find',output.columns[n_begin])\n",
    "    n_end = n_begin + len(node_connection)\n",
    "    print('the end is',output.columns[n_end])\n",
    "    JW_Apo = np.array(output.iloc[:,n_begin:n_end])\n",
    "\n",
    "    # Hydraulic pressure in xylem from output of PiafMunch\n",
    "    n_begin = output.columns.get_loc(\"P_Xyl (MPa)[{first: >{width}}]\".format(first='1', width=2))\n",
    "    print('at Nr.',n_begin, 'we can find',output.columns[n_begin])\n",
    "    n_end = n_begin + len(node_connection)\n",
    "    print('the end is',output.columns[n_end])\n",
    "    P_Xyl = np.array(output.iloc[:,n_begin:n_end])\n",
    "\n",
    "    # Hydraulic pressure in sievetubes from output of PiafMunch\n",
    "    n_begin = output.columns.get_loc(\"P_ST (MPa)[{first: >{width}}]\".format(first='1', width=2))\n",
    "    print('at Nr.',n_begin, 'we can find',output.columns[n_begin])\n",
    "    n_end = n_begin + len(node_connection)\n",
    "    print('the end is',output.columns[n_end])\n",
    "    P_ST = np.array(output.iloc[:,n_begin:n_end])\n",
    "\n",
    "    # Carbon content in the segment from output of PiafMunch\n",
    "    n_begin = output.columns.get_loc(\"Q_ST (mmol)[{first: >{width}}]\".format(first='1', width=2))\n",
    "    print('at Nr.',n_begin, 'we can find',output.columns[n_begin])\n",
    "    n_end = n_begin + len(node_connection)\n",
    "    print('the end is',output.columns[n_end])\n",
    "    Q_ST = np.array(output.iloc[:,n_begin:n_end])\n",
    "\n",
    "    # Carbon content in the segment from output of PiafMunch\n",
    "    n_begin = output.columns.get_loc(\"C_ST (mmol / ml)[{first: >{width}}]\".format(first='1', width=2))\n",
    "    print('at Nr.',n_begin, 'we can find',output.columns[n_begin])\n",
    "    n_end = n_begin + len(node_connection)\n",
    "    print('the end is',output.columns[n_end])\n",
    "    C_ST = np.array(output.iloc[:,n_begin:n_end])\n",
    "\n",
    "    ##################### Connection Values ##################### \n",
    "\n",
    "    # Xylem water flow JW_Xyl from output of PiafMunch\n",
    "    n_begin = output.columns.get_loc(\"JW_Xyl (ml / h)[{first: >{width}}]\".format(first='1', width=2))\n",
    "    print('at Nr.',n_begin, 'we can find',output.columns[n_begin])\n",
    "    n_end = n_begin + len(node_connection)-1\n",
    "    print('the end is',output.columns[n_end])\n",
    "    JW_Xyl = np.array(output.iloc[:,n_begin:n_end])\n",
    "\n",
    "    # Phloem water flow JW_ST from output of PiafMunch\n",
    "    n_begin = output.columns.get_loc(\"JW_ST (ml / h)[{first: >{width}}]\".format(first='1', width=2))\n",
    "    print('at Nr.',n_begin, 'we can find',output.columns[n_begin])\n",
    "    n_end = n_begin + len(node_connection)-1\n",
    "    print('the end is',output.columns[n_end])\n",
    "    JW_ST = np.array(output.iloc[:,n_begin:n_end])\n",
    "\n",
    "\n",
    "    # Phloem carbon flow JS_ST from output of PiafMunch\n",
    "    n_begin = output.columns.get_loc(\"JS_ST (mmol / h)[{first: >{width}}]\".format(first='1', width=2))\n",
    "    print('at Nr.',n_begin, 'we can find',output.columns[n_begin])\n",
    "    n_end = n_begin + len(node_connection)-1\n",
    "    print('the end is',output.columns[n_end])\n",
    "    JS_ST = np.array(output.iloc[:,n_begin:n_end])\n",
    "    return {\"time\":time, \"JW_Trsv\":JW_Trsv,\"JW_Apo\": JW_Apo, \"P_Xyl\": P_Xyl, \"P_ST\":P_ST, \"Q_ST\": Q_ST, \"C_ST\": C_ST, \"JW_Xyl\": JW_Xyl, \"JW_ST\": JW_ST, \"JS_ST\": JS_ST}\n",
    "\n"
   ]
  },
  {
   "cell_type": "code",
   "execution_count": null,
   "metadata": {},
   "outputs": [],
   "source": [
    "path = name+'_output.txt'\n",
    "node_connection= dict_all[\"node_connection\"]\n",
    "#path = 'PiafMunch2_PMA1_output.txt'\n",
    "output = pd.read_table(path,sep='\\t',header=1)\n",
    "time = np.array(output.iloc[:,0])\n",
    "##################### Segment Values ##################### \n",
    "\n",
    "# water exchange between xylem and phloem from output of PiafMunch\n",
    "n_begin = output.columns.get_loc(\"JW_Trsv (ml / h)[{first: >{width}}]\".format(first='1', width=2))\n",
    "print('at Nr.',n_begin, 'we can find',output.columns[n_begin])\n",
    "n_end = n_begin + len(node_connection)\n",
    "print('the end is',output.columns[n_end])\n",
    "JW_Trsv = np.array(output.iloc[:,n_begin:n_end])\n",
    "\n",
    "# water exchange between xylem and phloem from output of PiafMunch\n",
    "n_begin = output.columns.get_loc(\"JW_Apo (ml / h)[{first: >{width}}]\".format(first='1', width=2))\n",
    "print('at Nr.',n_begin, 'we can find',output.columns[n_begin])\n",
    "n_end = n_begin + len(node_connection)\n",
    "print('the end is',output.columns[n_end])\n",
    "JW_Apo = np.array(output.iloc[:,n_begin:n_end])\n",
    "\n",
    "# Hydraulic pressure in xylem from output of PiafMunch\n",
    "n_begin = output.columns.get_loc(\"P_Xyl (MPa)[{first: >{width}}]\".format(first='1', width=2))\n",
    "print('at Nr.',n_begin, 'we can find',output.columns[n_begin])\n",
    "n_end = n_begin + len(node_connection)\n",
    "print('the end is',output.columns[n_end])\n",
    "P_Xyl = np.array(output.iloc[:,n_begin:n_end])\n",
    "\n",
    "# Hydraulic pressure in sievetubes from output of PiafMunch\n",
    "n_begin = output.columns.get_loc(\"P_ST (MPa)[{first: >{width}}]\".format(first='1', width=2))\n",
    "print('at Nr.',n_begin, 'we can find',output.columns[n_begin])\n",
    "n_end = n_begin + len(node_connection)\n",
    "print('the end is',output.columns[n_end])\n",
    "P_ST = np.array(output.iloc[:,n_begin:n_end])\n",
    "\n",
    "# Carbon content in the segment from output of PiafMunch\n",
    "n_begin = output.columns.get_loc(\"Q_ST (mmol)[{first: >{width}}]\".format(first='1', width=2))\n",
    "print('at Nr.',n_begin, 'we can find',output.columns[n_begin])\n",
    "n_end = n_begin + len(node_connection)\n",
    "print('the end is',output.columns[n_end])\n",
    "Q_ST = np.array(output.iloc[:,n_begin:n_end])\n",
    "\n",
    "# Carbon content in the segment from output of PiafMunch\n",
    "n_begin = output.columns.get_loc(\"C_ST (mmol / ml)[{first: >{width}}]\".format(first='1', width=2))\n",
    "print('at Nr.',n_begin, 'we can find',output.columns[n_begin])\n",
    "n_end = n_begin + len(node_connection)\n",
    "print('the end is',output.columns[n_end])\n",
    "C_ST = np.array(output.iloc[:,n_begin:n_end])\n",
    "\n",
    "##################### Connection Values ##################### \n",
    "\n",
    "# Xylem water flow JW_Xyl from output of PiafMunch\n",
    "n_begin = output.columns.get_loc(\"JW_Xyl (ml / h)[{first: >{width}}]\".format(first='1', width=2))\n",
    "print('at Nr.',n_begin, 'we can find',output.columns[n_begin])\n",
    "n_end = n_begin + len(node_connection)-1\n",
    "print('the end is',output.columns[n_end])\n",
    "JW_Xyl = np.array(output.iloc[:,n_begin:n_end])\n",
    "\n",
    "# Phloem water flow JW_ST from output of PiafMunch\n",
    "n_begin = output.columns.get_loc(\"JW_ST (ml / h)[{first: >{width}}]\".format(first='1', width=2))\n",
    "print('at Nr.',n_begin, 'we can find',output.columns[n_begin])\n",
    "n_end = n_begin + len(node_connection)-1\n",
    "print('the end is',output.columns[n_end])\n",
    "JW_ST = np.array(output.iloc[:,n_begin:n_end])\n",
    "\n",
    "\n",
    "# Phloem carbon flow JS_ST from output of PiafMunch\n",
    "n_begin = output.columns.get_loc(\"JS_ST (mmol / h)[{first: >{width}}]\".format(first='1', width=2))\n",
    "print('at Nr.',n_begin, 'we can find',output.columns[n_begin])\n",
    "n_end = n_begin + len(node_connection)-1\n",
    "print('the end is',output.columns[n_end])\n",
    "JS_ST = np.array(output.iloc[:,n_begin:n_end])\n"
   ]
  },
  {
   "cell_type": "code",
   "execution_count": null,
   "metadata": {},
   "outputs": [],
   "source": [
    "time"
   ]
  },
  {
   "cell_type": "code",
   "execution_count": null,
   "metadata": {},
   "outputs": [],
   "source": [
    "nodes_organtype = dict_all['nodes_organtype']\n",
    "plt.style.use('default')\n",
    "x = np.array(output.iloc[:,0])\n",
    "def add_day_night():\n",
    "    #trans = mtransforms.blended_transform_factory(ax.transData, ax.transAxes)\n",
    "    #ax.fill_between(x, np.min(y), np.max(y), where=[ 12<x<18] , facecolor='lightgrey', alpha=1, interpolate=False,zorder=0,transform=trans)\n",
    "    for i in range(0,4):\n",
    "        ax.axvspan(0,5,facecolor='lightgrey', zorder=0)\n",
    "        ax.axvspan(18+24*i,29+24*i,facecolor='lightgrey',zorder=0)\n",
    "def line_style(int): #set line style in the plot figure\n",
    "    if  32<int<36 : #int is a small part of main stem which are shown in dashed line \n",
    "        return ':'\n",
    "    else: #\n",
    "        return '-'\n",
    "stem_line = mlines.Line2D([], [], color='darkgreen', marker='', linestyle='-', linewidth= 5,\n",
    "                          markersize=30, label='Stem')\n",
    "root_line = mlines.Line2D([], [], color='wheat', marker='', linestyle='-', linewidth= 5,\n",
    "                          markersize=30, label='Root')\n",
    "leaf_line = mlines.Line2D([], [], color='lightgreen', marker='', linestyle='-', linewidth= 5,\n",
    "                          markersize=30, label='Leaf')\n",
    "stem_line1 = mlines.Line2D([], [], color='darkgreen', marker='', linestyle=':', linewidth= 5,\n",
    "                          markersize=30, label='Stem\\n between\\n two\\n leaves')\n",
    "plt.rcParams['figure.figsize'] = [20, 20]\n",
    "plt.rcParams.update({'font.size': 24})\n",
    "import numpy as np\n",
    "f = plt.figure()\n",
    "plt.rcParams.update({'legend.fontsize': 18})\n",
    "f.subplots_adjust(wspace=0.3)\n",
    "\n",
    "\n",
    "def organ_color(int):\n",
    "    if int == 34 or 40 or 51 or 46: #int is source \n",
    "        return 'lightgreen'\n",
    "    elif int == 10: #int root\n",
    "        return 'wheat'\n",
    "    elif int == 17 or 29:\n",
    "        return 'darkgreen'\n",
    "    else:\n",
    "        return 'darkgreen'\n",
    "stem_nodes = nodes_organtype[(nodes_organtype[:,1]== 3)][:,0] \n",
    "root_nodes = nodes_organtype[(nodes_organtype[:,1]== 2)][:,0] \n",
    "leaf_nodes = nodes_organtype[(nodes_organtype[:,1]== 4)][:,0] \n",
    "\n",
    "def organ_color_n(int):\n",
    "    if nodes_organtype[int,1] == 4: #int is source \n",
    "        return 'lightgreen'\n",
    "    elif nodes_organtype[int,1] == 2: #int is sink\n",
    "        return 'wheat'\n",
    "    elif nodes_organtype[int,1] == 3:\n",
    "        return 'darkgreen'\n",
    "    else:\n",
    "        return 'silver'    \n",
    "\n",
    "def organ_color(int):\n",
    "    if int in leaf_nodes: #int is source \n",
    "        return 'lightgreen'\n",
    "    elif int in root_nodes: #int is sink\n",
    "        return 'wheat'\n",
    "    elif int in stem_nodes:\n",
    "        return 'darkgreen'\n",
    "    else:\n",
    "        return 'silver'   \n",
    "\n",
    "######################################### First Figure ################################################\n",
    "ax = plt.subplot(221)\n",
    "ax.tick_params(width=2)\n",
    "ax.spines['right'].set_visible(False)\n",
    "ax.spines['top'].set_visible(False)\n",
    "for axis in ['bottom','left']:\n",
    "    ax.spines[axis].set_linewidth(2)\n",
    "plt.xlabel(\"Time (hour)\")\n",
    "plt.ylabel(\"Xylem Pressure (MPa)\", color='black')\n",
    "plt.title(\"A: Xylem Pressure\", color='black' ,loc=\"left\")\n",
    "for i in range(len(node_connection)):\n",
    "    ax.plot(x,[pt[i] for pt in P_Xyl], linewidth=5,  label = '{0}'.format(node_connection[i,0])\n",
    "                ,c=organ_color_n(i),alpha=0.8,zorder=0, ls = line_style(node_connection[i,0]))\n",
    "green_star = mlines.Line2D([], [], color='darkgreen', marker='s', markeredgewidth = 1, markeredgecolor = 'black', linestyle='-',\n",
    "                          markersize=16, label='22nd node')\n",
    "orange_cross = mlines.Line2D([], [], color='orange', marker='v', markeredgewidth = 1, markeredgecolor = 'black', linestyle='-',\n",
    "                          markersize=16, label='10th node')\n",
    "lgreen_circle = mlines.Line2D([], [], color='lightgreen', marker='o', markeredgewidth = 1, markeredgecolor = 'black', linestyle='-',\n",
    "                          markersize=16, label='49th node')\n",
    "star = mlines.Line2D([], [], color='grey', marker='s', linestyle='',\n",
    "                          markersize=16, label='Stem')\n",
    "cross = mlines.Line2D([], [], color='grey', marker='v', linestyle='',\n",
    "                          markersize=16, label='Root')\n",
    "circle = mlines.Line2D([], [], color='grey', marker='o', linestyle='',\n",
    "                          markersize=16, label='Leaf')\n",
    "add_day_night()\n",
    "\n",
    "######################################### Second Figure ################################################\n",
    "ax = plt.subplot(222)\n",
    "ax.tick_params(width=2)\n",
    "ax.spines['right'].set_visible(False)\n",
    "ax.spines['top'].set_visible(False)\n",
    "for axis in ['bottom','left']:\n",
    "    ax.spines[axis].set_linewidth(2)\n",
    "plt.xlabel(\"Time (hour)\")\n",
    "plt.ylabel(\"Xylem Water Flow (ml h$^{-1}$)\")\n",
    "plt.title(\"B: Xylem Water Flow\",loc=\"left\")\n",
    "for i in range(len(node_connection)-1):\n",
    "    ax.plot(x,[pt[i] for pt in JW_Xyl], linewidth=5,  label = '{0}'.format(node_connection[i,0])\n",
    "                ,c=organ_color(node_connection[i,0]),alpha=0.8,zorder=0, ls = line_style(node_connection[i,0]))\n",
    "#ax.set_ylim(0, 0.0005)\n",
    "add_day_night()\n",
    "\n",
    "\n",
    "######################################### Third Figure ################################################\n",
    "ax = plt.subplot(223)\n",
    "ax.tick_params(width=2)\n",
    "ax.spines['right'].set_visible(False)\n",
    "ax.spines['top'].set_visible(False)\n",
    "for axis in ['bottom','left']:\n",
    "    ax.spines[axis].set_linewidth(2)\n",
    "\n",
    "\n",
    "plt.xlabel(\"Time (hour)\")\n",
    "\n",
    "plt.ylabel('Water from Xylem to Phloem (ml h⁻¹)', color='black')\n",
    "\n",
    "#plt.title('Phloem Carbon Flow with Diurnal Transpiration')\n",
    "\n",
    "\n",
    "plt.title('C: Water from Xylem to Phloem', color='black', loc=\"left\")  \n",
    "for i in range(len(np.transpose(JW_Trsv))-1):\n",
    "        ax.plot(x,[pt[i] for pt in JW_Trsv], linewidth=5,  label = '{0}'.format(node_connection[i,0])\n",
    "                ,c=organ_color(i),alpha=0.8, ls = line_style(node_connection[i,0]))\n",
    "\n",
    "add_day_night()\n",
    "\n",
    "######################################### Fourth Figure ################################################\n",
    "ax = plt.subplot(224)\n",
    "ax.tick_params(width=2)\n",
    "ax.spines['right'].set_visible(False)\n",
    "ax.spines['top'].set_visible(False)\n",
    "for axis in ['bottom','left']:\n",
    "    ax.spines[axis].set_linewidth(2)\n",
    "plt.xlabel(\"Time (hour)\")\n",
    "plt.ylabel('Carbon Flow (mmol h⁻¹)', color='black')\n",
    "plt.title('D: Phloem Carbon Flow', color='black',loc=\"left\")  \n",
    "for i in range(len(np.transpose(JS_ST))):\n",
    "        ax.plot(x,[pt[i] for pt in JS_ST], linewidth=5,  label = '{0}'.format(node_connection[i,0])\n",
    "                ,c=organ_color(node_connection[i,0]),alpha=0.8, ls = line_style(node_connection[i,0]))\n",
    "add_day_night()\n",
    "plt.show()\n",
    "f.savefig(\"diural.png\", bbox_inches='tight')"
   ]
  },
  {
   "cell_type": "code",
   "execution_count": null,
   "metadata": {},
   "outputs": [],
   "source": [
    "plant."
   ]
  },
  {
   "cell_type": "code",
   "execution_count": null,
   "metadata": {},
   "outputs": [],
   "source": [
    "import matplotlib.pyplot as plt\n",
    "import matplotlib.patches as mpatches\n",
    "output = piaf_output\n",
    "# with heterogeneous soil\n",
    "plt.style.use('default')\n",
    "lable_size=16\n",
    "title_size =24\n",
    "plt.rcParams.update({'font.size': 24})\n",
    "def line_style(int): #set line style in the plot figure\n",
    "    if  32<int<36 : #int is a small part of main stem which are shown in dashed line \n",
    "        return '-'\n",
    "    else: #\n",
    "        return '-'\n",
    "\n",
    "\n",
    "#plt.rcParams['axes.facecolor'] = 'lightgrey'    \n",
    "def add_day_night():\n",
    "    #trans = mtransforms.blended_transform_factory(ax.transData, ax.transAxes)\n",
    "    #ax.fill_between(x, np.min(y), np.max(y), where=[ 12<x<18] , facecolor='lightgrey', alpha=1, interpolate=False,zorder=0,transform=trans)\n",
    "    for i in range(0,4):\n",
    "        ax.axvspan(0,5,facecolor='lightgrey', zorder=0)\n",
    "        ax.axvspan(18+24*i,29+24*i,facecolor='lightgrey',zorder=0)\n",
    "        \n",
    "\n",
    "stem_nodes = nodes_organtype[(nodes_organtype[:,1]== 4)][:,0] \n",
    "root_nodes = nodes_organtype[(nodes_organtype[:,1]== 2)][:,0] \n",
    "leaf_nodes = nodes_organtype[(nodes_organtype[:,1]== 8)][:,0] \n",
    "# high_leaf =[47,48,49,50,51,52,53,54]\n",
    "# leaf1 =[42]\n",
    "# high_leaf1 =[51]\n",
    "# high_leaf2 =[52]\n",
    "# high_leaf3 =[53]\n",
    "# high_leaf4 =[54]\n",
    "# h_l_c=[19]\n",
    "# l_l_c=[11]\n",
    "# low_leaf =[25,26,27,28,29,30,31,32]\n",
    "# low_leaf1 =[29]\n",
    "# low_leaf2 =[30]\n",
    "# low_leaf3 =[31]\n",
    "# low_leaf4 =[32]\n",
    "# all_mark = [31,53,42]\n",
    "# time = np.array(output.iloc[:, 0])    \n",
    "def organ_color(int):\n",
    "    if int in root_nodes: #int is source \n",
    "        return \"None\"#'lightgreen'\n",
    "    elif int in high_leaf3: #int is sink\n",
    "        return 'tomato'\n",
    "    elif int in low_leaf3: #int is sink\n",
    "        return 'royalblue'\n",
    "    elif int in leaf1: #int is sink\n",
    "        return 'lightgreen'\n",
    "    elif int in root_nodes: #int is sink\n",
    "        return 'None'\n",
    "    elif int in stem_nodes:\n",
    "        return \"None\"#'darkgreen'\n",
    "    else:\n",
    "        return \"None\"#'black'\n",
    "  \n",
    "time =piaf_output[\"time\"]\n",
    "\n",
    "#pd.read_table(path,sep='\\t')\n",
    "\n",
    "\n",
    "csfont = {'fontname':'Comic Sans MS'}\n",
    "hfont = {'fontname':'Comic Sans MS'}\n",
    "\n",
    "plt.rcParams['figure.figsize'] = [30, 20]\n",
    "\n",
    "import numpy as np\n",
    "\n",
    "\n",
    "f = plt.figure()\n",
    "f.subplots_adjust(hspace=0.35)\n",
    "f.subplots_adjust(wspace=0.35)\n",
    "\n",
    "nodes_cor = python_nodes(plant)\n",
    "nodes = nodes_cor\n",
    "ax = plt.subplot(231, projection='3d')\n",
    "plt.rcParams.update({'font.size': 24})\n",
    "plt.title('A: Heterogeneous Transpiration\\n on Plant Leaves',loc=\"left\")\n",
    "x_c =nodes[:,3]*100\n",
    "y_c =nodes[:,4]*100\n",
    "z_c =nodes[:,5]*100\n",
    "ax.w_xaxis.set_pane_color((1.0, 1.0, 1.0, 0.0))\n",
    "ax.w_yaxis.set_pane_color((1.0, 1.0, 1.0, 0.0))\n",
    "ax.w_zaxis.set_pane_color((1.0, 1.0, 1.0, 0.0))\n",
    "\n",
    "# Get rid of the spines\n",
    "ax.w_xaxis.line.set_color((1.0, 1.0, 1.0, 0.0))\n",
    "ax.w_yaxis.line.set_color((1.0, 1.0, 1.0, 0.0))\n",
    "ax.w_zaxis.line.set_color((1.0, 1.0, 1.0, 0.0))\n",
    "\n",
    "# Now set color to white (or whatever is \"invisible\")\n",
    "ax.xaxis.pane.set_edgecolor('w')\n",
    "ax.yaxis.pane.set_edgecolor('w')\n",
    "ax.zaxis.pane.set_edgecolor('w')\n",
    "\n",
    "ax.set_xticks([]) \n",
    "ax.set_yticks([]) \n",
    "ax.set_zticks([])\n",
    "\n",
    "# Bonus: To get rid of the grid as well:\n",
    "#ax.grid(False)\n",
    "#for i in range(len(nodes_cor)):\n",
    "#    ax.plot([x[i]], [y[i]], [z[i]], marker='${}$'.format(nodes_cor[i,1]),\n",
    "#            markersize=12, color='black')\n",
    "def organ_color3d(int):\n",
    "\n",
    "    if int in high_leaf: #int is sink\n",
    "        return 'tomato'\n",
    "    \n",
    "    elif int in low_leaf: #int is sink\n",
    "        return 'royalblue'\n",
    "    elif int in stem_nodes or int ==46:\n",
    "        return \"darkgreen\"#'darkgreen'\n",
    "    elif int in leaf1: #int is sink\n",
    "        return 'lightgreen'\n",
    "    elif int in root_nodes: #int is sink\n",
    "        return 'wheat'\n",
    "    elif int in stem_nodes:\n",
    "        return \"darkgreen\"#'darkgreen'\n",
    "    elif int in leaf_nodes: #int is source \n",
    "        return \"lightgreen\"#'lightgreen'\n",
    "    else:\n",
    "        return \"black\"#'black'\n",
    "    \n",
    "def organ_marker3d(int):\n",
    "    if int in all_mark: #int is source \n",
    "        return \"o\"#'lightgreen'\n",
    "    else:\n",
    "        return \"None\"#'black'\n",
    "node_connection = dict_all[\"node_connection\"]    \n",
    "    \n",
    "for i in range(0,len(node_connection)):\n",
    "    #xline = [x[node_connection[:,0][i]]],[x[node_connection[:,1][i]]] )\n",
    "    #yline = np.array([y[node_connection[:,0][i]]],[y[node_connection[:,1][i]]] )\n",
    "    #zline = np.array([z[node_connection[:,0][i]]],[z[node_connection[:,1][i]]] )\n",
    "    ax.plot3D(np.array([[x_c[node_connection[:,0][i]]][0],[x_c[node_connection[:,1][i]]][0]]), \n",
    "              np.array([[y_c[node_connection[:,0][i]]][0],[y_c[node_connection[:,1][i]]][0]]), \n",
    "              np.array([[z_c[node_connection[:,0][i]]][0],[z_c[node_connection[:,1][i]]][0]]), \n",
    "              color=organ_color3d(node_connection[i,0]), alpha=1, linewidth=12, ls = \"-\", zorder=0)\n",
    "for i in range(0,len(node_connection)+1):\n",
    "    if i == 31 or i== 42 or i == 53:\n",
    "        ax.scatter(x_c[i+1], \n",
    "                y_c[i+1], \n",
    "                z_c[i+1], alpha=1, c=\"white\", edgecolors=\"black\", linewidth='4',  s=120,zorder=1) #organ_marker3d(node_connection[i,0])\n",
    "\n",
    "    \n",
    "#ax.scatter([x[715]], [y[715]], [z[715]], c='r', s=99)\n",
    "#ax.scatter([x[860]], [y[860]], [z[860]], c='g', s=99)\n",
    "#ax.scatter([x[627]], [y[627]], [z[627]], c='g', s=99)\n",
    "\n",
    "ax.dist = 6.0\n",
    "ax.set_xlabel('',labelpad=0)\n",
    "ax.set_ylabel('',labelpad=0)\n",
    "ax.set_zlabel('',labelpad=0)\n",
    "#ax.set_xlim3d(-1.2, 1)\n",
    "#ax.set_ylim3d(1.5 ,0.5)\n",
    "#ax.set_zlim3d(-4.8,-0.4)\n",
    "#ax.xaxis.set_ticks(np.arange(0, 3, 1))\n",
    "#ax.yaxis.set_ticks(np.arange(0 ,3, 1))\n",
    "#ax.zaxis.set_ticks(np.arange(-3,2, 1))\n",
    "root_patch = mpatches.Patch(color='lightgreen', label='Midlle Transpiration Leaf')\n",
    "#root_patch1 = mpatches.Patch(color='tomato', label='Tap Root in Line Plot')\n",
    "seed_patch = mpatches.Patch(color='black', label='Seed')\n",
    "#stem_patch = mpatches.Patch(color='darkgreen', label='Stem')\n",
    "leaf_patch = mpatches.Patch(color='darkgreen', label='shoot')\n",
    "h_r_patch = mpatches.Patch(color='tomato', label='High Transpiration Leaf')\n",
    "l_r_patch = mpatches.Patch(color='royalblue', label='Low Transpiration Leaf')\n",
    "l_r_patch1 = mpatches.Patch(color='blue', label='Low Water Potential Root Segment \\nin Line Plot')\n",
    "h_r_patch1 = mpatches.Patch(color='orange', label='High Water Potential Root Segment \\nin Line Plot')\n",
    "line_chart = mlines.Line2D([], [], color='white', marker='o', linestyle='-', markeredgewidth = 3, markeredgecolor = 'black',\n",
    "                          markersize=25, label='Segment shown in line plot')\n",
    "plt.rcParams.update({'font.size':24})\n",
    "plt.legend(handles=[leaf_patch,  root_patch, \n",
    "                    h_r_patch, l_r_patch, line_chart],bbox_to_anchor=(-0.41, 0.5), loc=2, borderaxespad=0.)\n",
    "ax.view_init(0, 90)\n",
    "\n",
    "P_Xyl = piaf_output[\"P_Xyl\"]\n",
    "JW_Xyl = piaf_output[\"JW_Xyl\"]\n",
    "JW_Trsv = piaf_output[\"JW_Trsv\"]\n",
    "JS_ST = piaf_output[\"JS_ST\"]\n",
    "\n",
    "\n",
    "ax = plt.subplot(232)\n",
    "\n",
    "ax.tick_params(width=2)\n",
    "ax.spines['right'].set_visible(False)\n",
    "ax.spines['top'].set_visible(False)\n",
    "for axis in ['bottom','left']:\n",
    "    ax.spines[axis].set_linewidth(2)\n",
    "#ax = f.gca(projection='3d')\n",
    "\n",
    "plt.rcParams.update({'font.size': 24})\n",
    "plt.xlabel(\"Time (hour)\")\n",
    "plt.ylabel('Xylem Pressure (MPa)')\n",
    "#plt.ylabel(\"Xylem water flow (ml h$^{-1}$)\".format(output.columns[n_begin]))\n",
    "#plt.title(\"{}th figure {} \".format(i ,output.columns[n_begin]))\n",
    "\n",
    "plt.title('B: Xylem Pressure'.format(),loc=\"left\")\n",
    "#plt.title(\"Xylem Water Flow with Constant Transpiration\".format(i ,output.columns[n_begin]))\n",
    "ax.plot(time,P_Xyl.T[31],c=organ_color(31),linewidth=5)\n",
    "ax.plot(time,P_Xyl.T[53],c=organ_color(53),linewidth=5)\n",
    "ax.plot(time,P_Xyl.T[42],c=organ_color(42),linewidth=5)\n",
    "#plt.axvline(x=output.iloc[k, 0],c='r',label=\"Time\")\n",
    "#plt.text(output.iloc[k, 0]+0.22,0.35,'{:.2f} hour'.format(output.iloc[k, 0]),rotation=90)\n",
    "    #ax.plot(x,[pt[i] for pt in y], linewidth=5,  label = '{0}'.format(node_connection[i,0])\n",
    "    #            ,c=organ_color(node_connection[i,0]),alpha=0.5,zorder=0)\n",
    "#plt.legend()\n",
    "#labelLines(plt.gca().get_lines(), xvals=(0, 100), zorder=0)\n",
    "plt.rcParams.update({'font.size': 24})\n",
    "# plt.legend(handles=[ root_patch, \n",
    "#                     h_r_patch, l_r_patch] ,loc=1, borderaxespad=0.)\n",
    "\n",
    "add_day_night()\n",
    "\n",
    "\n",
    "# root_line = mlines.Line2D([], [], color='red', marker='', linestyle='-', linewidth= 5,\n",
    "#                           markersize=30, label='Root')\n",
    "#plt.legend(handles=[root_line, high_root_line, low_root_line],bbox_to_anchor=(0.7, 0.9), ncol=1, loc=2, borderaxespad=0.)\n",
    "#plt.legend(handles=[leaf_line, stem_line, root_line],bbox_to_anchor=(0.6, 0.8), loc=2, borderaxespad=0., prop={'size': 30})\n",
    "\n",
    "\n",
    "ax = plt.subplot(233)\n",
    "ax.tick_params(width=2)\n",
    "ax.spines['right'].set_visible(False)\n",
    "ax.spines['top'].set_visible(False)\n",
    "for axis in ['bottom','left']:\n",
    "    ax.spines[axis].set_linewidth(2)\n",
    "#ax = f.gca(projection='3d')\n",
    "\n",
    "plt.xlabel(\"Time (hour)\")\n",
    "plt.ylabel(\"Xylem Water Flow (ml h$^{-1}$)\")\n",
    "#plt.ylabel(\"Xylem water flow (ml h$^{-1}$)\".format(output.columns[n_begin]))\n",
    "#plt.title(\"{}th figure {} \".format(i ,output.columns[n_begin]))\n",
    "plt.title(\"C: Xylem Water Flow\".format() ,loc=\"left\")\n",
    "#plt.title(\"Xylem Water Flow with Constant Transpiration\".format(i ,output.columns[n_begin]))\n",
    "for i in all_mark:\n",
    "    ax.plot(time ,JW_Xyl.T[np.where(node_connection[:,0] == i)[0][0]], linewidth=5,c=organ_color(i),alpha=0.8,zorder=0.8)\n",
    "    \n",
    "\n",
    "#plt.axvline(x=output.iloc[k, 0],c='r',label=\"Time\")\n",
    "#plt.text(output.iloc[k, 0]+0.22,0.15,'{:.2f} hour'.format(output.iloc[k, 0]),rotation=90)\n",
    "    #ax.plot(x,[pt[i] for pt in y], linewidth=5,  label = '{0}'.format(node_connection[i,0])\n",
    "     #           ,c=organ_color(node_connection[i,0]),alpha=0.5,zorder=0)\n",
    "#plt.legend()\n",
    "#labelLines(plt.gca().get_lines(), xvals=(0, 100), zorder=0)\n",
    "plt.rcParams.update({'font.size': 24})\n",
    "\n",
    "stem_carbon = mlines.Line2D([], [], color='darkgreen', marker='s', linestyle='-', markeredgewidth = 1, markeredgecolor = 'black',\n",
    "                          markersize=16, label='22nd node')\n",
    "root_carbon = mlines.Line2D([], [], color='orange', marker='v', linestyle='-', markeredgewidth = 1, markeredgecolor = 'black',\n",
    "                          markersize=16, label='10th node')\n",
    "leaf_carbon = mlines.Line2D([], [], color='lightgreen', marker='o', linestyle='-', markeredgewidth = 1, markeredgecolor = 'black',\n",
    "                          markersize=16, label='49th node')\n",
    "stem_line = mlines.Line2D([], [], color='darkgreen', marker='', linestyle='-', linewidth= 5,\n",
    "                          markersize=30, label='Stem')\n",
    "low_root_line = mlines.Line2D([], [], color='blue', marker='', linestyle='-', linewidth= 5,\n",
    "                          markersize=30, label='Low Water Potential Lateral')\n",
    "high_root_line = mlines.Line2D([], [], color='tomato', marker='', linestyle='-', linewidth= 5,\n",
    "                          markersize=30, label='High Water Potential Lateral')\n",
    "leaf_line = mlines.Line2D([], [], color='lightgreen', marker='', linestyle='-', linewidth= 5,\n",
    "                          markersize=30, label='Leaf')\n",
    "#plt.legend(handles=[ root_patch],bbox_to_anchor=(0.9, 0.7), loc=2, borderaxespad=0.)\n",
    "\n",
    "root_line = mlines.Line2D([], [], color='red', marker='', linestyle='-', linewidth= 5,\n",
    "                          markersize=30, label='Tap Root')\n",
    "add_day_night()\n",
    "\n",
    "# plt.legend(handles=[ root_patch, \n",
    "#                     h_r_patch, l_r_patch], loc=2, borderaxespad=0.)\n",
    "\n",
    "\n",
    "\n",
    "ax = plt.subplot(234)\n",
    "ax.tick_params(width=2)\n",
    "ax.spines['right'].set_visible(False)\n",
    "ax.spines['top'].set_visible(False)\n",
    "for axis in ['bottom','left']:\n",
    "    ax.spines[axis].set_linewidth(2)\n",
    "\n",
    "plt.xlabel(\"Time (hour)\", **hfont)\n",
    "plt.rcParams.update({'font.size': 24})\n",
    "\n",
    "plt.ylabel('C Concentration (mmol ml⁻¹)'.format())\n",
    "\n",
    "    \n",
    "\n",
    "    \n",
    "#plt.title('Phloem Carbon Flow with Constant Transpiration')  \n",
    "plt.title('D: Sievetube Carbon Concentration'.format(),loc=\"left\")  \n",
    "ax.plot(time,C_ST.T[31],c=organ_color(31),linewidth=5)\n",
    "ax.plot(time,C_ST.T[53],c=organ_color(53),linewidth=5)\n",
    "ax.plot(time,C_ST.T[42],c=organ_color(42),linewidth=5)\n",
    "\n",
    "add_day_night()\n",
    "# plt.legend(handles=[ root_patch, \n",
    "#                     h_r_patch, l_r_patch], loc=4, borderaxespad=0.)\n",
    "\n",
    "\n",
    "\n",
    "ax = plt.subplot(235)\n",
    "ax.tick_params(width=2)\n",
    "ax.spines['right'].set_visible(False)\n",
    "ax.spines['top'].set_visible(False)\n",
    "for axis in ['bottom','left']:\n",
    "    ax.spines[axis].set_linewidth(2)\n",
    "\n",
    "plt.xlabel(\"Time (hour)\", **hfont)\n",
    "plt.rcParams.update({'font.size': 24})\n",
    "plt.ylabel('Flow Rate (ml h⁻¹)')\n",
    "\n",
    "\n",
    "    \n",
    "\n",
    "    \n",
    "# s =output.columns[n_begin]\n",
    "# s = s.replace('/', '')    \n",
    "#plt.title('Phloem Carbon Flow with Constant Transpiration')  \n",
    "plt.title('E:Xylem Water Transfered to Phloem'.format(),loc=\"left\")  \n",
    "ax.plot(time,JW_Trsv.T[31],c=organ_color(31),linewidth=5)\n",
    "ax.plot(time,JW_Trsv.T[53],c=organ_color(53),linewidth=5)\n",
    "ax.plot(time,JW_Trsv.T[42],c=organ_color(42),linewidth=5)\n",
    "\n",
    "\n",
    "\n",
    "    \n",
    "# plt.legend(handles=[ root_patch,                     h_r_patch, l_r_patch], loc=2, borderaxespad=0.)\n",
    "add_day_night()\n",
    "# high_root_line = mlines.Line2D([], [], color='orange', marker='', linestyle='-', linewidth= 5,\n",
    "#                           markersize=30, label='Root Higher Water Potential')\n",
    "# low_root_line = mlines.Line2D([], [], color='blue', marker='', linestyle='-', linewidth= 5,\n",
    "#                           markersize=30, label='Root Lower Water Potential')\n",
    "#plt.legend(handles=[ root_patch],bbox_to_anchor=(0.9, 0.7), loc=2, borderaxespad=0.)\n",
    "# root_line = mlines.Line2D([], [], color='red', marker='', linestyle='-', linewidth= 5,\n",
    "#                           markersize=30, label='Root')\n",
    "#plt.legend(handles=[root_line, high_root_line, low_root_line],bbox_to_anchor=(0.7, 0.9), ncol=1, loc=2, borderaxespad=0.)\n",
    "\n",
    "\n",
    "\n",
    "\n",
    "\n",
    "\n",
    "\n",
    "\n",
    "\n",
    "\n",
    "\n",
    "\n",
    "\n",
    "\n",
    "\n",
    "\n",
    "\n",
    "\n",
    "\n",
    "\n",
    "\n",
    "\n",
    "\n",
    "\n",
    "ax = plt.subplot(236)\n",
    "ax.tick_params(width=2)\n",
    "ax.spines['right'].set_visible(False)\n",
    "ax.spines['top'].set_visible(False)\n",
    "for axis in ['bottom','left']:\n",
    "    ax.spines[axis].set_linewidth(2)\n",
    "\n",
    "plt.xlabel(\"Time (hour)\", **hfont)\n",
    "\n",
    "plt.ylabel('Carbon Flow (mmol h⁻¹)')\n",
    "\n",
    "#plt.title('Phloem Carbon Flow with Diurnal Transpiration', **hfont)\n",
    "\n",
    "\n",
    "def so_si_color(int):\n",
    "    if int in N1L_node[:,0]: #int is source \n",
    "        return 'lightgreen'\n",
    "    elif int in N1R_node[:,0]: #int is sink\n",
    "        return 'orange'\n",
    "    else:\n",
    "        return 'darkgreen'\n",
    "#plt.title('Phloem Carbon Flow with Constant Transpiration') \n",
    "y=JS_ST\n",
    "plt.title('F: Phloem Carbon Flow', loc=\"left\")  \n",
    "for i in all_mark:\n",
    "        ax.plot(time,JS_ST.T[np.where(node_connection[:,0] == i)[0][0]], linewidth=5 ,c=organ_color(i),alpha=0.8)\n",
    "        \n",
    "#plt.axvline(x=output.iloc[k, 0],c='r',label=\"Time\")\n",
    "#plt.text(output.iloc[k, 0]+0.00002,0.00015,'{:.2f} hour'.format(output.iloc[k, 0]),rotation=90)\n",
    "add_day_night()\n",
    "# plt.legend(handles=[ root_patch, \n",
    "#                     h_r_patch, l_r_patch] ,loc=1, borderaxespad=0.)\n",
    "#plt.legend(handles=[root_line, high_root_line, low_root_line],bbox_to_anchor=(0.7, 0.9), ncol=1, loc=2, borderaxespad=0.)\n",
    "plt.style.use('default')\n",
    "\n",
    "#pd.read_table(path,sep='\\t')\n",
    "\n",
    "plt.rcParams.update({'font.size': 24})\n",
    "i=37\n",
    "\n",
    "\n",
    "\n",
    "\n",
    "\n",
    "\n",
    "f.savefig(\"diural_leaf.png\", bbox_inches='tight')\n",
    "\n"
   ]
  },
  {
   "cell_type": "code",
   "execution_count": null,
   "metadata": {},
   "outputs": [],
   "source": [
    "len(JS_ST)\n",
    "time"
   ]
  },
  {
   "cell_type": "code",
   "execution_count": null,
   "metadata": {},
   "outputs": [],
   "source": [
    "from mpl_toolkits.mplot3d import axes3d\n",
    "stem_nodes = nodes_organtype[(nodes_organtype[:,1]== 3)][:,0] \n",
    "root_nodes = nodes_organtype[(nodes_organtype[:,1]== 2)][:,0] \n",
    "leaf_nodes = nodes_organtype[(nodes_organtype[:,1]== 4)][:,0] \n",
    "def organ_color(int):\n",
    "    if int in leaf_nodes: #int is source \n",
    "        return 'lightgreen'\n",
    "    elif int in root_nodes: #int is sink\n",
    "        return 'wheat'\n",
    "    elif int in stem_nodes:\n",
    "        return 'forestgreen'\n",
    "    else:\n",
    "        return 'black'\n",
    "    \n",
    "nodes_cor = python_nodes(plant)\n",
    "\n",
    "plt.rcParams['figure.figsize'] = [30, 22]\n",
    "\n",
    "\n",
    "from mpl_toolkits.mplot3d import Axes3D\n",
    "import matplotlib.pyplot as plt\n",
    "\n",
    "\n",
    "\n",
    "\n",
    "\n",
    "fig = plt.figure()\n",
    "ax = fig.add_subplot(111, projection='3d')\n",
    "\n",
    "x =nodes_cor[:,3]\n",
    "y =nodes_cor[:,4]\n",
    "z =nodes_cor[:,5]\n",
    "\n",
    "# Get rid of colored axes planes\n",
    "# First remove fill\n",
    "ax.xaxis.pane.fill = False\n",
    "ax.yaxis.pane.fill = False\n",
    "ax.zaxis.pane.fill = False\n",
    "\n",
    "# Now set color to white (or whatever is \"invisible\")\n",
    "ax.xaxis.pane.set_edgecolor('w')\n",
    "ax.yaxis.pane.set_edgecolor('w')\n",
    "ax.zaxis.pane.set_edgecolor('w')\n",
    "\n",
    "# Bonus: To get rid of the grid as well:\n",
    "ax.grid(False)\n",
    "\n",
    "for i in range(len(nodes_cor)): #assign all the source to red large font size\n",
    "    if (nodes_cor[i,1] == 8 or nodes_cor[i,1] == 4) and nodes_cor[i,2] == 1:\n",
    "        ax.plot([x[i]], [y[i]], [z[i]], marker='${}$'.format(i),\n",
    "                markersize=40, color='tomato')\n",
    "    else:\n",
    "        ax.plot([x[i]], [y[i]], [z[i]], marker='${}$'.format(i),#mapping all the organ color green or yellow\n",
    "                markersize=12, color=organ_color(i))\n",
    "\n",
    "ax.set_xlabel('')\n",
    "ax.set_ylabel('')\n",
    "ax.set_zlabel('')\n",
    "#ax.set_ylim3d(2,0)\n",
    "# ax.set_zlim3d(-1,7.5)\n",
    "# ax.set_xlim3d(-0.2,0.2)\n",
    "#ax.view_init(0, 90)\n",
    "plt.show()\n",
    "fig.savefig(\"{}.png\".format('3d with node number{}'.format(name)), bbox_inches='tight', dpi=300)"
   ]
  },
  {
   "cell_type": "code",
   "execution_count": null,
   "metadata": {},
   "outputs": [],
   "source": [
    "nodes_cor[2]"
   ]
  },
  {
   "cell_type": "code",
   "execution_count": null,
   "metadata": {},
   "outputs": [],
   "source": [
    "nodes_cor[1]"
   ]
  },
  {
   "cell_type": "code",
   "execution_count": null,
   "metadata": {},
   "outputs": [],
   "source": [
    "time =3\n",
    "plant.simulate(time)\n",
    "plant.write(\"{}.vtp\".format(str(name)))\n",
    "# dict_all  = convert( plant )\n",
    "# piafmunch_outputname = name +\".ini\"\n",
    "# Soil_water = [0]*(len(dict_all['node_connection'])+1)\n",
    "# write_PiafMunch_parameter(dict_all['node_connection'], dict_all['nodes_organtype'], dict_all['nodes_r_st'], dict_all['unq_cnt'],Soil_water , piafmunch_outputname, 24)"
   ]
  },
  {
   "cell_type": "code",
   "execution_count": null,
   "metadata": {},
   "outputs": [],
   "source": [
    "node_organtype"
   ]
  },
  {
   "cell_type": "code",
   "execution_count": null,
   "metadata": {},
   "outputs": [],
   "source": [
    "\n",
    "\n",
    "    \n",
    "pi= 3.1415926\n",
    "\n",
    "k = 1.118e-12 # conductivity (m2)\n",
    "n = 1.7e-9 / 3600 # viscosity (MPa.h)\n",
    "s = (12.880e-6)**2*pi # surface (m2)\n",
    "l = 5e-2 # length (m)\n",
    "\n",
    "K1 = (k/n)*(s/l) *10**6\n",
    "\n",
    "K_1 = (1 / K1)\n",
    "#print(K_1)\n",
    "\n",
    "# 1 meter inner phloem resistance\n",
    "\n",
    "k = 0.693e-12 # conductivity (m2)\n",
    "n = 1.7e-9 / 3600 # viscosity (MPa.h)\n",
    "s = (14.6e-6)**2*pi # surface (m2)\n",
    "l = 5e-2 # length (m)\n",
    "\n",
    "K1 = (k/n)*(s/l) *10**6\n",
    "\n",
    "K_4 = (1 / K1)\n",
    "#print(K_4)\n",
    "# 4 meter inner phloem resistance\n",
    "\n",
    "k = 0.879e-12 # conductivity (m2)\n",
    "n = 1.7e-9 / 3600 # viscosity (MPa.h)\n",
    "s = (9.83e-6)**2*pi # surface (m2)\n",
    "l = 5e-2 # length (m)\n",
    "\n",
    "K1 = (k/n)*(s/l) *10**6\n",
    "\n",
    "K_7 = (1 / K1)\n",
    "#print(K_7)\n",
    "\n",
    "#7 meter inner phloem resistance\n",
    "\n",
    "k = 1.795e-12 # conductivity (m**2)\n",
    "n = 1.7e-9 / 3600 # viscosity (MPa.h)\n",
    "s = (13.830e-6)**2*pi # surface (m**2)\n",
    "l = 5e-2 # length (m)\n",
    "\n",
    "K1 = (k/n)*(s/l) *10**6 \n",
    "\n",
    "K_1_i = (1 / K1)\n",
    "#print(K_1_i)\n",
    "\n",
    "k = 0.98712e-12 # conductivity (m**2)\n",
    "n = 1.7e-9 / 3600 # viscosity (MPa.h)\n",
    "s = (19.710e-6)**2*pi # surface (m**2)\n",
    "l = 5e-2 # length (m)\n",
    "\n",
    "K1 = (k/n)*(s/l) *10**6\n",
    "\n",
    "K_4_i = (1 / K1)\n",
    "#print(K_4_i)\n",
    "\n",
    "k = 0.3532e-12 # conductivity (m**2)\n",
    "n = 1.7e-9 / 3600 # viscosity (MPa.h)\n",
    "s = (10.670e-6)**2*pi # surface (m**2)\n",
    "l = 5e-2 # length (m)\n",
    "\n",
    "K1 = (k/n)*(s/l) *10**6\n",
    "\n",
    "K_7_i = (1 / K1)\n",
    "#print(K_7_i)\n",
    "\n",
    "R_name = [1,4,7]\n",
    "R_ex_number = [K_1,K_4,K_7] #external phloem resistance\n",
    "R_in_number = [K_1_i,K_4_i,K_7_i] #internal phloem resistance\n",
    "\n",
    "\n",
    "plt.rcParams['figure.figsize'] = [10, 10]\n",
    "\n",
    "slope, intercept, r_value, p_value, std_err = stats.linregress(R_name[0:2], R_ex_number[0:2]) #least square regression\n",
    "slope2, intercept2, r_value2, p_value2, std_err2 = stats.linregress(R_name[1:3], R_ex_number[1:3]) #least square regression\n",
    "#plt.plot(R_name[0:2], R_ex_number[0:2], 'o', label='Resistance in external phloem')\n",
    "#plt.plot(R_name[1:3], R_ex_number[1:3], 'o', label='Resistance in external phloem', c='black' )\n",
    "#plt.plot(R_name[0:2], intercept + slope*R_name[0:2], 'r', label='fitted line1')\n",
    "#plt.plot(R_name[1:3], intercept2 + slope2*R_name[1:3], 'r', label='fitted line2')\n",
    "#plt.xlabel(\"Distance to seed (meter)\")\n",
    "#plt.ylabel(\"Resistance (MPa h mL$^{-1}$))\")\n",
    "#plt.legend()\n",
    "#plt.show()\n",
    "\n",
    "\n",
    "stem_nodes = nodes_organtype[(nodes_organtype[:,1]== 3)][:,0] \n",
    "root_nodes = nodes_organtype[(nodes_organtype[:,1]== 2)][:,0] \n",
    "leaf_nodes = nodes_organtype[(nodes_organtype[:,1]== 4)][:,0] \n",
    "def organ_marker(int):\n",
    "    if int in leaf_nodes:\n",
    "    #if int == 21: #int is source \n",
    "        return 'o'\n",
    "    elif int in root_nodes : #int is sink\n",
    "        return 'x'\n",
    "    #elif int == 40 :\n",
    "    elif int in stem_nodes:\n",
    "        return '*'\n",
    "    else:\n",
    "        return 'None'\n",
    "\n",
    "#node_connection_cor\n",
    "nodes_c_cor = np.full((len(node_connection), 3),0.0)\n",
    "#charar = np.chararray((3, 3))\n",
    "nodes_org = np.full((len(node_connection), 1),0)\n",
    "\n",
    "for i in range(0,len(node_connection)-1):\n",
    "    nodes_org[i]= nodes_organtype[nodes_organtype[:,0] == node_connection[i][0]][0][1]\n",
    "nodes_c_marker = np.full((len(node_connection), 1),'k')\n",
    "\n",
    "for i in range(0,len(node_connection)-1):\n",
    "    nodes_c_marker[i]= organ_marker(node_connection[i][0])\n",
    "#nodes_c_marker[0][0]= 'D'\n",
    "nodes_c_marker.astype(str, copy = True)\n",
    "\n",
    "\n",
    "for i in range(0,len(node_connection)): #calculate the mid point of two segment nodes\n",
    "    nodes_c_cor[i] = (nodes[node_connection[i,0]] + nodes[node_connection[i,1]])/2\n",
    "\n",
    "\n",
    "\n",
    "\n",
    "b = np.zeros((nodes_organtype.shape[0],nodes_organtype.shape[1]+1)); b[:,:-1] = nodes_organtype\n",
    "node_c_o = np.zeros((node_connection.shape[0],node_connection.shape[1]+5)); node_c_o[:,:-5] = node_connection\n",
    "\n",
    "for i in range(0,len(node_connection)):\n",
    "    node_c_o[i][2:5] = (nodes[node_connection[i,0]] + nodes[node_connection[i,1]])/2\n",
    "#\tnode_c_o[i][6] = nodes_organtype[node_c_o[i][0]][0]\n",
    "    #node_c_o[i][6] = nodes_organtype[node_c_o[i][0]][1]\n",
    "\n",
    "\n",
    "\n",
    "\n",
    "r_st_all = np.full((len(node_connection), 1),0.0)\n",
    "for i in range(0,len(node_connection)):\n",
    "    r_st_all[i]= intercept + slope*node_c_o[i,4]\n",
    "\n",
    "\n",
    "\n",
    "node_c_o = pd.DataFrame({'1st_node':node_connection[:,0],'2nd_node':node_connection[:,1],'x':node_c_o[:,2]\n",
    "                        ,'y':node_c_o[:,3],'z':node_c_o[:,4], 'organ_type':nodes_org[:,0],'marker':nodes_c_marker[:,0], 'r_st':r_st_all[:,0]})\n",
    "#claculate the length from seed of every nodes (root is minus)\n",
    "nodes_length = np.zeros(len(nodes_cor))\n",
    "for i in range(1,len(nodes_cor)):\n",
    "    if nodes_cor[i][1]==2: #if the organtype is root\n",
    "        nodes_length[i] = nodes_length[node_connection_o[(node_connection_o[:,1] == i)][0][0]] - ((nodes_cor[node_connection_o[(node_connection_o[:,1] == i)][0][0]][3]-nodes_cor[node_connection_o[(node_connection_o[:,1] == i)][0][1]][3])**2 + (nodes_cor[node_connection_o[(node_connection_o[:,1] == i)][0][0]][4]-nodes_cor[node_connection_o[(node_connection_o[:,1] == i)][0][1]][4])**2 + (nodes_cor[node_connection_o[(node_connection_o[:,1] == i)][0][0]][5]-nodes_cor[node_connection_o[(node_connection_o[:,1] == i)][0][1]][5])**2)**(0.5) \n",
    "    else:\n",
    "        nodes_length[i] = nodes_length[node_connection_o[(node_connection_o[:,1] == i)][0][0]] + ((nodes_cor[node_connection_o[(node_connection_o[:,1] == i)][0][0]][3]-nodes_cor[node_connection_o[(node_connection_o[:,1] == i)][0][1]][3])**2 + (nodes_cor[node_connection_o[(node_connection_o[:,1] == i)][0][0]][4]-nodes_cor[node_connection_o[(node_connection_o[:,1] == i)][0][1]][4])**2 + (nodes_cor[node_connection_o[(node_connection_o[:,1] == i)][0][0]][5]-nodes_cor[node_connection_o[(node_connection_o[:,1] == i)][0][1]][5])**2)**(0.5) \n",
    "\n",
    "\n",
    "\n",
    "#\t print(nodes_length[i])\n",
    "#\t print(i)\n",
    "    #print(node_connection[i])\n",
    "    #the length of the first node of connection i in node_connection\n",
    "    #node_c_o[i][6] = nodes_organtype[node_c_o[i][0]][0]\n",
    "    #node_c_o[i][6] = nodes_organtype[node_c_o[i][0]][1]\n",
    "\n",
    "    #manual check the length of all nodes.\n",
    "nodes_cor[node_connection[(node_connection[:,1] == 3)][0][0]][2]\n",
    "#len(nodes_length)\n",
    "#print(len(nodes_length))\n",
    "nodes_length\n",
    "#node_connection_o[0,0]=1\n",
    "nodes_length = np.delete(nodes_length,0,0)\n",
    "np.c_[ nodes_organtype, nodes_length]\n",
    "\n",
    "\n",
    "len(nodes_organtype)\n",
    "#node_connection\n",
    "len(nodes_cor)\n",
    "nodes_cor[:,4]\n",
    "nodes_r_st = np.zeros(len(nodes_cor)-1)\n",
    "for i in range(0,len(nodes_cor)-1):\n",
    "    if nodes_length[i] > R_name[1]:\n",
    "        nodes_r_st[i]= (intercept2 + slope2*nodes_length[i])\n",
    "    else:\n",
    "        nodes_r_st[i]= (intercept + slope*nodes_length[i])\n",
    "\n",
    "\n",
    "\n",
    "#R_st is calculated based on the height (or the z axis value), \n",
    "\n",
    "#calcuate the volumn of st\n",
    "\n",
    "\n",
    "# file-output.py"
   ]
  },
  {
   "cell_type": "code",
   "execution_count": null,
   "metadata": {},
   "outputs": [],
   "source": [
    "N3_node = nodes_organtype[ (nodes_organtype[:,2] ==3 )]\n",
    "#print(N3_node)\n",
    "\n",
    "N3_c_nd_1 = list(range(0, len(N3_node)+1))\n",
    "N3_conn_1 = list(range(0, len(N3_node)+1))\n",
    "for i in range(len(N3_node)):\n",
    "    if N3_node[i,0] == N3_node[i-1,0]+1 : # some n3 nodes are inter connected\n",
    "        N3_c_nd_1[i] = node_connection[(node_connection[:,1] == N3_node[i,0])][0][0]\n",
    "        N3_conn_1[i] = 0-np.where( node_connection[:,0] ==  node_connection[(node_connection[:,0] == N3_node[i-1,0])][1][1])[0][0]\n",
    "    elif  N3_node[i,1] == 2 or N3_node[i,1] == 1:\n",
    "        N3_c_nd_1[i] = node_connection[(node_connection[:,1] == N3_node[i,0])][0][0]\n",
    "        N3_conn_1[i] = 0-np.where( node_connection[:,0] == N3_c_nd_1[i])[0][0]-1\n",
    "\n",
    "    else:\n",
    "        N3_c_nd_1[i] = node_connection[(node_connection[:,0] == N3_node[i,0])][0][1]\n",
    "        N3_conn_1[i] = np.where( node_connection[:,1] == N3_c_nd_1[i])[0][0]+1\n",
    "\n",
    "N3_c_nd_2 = list(range(0, len(N3_node)+1))\n",
    "N3_conn_2 = list(range(0, len(N3_node)+1))\n",
    "for i in range(len(N3_node)):\n",
    "    if N3_node[i,1] == 2 or N3_node[i,1] == 1 and N3_node[i,0] != N3_node[i-1,0]+1:\n",
    "        N3_c_nd_2[i] = node_connection[(node_connection[:,0] == N3_node[i,0])][0][1]\n",
    "        N3_conn_2[i] = np.where( node_connection[:,1] == N3_c_nd_2[i])[0][0]+1\n",
    "    else:\n",
    "        N3_c_nd_2[i] = node_connection[(node_connection[:,1] == N3_node[i,0])][0][0]\n",
    "        N3_conn_2[i] = 0-np.where( node_connection[:,0] == N3_c_nd_2[i])[0][0]-1\n",
    "\n",
    "N3_c_nd_3 = list(range(0, len(N3_node)+1))\n",
    "N3_conn_3 = list(range(0, len(N3_node)+1))\n",
    "for i in range(len(N3_node)):\n",
    "    if N3_node[i,1] == 2 or N3_node[i,1] == 1 and N3_node[i,0] != N3_node[i-1,0]+1:\n",
    "        N3_c_nd_3[i] = node_connection[(node_connection[:,0] == N3_node[i,0])][1][1]\n",
    "        N3_conn_3[i] = np.where( node_connection[:,1] == N3_c_nd_3[i])[0][0]+1\n",
    "    else:\n",
    "        N3_c_nd_3[i] = node_connection[(node_connection[:,1] == N3_node[i,0])][1][0]\n",
    "        N3_conn_3[i] = 0-np.where( node_connection[:,0] == N3_c_nd_3[i])[0][0]-1"
   ]
  },
  {
   "cell_type": "code",
   "execution_count": null,
   "metadata": {},
   "outputs": [],
   "source": [
    "N3_node"
   ]
  },
  {
   "cell_type": "code",
   "execution_count": null,
   "metadata": {},
   "outputs": [],
   "source": [
    "N3_conn_1"
   ]
  },
  {
   "cell_type": "code",
   "execution_count": null,
   "metadata": {},
   "outputs": [],
   "source": [
    "nodes_organtype[1,1] =1\n",
    "node_connection[0,1] =0\n",
    "node_connection[0,0] =0\n",
    "nodes_organtype[0,1] =0\n",
    "nodes_organtype[0,2] =0\n",
    "nodes_organtype[0,3] =0\n",
    "nodes_organtype = np.delete(nodes_organtype,0,0)\n",
    "node_connection = np.delete(node_connection,0,0)"
   ]
  },
  {
   "cell_type": "code",
   "execution_count": null,
   "metadata": {},
   "outputs": [],
   "source": [
    "plant.getPolylines()"
   ]
  },
  {
   "cell_type": "code",
   "execution_count": null,
   "metadata": {},
   "outputs": [],
   "source": [
    "organtype = np.array([np.array(s) for s in plant.getParameter('organType')])\n",
    "lines = list([list(s) for s in plant.getPolylines()])\n",
    "segs = np.array([np.array(s) for s in plant.getSegments()])\n",
    "nods = np.array([np.array(s) for s in plant.getNodes()])\n",
    "node_organtype = np.zeros(len(nods)-1)\n",
    "k=0\n",
    "for i in range(0,len(organtype)):\n",
    "    for ii in range(0,len(lines[i])-1):\n",
    "        node_organtype[k]= organtype[i]\n",
    "        k=k+1\n",
    "nodes = nods/100 # convert from cm to m \n",
    "node_connection_o = segs\n",
    "nodes_with_organtype = np.column_stack([node_connection_o, node_organtype]) #make the node has organtype, to know the source sink relation\n",
    "node_connection1, node_connection2 = np.split(node_connection_o.T,2) #seperate the 2-number nodes into two list\n",
    "node_connection1 = np.row_stack([node_connection1, node_organtype]) #first numbe list\n",
    "node_connection2 = np.row_stack([node_connection2, node_organtype]) #second number list\n",
    "nodes_organtype = np.column_stack([node_connection1,node_connection2])\n",
    "_, indices = np.unique(nodes_organtype.T[:,0], return_index=True) #sort the list to remove duplicates\n",
    "nodes_organtype = nodes_organtype.T[indices,:]\n",
    "nodes_cor = np.column_stack([nodes_organtype, nodes]) # adding coordinates into the connections\n",
    "node_connection = np.copy(node_connection_o)\n",
    "unq, unq_idx, unq_cnt = np.unique(node_connection, return_inverse=True, return_counts=True)# check if all the connections are unique\n",
    "nodes_organtype = np.column_stack((nodes_organtype,unq_cnt ))\n",
    "nodes_organtype.astype(np.int_)\n",
    "node_connection.astype(np.int_)\n",
    "nodes_cor = np.column_stack([nodes_organtype, nodes])\n",
    "nodes_cor = np.column_stack([nodes_organtype, nodes]) # adding coordinates into the connections\n",
    "node_connection = np.copy(node_connection_o)\n",
    "unq, unq_idx, unq_cnt = np.unique(node_connection, return_inverse=True, return_counts=True)# check if all the connections are unique\n",
    "nodes_organtype = np.column_stack((nodes_organtype,unq_cnt ))\n",
    "nodes_organtype.astype(np.int_)\n",
    "node_connection.astype(np.int_)\n",
    "nodes_cor = np.column_stack([nodes_organtype, nodes])\n",
    "stem_nodes = nodes_organtype[(nodes_organtype[:,1]== 4)|(nodes_organtype[:,1]== 3)][:,0]\n",
    "index_stem= list(range(1, len(stem_nodes)+1))\n",
    "for i in range(len(stem_nodes)):\n",
    "    index_stem[i] = np.where( node_connection[:,1] == stem_nodes[i])\n",
    "\n",
    "for i in range(len(index_stem)-1):\n",
    "    node_connection[index_stem[i+1][0][0]]=node_connection[index_stem[i+1][0][0]][::-1]"
   ]
  },
  {
   "cell_type": "code",
   "execution_count": null,
   "metadata": {},
   "outputs": [],
   "source": [
    "node_connection"
   ]
  },
  {
   "cell_type": "code",
   "execution_count": null,
   "metadata": {},
   "outputs": [],
   "source": [
    "nodes_organtype[:,0] = nodes_organtype[:,0]+1 "
   ]
  },
  {
   "cell_type": "code",
   "execution_count": null,
   "metadata": {},
   "outputs": [],
   "source": [
    "nodes_organtype[:,0]"
   ]
  },
  {
   "cell_type": "code",
   "execution_count": null,
   "metadata": {},
   "outputs": [],
   "source": [
    "node_connection = node_connection+1"
   ]
  },
  {
   "cell_type": "code",
   "execution_count": null,
   "metadata": {},
   "outputs": [],
   "source": [
    "nodes[node_connection[1,1]]"
   ]
  },
  {
   "cell_type": "code",
   "execution_count": null,
   "metadata": {},
   "outputs": [],
   "source": []
  },
  {
   "cell_type": "code",
   "execution_count": null,
   "metadata": {},
   "outputs": [],
   "source": [
    "node_connection"
   ]
  },
  {
   "cell_type": "code",
   "execution_count": null,
   "metadata": {},
   "outputs": [],
   "source": [
    "np.where( node_connection[:,0] == 0)"
   ]
  },
  {
   "cell_type": "code",
   "execution_count": null,
   "metadata": {},
   "outputs": [],
   "source": [
    "node_connection[15][1]=1"
   ]
  },
  {
   "cell_type": "code",
   "execution_count": null,
   "metadata": {},
   "outputs": [],
   "source": [
    "organtype = np.array([np.array(s) for s in plant.getParameter('organType')])\n",
    "lines = list([list(s) for s in plant.getPolylines()])\n",
    "segs = np.array([np.array(s) for s in plant.getSegments()])\n",
    "nods = np.array([np.array(s) for s in plant.getNodes()])\n",
    "node_organtype = np.zeros(len(nods)-1)\n",
    "k=0\n",
    "for i in range(0,len(organtype)):\n",
    "    for ii in range(0,len(lines[i])-1):\n",
    "        node_organtype[k]= organtype[i]\n",
    "        k=k+1\n",
    "nodes = nods/100 # convert from cm to m \n",
    "node_connection_o = segs\n",
    "nodes_with_organtype = np.column_stack([node_connection_o, node_organtype]) #make the node has organtype, to know the source sink relation\n",
    "node_connection1, node_connection2 = np.split(node_connection_o.T,2) #seperate the 2-number nodes into two list\n",
    "node_connection1 = np.row_stack([node_connection1, node_organtype]) #first numbe list\n",
    "node_connection2 = np.row_stack([node_connection2, node_organtype]) #second number list\n",
    "nodes_organtype = np.column_stack([node_connection1,node_connection2])\n",
    "_, indices = np.unique(nodes_organtype.T[:,0], return_index=True) #sort the list to remove duplicates\n",
    "nodes_organtype = nodes_organtype.T[indices,:]\n",
    "nodes_cor = np.column_stack([nodes_organtype, nodes]) # adding coordinates into the connections\n",
    "node_connection = np.copy(node_connection_o)\n",
    "unq, unq_idx, unq_cnt = np.unique(node_connection, return_inverse=True, return_counts=True)# check if all the connections are unique\n",
    "nodes_organtype = np.column_stack((nodes_organtype,unq_cnt ))\n",
    "nodes_organtype.astype(np.int_)\n",
    "node_connection.astype(np.int_)\n",
    "nodes_cor = np.column_stack([nodes_organtype, nodes])\n",
    "nodes_cor = np.column_stack([nodes_organtype, nodes]) # adding coordinates into the connections\n",
    "node_connection = np.copy(node_connection_o)\n",
    "unq, unq_idx, unq_cnt = np.unique(node_connection, return_inverse=True, return_counts=True)# check if all the connections are unique\n",
    "nodes_organtype = np.column_stack((nodes_organtype,unq_cnt ))\n",
    "nodes_organtype.astype(np.int_)\n",
    "node_connection.astype(np.int_)\n",
    "nodes_cor = np.column_stack([nodes_organtype, nodes])\n",
    "stem_nodes = nodes_organtype[(nodes_organtype[:,1]== 4)|(nodes_organtype[:,1]== 3)][:,0]\n",
    "index_stem= list(range(1, len(stem_nodes)+1))\n",
    "for i in range(len(stem_nodes)):\n",
    "    index_stem[i] = np.where( node_connection[:,1] == stem_nodes[i])\n",
    "\n",
    "for i in range(len(index_stem)-1):\n",
    "    node_connection[index_stem[i+1][0][0]]=node_connection[index_stem[i+1][0][0]][::-1]"
   ]
  },
  {
   "cell_type": "code",
   "execution_count": null,
   "metadata": {},
   "outputs": [],
   "source": [
    "name = \"carbon2020.xml\"\n",
    "plant = pb.Plant()\n",
    "plant.openXML(\"../../modelparameter/plant/\" + name)\n",
    "seeds = plant.getOrganRandomParameter(pb.OrganTypes.seed)\n",
    "roots = plant.getOrganRandomParameter(pb.OrganTypes.root)\n",
    "stems = plant.getOrganRandomParameter(pb.OrganTypes.stem)\n",
    "leafs = plant.getOrganRandomParameter(pb.OrganTypes.leaf)\n",
    "plant.initialize(True)\n",
    "plant.initialize(True)\n",
    "day = 1\n",
    "hour= day*24\n",
    "plant.simulate(day)\n",
    "organ = plant.getOrgans()\n",
    "plant.write(\"{}{}{}.vtp\".format(hour,str(name),\"1st_test\"))"
   ]
  },
  {
   "cell_type": "code",
   "execution_count": null,
   "metadata": {},
   "outputs": [],
   "source": [
    "organtype = np.array([np.array(s) for s in plant.getParameter('organType')])\n",
    "lines = list([list(s) for s in plant.getPolylines()])\n",
    "segs = np.array([np.array(s) for s in plant.getSegments()])\n",
    "nods = np.array([np.array(s) for s in plant.getNodes()])\n",
    "node_organtype = np.zeros(len(nods)-1)\n",
    "k=0\n",
    "for i in range(0,len(organtype)):\n",
    "    for ii in range(0,len(lines[i])-1):\n",
    "        node_organtype[k]= organtype[i]\n",
    "        k=k+1\n",
    "nodes = nods/100 # convert from cm to m \n",
    "node_connection_o = segs\n",
    "nodes_with_organtype = np.column_stack([node_connection_o, node_organtype]) #make the node has organtype, to know the source sink relation\n",
    "node_connection1, node_connection2 = np.split(node_connection_o.T,2) #seperate the 2-number nodes into two list\n",
    "node_connection1 = np.row_stack([node_connection1, node_organtype]) #first numbe list\n",
    "node_connection2 = np.row_stack([node_connection2, node_organtype]) #second number list\n",
    "nodes_organtype = np.column_stack([node_connection1,node_connection2])\n",
    "_, indices = np.unique(nodes_organtype.T[:,0], return_index=True) #sort the list to remove duplicates\n",
    "nodes_organtype = nodes_organtype.T[indices,:]\n",
    "nodes_cor = np.column_stack([nodes_organtype, nodes]) # adding coordinates into the connections\n",
    "node_connection = np.copy(node_connection_o)\n",
    "unq, unq_idx, unq_cnt = np.unique(node_connection, return_inverse=True, return_counts=True)# check if all the connections are unique\n",
    "nodes_organtype = np.column_stack((nodes_organtype,unq_cnt ))\n",
    "nodes_organtype.astype(np.int_)\n",
    "node_connection.astype(np.int_)\n",
    "nodes_cor = np.column_stack([nodes_organtype, nodes])\n",
    "nodes_cor = np.column_stack([nodes_organtype, nodes]) # adding coordinates into the connections\n",
    "node_connection = np.copy(node_connection_o)\n",
    "unq, unq_idx, unq_cnt = np.unique(node_connection, return_inverse=True, return_counts=True)# check if all the connections are unique\n",
    "nodes_organtype = np.column_stack((nodes_organtype,unq_cnt ))\n",
    "nodes_organtype.astype(np.int_)\n",
    "node_connection.astype(np.int_)\n",
    "nodes_cor = np.column_stack([nodes_organtype, nodes])\n",
    "stem_nodes = nodes_organtype[(nodes_organtype[:,1]== 4)|(nodes_organtype[:,1]== 3)][:,0]\n",
    "index_stem= list(range(1, len(stem_nodes)+1))\n",
    "for i in range(len(stem_nodes)):\n",
    "    index_stem[i] = np.where( node_connection[:,1] == stem_nodes[i])\n",
    "\n",
    "for i in range(len(index_stem)-1):\n",
    "    node_connection[index_stem[i+1][0][0]]=node_connection[index_stem[i+1][0][0]][::-1]"
   ]
  },
  {
   "cell_type": "code",
   "execution_count": null,
   "metadata": {},
   "outputs": [],
   "source": [
    "zero_nodes =  np.where( node_connection[:,0] == 0)\n",
    "for i in range(len(zero_nodes[0])):\n",
    "    node_connection[zero_nodes[0][i]][0]=1\n",
    "node_connection[zero_nodes[0][-1]] = node_connection[zero_nodes[0][-1]][::-1] \n",
    "node_connection\n",
    "nodes_organtype[1,1] =1\n",
    "node_connection[0,1] =0\n",
    "node_connection[0,0] =0\n",
    "nodes_organtype[0,1] =0\n",
    "nodes_organtype[0,2] =0\n",
    "nodes_organtype[0,3] =0\n",
    "nodes_organtype = np.delete(nodes_organtype,0,0)\n",
    "node_connection = np.delete(node_connection,0,0)\n",
    "nodes_organtype[0,2] =len(zero_nodes[0])\n",
    "nodes_organtype[0,3] =len(zero_nodes[0])"
   ]
  },
  {
   "cell_type": "code",
   "execution_count": null,
   "metadata": {},
   "outputs": [],
   "source": [
    "pi= 3.1415926\n",
    "\n",
    "k = 1.118e-12 # conductivity (m2)\n",
    "n = 1.7e-9 / 3600 # viscosity (MPa.h)\n",
    "s = (12.880e-6)**2*pi # surface (m2)\n",
    "l = 5e-2 # length (m)\n",
    "\n",
    "K1 = (k/n)*(s/l) *10**6\n",
    "\n",
    "K_1 = (1 / K1)\n",
    "#print(K_1)\n",
    "\n",
    "# 1 meter inner phloem resistance\n",
    "\n",
    "k = 0.693e-12 # conductivity (m2)\n",
    "n = 1.7e-9 / 3600 # viscosity (MPa.h)\n",
    "s = (14.6e-6)**2*pi # surface (m2)\n",
    "l = 5e-2 # length (m)\n",
    "\n",
    "K1 = (k/n)*(s/l) *10**6\n",
    "\n",
    "K_4 = (1 / K1)\n",
    "#print(K_4)\n",
    "# 4 meter inner phloem resistance\n",
    "\n",
    "k = 0.879e-12 # conductivity (m2)\n",
    "n = 1.7e-9 / 3600 # viscosity (MPa.h)\n",
    "s = (9.83e-6)**2*pi # surface (m2)\n",
    "l = 5e-2 # length (m)\n",
    "\n",
    "K1 = (k/n)*(s/l) *10**6\n",
    "\n",
    "K_7 = (1 / K1)\n",
    "#print(K_7)\n",
    "\n",
    "#7 meter inner phloem resistance\n",
    "\n",
    "k = 1.795e-12 # conductivity (m**2)\n",
    "n = 1.7e-9 / 3600 # viscosity (MPa.h)\n",
    "s = (13.830e-6)**2*pi # surface (m**2)\n",
    "l = 5e-2 # length (m)\n",
    "\n",
    "K1 = (k/n)*(s/l) *10**6 \n",
    "\n",
    "K_1_i = (1 / K1)\n",
    "#print(K_1_i)\n",
    "\n",
    "k = 0.98712e-12 # conductivity (m**2)\n",
    "n = 1.7e-9 / 3600 # viscosity (MPa.h)\n",
    "s = (19.710e-6)**2*pi # surface (m**2)\n",
    "l = 5e-2 # length (m)\n",
    "\n",
    "K1 = (k/n)*(s/l) *10**6\n",
    "\n",
    "K_4_i = (1 / K1)\n",
    "#print(K_4_i)\n",
    "\n",
    "k = 0.3532e-12 # conductivity (m**2)\n",
    "n = 1.7e-9 / 3600 # viscosity (MPa.h)\n",
    "s = (10.670e-6)**2*pi # surface (m**2)\n",
    "l = 5e-2 # length (m)\n",
    "\n",
    "K1 = (k/n)*(s/l) *10**6\n",
    "\n",
    "K_7_i = (1 / K1)\n",
    "#print(K_7_i)\n",
    "\n",
    "R_name = [1,4,7]\n",
    "R_ex_number = [K_1,K_4,K_7] #external phloem resistance\n",
    "R_in_number = [K_1_i,K_4_i,K_7_i] #internal phloem resistance\n",
    "\n",
    "\n",
    "plt.rcParams['figure.figsize'] = [10, 10]\n",
    "\n",
    "slope, intercept, r_value, p_value, std_err = stats.linregress(R_name[0:2], R_ex_number[0:2]) #least square regression\n",
    "slope2, intercept2, r_value2, p_value2, std_err2 = stats.linregress(R_name[1:3], R_ex_number[1:3]) #least square regression\n",
    "#plt.plot(R_name[0:2], R_ex_number[0:2], 'o', label='Resistance in external phloem')\n",
    "#plt.plot(R_name[1:3], R_ex_number[1:3], 'o', label='Resistance in external phloem', c='black' )\n",
    "#plt.plot(R_name[0:2], intercept + slope*R_name[0:2], 'r', label='fitted line1')\n",
    "#plt.plot(R_name[1:3], intercept2 + slope2*R_name[1:3], 'r', label='fitted line2')\n",
    "#plt.xlabel(\"Distance to seed (meter)\")\n",
    "#plt.ylabel(\"Resistance (MPa h mL$^{-1}$))\")\n",
    "#plt.legend()\n",
    "#plt.show()\n",
    "\n",
    "\n",
    "stem_nodes = nodes_organtype[(nodes_organtype[:,1]== 3)][:,0] \n",
    "root_nodes = nodes_organtype[(nodes_organtype[:,1]== 2)][:,0] \n",
    "leaf_nodes = nodes_organtype[(nodes_organtype[:,1]== 4)][:,0] \n",
    "def organ_marker(int):\n",
    "    if int in leaf_nodes:\n",
    "    #if int == 21: #int is source \n",
    "        return 'o'\n",
    "    elif int in root_nodes : #int is sink\n",
    "        return 'x'\n",
    "    #elif int == 40 :\n",
    "    elif int in stem_nodes:\n",
    "        return '*'\n",
    "    else:\n",
    "        return 'None'\n",
    "\n",
    "#node_connection_cor\n",
    "nodes_c_cor = np.full((len(node_connection), 3),0.0)\n",
    "#charar = np.chararray((3, 3))\n",
    "nodes_org = np.full((len(node_connection), 1),0)\n",
    "\n",
    "for i in range(0,len(node_connection)-1):\n",
    "    nodes_org[i]= nodes_organtype[nodes_organtype[:,0] == node_connection[i][0]][0][1]\n",
    "nodes_c_marker = np.full((len(node_connection), 1),'k')\n",
    "\n",
    "for i in range(0,len(node_connection)-1):\n",
    "    nodes_c_marker[i]= organ_marker(node_connection[i][0])\n",
    "#nodes_c_marker[0][0]= 'D'\n",
    "nodes_c_marker.astype(str, copy = True)\n",
    "\n",
    "\n",
    "for i in range(0,len(node_connection)): #calculate the mid point of two segment nodes\n",
    "    nodes_c_cor[i] = (nodes[node_connection[i,0]] + nodes[node_connection[i,1]])/2\n",
    "\n",
    "\n",
    "\n",
    "\n",
    "b = np.zeros((nodes_organtype.shape[0],nodes_organtype.shape[1]+1)); b[:,:-1] = nodes_organtype\n",
    "node_c_o = np.zeros((node_connection.shape[0],node_connection.shape[1]+5)); node_c_o[:,:-5] = node_connection\n",
    "\n",
    "for i in range(0,len(node_connection)):\n",
    "    node_c_o[i][2:5] = (nodes[node_connection[i,0]] + nodes[node_connection[i,1]])/2\n",
    "#\tnode_c_o[i][6] = nodes_organtype[node_c_o[i][0]][0]\n",
    "    #node_c_o[i][6] = nodes_organtype[node_c_o[i][0]][1]\n",
    "\n",
    "\n",
    "\n",
    "\n",
    "r_st_all = np.full((len(node_connection), 1),0.0)\n",
    "for i in range(0,len(node_connection)):\n",
    "    r_st_all[i]= intercept + slope*node_c_o[i,4]\n",
    "\n",
    "\n",
    "\n",
    "node_c_o = pd.DataFrame({'1st_node':node_connection[:,0],'2nd_node':node_connection[:,1],'x':node_c_o[:,2]\n",
    "                        ,'y':node_c_o[:,3],'z':node_c_o[:,4], 'organ_type':nodes_org[:,0],'marker':nodes_c_marker[:,0], 'r_st':r_st_all[:,0]})\n",
    "#claculate the length from seed of every nodes (root is minus)\n",
    "nodes_length = np.zeros(len(nodes_cor))\n",
    "for i in range(1,len(nodes_cor)):\n",
    "    if nodes_cor[i][1]==2: #if the organtype is root\n",
    "        nodes_length[i] = nodes_length[node_connection_o[(node_connection_o[:,1] == i)][0][0]] - ((nodes_cor[node_connection_o[(node_connection_o[:,1] == i)][0][0]][3]-nodes_cor[node_connection_o[(node_connection_o[:,1] == i)][0][1]][3])**2 + (nodes_cor[node_connection_o[(node_connection_o[:,1] == i)][0][0]][4]-nodes_cor[node_connection_o[(node_connection_o[:,1] == i)][0][1]][4])**2 + (nodes_cor[node_connection_o[(node_connection_o[:,1] == i)][0][0]][5]-nodes_cor[node_connection_o[(node_connection_o[:,1] == i)][0][1]][5])**2)**(0.5) \n",
    "    else:\n",
    "        nodes_length[i] = nodes_length[node_connection_o[(node_connection_o[:,1] == i)][0][0]] + ((nodes_cor[node_connection_o[(node_connection_o[:,1] == i)][0][0]][3]-nodes_cor[node_connection_o[(node_connection_o[:,1] == i)][0][1]][3])**2 + (nodes_cor[node_connection_o[(node_connection_o[:,1] == i)][0][0]][4]-nodes_cor[node_connection_o[(node_connection_o[:,1] == i)][0][1]][4])**2 + (nodes_cor[node_connection_o[(node_connection_o[:,1] == i)][0][0]][5]-nodes_cor[node_connection_o[(node_connection_o[:,1] == i)][0][1]][5])**2)**(0.5) \n",
    "\n",
    "\n",
    "\n",
    "#\t print(nodes_length[i])\n",
    "#\t print(i)\n",
    "    #print(node_connection[i])\n",
    "    #the length of the first node of connection i in node_connection\n",
    "    #node_c_o[i][6] = nodes_organtype[node_c_o[i][0]][0]\n",
    "    #node_c_o[i][6] = nodes_organtype[node_c_o[i][0]][1]\n",
    "\n",
    "    #manual check the length of all nodes.\n",
    "nodes_cor[node_connection[(node_connection[:,1] == 3)][0][0]][2]\n",
    "#len(nodes_length)\n",
    "#print(len(nodes_length))\n",
    "nodes_length\n",
    "#node_connection_o[0,0]=1\n",
    "nodes_length = np.delete(nodes_length,0,0)\n",
    "np.c_[ nodes_organtype, nodes_length]\n",
    "\n",
    "\n",
    "len(nodes_organtype)\n",
    "#node_connection\n",
    "len(nodes_cor)\n",
    "nodes_cor[:,4]\n",
    "nodes_r_st = np.zeros(len(nodes_cor)-1)\n",
    "for i in range(0,len(nodes_cor)-1):\n",
    "    if nodes_length[i] > R_name[1]:\n",
    "        nodes_r_st[i]= (intercept2 + slope2*nodes_length[i])\n",
    "    else:\n",
    "        nodes_r_st[i]= (intercept + slope*nodes_length[i])\n",
    "\n",
    "\n",
    "\n",
    "#R_st is calculated based on the height (or the z axis value), \n",
    "\n",
    "#calcuate the volumn of st\n",
    "\n",
    "\n",
    "# file-output.py"
   ]
  },
  {
   "cell_type": "code",
   "execution_count": null,
   "metadata": {},
   "outputs": [],
   "source": [
    "Soil_water = [0]*(len(node_connection)+1)\n",
    "write_PiafMunch_parameter(node_connection, nodes_organtype, nodes_r_st, unq_cnt, Soil_water, piafmunch_outputname, hour)"
   ]
  },
  {
   "cell_type": "code",
   "execution_count": null,
   "metadata": {},
   "outputs": [],
   "source": [
    "os.system(' /mnt/c/prog_sct.bas/programs/C++/PIAFMunch2/projects/PIAFMunch2.exe {} -noGUI -q'.format(piafmunch_outputname))"
   ]
  },
  {
   "cell_type": "code",
   "execution_count": null,
   "metadata": {},
   "outputs": [],
   "source": [
    "node_connection[2]=[3,4]"
   ]
  },
  {
   "cell_type": "code",
   "execution_count": null,
   "metadata": {},
   "outputs": [],
   "source": [
    "node_connection[16] = [1,18]"
   ]
  },
  {
   "cell_type": "code",
   "execution_count": null,
   "metadata": {},
   "outputs": [],
   "source": [
    "node_connection\n",
    "nodes_organtype[1,1] =1\n",
    "node_connection[0,1] =0\n",
    "node_connection[0,0] =0\n",
    "nodes_organtype[0,1] =0\n",
    "nodes_organtype[0,2] =0\n",
    "nodes_organtype[0,3] =0\n",
    "nodes_organtype = np.delete(nodes_organtype,0,0)\n",
    "node_connection = np.delete(node_connection,0,0)"
   ]
  },
  {
   "cell_type": "code",
   "execution_count": null,
   "metadata": {},
   "outputs": [],
   "source": [
    "nodes_c_with_1"
   ]
  },
  {
   "cell_type": "code",
   "execution_count": null,
   "metadata": {},
   "outputs": [],
   "source": [
    "nodes_c_with_1"
   ]
  },
  {
   "cell_type": "code",
   "execution_count": null,
   "metadata": {},
   "outputs": [],
   "source": [
    "total_nodes_reversed"
   ]
  },
  {
   "cell_type": "code",
   "execution_count": null,
   "metadata": {},
   "outputs": [],
   "source": [
    "reversed_node"
   ]
  },
  {
   "cell_type": "code",
   "execution_count": null,
   "metadata": {},
   "outputs": [],
   "source": [
    "nodes_c_with_1 = np.where(node_connection[:,0]==1)\n",
    "shoot_c_with_1 = node_connection[nodes_c_with_1]\n",
    "node_need_reverse = np.where(nodes_organtype[node_connection[nodes_c_with_1][:,1]-1][:,1]==3)\n",
    "total_nodes_reversed = nodes_c_with_1[0][node_need_reverse[0]][0]\n",
    "reversed_node = node_connection[nodes_c_with_1[0][node_need_reverse][0]][::-1]\n",
    "node_connection[total_nodes_reversed] = reversed_node"
   ]
  },
  {
   "cell_type": "code",
   "execution_count": null,
   "metadata": {},
   "outputs": [],
   "source": []
  },
  {
   "cell_type": "code",
   "execution_count": null,
   "metadata": {},
   "outputs": [],
   "source": [
    "node_connection"
   ]
  },
  {
   "cell_type": "code",
   "execution_count": null,
   "metadata": {},
   "outputs": [],
   "source": [
    "nodes_organtype"
   ]
  }
 ],
 "metadata": {
  "kernelspec": {
   "display_name": "Python 3",
   "language": "python",
   "name": "python3"
  },
  "language_info": {
   "codemirror_mode": {
    "name": "ipython",
    "version": 3
   },
   "file_extension": ".py",
   "mimetype": "text/x-python",
   "name": "python",
   "nbconvert_exporter": "python",
   "pygments_lexer": "ipython3",
   "version": "3.6.9"
  }
 },
 "nbformat": 4,
 "nbformat_minor": 4
}
