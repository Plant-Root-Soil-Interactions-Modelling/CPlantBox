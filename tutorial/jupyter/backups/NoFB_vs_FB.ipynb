{
 "cells": [
  {
   "cell_type": "code",
   "execution_count": null,
   "metadata": {},
   "outputs": [],
   "source": []
  },
  {
   "cell_type": "markdown",
   "metadata": {},
   "source": [
    "## With Carbon feedback\n",
    "Growth control is the main purpose of having a feedback from carbon content on the growth rate.\n"
   ]
  },
  {
   "cell_type": "code",
   "execution_count": 1,
   "metadata": {},
   "outputs": [],
   "source": [
    "from CPlantBox_PiafMunch import * #import all the libraries"
   ]
  },
  {
   "cell_type": "code",
   "execution_count": 114,
   "metadata": {},
   "outputs": [],
   "source": [
    "name = \"carbon2020.xml\"\n",
    "plant = pb.Plant()\n",
    "\n",
    "# 2. A split pot experiment\n",
    "topBox = pb.SDF_PlantBox(22, 20, 5)\n",
    "#topBox = pb.SDF_RotateTranslate(topBox, pb.Vector3d(0, 0, 5))\n",
    "# sideBox = pb.SDF_PlantBox(12, 12, 35)\n",
    "# left = pb.SDF_RotateTranslate(sideBox, pb.Vector3d(-6.5, 0, -5))\n",
    "# right = pb.SDF_RotateTranslate(sideBox, pb.Vector3d(6.5, 0, -5))\n",
    "sideBox = pb.SDF_PlantBox(10, 20, 35)\n",
    "left = pb.SDF_RotateTranslate(sideBox, pb.Vector3d(-6, 0, -5))\n",
    "right = pb.SDF_RotateTranslate(sideBox, pb.Vector3d(6, 0, -5))\n",
    "box_ = []\n",
    "box_.append(topBox)\n",
    "box_.append(left)\n",
    "box_.append(right)\n",
    "splitBox = pb.SDF_Union(box_)\n",
    "\n",
    "\n",
    "# Set geometry: rotatedRhizotron, splitBox, or rhizoTube\n",
    "plant.setGeometry(splitBox)\n",
    "#plant.write(\"splitBox.py\")\n",
    "plant.openXML(\"../../modelparameter/plant/\" + name)\n",
    "seeds = plant.getOrganRandomParameter(pb.OrganTypes.seed)\n",
    "roots = plant.getOrganRandomParameter(pb.OrganTypes.root)\n",
    "stems = plant.getOrganRandomParameter(pb.OrganTypes.stem)\n",
    "leafs = plant.getOrganRandomParameter(pb.OrganTypes.leaf)\n",
    "plant.initialize(True)\n",
    "\n",
    "carbon_logger = []\n",
    "growth_rate_logger = []\n",
    "exudation_logger = []\n",
    "root_length_logger = []\n",
    "all_length_logger = []\n",
    "taproot_n_all = []\n",
    "k1_logger = []\n",
    "leaf_logger = []"
   ]
  },
  {
   "cell_type": "code",
   "execution_count": 170,
   "metadata": {},
   "outputs": [
    {
     "data": {
      "text/plain": [
       "[[0, 1, 2],\n",
       " [0, 2, 4],\n",
       " [0, 2, 4],\n",
       " [0, 3, 6],\n",
       " [0, 5, 10],\n",
       " [0, 6, 12],\n",
       " [0, 7, 14],\n",
       " [0, 7, 14],\n",
       " [0, 8, 16],\n",
       " [0, 8, 16],\n",
       " [0, 8, 16],\n",
       " [0, 8, 16],\n",
       " [0, 8, 16],\n",
       " [0, 9, 18],\n",
       " [0, 9, 18],\n",
       " [0, 9, 18],\n",
       " [0, 9, 18],\n",
       " [0, 9, 18],\n",
       " [0, 9, 18],\n",
       " [0, 10, 20],\n",
       " [0, 10, 20],\n",
       " [0, 10, 20],\n",
       " [0, 10, 20],\n",
       " [0, 10, 20],\n",
       " [0, 10, 20],\n",
       " [0, 10, 20],\n",
       " [0, 10, 20],\n",
       " [0, 11, 22],\n",
       " [0, 11, 22],\n",
       " [0, 11, 22],\n",
       " [0, 12, 24],\n",
       " [0, 12, 24],\n",
       " [0, 12, 24],\n",
       " [0, 12, 24],\n",
       " [0, 12, 24],\n",
       " [0, 12, 24],\n",
       " [0, 12, 24],\n",
       " [0, 12, 24],\n",
       " [0, 12, 24],\n",
       " [0, 12, 24]]"
      ]
     },
     "execution_count": 170,
     "metadata": {},
     "output_type": "execute_result"
    }
   ],
   "source": [
    "taproot_n_all"
   ]
  },
  {
   "cell_type": "code",
   "execution_count": 21,
   "metadata": {},
   "outputs": [
    {
     "data": {
      "text/plain": [
       "21.206007461629987"
      ]
     },
     "execution_count": 21,
     "metadata": {},
     "output_type": "execute_result"
    }
   ],
   "source": [
    "20.79 + 83.597* 2.71828**(1.39578* (0-0.5)) /100"
   ]
  },
  {
   "cell_type": "code",
   "execution_count": 143,
   "metadata": {},
   "outputs": [
    {
     "name": "stdout",
     "output_type": "stream",
     "text": [
      "Help on Leaf in module plantbox object:\n",
      "\n",
      "class Leaf(Organ)\n",
      " |  Method resolution order:\n",
      " |      Leaf\n",
      " |      Organ\n",
      " |      pybind11_builtins.pybind11_object\n",
      " |      builtins.object\n",
      " |  \n",
      " |  Methods defined here:\n",
      " |  \n",
      " |  __init__(...)\n",
      " |      __init__(*args, **kwargs)\n",
      " |      Overloaded function.\n",
      " |      \n",
      " |      1. __init__(self: plantbox.Leaf, arg0: plantbox.Organism, arg1: int, arg2: plantbox.Vector3d, arg3: float, arg4: plantbox.Organ, arg5: float, arg6: int) -> None\n",
      " |      \n",
      " |      2. __init__(self: plantbox.Leaf, arg0: int, arg1: plantbox.OrganSpecificParameter, arg2: bool, arg3: bool, arg4: float, arg5: float, arg6: plantbox.Vector3d, arg7: float, arg8: int, arg9: bool, arg10: int) -> None\n",
      " |  \n",
      " |  calcAge(...)\n",
      " |      calcAge(self: plantbox.Leaf, arg0: float) -> float\n",
      " |  \n",
      " |  calcCreationTime(...)\n",
      " |      calcCreationTime(self: plantbox.Leaf, arg0: float) -> float\n",
      " |  \n",
      " |  calcLength(...)\n",
      " |      calcLength(self: plantbox.Leaf, arg0: float) -> float\n",
      " |  \n",
      " |  dx(...)\n",
      " |      dx(self: plantbox.Leaf) -> float\n",
      " |  \n",
      " |  getLeafRandomParameter(...)\n",
      " |      getLeafRandomParameter(self: plantbox.Leaf) -> plantbox.LeafRandomParameter\n",
      " |  \n",
      " |  param(...)\n",
      " |      param(self: plantbox.Leaf) -> plantbox.LeafSpecificParameter\n",
      " |  \n",
      " |  ----------------------------------------------------------------------\n",
      " |  Methods inherited from Organ:\n",
      " |  \n",
      " |  __str__(...)\n",
      " |      __str__(self: plantbox.Organ) -> str\n",
      " |  \n",
      " |  addChild(...)\n",
      " |      addChild(self: plantbox.Organ, arg0: plantbox.Organ) -> None\n",
      " |  \n",
      " |  addNode(...)\n",
      " |      addNode(*args, **kwargs)\n",
      " |      Overloaded function.\n",
      " |      \n",
      " |      1. addNode(self: plantbox.Organ, arg0: plantbox.Vector3d, arg1: float) -> None\n",
      " |      \n",
      " |      2. addNode(self: plantbox.Organ, arg0: plantbox.Vector3d, arg1: int, arg2: float) -> None\n",
      " |  \n",
      " |  copy(...)\n",
      " |      copy(self: plantbox.Organ, arg0: CPlantBox::Organism) -> plantbox.Organ\n",
      " |  \n",
      " |  getAge(...)\n",
      " |      getAge(self: plantbox.Organ) -> float\n",
      " |  \n",
      " |  getChild(...)\n",
      " |      getChild(self: plantbox.Organ, arg0: int) -> plantbox.Organ\n",
      " |  \n",
      " |  getId(...)\n",
      " |      getId(self: plantbox.Organ) -> int\n",
      " |  \n",
      " |  getLength(...)\n",
      " |      getLength(self: plantbox.Organ) -> float\n",
      " |  \n",
      " |  getNode(...)\n",
      " |      getNode(self: plantbox.Organ, arg0: int) -> plantbox.Vector3d\n",
      " |  \n",
      " |  getNodeCT(...)\n",
      " |      getNodeCT(self: plantbox.Organ, arg0: int) -> float\n",
      " |  \n",
      " |  getNodeId(...)\n",
      " |      getNodeId(self: plantbox.Organ, arg0: int) -> int\n",
      " |  \n",
      " |  getNumberOfChildren(...)\n",
      " |      getNumberOfChildren(self: plantbox.Organ) -> int\n",
      " |  \n",
      " |  getNumberOfNodes(...)\n",
      " |      getNumberOfNodes(self: plantbox.Organ) -> int\n",
      " |  \n",
      " |  getOldNumberOfNodes(...)\n",
      " |      getOldNumberOfNodes(self: plantbox.Organ) -> int\n",
      " |  \n",
      " |  getOrganRandomParameter(...)\n",
      " |      getOrganRandomParameter(self: plantbox.Organ) -> plantbox.OrganRandomParameter\n",
      " |  \n",
      " |  getOrganism(...)\n",
      " |      getOrganism(self: plantbox.Organ) -> CPlantBox::Organism\n",
      " |  \n",
      " |  getOrgans(...)\n",
      " |      getOrgans(*args, **kwargs)\n",
      " |      Overloaded function.\n",
      " |      \n",
      " |      1. getOrgans(self: plantbox.Organ, ot: int = -1) -> List[plantbox.Organ]\n",
      " |      \n",
      " |      2. getOrgans(self: plantbox.Organ, arg0: int, arg1: List[plantbox.Organ]) -> None\n",
      " |  \n",
      " |  getParam(...)\n",
      " |      getParam(self: plantbox.Organ) -> plantbox.OrganSpecificParameter\n",
      " |  \n",
      " |  getParameter(...)\n",
      " |      getParameter(self: plantbox.Organ, arg0: str) -> float\n",
      " |  \n",
      " |  getParent(...)\n",
      " |      getParent(self: plantbox.Organ) -> plantbox.Organ\n",
      " |  \n",
      " |  getSegments(...)\n",
      " |      getSegments(self: plantbox.Organ) -> List[plantbox.Vector2i]\n",
      " |  \n",
      " |  hasMoved(...)\n",
      " |      hasMoved(self: plantbox.Organ) -> bool\n",
      " |  \n",
      " |  isActive(...)\n",
      " |      isActive(self: plantbox.Organ) -> bool\n",
      " |  \n",
      " |  isAlive(...)\n",
      " |      isAlive(self: plantbox.Organ) -> bool\n",
      " |  \n",
      " |  organType(...)\n",
      " |      organType(self: plantbox.Organ) -> int\n",
      " |  \n",
      " |  setOrganism(...)\n",
      " |      setOrganism(self: plantbox.Organ, arg0: CPlantBox::Organism) -> None\n",
      " |  \n",
      " |  setParent(...)\n",
      " |      setParent(self: plantbox.Organ, arg0: plantbox.Organ) -> None\n",
      " |  \n",
      " |  simulate(...)\n",
      " |      simulate(self: plantbox.Organ, dt: float, verbose: bool = False) -> None\n",
      " |  \n",
      " |  ----------------------------------------------------------------------\n",
      " |  Data descriptors inherited from Organ:\n",
      " |  \n",
      " |  iHeading\n",
      " |  \n",
      " |  parentBaseLength\n",
      " |  \n",
      " |  parentNI\n",
      " |  \n",
      " |  ----------------------------------------------------------------------\n",
      " |  Methods inherited from pybind11_builtins.pybind11_object:\n",
      " |  \n",
      " |  __new__(*args, **kwargs) from pybind11_builtins.pybind11_type\n",
      " |      Create and return a new object.  See help(type) for accurate signature.\n",
      "\n"
     ]
    },
    {
     "data": {
      "text/plain": [
       "4"
      ]
     },
     "execution_count": 143,
     "metadata": {},
     "output_type": "execute_result"
    }
   ],
   "source": [
    "help(organ[-1])\n",
    "organ[-1].organType()"
   ]
  },
  {
   "cell_type": "code",
   "execution_count": 169,
   "metadata": {},
   "outputs": [
    {
     "name": "stdout",
     "output_type": "stream",
     "text": [
      "1.9840525870552153\n",
      "1.9869479190372135\n",
      "4.981510681417586\n"
     ]
    }
   ],
   "source": [
    "leaf1=int(N1L_node[0][0]-1)\n",
    "leaf2= int(N1L_node[1][0]-1)\n",
    "leaf3= int(N1L_node[2][0]-1)\n",
    "organ[node_id_to_organ[leaf2]].organType()\n",
    "organ[node_id_to_organ[leaf3]].organType()\n",
    "organ[0]\n",
    "node_id_to_organ[leaf1]\n",
    "for leaf in N1L_node:\n",
    "    leaf_nb = int(leaf[0]-1)\n",
    "    print(organ[node_id_to_organ[leaf_nb]].getLength())\n"
   ]
  },
  {
   "cell_type": "code",
   "execution_count": 167,
   "metadata": {},
   "outputs": [
    {
     "name": "stdout",
     "output_type": "stream",
     "text": [
      "output successful\n",
      "available carbon:  1.2531687272245289\n",
      "1\n",
      "waterpotebtial 0.623907461629989\n",
      "growth rate 0.7810235466949521\n",
      "available carbon:  1.2531687272245289\n",
      "13\n",
      "waterpotebtial 0.623907461629989\n",
      "growth rate 0.7810235466949521\n",
      "available carbon:  1.2531687272245289\n",
      "25\n",
      "waterpotebtial 0.623907461629989\n",
      "growth rate 0.7810235466949521\n",
      "available carbon:  1.0570356449146205\n",
      "2\n",
      "waterpotebtial 0.623907461629989\n",
      "growth rate 0.6585465534400484\n",
      "available carbon:  1.0570356449146205\n",
      "14\n",
      "waterpotebtial 0.623907461629989\n",
      "growth rate 0.6585465534400484\n",
      "available carbon:  1.0570356449146205\n",
      "26\n",
      "waterpotebtial 0.623907461629989\n",
      "growth rate 0.6585465534400484\n",
      "available carbon:  0.8794416437064435\n",
      "3\n",
      "waterpotebtial 0.623907461629989\n",
      "growth rate 0.5475761758111326\n",
      "available carbon:  0.8794416437064435\n",
      "15\n",
      "waterpotebtial 0.623907461629989\n",
      "growth rate 0.5475761758111326\n",
      "available carbon:  0.8794416437064435\n",
      "27\n",
      "waterpotebtial 0.623907461629989\n",
      "growth rate 0.5475761758111326\n",
      "available carbon:  0.7216188120636647\n",
      "4\n",
      "waterpotebtial 0.623907461629989\n",
      "growth rate 0.44885710083201585\n",
      "available carbon:  0.7216188120636647\n",
      "16\n",
      "waterpotebtial 0.623907461629989\n",
      "growth rate 0.44885710083201585\n",
      "available carbon:  0.7216188120636647\n",
      "28\n",
      "waterpotebtial 0.623907461629989\n",
      "growth rate 0.44885710083201585\n",
      "available carbon:  0.5839762418589858\n",
      "5\n",
      "waterpotebtial 0.623907461629989\n",
      "growth rate 0.36260552796122414\n",
      "available carbon:  0.5839762418589858\n",
      "17\n",
      "waterpotebtial 0.623907461629989\n",
      "growth rate 0.36260552796122414\n",
      "available carbon:  0.5839762418589858\n",
      "29\n",
      "waterpotebtial 0.623907461629989\n",
      "growth rate 0.36260552796122414\n",
      "available carbon:  0.46627665980623956\n",
      "6\n",
      "waterpotebtial 0.623907461629989\n",
      "growth rate 0.28861967103746655\n",
      "available carbon:  0.46627665980623956\n",
      "18\n",
      "waterpotebtial 0.623907461629989\n",
      "growth rate 0.28861967103746655\n",
      "available carbon:  0.46627665980623956\n",
      "30\n",
      "waterpotebtial 0.623907461629989\n",
      "growth rate 0.28861967103746655\n",
      "available carbon:  0.36780583962414465\n",
      "7\n",
      "waterpotebtial 0.623907461629989\n",
      "growth rate 0.226381852468384\n",
      "available carbon:  0.36780583962414465\n",
      "19\n",
      "waterpotebtial 0.623907461629989\n",
      "growth rate 0.226381852468384\n",
      "available carbon:  0.36780583962414465\n",
      "31\n",
      "waterpotebtial 0.623907461629989\n",
      "growth rate 0.226381852468384\n",
      "available carbon:  0.2875097681347988\n",
      "8\n",
      "waterpotebtial 0.623907461629989\n",
      "growth rate 0.17685355929036517\n",
      "available carbon:  0.2875097681347988\n",
      "20\n",
      "waterpotebtial 0.623907461629989\n",
      "growth rate 0.17685355929036517\n",
      "available carbon:  0.2875097681347988\n",
      "32\n",
      "waterpotebtial 0.623907461629989\n",
      "growth rate 0.17685355929036517\n",
      "available carbon:  0.22960786704170352\n",
      "9\n",
      "waterpotebtial 0.623907461629989\n",
      "growth rate 0.14104492341796696\n",
      "available carbon:  0.22960786704170352\n",
      "21\n",
      "waterpotebtial 0.623907461629989\n",
      "growth rate 0.14104492341796696\n",
      "available carbon:  0.22960786704170352\n",
      "33\n",
      "waterpotebtial 0.623907461629989\n",
      "growth rate 0.14104492341796696\n",
      "available carbon:  0.11922092253464052\n",
      "0\n",
      "waterpotebtial 0.623907461629989\n",
      "growth rate 0.0724003942279012\n",
      "available carbon:  0.11922092253464052\n",
      "12\n",
      "waterpotebtial 0.623907461629989\n",
      "growth rate 0.0724003942279012\n",
      "available carbon:  0.11922092253464052\n",
      "24\n",
      "waterpotebtial 0.623907461629989\n",
      "growth rate 0.0724003942279012\n",
      "available carbon:  0.19690265631514411\n",
      "10\n",
      "waterpotebtial 0.623907461629989\n",
      "growth rate 0.1228490364897837\n",
      "available carbon:  0.17401998209443195\n",
      "11\n",
      "waterpotebtial 0.623907461629989\n",
      "growth rate 0.10857236530143317\n",
      "available carbon:  0.19690265631514411\n",
      "22\n",
      "waterpotebtial 0.623907461629989\n",
      "growth rate 0.1228490364897837\n",
      "available carbon:  0.17401998209443195\n",
      "23\n",
      "waterpotebtial 0.623907461629989\n",
      "growth rate 0.10857236530143317\n",
      "available carbon:  0.19690265631514411\n",
      "34\n",
      "waterpotebtial 0.623907461629989\n",
      "growth rate 0.1228490364897837\n",
      "available carbon:  0.17401998209443195\n",
      "35\n",
      "waterpotebtial 0.623907461629989\n",
      "growth rate 0.10857236530143317\n"
     ]
    }
   ],
   "source": [
    "# growth rate percentage based on water potential: y = 20.790289211055025 + 83.59701538925951e* **(x*1.3957803144484557)\n",
    "g_propotion = lambda water_potential : (20.79 + 83.597* 2.71828**(1.39578* (water_potential)) )/100\n",
    "# absolute respiration maintenance of plant segment = volumen of the segment\n",
    "# TODO to see if some other parameters from the output can be used as input\n",
    "# carbon feedback loop by days.\n",
    "for i in range(1,2): # i*days to simulation\n",
    "    plant.setGeometry(splitBox)\n",
    "    day = 1 # the step of every loop (day)\n",
    "    hour =24 # the hours of every loop (hour) used in PiafMunch\n",
    "    plant.simulate(day) # start simulation\n",
    "    organ = plant.getOrgans()\n",
    "    plant.write(\"{}{}{}.vtp\".format(\"only_Q_ST_test\",str(name),i*day)) #writes vtp the name is followed by the number of days simulated\n",
    "    # plant.write(\"{}{}{}.py\".format(hour,str(name),\"1st_test\"))\n",
    "    dict_all  = convert( plant ) # convert plant to python outputs\n",
    "    \n",
    "    piafmunch_outputname = name +\".ini\" # set the name of the parameters\n",
    "    Soil_water = [0]*(len(dict_all['node_connection'])+1) # initiate soil water potentil\n",
    "    Seg_radius = [0]*((len(organ))+1) # initiate the radius of each segment\n",
    "    k1 = [0]*(len(dict_all['node_connection'])+1) # k1 parameter in equation\n",
    "    node_id_to_organ = [0]*plant.getNumberOfNodes() #\n",
    "    \n",
    "    ###########\n",
    "    r_k1 = 1e-4 # magnitude midification, because the realistic value in literature need to be found\n",
    "    ###########\n",
    "    \n",
    "    k = 0\n",
    "    ########################################## python nodes conversion #########################################\n",
    "    \n",
    "    nodes_organtype = dict_all['nodes_organtype']\n",
    "    # sink nodes (nodes have one connection and on the right hand side)\n",
    "    N1R_node = nodes_organtype[(nodes_organtype[:,1] ==2 ) & (nodes_organtype[:,2] ==1 )] # remove seed. get roots with one connection\n",
    "    # source nodes\n",
    "    N1L_node = nodes_organtype[ ((nodes_organtype[:,1] ==4)|(nodes_organtype[:,1] ==3)  ) & (nodes_organtype[:,2] ==1 )] # remove seed. get stem or leaf with one connection\n",
    "    leaf_logger.append(len(N1L_node))\n",
    "    \n",
    "    ########################## nodewise iteration to know which organ it belongs to ###########################################\n",
    "    \n",
    "    for k in reversed(range(len(organ))):  # get all the organs\n",
    "        Seg_radius[k] = organ[k].getParam().a #the diameter of root\n",
    "        j=0\n",
    "        for j in range(1,organ[k].getNumberOfNodes()): # get all segments in one organs\n",
    "            node_id_to_organ[organ[k].getNodeId(j)]=k # set an id, so we can get the organ number from a node number\n",
    "            Carbon_main = Seg_radius[k]**2*3.1415926* organ[k].getOrganRandomParameter().dx *0.0032/(24)*0.2/4200 # calculate the maintenance by volume 4200 is the number of phloem\n",
    "            #Carbon_main = 1\n",
    "            # print(\"maintenance is : \", Carbon_main) # absolute carbon maintentance\n",
    "            k1[organ[k].getNodeId(j)] = Carbon_main\n",
    "    k1_logger.append(np.sum(k1))\n",
    "    taproot_length = [0] * (len(plant.getOrgans())+1)\n",
    "    all_organ_length = [0] * (len(plant.getOrgans())+1)\n",
    "    taproot_n = []\n",
    "    for root_n, root in enumerate(plant.getOrgans()): # recrusive get all the roots\n",
    "        if root.organType() == 2 and root.getParent().organType()==1: #make sure it is taproot\n",
    "            taproot_n.append(root_n)\n",
    "    taproot_n_all.append(taproot_n)\n",
    "             ############################# water potential in left and right !root! ##################################################\n",
    "    for j,organ_i in enumerate(plant.getOrgans()): # get all segments in one organs\n",
    "        if j == taproot_n[0] or organ_i.getParent().getId() == 1: # first taproot\n",
    "            Soil_water[j] = 0.5\n",
    "        elif j == taproot_n[1] or organ_i.getParent().getId() == 2:\n",
    "            Soil_water[j] = 0.5\n",
    "        elif j == taproot_n[2] or organ_i.getParent().getId() == 3:\n",
    "            Soil_water[j] = 0.5  \n",
    "        else:\n",
    "            Soil_water[j] = 0.5\n",
    "        \n",
    "        \n",
    "        \n",
    "        \n",
    "    ############################# water potential in left and right !boxex! ##################################################\n",
    "#     for i, roottip in enumerate(N1R_node): \n",
    "#         if left.getDist(plant.getNodes()[int(roottip[0])-1]) <0: # if it is in the left box\n",
    "#             Soil_water[i] = 0.1 # unit is added with a minus sign, actuall value is -0.2\n",
    "#         elif right.getDist(plant.getNodes()[int(roottip[0])-1]) <0: # if it is in the right box\n",
    "#             Soil_water[i] = 0.1 # actuall value is -0.5\n",
    "#         else:\n",
    "#             Soil_water[i] = 0.1 # actuall value is -0.1\n",
    "    \n",
    "    ################################# coupling layer with piafmunch ###################################################\n",
    "    homo_st = [20]*(len(dict_all[\"node_connection\"]))\n",
    "    # pass the absolute carbon maintentance to piafmunch\n",
    "    write_PiafMunch_parameter(dict_all['node_connection'], dict_all['nodes_organtype'], homo_st, dict_all['unq_cnt'], Soil_water, k1, piafmunch_outputname,hour)\n",
    "    # call piafmunch and rename the output file of the PiafMunch\n",
    "    os.system(' /mnt/c/prog_sct.bas/programs/C++/PIAFMunch2/projects/PIAFMunch2.exe {} -noGUI -q'.format(piafmunch_outputname))\n",
    "    now = datetime.datetime.now()\n",
    "    os.system('mv ./{}_{}-{:02}-{:02}*output.txt  ./{}_output.txt'.format(name, now.year ,now.month, now.day,name ) )\n",
    "    \n",
    "    ########################## convert carbon to growth rate ###########################################\n",
    "    piaf_output = read_output(name,  dict_all[\"node_connection\"])\n",
    "    one_growth_log = [0] * (len(plant.getOrgans())+1)\n",
    "    one_carbon_log = [0] * (len(plant.getOrgans())+1)\n",
    "    one_exudation_log = [0] * (len(plant.getOrgans())+1)\n",
    "    for node_i,node in enumerate(N1R_node): # CPlantBox growth rate: cm day-1\n",
    "        # print(i)\n",
    "        nodes_organ = organ[node_id_to_organ[int(node[0])-1]]\n",
    "        corss_area_root= nodes_organ.getParam().a**2*3.1415926 # this is also the carbon used for growth because mass need is 1 g DM cm−3\n",
    "        # carbon_need = # mass need is 1 g DM cm−3\n",
    "        # print(\"corss section area of root\", corss_area_root)\n",
    "        # carbon_content = piaf_output[\"Q_ST\"][-1][int(node[0])-1]* 12/1000 * 10 * volumn # directly pass the Q_ST * 1e5 to carbon content\n",
    "        num_of_phloem = 4200/0.12566370400000001\n",
    "       \n",
    "        carbon_content = piaf_output[\"Q_ST\"][-1][int(node[0])-1]* 12/1000 *24 *num_of_phloem /0.1/0.2\n",
    "        print(\"available carbon: \", carbon_content )\n",
    "        print(node_id_to_organ[int(node[0])-1])\n",
    "        \n",
    "        \n",
    "        \n",
    "        water_potential = g_propotion(0-Soil_water[node_i])\n",
    "        if i == 1:\n",
    "            r_water =  water_potential * nodes_organ.getParam().r\n",
    "        else: \n",
    "            r_water =  nodes_organ.getParam().r\n",
    "        print(\"waterpotebtial\", water_potential)\n",
    "        # nodes_organ.getParam().r =   max([0, min([water_potential ,carbon_content])] )\n",
    "        nodes_organ.getParam().r =   max([0, min([r_water, carbon_content])])\n",
    "        \n",
    "        print(\"growth rate\", nodes_organ.getParam().r)\n",
    "        one_carbon_log[node_id_to_organ[int(node[0])-1]] = carbon_content\n",
    "        one_growth_log[node_id_to_organ[int(node[0])-1]] = nodes_organ.getParam().r\n",
    "        one_exudation_log[node_id_to_organ[int(node[0])-1]] = max([0,carbon_content - r_water])  \n",
    "  #  print(plant.getSeed().getNumberOfChildren())\n",
    "    growth_rate_logger.append(one_growth_log)\n",
    "    carbon_logger.append(one_carbon_log)\n",
    "    exudation_logger.append(one_exudation_log)\n",
    "    ############################################length logger ###########################\n",
    "    \n",
    "\n",
    "    \n",
    "    for root_n, root in enumerate(plant.getOrgans()): # recrusive get all the roots\n",
    "        if root.organType() == 2 and root.getParent().organType()==1: #make sure it is taproot: \n",
    "            taproot_length[root_n] = root.getLength()\n",
    "            all_organ_length[root_n] = root.getLength()\n",
    "        elif root.organType() == 2 and root.getParent().organType()!=1: #make sure it is taproot: \n",
    "            # print(\"lateral\",root.getParent().organType() ,  root_n)\n",
    "            # print(root.getParent().getId())\n",
    "            taproot_length[taproot_n[root.getParent().getId()-1]] = taproot_length[taproot_n[root.getParent().getId()-1]] +root.getLength()\n",
    "            all_organ_length[root_n] = root.getLength()\n",
    "    root_length_logger.append(taproot_length)\n",
    "    all_length_logger.append(all_organ_length)\n",
    "#     f=np.sum\n",
    "    \n",
    "#     f.plot(piaf_output[\"Q_ST\"][:,int(N1R_node[0][0]-1)], color = \"red\", label = \"1st root\")\n",
    "#     f.plot(piaf_output[\"Q_ST\"][:,int(N1R_node[1][0]-1)], color = \"blue\", label = \"2nd root\")\n",
    "#     f.plot(piaf_output[\"Q_ST\"][:,int(N1R_node[2][0]-1)], color = \"green\", label = \"3rd root\")\n",
    "#     f.legend()\n",
    "#     f.show()\n",
    "#     print(piaf_output[\"Q_ST\"][-1,int(N1R_node[0][0]-1)])\n",
    "#     print(piaf_output[\"Q_ST\"][-1,int(N1R_node[1][0]-1)])\n",
    "#     print(piaf_output[\"Q_ST\"][-1,int(N1R_node[2][0]-1)])\n",
    " # growthrate() CPlantBox growth rate: cm day-1\n",
    "#total length two curve with total water potential\n",
    "\n",
    "#change the soil water\n"
   ]
  },
  {
   "cell_type": "code",
   "execution_count": 55,
   "metadata": {},
   "outputs": [
    {
     "data": {
      "text/plain": [
       "[5.831160068624445e-09, 9.683254907263867e-09]"
      ]
     },
     "execution_count": 55,
     "metadata": {},
     "output_type": "execute_result"
    }
   ],
   "source": [
    "k1_logger"
   ]
  },
  {
   "cell_type": "markdown",
   "metadata": {},
   "source": [
    "get the potential growth rate\n",
    "\n",
    "\n",
    "\n",
    "\n",
    "\n",
    "1:23\n",
    "get the demand in carbon based on potential growth\n",
    "1:24\n",
    "get the offer in carbon based in piaf munch\n",
    "1:24\n",
    "make the ration between the two\n",
    "1:24\n",
    "= C_satistafction_coef\n",
    "1:25\n",
    "water_satisfaction_coef\n",
    "1:25\n",
    "from the experimental fitting\n",
    "1:25\n",
    "GR_act = GR_pot * C_satis * W_satis\n",
    "1:26\n",
    "1 > C_satis > 0\n",
    "1:26\n",
    "1 > W_satis > 0\n",
    "1:27\n",
    "GR_pot_2 = GR_pot * W_satis\n",
    "1:29\n",
    "C_demand_2 = GR_pot_2 * density\n",
    "1:29\n",
    "C_satis = C_offer_2 / C_demand_2 (edited) \n",
    "1:29\n",
    "GR_act = GR_pot_2 * C_satis\n",
    "\n",
    "guillaume  1:36 PM\n",
    "if(C_offer > C_demand_2) C_offer_2 = C_demand_2\n",
    "1:36\n",
    "C_exudation = C_offer_2 - C_demand_2"
   ]
  },
  {
   "cell_type": "code",
   "execution_count": 27,
   "metadata": {},
   "outputs": [
    {
     "name": "stdout",
     "output_type": "stream",
     "text": [
      "3.92411e-06\n",
      "3.92411e-06\n",
      "3.92411e-06\n"
     ]
    }
   ],
   "source": [
    "print(piaf_output[\"Q_ST\"][-1,int(N1R_node[0][0]-1)])\n",
    "print(piaf_output[\"Q_ST\"][-1,int(N1R_node[1][0]-1)])\n",
    "print(piaf_output[\"Q_ST\"][-1,int(N1R_node[2][0]-1)])"
   ]
  },
  {
   "cell_type": "code",
   "execution_count": 88,
   "metadata": {},
   "outputs": [
    {
     "ename": "TypeError",
     "evalue": "'module' object is not callable",
     "output_type": "error",
     "traceback": [
      "\u001b[0;31m---------------------------------------------------------------------------\u001b[0m",
      "\u001b[0;31mTypeError\u001b[0m                                 Traceback (most recent call last)",
      "\u001b[0;32m<ipython-input-88-382709fbf6c5>\u001b[0m in \u001b[0;36m<module>\u001b[0;34m\u001b[0m\n\u001b[0;32m----> 1\u001b[0;31m \u001b[0mplt\u001b[0m\u001b[0;34m(\u001b[0m\u001b[0mx\u001b[0m\u001b[0;34m,\u001b[0m\u001b[0mg_propotion\u001b[0m\u001b[0;34m)\u001b[0m\u001b[0;34m\u001b[0m\u001b[0;34m\u001b[0m\u001b[0m\n\u001b[0m",
      "\u001b[0;31mTypeError\u001b[0m: 'module' object is not callable"
     ]
    }
   ],
   "source": [
    "plt(x,g_propotion)"
   ]
  },
  {
   "cell_type": "code",
   "execution_count": 28,
   "metadata": {},
   "outputs": [
    {
     "data": {
      "text/plain": [
       "array([[69.,  2.,  1.,  1.],\n",
       "       [71.,  2.,  1.,  1.],\n",
       "       [73.,  2.,  1.,  1.],\n",
       "       [80.,  2.,  1.,  1.],\n",
       "       [81.,  2.,  1.,  1.],\n",
       "       [82.,  2.,  1.,  1.]])"
      ]
     },
     "execution_count": 28,
     "metadata": {},
     "output_type": "execute_result"
    }
   ],
   "source": [
    "N1R_node"
   ]
  },
  {
   "cell_type": "code",
   "execution_count": 69,
   "metadata": {
    "scrolled": true
   },
   "outputs": [
    {
     "data": {
      "text/plain": [
       "[[1.9752070377333908, 1.9752070377333908, 1.9752070377333908, 0, 0, 0],\n",
       " [3.1827712149692466,\n",
       "  0.629652556412449,\n",
       "  3.1827712149692466,\n",
       "  0.629652556412449,\n",
       "  3.1827712149692466,\n",
       "  0.629652556412449,\n",
       "  0,\n",
       "  0,\n",
       "  0],\n",
       " [4.371646316761497,\n",
       "  1.5623116012926888,\n",
       "  4.371646316761497,\n",
       "  1.5623116012926888,\n",
       "  4.371646316761497,\n",
       "  1.5623116012926888,\n",
       "  0,\n",
       "  0,\n",
       "  0,\n",
       "  0],\n",
       " [5.54212158781243,\n",
       "  2.1279979070708546,\n",
       "  0.8980363569438082,\n",
       "  5.54212158781243,\n",
       "  2.1279979070708546,\n",
       "  0.8980363569438082,\n",
       "  5.54212158781243,\n",
       "  2.1279979070708546,\n",
       "  0.8980363569438082,\n",
       "  0,\n",
       "  0,\n",
       "  0,\n",
       "  0],\n",
       " [6.694481796278771,\n",
       "  2.471103995304888,\n",
       "  1.7250946048851576,\n",
       "  1.0507173357720303,\n",
       "  0.002584964778586496,\n",
       "  6.694481796278771,\n",
       "  2.471103995304888,\n",
       "  1.7250946048851576,\n",
       "  1.0507173357720303,\n",
       "  0.002584964778586496,\n",
       "  6.694481796278771,\n",
       "  2.471103995304888,\n",
       "  1.7250946048851576,\n",
       "  1.0507173357720303,\n",
       "  0.002584964778586496,\n",
       "  0,\n",
       "  0,\n",
       "  0,\n",
       "  0],\n",
       " [7.660344214047852,\n",
       "  2.6780700516521403,\n",
       "  2.1882112912222755,\n",
       "  1.7101192495319895,\n",
       "  0.9865819162000954,\n",
       "  0.1880068630886107,\n",
       "  7.660344214047852,\n",
       "  2.6780700516521403,\n",
       "  2.1882112912222755,\n",
       "  1.7101192495319895,\n",
       "  0.9865819162000954,\n",
       "  0.1880068630886107,\n",
       "  7.660344214047852,\n",
       "  2.6780700516521403,\n",
       "  2.1882112912222755,\n",
       "  1.7101192495319895,\n",
       "  0.9865819162000954,\n",
       "  0.1880068630886107,\n",
       "  0,\n",
       "  0,\n",
       "  0,\n",
       "  0],\n",
       " [8.381166315090756,\n",
       "  2.795799378084223,\n",
       "  2.456627966417167,\n",
       "  2.0965098792919417,\n",
       "  1.5454397236349877,\n",
       "  0.9322949243335028,\n",
       "  0.34604026855629666,\n",
       "  8.381166315090756,\n",
       "  2.795799378084223,\n",
       "  2.456627966417167,\n",
       "  2.0965098792919417,\n",
       "  1.5454397236349877,\n",
       "  0.9322949243335028,\n",
       "  0.34604026855629666,\n",
       "  8.381166315090756,\n",
       "  2.795799378084223,\n",
       "  2.456627966417167,\n",
       "  2.0965098792919417,\n",
       "  1.5454397236349877,\n",
       "  0.9322949243335028,\n",
       "  0.34604026855629666,\n",
       "  0,\n",
       "  0,\n",
       "  0,\n",
       "  0],\n",
       " [8.93251111515414,\n",
       "  2.8675249341470073,\n",
       "  2.6272175718979236,\n",
       "  2.3464063662456685,\n",
       "  1.9037368595697213,\n",
       "  1.3978744031137247,\n",
       "  0.9019982074190476,\n",
       "  8.93251111515414,\n",
       "  2.8675249341470073,\n",
       "  2.6272175718979236,\n",
       "  2.3464063662456685,\n",
       "  1.9037368595697213,\n",
       "  1.3978744031137247,\n",
       "  0.9019982074190476,\n",
       "  8.93251111515414,\n",
       "  2.8675249341470073,\n",
       "  2.6272175718979236,\n",
       "  2.3464063662456685,\n",
       "  1.9037368595697213,\n",
       "  1.3978744031137247,\n",
       "  0.9019982074190476,\n",
       "  0,\n",
       "  0,\n",
       "  0,\n",
       "  0],\n",
       " [9.478622965426338,\n",
       "  2.914056857867979,\n",
       "  2.7441252215720744,\n",
       "  2.5271839411487864,\n",
       "  2.173775818992272,\n",
       "  1.7561167541424039,\n",
       "  1.3390750371835076,\n",
       "  0.002715815837514679,\n",
       "  9.478622965426338,\n",
       "  2.914056857867979,\n",
       "  2.7441252215720744,\n",
       "  2.5271839411487864,\n",
       "  2.173775818992272,\n",
       "  1.7561167541424039,\n",
       "  1.3390750371835076,\n",
       "  0.002715815837514679,\n",
       "  9.478622965426338,\n",
       "  2.914056857867979,\n",
       "  2.7441252215720744,\n",
       "  2.5271839411487864,\n",
       "  2.173775818992272,\n",
       "  1.7561167541424039,\n",
       "  1.3390750371835076,\n",
       "  0.002715815837514679,\n",
       "  0,\n",
       "  0,\n",
       "  0,\n",
       "  0],\n",
       " [9.8917735831394,\n",
       "  2.943764811292109,\n",
       "  2.8220713709582936,\n",
       "  2.6514872912994703,\n",
       "  2.363756361361797,\n",
       "  2.0032725272710175,\n",
       "  1.6315239794515017,\n",
       "  0.5131233706704876,\n",
       "  9.8917735831394,\n",
       "  2.943764811292109,\n",
       "  2.8220713709582936,\n",
       "  2.6514872912994703,\n",
       "  2.363756361361797,\n",
       "  2.0032725272710175,\n",
       "  1.6315239794515017,\n",
       "  0.5131233706704876,\n",
       "  9.8917735831394,\n",
       "  2.943764811292109,\n",
       "  2.8220713709582936,\n",
       "  2.6514872912994703,\n",
       "  2.363756361361797,\n",
       "  2.0032725272710175,\n",
       "  1.6315239794515017,\n",
       "  0.5131233706704876,\n",
       "  0,\n",
       "  0,\n",
       "  0,\n",
       "  0],\n",
       " [10.300083905329327,\n",
       "  2.9632036207827466,\n",
       "  2.8760680704387336,\n",
       "  2.743111288519069,\n",
       "  2.5098172496413813,\n",
       "  2.201319208855684,\n",
       "  1.8724796961082444,\n",
       "  0.9311477833135853,\n",
       "  10.300083905329327,\n",
       "  2.9632036207827466,\n",
       "  2.8760680704387336,\n",
       "  2.743111288519069,\n",
       "  2.5098172496413813,\n",
       "  2.201319208855684,\n",
       "  1.8724796961082444,\n",
       "  0.9311477833135853,\n",
       "  10.300083905329327,\n",
       "  2.9632036207827466,\n",
       "  2.8760680704387336,\n",
       "  2.743111288519069,\n",
       "  2.5098172496413813,\n",
       "  2.201319208855684,\n",
       "  1.8724796961082444,\n",
       "  0.9311477833135853,\n",
       "  0,\n",
       "  0,\n",
       "  0,\n",
       "  0],\n",
       " [10.699248740608063,\n",
       "  2.9759230198277984,\n",
       "  2.913678179574022,\n",
       "  2.810647335265359,\n",
       "  2.6216602336343344,\n",
       "  2.360014624261934,\n",
       "  2.0710089058202077,\n",
       "  1.2780880924161466,\n",
       "  10.699248740608063,\n",
       "  2.9759230198277984,\n",
       "  2.913678179574022,\n",
       "  2.810647335265359,\n",
       "  2.6216602336343344,\n",
       "  2.360014624261934,\n",
       "  2.0710089058202077,\n",
       "  1.2780880924161466,\n",
       "  10.699248740608063,\n",
       "  2.9759230198277984,\n",
       "  2.913678179574022,\n",
       "  2.810647335265359,\n",
       "  2.6216602336343344,\n",
       "  2.360014624261934,\n",
       "  2.0710089058202077,\n",
       "  1.2780880924161466,\n",
       "  0,\n",
       "  0,\n",
       "  0,\n",
       "  0],\n",
       " [11.096127596582228,\n",
       "  2.9759230198277984,\n",
       "  2.93987460125866,\n",
       "  2.8604281541395373,\n",
       "  2.7079844635313988,\n",
       "  2.4871777489830924,\n",
       "  2.234558564806059,\n",
       "  1.562311002207351,\n",
       "  11.096127596582228,\n",
       "  2.9759230198277984,\n",
       "  2.93987460125866,\n",
       "  2.8604281541395373,\n",
       "  2.7079844635313988,\n",
       "  2.4871777489830924,\n",
       "  2.234558564806059,\n",
       "  1.562311002207351,\n",
       "  11.096127596582228,\n",
       "  2.9759230198277984,\n",
       "  2.93987460125866,\n",
       "  2.8604281541395373,\n",
       "  2.7079844635313988,\n",
       "  2.4871777489830924,\n",
       "  2.234558564806059,\n",
       "  1.562311002207351,\n",
       "  0,\n",
       "  0,\n",
       "  0,\n",
       "  0],\n",
       " [11.483766543681275,\n",
       "  2.9759230198277984,\n",
       "  2.958121092025566,\n",
       "  2.8971215948600646,\n",
       "  2.77461244859831,\n",
       "  2.5890739521434254,\n",
       "  2.369315169561391,\n",
       "  1.7978579712405933,\n",
       "  0.8497392820400198,\n",
       "  11.483766543681275,\n",
       "  2.9759230198277984,\n",
       "  2.958121092025566,\n",
       "  2.8971215948600646,\n",
       "  2.77461244859831,\n",
       "  2.5890739521434254,\n",
       "  2.369315169561391,\n",
       "  1.7978579712405933,\n",
       "  0.8497392820400198,\n",
       "  11.483766543681275,\n",
       "  2.9759230198277984,\n",
       "  2.958121092025566,\n",
       "  2.8971215948600646,\n",
       "  2.77461244859831,\n",
       "  2.5890739521434254,\n",
       "  2.369315169561391,\n",
       "  1.7978579712405933,\n",
       "  0.8497392820400198,\n",
       "  0,\n",
       "  0,\n",
       "  0,\n",
       "  0],\n",
       " [11.77818769644932,\n",
       "  2.9759230198277984,\n",
       "  2.9707037180147005,\n",
       "  2.9237076868838288,\n",
       "  2.8240544101735665,\n",
       "  2.6658459601693734,\n",
       "  2.469600523196268,\n",
       "  1.9653673866637513,\n",
       "  1.1330760403229907,\n",
       "  11.77818769644932,\n",
       "  2.9759230198277984,\n",
       "  2.9707037180147005,\n",
       "  2.9237076868838288,\n",
       "  2.8240544101735665,\n",
       "  2.6658459601693734,\n",
       "  2.469600523196268,\n",
       "  1.9653673866637513,\n",
       "  1.1330760403229907,\n",
       "  11.77818769644932,\n",
       "  2.9759230198277984,\n",
       "  2.9707037180147005,\n",
       "  2.9237076868838288,\n",
       "  2.8240544101735665,\n",
       "  2.6658459601693734,\n",
       "  2.469600523196268,\n",
       "  1.9653673866637513,\n",
       "  1.1330760403229907,\n",
       "  0,\n",
       "  0,\n",
       "  0,\n",
       "  0],\n",
       " [12.063970608631083,\n",
       "  2.9759230198277984,\n",
       "  2.979505861550016,\n",
       "  2.943423335220848,\n",
       "  2.8626505750346447,\n",
       "  2.7282748978373346,\n",
       "  2.553939477507289,\n",
       "  2.1095356297594057,\n",
       "  1.3768228343652984,\n",
       "  12.063970608631083,\n",
       "  2.9759230198277984,\n",
       "  2.979505861550016,\n",
       "  2.943423335220848,\n",
       "  2.8626505750346447,\n",
       "  2.7282748978373346,\n",
       "  2.553939477507289,\n",
       "  2.1095356297594057,\n",
       "  1.3768228343652984,\n",
       "  12.063970608631083,\n",
       "  2.9759230198277984,\n",
       "  2.979505861550016,\n",
       "  2.943423335220848,\n",
       "  2.8626505750346447,\n",
       "  2.7282748978373346,\n",
       "  2.553939477507289,\n",
       "  2.1095356297594057,\n",
       "  1.3768228343652984,\n",
       "  0,\n",
       "  0,\n",
       "  0,\n",
       "  0],\n",
       " [12.347876683942607,\n",
       "  2.9759230198277984,\n",
       "  2.979505861550016,\n",
       "  2.9580440169292226,\n",
       "  2.892780122781574,\n",
       "  2.779040435414949,\n",
       "  2.6246190402781076,\n",
       "  2.2336151166633655,\n",
       "  1.5874808518465442,\n",
       "  12.347876683942607,\n",
       "  2.9759230198277984,\n",
       "  2.979505861550016,\n",
       "  2.9580440169292226,\n",
       "  2.892780122781574,\n",
       "  2.779040435414949,\n",
       "  2.6246190402781076,\n",
       "  2.2336151166633655,\n",
       "  1.5874808518465442,\n",
       "  12.347876683942607,\n",
       "  2.9759230198277984,\n",
       "  2.979505861550016,\n",
       "  2.9580440169292226,\n",
       "  2.892780122781574,\n",
       "  2.779040435414949,\n",
       "  2.6246190402781076,\n",
       "  2.2336151166633655,\n",
       "  1.5874808518465442,\n",
       "  0,\n",
       "  0,\n",
       "  0,\n",
       "  0],\n",
       " [12.628714078887384,\n",
       "  2.9759230198277984,\n",
       "  2.979505861550016,\n",
       "  2.9688863858923686,\n",
       "  2.916300326167116,\n",
       "  2.820230208881842,\n",
       "  2.684099224620283,\n",
       "  2.34040506387896,\n",
       "  1.7690648043642825,\n",
       "  12.628714078887384,\n",
       "  2.9759230198277984,\n",
       "  2.979505861550016,\n",
       "  2.9688863858923686,\n",
       "  2.916300326167116,\n",
       "  2.820230208881842,\n",
       "  2.684099224620283,\n",
       "  2.34040506387896,\n",
       "  1.7690648043642825,\n",
       "  12.628714078887384,\n",
       "  2.9759230198277984,\n",
       "  2.979505861550016,\n",
       "  2.9688863858923686,\n",
       "  2.916300326167116,\n",
       "  2.820230208881842,\n",
       "  2.684099224620283,\n",
       "  2.34040506387896,\n",
       "  1.7690648043642825,\n",
       "  0,\n",
       "  0,\n",
       "  0,\n",
       "  0],\n",
       " [12.906782840196218,\n",
       "  2.9759230198277984,\n",
       "  2.979505861550016,\n",
       "  2.976926843039155,\n",
       "  2.9346610387786645,\n",
       "  2.853741665995062,\n",
       "  2.73415460400698,\n",
       "  2.4321527789081543,\n",
       "  1.9259479270849131,\n",
       "  12.906782840196218,\n",
       "  2.9759230198277984,\n",
       "  2.979505861550016,\n",
       "  2.976926843039155,\n",
       "  2.9346610387786645,\n",
       "  2.853741665995062,\n",
       "  2.73415460400698,\n",
       "  2.4321527789081543,\n",
       "  1.9259479270849131,\n",
       "  12.906782840196218,\n",
       "  2.9759230198277984,\n",
       "  2.979505861550016,\n",
       "  2.976926843039155,\n",
       "  2.9346610387786645,\n",
       "  2.853741665995062,\n",
       "  2.73415460400698,\n",
       "  2.4321527789081543,\n",
       "  1.9259479270849131,\n",
       "  0,\n",
       "  0,\n",
       "  0,\n",
       "  0],\n",
       " [13.179720652547191,\n",
       "  2.9759230198277984,\n",
       "  2.979505861550016,\n",
       "  2.976926843039155,\n",
       "  2.948994068220539,\n",
       "  2.8810061460668885,\n",
       "  2.7762785656802054,\n",
       "  2.5111386567064855,\n",
       "  2.06283624075155,\n",
       "  1.0137020492561344,\n",
       "  13.179720652547191,\n",
       "  2.9759230198277984,\n",
       "  2.979505861550016,\n",
       "  2.976926843039155,\n",
       "  2.948994068220539,\n",
       "  2.8810061460668885,\n",
       "  2.7762785656802054,\n",
       "  2.5111386567064855,\n",
       "  2.06283624075155,\n",
       "  1.0137020492561344,\n",
       "  13.179720652547191,\n",
       "  2.9759230198277984,\n",
       "  2.979505861550016,\n",
       "  2.976926843039155,\n",
       "  2.948994068220539,\n",
       "  2.8810061460668885,\n",
       "  2.7762785656802054,\n",
       "  2.5111386567064855,\n",
       "  2.06283624075155,\n",
       "  1.0137020492561344,\n",
       "  0,\n",
       "  0,\n",
       "  0,\n",
       "  0],\n",
       " [13.384046988841725,\n",
       "  2.9759230198277984,\n",
       "  2.979505861550016,\n",
       "  2.976926843039155,\n",
       "  2.9600451773704988,\n",
       "  2.902507063339008,\n",
       "  2.8096392251117654,\n",
       "  2.5721285692717357,\n",
       "  2.16393892088385,\n",
       "  1.2156584999066755,\n",
       "  13.384046988841725,\n",
       "  2.9759230198277984,\n",
       "  2.979505861550016,\n",
       "  2.976926843039155,\n",
       "  2.9600451773704988,\n",
       "  2.902507063339008,\n",
       "  2.8096392251117654,\n",
       "  2.5721285692717357,\n",
       "  2.16393892088385,\n",
       "  1.2156584999066755,\n",
       "  13.384046988841725,\n",
       "  2.9759230198277984,\n",
       "  2.979505861550016,\n",
       "  2.976926843039155,\n",
       "  2.9600451773704988,\n",
       "  2.902507063339008,\n",
       "  2.8096392251117654,\n",
       "  2.5721285692717357,\n",
       "  2.16393892088385,\n",
       "  1.2156584999066755,\n",
       "  0,\n",
       "  0,\n",
       "  0,\n",
       "  0],\n",
       " [13.584383116279906,\n",
       "  2.9759230198277984,\n",
       "  2.979505861550016,\n",
       "  2.976926843039155,\n",
       "  2.968701917685626,\n",
       "  2.9201229947209963,\n",
       "  2.8380252445357987,\n",
       "  2.625509433820106,\n",
       "  2.254134487046942,\n",
       "  1.3970810684454769,\n",
       "  13.584383116279906,\n",
       "  2.9759230198277984,\n",
       "  2.979505861550016,\n",
       "  2.976926843039155,\n",
       "  2.968701917685626,\n",
       "  2.9201229947209963,\n",
       "  2.8380252445357987,\n",
       "  2.625509433820106,\n",
       "  2.254134487046942,\n",
       "  1.3970810684454769,\n",
       "  13.584383116279906,\n",
       "  2.9759230198277984,\n",
       "  2.979505861550016,\n",
       "  2.976926843039155,\n",
       "  2.968701917685626,\n",
       "  2.9201229947209963,\n",
       "  2.8380252445357987,\n",
       "  2.625509433820106,\n",
       "  2.254134487046942,\n",
       "  1.3970810684454769,\n",
       "  0,\n",
       "  0,\n",
       "  0,\n",
       "  0],\n",
       " [13.783004540610078,\n",
       "  2.9759230198277984,\n",
       "  2.979505861550016,\n",
       "  2.976926843039155,\n",
       "  2.9754830608149403,\n",
       "  2.934555915629785,\n",
       "  2.862178427130844,\n",
       "  2.6722305485107176,\n",
       "  2.333891386514302,\n",
       "  1.558902264301216,\n",
       "  13.783004540610078,\n",
       "  2.9759230198277984,\n",
       "  2.979505861550016,\n",
       "  2.976926843039155,\n",
       "  2.9754830608149403,\n",
       "  2.934555915629785,\n",
       "  2.862178427130844,\n",
       "  2.6722305485107176,\n",
       "  2.333891386514302,\n",
       "  1.558902264301216,\n",
       "  13.783004540610078,\n",
       "  2.9759230198277984,\n",
       "  2.979505861550016,\n",
       "  2.976926843039155,\n",
       "  2.9754830608149403,\n",
       "  2.934555915629785,\n",
       "  2.862178427130844,\n",
       "  2.6722305485107176,\n",
       "  2.333891386514302,\n",
       "  1.558902264301216,\n",
       "  0,\n",
       "  0,\n",
       "  0,\n",
       "  0],\n",
       " [13.97904845494578,\n",
       "  2.9759230198277984,\n",
       "  2.979505861550016,\n",
       "  2.976926843039155,\n",
       "  2.9754830608149403,\n",
       "  2.9463809620291106,\n",
       "  2.8827299606429957,\n",
       "  2.713122777896687,\n",
       "  2.405119720305711,\n",
       "  1.702340480352127,\n",
       "  13.97904845494578,\n",
       "  2.9759230198277984,\n",
       "  2.979505861550016,\n",
       "  2.976926843039155,\n",
       "  2.9754830608149403,\n",
       "  2.9463809620291106,\n",
       "  2.8827299606429957,\n",
       "  2.713122777896687,\n",
       "  2.405119720305711,\n",
       "  1.702340480352127,\n",
       "  13.97904845494578,\n",
       "  2.9759230198277984,\n",
       "  2.979505861550016,\n",
       "  2.976926843039155,\n",
       "  2.9754830608149403,\n",
       "  2.9463809620291106,\n",
       "  2.8827299606429957,\n",
       "  2.713122777896687,\n",
       "  2.405119720305711,\n",
       "  1.702340480352127,\n",
       "  0,\n",
       "  0,\n",
       "  0,\n",
       "  0],\n",
       " [14.174511956109885,\n",
       "  2.9759230198277984,\n",
       "  2.979505861550016,\n",
       "  2.976926843039155,\n",
       "  2.9754830608149403,\n",
       "  2.9560693489626977,\n",
       "  2.900216912022551,\n",
       "  2.748913328597968,\n",
       "  2.4687314651024947,\n",
       "  1.831501717601256,\n",
       "  14.174511956109885,\n",
       "  2.9759230198277984,\n",
       "  2.979505861550016,\n",
       "  2.976926843039155,\n",
       "  2.9754830608149403,\n",
       "  2.9560693489626977,\n",
       "  2.900216912022551,\n",
       "  2.748913328597968,\n",
       "  2.4687314651024947,\n",
       "  1.831501717601256,\n",
       "  14.174511956109885,\n",
       "  2.9759230198277984,\n",
       "  2.979505861550016,\n",
       "  2.976926843039155,\n",
       "  2.9754830608149403,\n",
       "  2.9560693489626977,\n",
       "  2.900216912022551,\n",
       "  2.748913328597968,\n",
       "  2.4687314651024947,\n",
       "  1.831501717601256,\n",
       "  0,\n",
       "  0,\n",
       "  0,\n",
       "  0],\n",
       " [14.3674478159154,\n",
       "  2.9759230198277984,\n",
       "  2.979505861550016,\n",
       "  2.976926843039155,\n",
       "  2.9754830608149403,\n",
       "  2.964007147953512,\n",
       "  2.9150962624306427,\n",
       "  2.780238681574211,\n",
       "  2.5255410780851753,\n",
       "  1.9461889980962255,\n",
       "  14.3674478159154,\n",
       "  2.9759230198277984,\n",
       "  2.979505861550016,\n",
       "  2.976926843039155,\n",
       "  2.9754830608149403,\n",
       "  2.964007147953512,\n",
       "  2.9150962624306427,\n",
       "  2.780238681574211,\n",
       "  2.5255410780851753,\n",
       "  1.9461889980962255,\n",
       "  14.3674478159154,\n",
       "  2.9759230198277984,\n",
       "  2.979505861550016,\n",
       "  2.976926843039155,\n",
       "  2.9754830608149403,\n",
       "  2.964007147953512,\n",
       "  2.9150962624306427,\n",
       "  2.780238681574211,\n",
       "  2.5255410780851753,\n",
       "  1.9461889980962255,\n",
       "  0,\n",
       "  0,\n",
       "  0,\n",
       "  0],\n",
       " [14.558396933695645,\n",
       "  2.9759230198277984,\n",
       "  2.979505861550016,\n",
       "  2.976926843039155,\n",
       "  2.9754830608149403,\n",
       "  2.9705106715277143,\n",
       "  2.9277568493883908,\n",
       "  2.807655910978594,\n",
       "  2.576253491792147,\n",
       "  2.04961980307432,\n",
       "  14.558396933695645,\n",
       "  2.9759230198277984,\n",
       "  2.979505861550016,\n",
       "  2.976926843039155,\n",
       "  2.9754830608149403,\n",
       "  2.9705106715277143,\n",
       "  2.9277568493883908,\n",
       "  2.807655910978594,\n",
       "  2.576253491792147,\n",
       "  2.04961980307432,\n",
       "  14.558396933695645,\n",
       "  2.9759230198277984,\n",
       "  2.979505861550016,\n",
       "  2.976926843039155,\n",
       "  2.9754830608149403,\n",
       "  2.9705106715277143,\n",
       "  2.9277568493883908,\n",
       "  2.807655910978594,\n",
       "  2.576253491792147,\n",
       "  2.04961980307432,\n",
       "  0,\n",
       "  0,\n",
       "  0,\n",
       "  0],\n",
       " [14.74695293480555,\n",
       "  2.9759230198277984,\n",
       "  2.979505861550016,\n",
       "  2.976926843039155,\n",
       "  2.9754830608149403,\n",
       "  2.9758390779196056,\n",
       "  2.9385295281491204,\n",
       "  2.8316525908813754,\n",
       "  2.6215455228585984,\n",
       "  2.1425599353180047,\n",
       "  0.25313408483059274,\n",
       "  14.74695293480555,\n",
       "  2.9759230198277984,\n",
       "  2.979505861550016,\n",
       "  2.976926843039155,\n",
       "  2.9754830608149403,\n",
       "  2.9758390779196056,\n",
       "  2.9385295281491204,\n",
       "  2.8316525908813754,\n",
       "  2.6215455228585984,\n",
       "  2.1425599353180047,\n",
       "  0.25313408483059274,\n",
       "  14.74695293480555,\n",
       "  2.9759230198277984,\n",
       "  2.979505861550016,\n",
       "  2.976926843039155,\n",
       "  2.9754830608149403,\n",
       "  2.9758390779196056,\n",
       "  2.9385295281491204,\n",
       "  2.8316525908813754,\n",
       "  2.6215455228585984,\n",
       "  2.1425599353180047,\n",
       "  0.25313408483059274,\n",
       "  0,\n",
       "  0,\n",
       "  0,\n",
       "  0],\n",
       " [14.882630900127829,\n",
       "  2.9759230198277984,\n",
       "  2.979505861550016,\n",
       "  2.976926843039155,\n",
       "  2.9754830608149403,\n",
       "  2.9758390779196056,\n",
       "  2.947464326220925,\n",
       "  2.8514035928998114,\n",
       "  2.6579035293428386,\n",
       "  2.2123885552075366,\n",
       "  0.4799310206081836,\n",
       "  14.882630900127829,\n",
       "  2.9759230198277984,\n",
       "  2.979505861550016,\n",
       "  2.976926843039155,\n",
       "  2.9754830608149403,\n",
       "  2.9758390779196056,\n",
       "  2.947464326220925,\n",
       "  2.8514035928998114,\n",
       "  2.6579035293428386,\n",
       "  2.2123885552075366,\n",
       "  0.4799310206081836,\n",
       "  14.882630900127829,\n",
       "  2.9759230198277984,\n",
       "  2.979505861550016,\n",
       "  2.976926843039155,\n",
       "  2.9754830608149403,\n",
       "  2.9758390779196056,\n",
       "  2.947464326220925,\n",
       "  2.8514035928998114,\n",
       "  2.6579035293428386,\n",
       "  2.2123885552075366,\n",
       "  0.4799310206081836,\n",
       "  0,\n",
       "  0,\n",
       "  0,\n",
       "  0],\n",
       " [15.015611903941508,\n",
       "  2.9759230198277984,\n",
       "  2.979505861550016,\n",
       "  2.976926843039155,\n",
       "  2.9754830608149403,\n",
       "  2.9758390779196056,\n",
       "  2.9551004419468776,\n",
       "  2.8688373505794447,\n",
       "  2.690768633205097,\n",
       "  2.276530438080079,\n",
       "  0.6880023062570049,\n",
       "  15.015611903941508,\n",
       "  2.9759230198277984,\n",
       "  2.979505861550016,\n",
       "  2.976926843039155,\n",
       "  2.9754830608149403,\n",
       "  2.9758390779196056,\n",
       "  2.9551004419468776,\n",
       "  2.8688373505794447,\n",
       "  2.690768633205097,\n",
       "  2.276530438080079,\n",
       "  0.6880023062570049,\n",
       "  15.015611903941508,\n",
       "  2.9759230198277984,\n",
       "  2.979505861550016,\n",
       "  2.976926843039155,\n",
       "  2.9754830608149403,\n",
       "  2.9758390779196056,\n",
       "  2.9551004419468776,\n",
       "  2.8688373505794447,\n",
       "  2.690768633205097,\n",
       "  2.276530438080079,\n",
       "  0.6880023062570049,\n",
       "  0,\n",
       "  0,\n",
       "  0,\n",
       "  0],\n",
       " [15.147853154034436,\n",
       "  2.9759230198277984,\n",
       "  2.979505861550016,\n",
       "  2.976926843039155,\n",
       "  2.9754830608149403,\n",
       "  2.9758390779196056,\n",
       "  2.961626640178951,\n",
       "  2.884225729687931,\n",
       "  2.7204763965376437,\n",
       "  2.334860046807617,\n",
       "  0.8768823398880146,\n",
       "  0.17990662871000074,\n",
       "  15.147853154034436,\n",
       "  2.9759230198277984,\n",
       "  2.979505861550016,\n",
       "  2.976926843039155,\n",
       "  2.9754830608149403,\n",
       "  2.9758390779196056,\n",
       "  2.961626640178951,\n",
       "  2.884225729687931,\n",
       "  2.7204763965376437,\n",
       "  2.334860046807617,\n",
       "  0.8768823398880146,\n",
       "  0.17990662871000074,\n",
       "  15.147853154034436,\n",
       "  2.9759230198277984,\n",
       "  2.979505861550016,\n",
       "  2.976926843039155,\n",
       "  2.9754830608149403,\n",
       "  2.9758390779196056,\n",
       "  2.961626640178951,\n",
       "  2.884225729687931,\n",
       "  2.7204763965376437,\n",
       "  2.334860046807617,\n",
       "  0.8768823398880146,\n",
       "  0.17990662871000074,\n",
       "  0,\n",
       "  0,\n",
       "  0,\n",
       "  0],\n",
       " [15.241859327974474,\n",
       "  2.9759230198277984,\n",
       "  2.979505861550016,\n",
       "  2.976926843039155,\n",
       "  2.9754830608149403,\n",
       "  2.9758390779196056,\n",
       "  2.967110230331064,\n",
       "  2.8974149704434433,\n",
       "  2.7459790680210245,\n",
       "  2.3831409797502086,\n",
       "  1.0188038322135222,\n",
       "  0.35206876272131515,\n",
       "  15.241859327974474,\n",
       "  2.9759230198277984,\n",
       "  2.979505861550016,\n",
       "  2.976926843039155,\n",
       "  2.9754830608149403,\n",
       "  2.9758390779196056,\n",
       "  2.967110230331064,\n",
       "  2.8974149704434433,\n",
       "  2.7459790680210245,\n",
       "  2.3831409797502086,\n",
       "  1.0188038322135222,\n",
       "  0.35206876272131515,\n",
       "  15.241859327974474,\n",
       "  2.9759230198277984,\n",
       "  2.979505861550016,\n",
       "  2.976926843039155,\n",
       "  2.9754830608149403,\n",
       "  2.9758390779196056,\n",
       "  2.967110230331064,\n",
       "  2.8974149704434433,\n",
       "  2.7459790680210245,\n",
       "  2.3831409797502086,\n",
       "  1.0188038322135222,\n",
       "  0.35206876272131515,\n",
       "  0,\n",
       "  0,\n",
       "  0,\n",
       "  0],\n",
       " [15.33572923563546,\n",
       "  2.9759230198277984,\n",
       "  2.979505861550016,\n",
       "  2.976926843039155,\n",
       "  2.9754830608149403,\n",
       "  2.9758390779196056,\n",
       "  2.9718102101582904,\n",
       "  2.90910166601998,\n",
       "  2.769154972659913,\n",
       "  2.4279173141874497,\n",
       "  1.1489238892079676,\n",
       "  0.5102237265277609,\n",
       "  15.33572923563546,\n",
       "  2.9759230198277984,\n",
       "  2.979505861550016,\n",
       "  2.976926843039155,\n",
       "  2.9754830608149403,\n",
       "  2.9758390779196056,\n",
       "  2.9718102101582904,\n",
       "  2.90910166601998,\n",
       "  2.769154972659913,\n",
       "  2.4279173141874497,\n",
       "  1.1489238892079676,\n",
       "  0.5102237265277609,\n",
       "  15.33572923563546,\n",
       "  2.9759230198277984,\n",
       "  2.979505861550016,\n",
       "  2.976926843039155,\n",
       "  2.9754830608149403,\n",
       "  2.9758390779196056,\n",
       "  2.9718102101582904,\n",
       "  2.90910166601998,\n",
       "  2.769154972659913,\n",
       "  2.4279173141874497,\n",
       "  1.1489238892079676,\n",
       "  0.5102237265277609,\n",
       "  0,\n",
       "  0,\n",
       "  0,\n",
       "  0],\n",
       " [15.42946307454165,\n",
       "  2.9759230198277984,\n",
       "  2.979505861550016,\n",
       "  2.976926843039155,\n",
       "  2.9754830608149403,\n",
       "  2.9758390779196056,\n",
       "  2.9758385583323106,\n",
       "  2.919456989425655,\n",
       "  2.78996901896061,\n",
       "  2.4694434406195884,\n",
       "  1.2704979831587062,\n",
       "  0.6563478325581503,\n",
       "  15.42946307454165,\n",
       "  2.9759230198277984,\n",
       "  2.979505861550016,\n",
       "  2.976926843039155,\n",
       "  2.9754830608149403,\n",
       "  2.9758390779196056,\n",
       "  2.9758385583323106,\n",
       "  2.919456989425655,\n",
       "  2.78996901896061,\n",
       "  2.4694434406195884,\n",
       "  1.2704979831587062,\n",
       "  0.6563478325581503,\n",
       "  15.42946307454165,\n",
       "  2.9759230198277984,\n",
       "  2.979505861550016,\n",
       "  2.976926843039155,\n",
       "  2.9754830608149403,\n",
       "  2.9758390779196056,\n",
       "  2.9758385583323106,\n",
       "  2.919456989425655,\n",
       "  2.78996901896061,\n",
       "  2.4694434406195884,\n",
       "  1.2704979831587062,\n",
       "  0.6563478325581503,\n",
       "  0,\n",
       "  0,\n",
       "  0,\n",
       "  0],\n",
       " [15.523061041930966,\n",
       "  2.9759230198277984,\n",
       "  2.979505861550016,\n",
       "  2.976926843039155,\n",
       "  2.9754830608149403,\n",
       "  2.9758390779196056,\n",
       "  2.9758385583323106,\n",
       "  2.9286326132907456,\n",
       "  2.808906375395386,\n",
       "  2.507955283943318,\n",
       "  1.3827592888454752,\n",
       "  0.7938959654817663,\n",
       "  15.523061041930966,\n",
       "  2.9759230198277984,\n",
       "  2.979505861550016,\n",
       "  2.976926843039155,\n",
       "  2.9754830608149403,\n",
       "  2.9758390779196056,\n",
       "  2.9758385583323106,\n",
       "  2.9286326132907456,\n",
       "  2.808906375395386,\n",
       "  2.507955283943318,\n",
       "  1.3827592888454752,\n",
       "  0.7938959654817663,\n",
       "  15.523061041930966,\n",
       "  2.9759230198277984,\n",
       "  2.979505861550016,\n",
       "  2.976926843039155,\n",
       "  2.9754830608149403,\n",
       "  2.9758390779196056,\n",
       "  2.9758385583323106,\n",
       "  2.9286326132907456,\n",
       "  2.808906375395386,\n",
       "  2.507955283943318,\n",
       "  1.3827592888454752,\n",
       "  0.7938959654817663,\n",
       "  0,\n",
       "  0,\n",
       "  0,\n",
       "  0],\n",
       " [15.616523334755437,\n",
       "  2.9759230198277984,\n",
       "  2.979505861550016,\n",
       "  2.976926843039155,\n",
       "  2.9754830608149403,\n",
       "  2.9758390779196056,\n",
       "  2.9758385583323106,\n",
       "  2.936762931390466,\n",
       "  2.8261362529288916,\n",
       "  2.5436716438261806,\n",
       "  1.487733756684252,\n",
       "  0.9221117582184113,\n",
       "  15.616523334755437,\n",
       "  2.9759230198277984,\n",
       "  2.979505861550016,\n",
       "  2.976926843039155,\n",
       "  2.9754830608149403,\n",
       "  2.9758390779196056,\n",
       "  2.9758385583323106,\n",
       "  2.936762931390466,\n",
       "  2.8261362529288916,\n",
       "  2.5436716438261806,\n",
       "  1.487733756684252,\n",
       "  0.9221117582184113,\n",
       "  15.616523334755437,\n",
       "  2.9759230198277984,\n",
       "  2.979505861550016,\n",
       "  2.976926843039155,\n",
       "  2.9754830608149403,\n",
       "  2.9758390779196056,\n",
       "  2.9758385583323106,\n",
       "  2.936762931390466,\n",
       "  2.8261362529288916,\n",
       "  2.5436716438261806,\n",
       "  1.487733756684252,\n",
       "  0.9221117582184113,\n",
       "  0,\n",
       "  0,\n",
       "  0,\n",
       "  0],\n",
       " [15.709850149681586,\n",
       "  2.9759230198277984,\n",
       "  2.979505861550016,\n",
       "  2.976926843039155,\n",
       "  2.9754830608149403,\n",
       "  2.9758390779196056,\n",
       "  2.9758385583323106,\n",
       "  2.943967027087341,\n",
       "  2.8418126056892197,\n",
       "  2.576795437786365,\n",
       "  1.5858943724959131,\n",
       "  1.042875821911518,\n",
       "  15.709850149681586,\n",
       "  2.9759230198277984,\n",
       "  2.979505861550016,\n",
       "  2.976926843039155,\n",
       "  2.9754830608149403,\n",
       "  2.9758390779196056,\n",
       "  2.9758385583323106,\n",
       "  2.943967027087341,\n",
       "  2.8418126056892197,\n",
       "  2.576795437786365,\n",
       "  1.5858943724959131,\n",
       "  1.042875821911518,\n",
       "  15.709850149681586,\n",
       "  2.9759230198277984,\n",
       "  2.979505861550016,\n",
       "  2.976926843039155,\n",
       "  2.9754830608149403,\n",
       "  2.9758390779196056,\n",
       "  2.9758385583323106,\n",
       "  2.943967027087341,\n",
       "  2.8418126056892197,\n",
       "  2.576795437786365,\n",
       "  1.5858943724959131,\n",
       "  1.042875821911518,\n",
       "  0,\n",
       "  0,\n",
       "  0,\n",
       "  0],\n",
       " [15.803041683090875,\n",
       "  2.9759230198277984,\n",
       "  2.979505861550016,\n",
       "  2.976926843039155,\n",
       "  2.9754830608149403,\n",
       "  2.9758390779196056,\n",
       "  2.9758385583323106,\n",
       "  2.9503504175246125,\n",
       "  2.8560755065942525,\n",
       "  2.6075148540402937,\n",
       "  1.6770971567353947,\n",
       "  1.1546509232934272,\n",
       "  15.803041683090875,\n",
       "  2.9759230198277984,\n",
       "  2.979505861550016,\n",
       "  2.976926843039155,\n",
       "  2.9754830608149403,\n",
       "  2.9758390779196056,\n",
       "  2.9758385583323106,\n",
       "  2.9503504175246125,\n",
       "  2.8560755065942525,\n",
       "  2.6075148540402937,\n",
       "  1.6770971567353947,\n",
       "  1.1546509232934272,\n",
       "  15.803041683090875,\n",
       "  2.9759230198277984,\n",
       "  2.979505861550016,\n",
       "  2.976926843039155,\n",
       "  2.9754830608149403,\n",
       "  2.9758390779196056,\n",
       "  2.9758385583323106,\n",
       "  2.9503504175246125,\n",
       "  2.8560755065942525,\n",
       "  2.6075148540402937,\n",
       "  1.6770971567353947,\n",
       "  1.1546509232934272,\n",
       "  0,\n",
       "  0,\n",
       "  0,\n",
       "  0],\n",
       " [15.896098131080088,\n",
       "  2.9759230198277984,\n",
       "  2.979505861550016,\n",
       "  2.976926843039155,\n",
       "  2.9754830608149403,\n",
       "  2.9758390779196056,\n",
       "  2.9758385583323106,\n",
       "  2.9560065991175817,\n",
       "  2.869052398945234,\n",
       "  2.6360044206677298,\n",
       "  1.7624178147098717,\n",
       "  1.260042335061355,\n",
       "  15.896098131080088,\n",
       "  2.9759230198277984,\n",
       "  2.979505861550016,\n",
       "  2.976926843039155,\n",
       "  2.9754830608149403,\n",
       "  2.9758390779196056,\n",
       "  2.9758385583323106,\n",
       "  2.9560065991175817,\n",
       "  2.869052398945234,\n",
       "  2.6360044206677298,\n",
       "  1.7624178147098717,\n",
       "  1.260042335061355,\n",
       "  15.896098131080088,\n",
       "  2.9759230198277984,\n",
       "  2.979505861550016,\n",
       "  2.976926843039155,\n",
       "  2.9754830608149403,\n",
       "  2.9758390779196056,\n",
       "  2.9758385583323106,\n",
       "  2.9560065991175817,\n",
       "  2.869052398945234,\n",
       "  2.6360044206677298,\n",
       "  1.7624178147098717,\n",
       "  1.260042335061355,\n",
       "  0,\n",
       "  0,\n",
       "  0,\n",
       "  0]]"
      ]
     },
     "execution_count": 69,
     "metadata": {},
     "output_type": "execute_result"
    }
   ],
   "source": [
    "all_length_logger"
   ]
  },
  {
   "cell_type": "code",
   "execution_count": 265,
   "metadata": {},
   "outputs": [
    {
     "data": {
      "text/plain": [
       "array([[142.,   2.,   1.,   1.],\n",
       "       [144.,   2.,   1.,   1.],\n",
       "       [146.,   2.,   1.,   1.]])"
      ]
     },
     "execution_count": 265,
     "metadata": {},
     "output_type": "execute_result"
    }
   ],
   "source": [
    "N1R_node"
   ]
  },
  {
   "cell_type": "code",
   "execution_count": 9,
   "metadata": {},
   "outputs": [
    {
     "data": {
      "text/plain": [
       "<matplotlib.legend.Legend at 0x7f8e0506a1d0>"
      ]
     },
     "execution_count": 9,
     "metadata": {},
     "output_type": "execute_result"
    },
    {
     "data": {
      "image/png": "[encoded data removed]",
      "text/plain": [
       "<Figure size 720x720 with 1 Axes>"
      ]
     },
     "metadata": {
      "needs_background": "light"
     },
     "output_type": "display_data"
    }
   ],
   "source": [
    "f=plt\n",
    "\n",
    "f.plot(piaf_output[\"P_Xyl\"][:,int(N1R_node[0][0]-1)-1], color = \"red\", label = \"1st root\")\n",
    "f.plot(piaf_output[\"P_Xyl\"][:,int(N1R_node[1][0]-1)-1], color = \"blue\", label = \"2nd root\")\n",
    "f.plot(piaf_output[\"P_Xyl\"][:,int(N1R_node[2][0]-1)-1], color = \"green\", label = \"2nd root\")\n",
    "f.legend()"
   ]
  },
  {
   "cell_type": "code",
   "execution_count": null,
   "metadata": {},
   "outputs": [],
   "source": [
    "f=plt\n",
    "\n",
    "f.plot(piaf_output[\"P_Xyl\"][:,int(N1R_node[0][0]-1)-1], color = \"red\", label = \"1st root\")\n",
    "f.plot(piaf_output[\"P_Xyl\"][:,int(N1R_node[1][0]-1)-1], color = \"blue\", label = \"2nd root\")\n",
    "f.plot(piaf_output[\"P_Xyl\"][:,int(N1R_node[2][0]-1)-1], color = \"green\", label = \"2nd root\")\n",
    "f.legend()"
   ]
  },
  {
   "cell_type": "code",
   "execution_count": 214,
   "metadata": {},
   "outputs": [],
   "source": [
    "homo_st = [20]*(len(dict_all[\"node_connection\"])+1)"
   ]
  },
  {
   "cell_type": "code",
   "execution_count": 164,
   "metadata": {},
   "outputs": [
    {
     "data": {
      "text/plain": [
       "43"
      ]
     },
     "execution_count": 164,
     "metadata": {},
     "output_type": "execute_result"
    }
   ],
   "source": [
    "plant.getOrgans()[2].getNumberOfNodes()"
   ]
  },
  {
   "cell_type": "code",
   "execution_count": 54,
   "metadata": {},
   "outputs": [
    {
     "data": {
      "text/plain": [
       "[[0.01061829216, 0.01061829216, 0.01061829216, 0, 0, 0],\n",
       " [0.005288758271999998,\n",
       "  0.005329509696,\n",
       "  0.005288758271999998,\n",
       "  0.005329509696,\n",
       "  0.005288758271999998,\n",
       "  0.005329509696,\n",
       "  0,\n",
       "  0,\n",
       "  0],\n",
       " [0.007941435263999999,\n",
       "  0.007986033216000001,\n",
       "  0.007941435263999999,\n",
       "  0.007986033216000001,\n",
       "  0.007941435263999999,\n",
       "  0.007986033216000001,\n",
       "  0,\n",
       "  0,\n",
       "  0,\n",
       "  0]]"
      ]
     },
     "execution_count": 54,
     "metadata": {},
     "output_type": "execute_result"
    }
   ],
   "source": [
    "carbon_logger"
   ]
  },
  {
   "cell_type": "code",
   "execution_count": 22,
   "metadata": {},
   "outputs": [
    {
     "data": {
      "text/plain": [
       "<plantbox.Leaf at 0x7f8e0478d998>"
      ]
     },
     "execution_count": 22,
     "metadata": {},
     "output_type": "execute_result"
    }
   ],
   "source": [
    "root"
   ]
  },
  {
   "cell_type": "code",
   "execution_count": 55,
   "metadata": {},
   "outputs": [
    {
     "data": {
      "text/plain": [
       "[[1.9752070377333908, 1.9752070377333908, 1.9752070377333908, 0, 0, 0],\n",
       " [2.6758993464762604,\n",
       "  0,\n",
       "  2.6758993464762604,\n",
       "  0,\n",
       "  2.6758993464762604,\n",
       "  0,\n",
       "  0,\n",
       "  0,\n",
       "  0],\n",
       " [2.6861399992239, 0, 2.6861399992239, 0, 2.6861399992239, 0, 0, 0, 0, 0]]"
      ]
     },
     "execution_count": 55,
     "metadata": {},
     "output_type": "execute_result"
    }
   ],
   "source": [
    "root_length_logger"
   ]
  },
  {
   "cell_type": "code",
   "execution_count": 57,
   "metadata": {},
   "outputs": [],
   "source": [
    "root_he_c1 \n",
    "root_he_l1 "
   ]
  },
  {
   "cell_type": "code",
   "execution_count": 87,
   "metadata": {},
   "outputs": [
    {
     "data": {
      "text/plain": [
       "[[2.977021231497961, 2.977021231497961, 2.977021231497961, 0, 0, 0],\n",
       " [0.8175263052621411,\n",
       "  0.6594371720890857,\n",
       "  0.8175263052621411,\n",
       "  0.6594371720890857,\n",
       "  0.8175263052621411,\n",
       "  0.6594371720890857,\n",
       "  0,\n",
       "  0,\n",
       "  0]]"
      ]
     },
     "execution_count": 87,
     "metadata": {},
     "output_type": "execute_result"
    }
   ],
   "source": [
    "exudation_logger "
   ]
  },
  {
   "cell_type": "code",
   "execution_count": 75,
   "metadata": {},
   "outputs": [
    {
     "data": {
      "text/plain": [
       "(39,)"
      ]
     },
     "execution_count": 75,
     "metadata": {},
     "output_type": "execute_result"
    }
   ],
   "source": [
    "ccc.shape"
   ]
  },
  {
   "cell_type": "code",
   "execution_count": 118,
   "metadata": {},
   "outputs": [
    {
     "name": "stderr",
     "output_type": "stream",
     "text": [
      "No handles with labels found to put in legend.\n"
     ]
    },
    {
     "data": {
      "image/png": "[encoded data removed]",
      "text/plain": [
       "<Figure size 1440x2160 with 5 Axes>"
      ]
     },
     "metadata": {
      "needs_background": "light"
     },
     "output_type": "display_data"
    }
   ],
   "source": [
    "\n",
    "root_he_c3 = []\n",
    "root_he_l3 = []\n",
    "root_he_c3 = carbon_logger\n",
    "root_he_l3 = root_length_logger\n",
    "root_1_l_cf = []\n",
    "root_1_c_cf = []\n",
    "root_2_l_cf = []\n",
    "root_2_c_cf = []\n",
    "root_3_l_cf = []\n",
    "root_3_c_cf = []\n",
    "\n",
    "growth_rate_logger \n",
    "exudation_logger \n",
    "\n",
    "for i, length_i in enumerate(root_he_l3):\n",
    "    root_1_l_cf.append(length_i[np.array(root_he_l3[i]).nonzero()[0][0]])\n",
    "    root_2_l_cf.append(length_i[np.array(root_he_l3[i]).nonzero()[0][1]])\n",
    "    root_3_l_cf.append(length_i[np.array(root_he_l3[i]).nonzero()[0][2]])\n",
    "    root_1_c_cf.append(root_he_c3[i][np.array(root_he_l3[i]).nonzero()[0][0]])\n",
    "    root_2_c_cf.append(root_he_c3[i][np.array(root_he_l3[i]).nonzero()[0][1]])\n",
    "    root_3_c_cf.append(root_he_c3[i][np.array(root_he_l3[i]).nonzero()[0][2]])\n",
    "fig = plt.figure(figsize=(20,30))    \n",
    "ax1 = fig.add_subplot(3, 2, 1)\n",
    "ax1.spines['right'].set_visible(False)\n",
    "ax1.spines['top'].set_visible(False)\n",
    "ax1.set_xlabel(\"time (days)\")\n",
    "ax1.set_ylabel(\"available carbon (mmol)\")\n",
    "# ax1.set_xticks(list(ax1.set_xticks()[0]) + extraticks)\n",
    "days = range(1,len(carbon_logger)+1)\n",
    "# ax1.plot(days,root_1_c_cf, marker = \"o\", linestyle=\"-\", color = \"blue\", label= \"Water potential -0.1 MPa \", zorder=99)\n",
    "# ax1.plot(days,root_2_c_cf, marker = \"o\", linestyle=\"-\", color = \"red\", label= \"Water potential -0.3 MPa \", zorder=99)\n",
    "ax1.plot(days,root_3_c_cf, marker = \"o\", linestyle=\"-\", color = \"green\", label= \"Water potential -0.5 MPa \", zorder=2)\n",
    "for i, day in enumerate(carbon_logger):\n",
    "    x = [i+1]*len(day)\n",
    "    ax1.plot(x,carbon_logger[i], marker = \"o\", linestyle=\"\", color = \"grey\", zorder=1)\n",
    "ax1.title.set_text(\"available carbon\")\n",
    "ax1.set_ylim([0,5])\n",
    "#ax1.set_xlim([0,120])\n",
    "ax1.legend()\n",
    "\n",
    "\n",
    "ccc = np.squeeze(np.array(all_length_logger))\n",
    "ax2 = fig.add_subplot(3, 2, 2)\n",
    "ax2.spines['right'].set_visible(False)\n",
    "ax2.spines['top'].set_visible(False)\n",
    "# ax2.plot(days, root_1_l_cf, color= \"blue\", marker = \"o\", label= \"Water potential -0.1 MPa \")\n",
    "# ax2.plot(days, root_2_l_cf, color= \"red\", marker = \"o\", label= \"Water potential -0.3 MPa \")\n",
    "ax2.plot(days, root_3_l_cf, color= \"blue\", marker = \"o\", label= \"Water potential -0.5 MPa\")\n",
    "for i, day in enumerate(all_length_logger):\n",
    "    x = [i+1]*len(day)\n",
    "    ax2.plot(x,day, marker = \"o\", linestyle=\"\", color = \"grey\", zorder=1, markersize=1)\n",
    "ax2.legend()\n",
    "ax2.title.set_text(\"total root length on two main basal roots\")\n",
    "ax2.set_xlabel(\"time (days)\")\n",
    "ax2.set_ylabel(\"length (cm)\")\n",
    "ax2.set_ylim([0,60])\n",
    "#ax2.set_xlim([0,120])\n",
    "fig.savefig(fname= 'length2 ')\n",
    "\n",
    "def f(x):\n",
    "    # return multiply *4200*24\n",
    "    return x *4200*24\n",
    "\n",
    "ax3 = fig.add_subplot(3, 2, 3)\n",
    "ax3.spines['right'].set_visible(False)\n",
    "ax3.spines['top'].set_visible(False)\n",
    "# ax2.plot(days, root_1_l_cf, color= \"blue\", marker = \"o\", label= \"Water potential -0.1 MPa \")\n",
    "# ax2.plot(days, root_2_l_cf, color= \"red\", marker = \"o\", label= \"Water potential -0.3 MPa \")\n",
    "\n",
    "ax3.plot(days, f(np.array(k1_logger)), color= \"green\", marker = \"o\", label= \"Water potential -0.5 MPa\")\n",
    "ax3.legend()\n",
    "ax3.title.set_text(\"total respiration maintenance\")\n",
    "ax3.set_xlabel(\"time (days)\")\n",
    "ax3.set_ylabel(\"carbon mmol\")\n",
    "#ax3.set_ylim([0,60])\n",
    "#ax3.set_xlim([0,120])\n",
    "fig.savefig(fname= 'length2 ')\n",
    "\n",
    "total_exudation = []\n",
    "for i, root_tip in enumerate(exudation_logger):\n",
    "    total_exudation.append(np.sum(root_tip))\n",
    "\n",
    "ax4 = fig.add_subplot(3, 2, 4)\n",
    "ax4.spines['right'].set_visible(False)\n",
    "ax4.spines['top'].set_visible(False)\n",
    "# ax2.plot(days, root_1_l_cf, color= \"blue\", marker = \"o\", label= \"Water potential -0.1 MPa \")\n",
    "# ax2.plot(days, root_2_l_cf, color= \"red\", marker = \"o\", label= \"Water potential -0.3 MPa \")\n",
    "\n",
    "# for i, root_tip in enumerate(exudation_logger):\n",
    "#     x = [i+1]*len(root_tip)\n",
    "ax4.plot(days,total_exudation , marker = \"o\", linestyle=\"-\", color = \"grey\", zorder=1, markersize=10, label = \"exudated carbon\")\n",
    "ax4.legend()\n",
    "ax4.title.set_text(\"exudation\")\n",
    "ax4.set_xlabel(\"time (days)\")\n",
    "ax4.set_ylabel(\"exudated carbon mmol\")\n",
    "# ax4.set_ylim([0,10])\n",
    "#ax4.set_xlim([0,120])\n",
    "fig.savefig(fname= 'length2 ')\n",
    "\n",
    "\n",
    "for i, root_tip in enumerate(exudation_logger):\n",
    "    total_exudation.append(np.sum(root_tip))\n",
    "\n",
    "ax5 = fig.add_subplot(3, 2, 5)\n",
    "ax5.spines['right'].set_visible(False)\n",
    "ax5.spines['top'].set_visible(False)\n",
    "# ax2.plot(days, root_1_l_cf, color= \"blue\", marker = \"o\", label= \"Water potential -0.1 MPa \")\n",
    "# ax2.plot(days, root_2_l_cf, color= \"red\", marker = \"o\", label= \"Water potential -0.3 MPa \")\n",
    "\n",
    "for i, root_tip in enumerate(growth_rate_logger):\n",
    "    x = [i+1]*len(root_tip)\n",
    "    ax5.plot(x,root_tip , marker = \"o\", linestyle=\"\", color = \"grey\", zorder=1, markersize=10)\n",
    "ax5.legend()\n",
    "ax5.title.set_text(\"growth rate\")\n",
    "ax5.set_xlabel(\"time (days)\")\n",
    "ax5.set_ylabel(\"growth rate cm/day\")\n",
    "# ax5.set_ylim([0,10])\n",
    "#ax4.set_xlim([0,120])\n",
    "\n",
    "ax6 = fig.add_subplot(3, 2, 6)\n",
    "ax6.spines['right'].set_visible(False)\n",
    "ax6.spines['top'].set_visible(False)\n",
    "# ax2.plot(days, root_1_l_cf, color= \"blue\", marker = \"o\", label= \"Water potential -0.1 MPa \")\n",
    "# ax2.plot(days, root_2_l_cf, color= \"red\", marker = \"o\", label= \"Water potential -0.3 MPa \")\n",
    "\n",
    "for i, root_tip in enumerate(growth_rate_logger):\n",
    "    x = [i+1]*len(root_tip)\n",
    "    ax6.plot(x,root_tip , marker = \"o\", linestyle=\"\", color = \"grey\", zorder=1, markersize=10)\n",
    "ax6.legend()\n",
    "ax6.title.set_text(\"leaf number\")\n",
    "ax6.set_xlabel(\"days\")\n",
    "ax6.set_ylabel(\"leaf number\")\n",
    "# ax5.set_ylim([0,10])\n",
    "#ax4.set_xlim([0,120])\n",
    "fig.savefig(fname= 'length2 ')"
   ]
  },
  {
   "cell_type": "code",
   "execution_count": 7,
   "metadata": {},
   "outputs": [
    {
     "data": {
      "image/png": "[encoded data removed]",
      "text/plain": [
       "<Figure size 720x720 with 1 Axes>"
      ]
     },
     "metadata": {
      "needs_background": "light"
     },
     "output_type": "display_data"
    },
    {
     "data": {
      "image/png": "[encoded data removed]",
      "text/plain": [
       "<Figure size 720x720 with 1 Axes>"
      ]
     },
     "metadata": {
      "needs_background": "light"
     },
     "output_type": "display_data"
    }
   ],
   "source": [
    "root_he_c3 = carbon_logger\n",
    "root_he_l3 = root_length_logger\n",
    "root_1_l_cf = []\n",
    "root_1_c_cf = []\n",
    "root_2_l_cf = []\n",
    "root_2_c_cf = []\n",
    "root_3_l_cf = []\n",
    "root_3_c_cf = []\n",
    "\n",
    "for i, length_i in enumerate(root_he_l3):\n",
    "    root_1_l_cf.append(length_i[np.array(root_he_l3[i]).nonzero()[0][0]])\n",
    "    root_2_l_cf.append(length_i[np.array(root_he_l3[i]).nonzero()[0][1]])\n",
    "    root_3_l_cf.append(length_i[np.array(root_he_l3[i]).nonzero()[0][2]])\n",
    "    root_1_c_cf.append(root_he_c3[i][np.array(root_he_l3[i]).nonzero()[0][0]])\n",
    "    root_2_c_cf.append(root_he_c3[i][np.array(root_he_l3[i]).nonzero()[0][1]])\n",
    "    root_3_c_cf.append(root_he_c3[i][np.array(root_he_l3[i]).nonzero()[0][2]])\n",
    "f1 = plt    \n",
    "days = range(1,len(carbon_logger)+1)\n",
    "f1.plot(days,root_1_c_cf, marker = \"o\", linestyle=\"-\", color = \"blue\", label= \"Water potential -0.1 MPa \")\n",
    "# f1.plot(days,root_2_c_cf, marker = \"o\", linestyle=\"-\", color = \"red\", label= \"Water potential -0.3 MPa \")\n",
    "# f1.plot(days,root_3_c_cf, marker = \"o\", linestyle=\"-\", color = \"green\", label= \"Water potential -0.5 MPa \")\n",
    "plt.title(\"root carbon availablity\")\n",
    "for i, day in enumerate(carbon_logger):\n",
    "    x = [i+1]*len(day)\n",
    "    f1.plot(x,carbon_logger[i], marker = \"o\", linestyle=\"\", color = \"black\")\n",
    "f1.legend()\n",
    "f1.savefig(fname= 'growth rate2 ')\n",
    "\n",
    "fig,f2=plt.subplots(1)\n",
    "f2.plot(days, root_1_l_cf, color= \"blue\", marker = \"o\", label= \"Water potential -0.1 MPa \")\n",
    "# f2.plot(days, root_2_l_cf, color= \"red\", marker = \"o\", label= \"Water potential -0.3 MPa \")\n",
    "# f2.plot(days, root_3_l_cf, color= \"green\", marker = \"o\", label= \"Water potential -0.5 MPa\")\n",
    "f2.legend()\n",
    "plt.title(\"total root length on two main basal roots\")\n",
    "plt.xlabel(\"time (days)\")\n",
    "plt.ylabel(\"length (cm)\")\n",
    "\n",
    "fig.savefig(fname= 'length2 ')"
   ]
  },
  {
   "cell_type": "code",
   "execution_count": 202,
   "metadata": {},
   "outputs": [
    {
     "data": {
      "text/plain": [
       "172"
      ]
     },
     "execution_count": 202,
     "metadata": {},
     "output_type": "execute_result"
    }
   ],
   "source": [
    "len(dict_all[\"nodes_r_st\"])"
   ]
  },
  {
   "cell_type": "code",
   "execution_count": 209,
   "metadata": {},
   "outputs": [
    {
     "data": {
      "text/plain": [
       "173"
      ]
     },
     "execution_count": 209,
     "metadata": {},
     "output_type": "execute_result"
    }
   ],
   "source": [
    "len(homo_st)"
   ]
  },
  {
   "cell_type": "code",
   "execution_count": 177,
   "metadata": {},
   "outputs": [
    {
     "name": "stdout",
     "output_type": "stream",
     "text": [
      "Help on Root in module plantbox object:\n",
      "\n",
      "class Root(Organ)\n",
      " |  Method resolution order:\n",
      " |      Root\n",
      " |      Organ\n",
      " |      pybind11_builtins.pybind11_object\n",
      " |      builtins.object\n",
      " |  \n",
      " |  Methods defined here:\n",
      " |  \n",
      " |  __init__(...)\n",
      " |      __init__(*args, **kwargs)\n",
      " |      Overloaded function.\n",
      " |      \n",
      " |      1. __init__(self: plantbox.Root, arg0: plantbox.Organism, arg1: int, arg2: plantbox.Vector3d, arg3: float, arg4: plantbox.Organ, arg5: float, arg6: int) -> None\n",
      " |      \n",
      " |      2. __init__(self: plantbox.Root, arg0: int, arg1: plantbox.OrganSpecificParameter, arg2: bool, arg3: bool, arg4: float, arg5: float, arg6: plantbox.Vector3d, arg7: float, arg8: int, arg9: bool, arg10: int) -> None\n",
      " |  \n",
      " |  calcAge(...)\n",
      " |      calcAge(self: plantbox.Root, arg0: float) -> float\n",
      " |  \n",
      " |  calcCreationTime(...)\n",
      " |      calcCreationTime(self: plantbox.Root, arg0: float) -> float\n",
      " |  \n",
      " |  calcLength(...)\n",
      " |      calcLength(self: plantbox.Root, arg0: float) -> float\n",
      " |  \n",
      " |  dx(...)\n",
      " |      dx(self: plantbox.Root) -> float\n",
      " |  \n",
      " |  getRootRandomParameter(...)\n",
      " |      getRootRandomParameter(self: plantbox.Root) -> plantbox.RootRandomParameter\n",
      " |  \n",
      " |  param(...)\n",
      " |      param(self: plantbox.Root) -> plantbox.RootSpecificParameter\n",
      " |  \n",
      " |  ----------------------------------------------------------------------\n",
      " |  Methods inherited from Organ:\n",
      " |  \n",
      " |  __str__(...)\n",
      " |      __str__(self: plantbox.Organ) -> str\n",
      " |  \n",
      " |  addChild(...)\n",
      " |      addChild(self: plantbox.Organ, arg0: plantbox.Organ) -> None\n",
      " |  \n",
      " |  addNode(...)\n",
      " |      addNode(*args, **kwargs)\n",
      " |      Overloaded function.\n",
      " |      \n",
      " |      1. addNode(self: plantbox.Organ, arg0: plantbox.Vector3d, arg1: float) -> None\n",
      " |      \n",
      " |      2. addNode(self: plantbox.Organ, arg0: plantbox.Vector3d, arg1: int, arg2: float) -> None\n",
      " |  \n",
      " |  copy(...)\n",
      " |      copy(self: plantbox.Organ, arg0: CPlantBox::Organism) -> plantbox.Organ\n",
      " |  \n",
      " |  getAge(...)\n",
      " |      getAge(self: plantbox.Organ) -> float\n",
      " |  \n",
      " |  getChild(...)\n",
      " |      getChild(self: plantbox.Organ, arg0: int) -> plantbox.Organ\n",
      " |  \n",
      " |  getId(...)\n",
      " |      getId(self: plantbox.Organ) -> int\n",
      " |  \n",
      " |  getLength(...)\n",
      " |      getLength(self: plantbox.Organ) -> float\n",
      " |  \n",
      " |  getNode(...)\n",
      " |      getNode(self: plantbox.Organ, arg0: int) -> plantbox.Vector3d\n",
      " |  \n",
      " |  getNodeCT(...)\n",
      " |      getNodeCT(self: plantbox.Organ, arg0: int) -> float\n",
      " |  \n",
      " |  getNodeId(...)\n",
      " |      getNodeId(self: plantbox.Organ, arg0: int) -> int\n",
      " |  \n",
      " |  getNumberOfChildren(...)\n",
      " |      getNumberOfChildren(self: plantbox.Organ) -> int\n",
      " |  \n",
      " |  getNumberOfNodes(...)\n",
      " |      getNumberOfNodes(self: plantbox.Organ) -> int\n",
      " |  \n",
      " |  getOldNumberOfNodes(...)\n",
      " |      getOldNumberOfNodes(self: plantbox.Organ) -> int\n",
      " |  \n",
      " |  getOrganRandomParameter(...)\n",
      " |      getOrganRandomParameter(self: plantbox.Organ) -> plantbox.OrganRandomParameter\n",
      " |  \n",
      " |  getOrganism(...)\n",
      " |      getOrganism(self: plantbox.Organ) -> CPlantBox::Organism\n",
      " |  \n",
      " |  getOrgans(...)\n",
      " |      getOrgans(*args, **kwargs)\n",
      " |      Overloaded function.\n",
      " |      \n",
      " |      1. getOrgans(self: plantbox.Organ, ot: int = -1) -> List[plantbox.Organ]\n",
      " |      \n",
      " |      2. getOrgans(self: plantbox.Organ, arg0: int, arg1: List[plantbox.Organ]) -> None\n",
      " |  \n",
      " |  getParam(...)\n",
      " |      getParam(self: plantbox.Organ) -> plantbox.OrganSpecificParameter\n",
      " |  \n",
      " |  getParameter(...)\n",
      " |      getParameter(self: plantbox.Organ, arg0: str) -> float\n",
      " |  \n",
      " |  getParent(...)\n",
      " |      getParent(self: plantbox.Organ) -> plantbox.Organ\n",
      " |  \n",
      " |  getSegments(...)\n",
      " |      getSegments(self: plantbox.Organ) -> List[plantbox.Vector2i]\n",
      " |  \n",
      " |  hasMoved(...)\n",
      " |      hasMoved(self: plantbox.Organ) -> bool\n",
      " |  \n",
      " |  isActive(...)\n",
      " |      isActive(self: plantbox.Organ) -> bool\n",
      " |  \n",
      " |  isAlive(...)\n",
      " |      isAlive(self: plantbox.Organ) -> bool\n",
      " |  \n",
      " |  organType(...)\n",
      " |      organType(self: plantbox.Organ) -> int\n",
      " |  \n",
      " |  setOrganism(...)\n",
      " |      setOrganism(self: plantbox.Organ, arg0: CPlantBox::Organism) -> None\n",
      " |  \n",
      " |  setParent(...)\n",
      " |      setParent(self: plantbox.Organ, arg0: plantbox.Organ) -> None\n",
      " |  \n",
      " |  simulate(...)\n",
      " |      simulate(self: plantbox.Organ, dt: float, verbose: bool = False) -> None\n",
      " |  \n",
      " |  ----------------------------------------------------------------------\n",
      " |  Data descriptors inherited from Organ:\n",
      " |  \n",
      " |  iHeading\n",
      " |  \n",
      " |  parentBaseLength\n",
      " |  \n",
      " |  parentNI\n",
      " |  \n",
      " |  ----------------------------------------------------------------------\n",
      " |  Methods inherited from pybind11_builtins.pybind11_object:\n",
      " |  \n",
      " |  __new__(*args, **kwargs) from pybind11_builtins.pybind11_type\n",
      " |      Create and return a new object.  See help(type) for accurate signature.\n",
      "\n"
     ]
    }
   ],
   "source": [
    "help(plant.getOrgans()[2])"
   ]
  },
  {
   "cell_type": "code",
   "execution_count": 168,
   "metadata": {},
   "outputs": [
    {
     "data": {
      "text/plain": [
       "26.598843597174834"
      ]
     },
     "execution_count": 168,
     "metadata": {},
     "output_type": "execute_result"
    }
   ],
   "source": [
    "dict_all['nodes_r_st'][164]"
   ]
  },
  {
   "cell_type": "code",
   "execution_count": 172,
   "metadata": {},
   "outputs": [
    {
     "data": {
      "text/plain": [
       "26.550498376146187"
      ]
     },
     "execution_count": 172,
     "metadata": {},
     "output_type": "execute_result"
    }
   ],
   "source": [
    "dict_all['nodes_r_st'][168]"
   ]
  },
  {
   "cell_type": "code",
   "execution_count": 244,
   "metadata": {},
   "outputs": [
    {
     "ename": "IndexError",
     "evalue": "index 172 is out of bounds for axis 0 with size 79",
     "output_type": "error",
     "traceback": [
      "\u001b[0;31m---------------------------------------------------------------------------\u001b[0m",
      "\u001b[0;31mIndexError\u001b[0m                                Traceback (most recent call last)",
      "\u001b[0;32m<ipython-input-244-087485aa3342>\u001b[0m in \u001b[0;36m<module>\u001b[0;34m\u001b[0m\n\u001b[0;32m----> 1\u001b[0;31m \u001b[0mdict_all\u001b[0m\u001b[0;34m[\u001b[0m\u001b[0;34m'nodes_r_st'\u001b[0m\u001b[0;34m]\u001b[0m\u001b[0;34m[\u001b[0m\u001b[0;36m172\u001b[0m\u001b[0;34m]\u001b[0m\u001b[0;34m\u001b[0m\u001b[0;34m\u001b[0m\u001b[0m\n\u001b[0m",
      "\u001b[0;31mIndexError\u001b[0m: index 172 is out of bounds for axis 0 with size 79"
     ]
    }
   ],
   "source": [
    "dict_all['nodes_r_st'][172]"
   ]
  },
  {
   "cell_type": "code",
   "execution_count": 6,
   "metadata": {},
   "outputs": [
    {
     "data": {
      "text/plain": [
       "Text(0, 0.5, 'length (cm)')"
      ]
     },
     "execution_count": 6,
     "metadata": {},
     "output_type": "execute_result"
    },
    {
     "data": {
      "image/png": "[encoded data removed]",
      "text/plain": [
       "<Figure size 720x720 with 1 Axes>"
      ]
     },
     "metadata": {
      "needs_background": "light"
     },
     "output_type": "display_data"
    },
    {
     "data": {
      "image/png": "[encoded data removed]",
      "text/plain": [
       "<Figure size 720x720 with 1 Axes>"
      ]
     },
     "metadata": {
      "needs_background": "light"
     },
     "output_type": "display_data"
    }
   ],
   "source": [
    "root_he_c = carbon_logger\n",
    "root_he_l = root_length_logger\n",
    "root_1_l_cf = []\n",
    "root_1_c_cf = []\n",
    "root_2_l_cf = []\n",
    "root_2_c_cf = []\n",
    "root_3_l_cf = []\n",
    "root_3_c_cf = []\n",
    "\n",
    "for i, length_i in enumerate(root_he_l):\n",
    "    root_1_l_cf.append(length_i[np.array(root_he_l[i]).nonzero()[0][0]])\n",
    "    root_2_l_cf.append(length_i[np.array(root_he_l[i]).nonzero()[0][1]])\n",
    "    root_3_l_cf.append(length_i[np.array(root_he_l[i]).nonzero()[0][2]])\n",
    "    root_1_c_cf.append(root_he_c[i][np.array(root_he_l[i]).nonzero()[0][0]])\n",
    "    root_2_c_cf.append(root_he_c[i][np.array(root_he_l[i]).nonzero()[0][1]])\n",
    "    root_3_c_cf.append(root_he_c[i][np.array(root_he_l[i]).nonzero()[0][2]])\n",
    "f1 = plt    \n",
    "days = range(1,len(carbon_logger)+1)\n",
    "f1.plot(days,root_1_c_cf, marker = \"o\", linestyle=\"\", color = \"blue\", label= \"Water potential -0.1 MPa \")\n",
    "f1.plot(days,root_2_c_cf, marker = \"o\", linestyle=\"\", color = \"red\", label= \"Water potential -0.3 MPa \")\n",
    "f1.plot(days,root_3_c_cf, marker = \"o\", linestyle=\"\", color = \"green\", label= \"Water potential -0.5 MPa \")\n",
    "f1.legend()\n",
    "\n",
    "fig,f2=plt.subplots(1)\n",
    "f2.plot(days, root_1_l_cf, color= \"blue\", marker = \"o\", label= \"Water potential -0.1 MPa \")\n",
    "f2.plot(days, root_2_l_cf, color= \"red\", marker = \"o\", label= \"Water potential -0.3 MPa \")\n",
    "f2.plot(days, root_3_l_cf, color= \"green\", marker = \"o\", label= \"Water potential -0.5 MPa\")\n",
    "f2.legend()\n",
    "plt.title(\"total root length on two main basal roots\")\n",
    "plt.xlabel(\"time (days)\")\n",
    "plt.ylabel(\"length (cm)\")"
   ]
  },
  {
   "cell_type": "code",
   "execution_count": 73,
   "metadata": {},
   "outputs": [
    {
     "ename": "ValueError",
     "evalue": "x and y must have same first dimension, but have shapes (1,) and (2,)",
     "output_type": "error",
     "traceback": [
      "\u001b[0;31m---------------------------------------------------------------------------\u001b[0m",
      "\u001b[0;31mValueError\u001b[0m                                Traceback (most recent call last)",
      "\u001b[0;32m<ipython-input-73-3065621d072d>\u001b[0m in \u001b[0;36m<module>\u001b[0;34m\u001b[0m\n\u001b[1;32m      7\u001b[0m \u001b[0mf1\u001b[0m\u001b[0;34m.\u001b[0m\u001b[0mxlabel\u001b[0m\u001b[0;34m(\u001b[0m\u001b[0;34m\"time (day)\"\u001b[0m\u001b[0;34m)\u001b[0m\u001b[0;34m\u001b[0m\u001b[0;34m\u001b[0m\u001b[0m\n\u001b[1;32m      8\u001b[0m \u001b[0mx\u001b[0m \u001b[0;34m=\u001b[0m \u001b[0mrange\u001b[0m\u001b[0;34m(\u001b[0m\u001b[0;36m1\u001b[0m\u001b[0;34m,\u001b[0m\u001b[0mlen\u001b[0m\u001b[0;34m(\u001b[0m\u001b[0mday\u001b[0m\u001b[0;34m)\u001b[0m\u001b[0;34m)\u001b[0m\u001b[0;34m\u001b[0m\u001b[0;34m\u001b[0m\u001b[0m\n\u001b[0;32m----> 9\u001b[0;31m \u001b[0mf1\u001b[0m\u001b[0;34m.\u001b[0m\u001b[0mplot\u001b[0m\u001b[0;34m(\u001b[0m\u001b[0mx\u001b[0m\u001b[0;34m,\u001b[0m\u001b[0mroot_he_c\u001b[0m\u001b[0;34m[\u001b[0m\u001b[0;36m0\u001b[0m\u001b[0;34m]\u001b[0m\u001b[0;34m,\u001b[0m \u001b[0mmarker\u001b[0m \u001b[0;34m=\u001b[0m \u001b[0;34m\"o\"\u001b[0m\u001b[0;34m,\u001b[0m \u001b[0mlinestyle\u001b[0m\u001b[0;34m=\u001b[0m\u001b[0;34m\"\"\u001b[0m\u001b[0;34m,\u001b[0m \u001b[0mcolor\u001b[0m \u001b[0;34m=\u001b[0m \u001b[0;34m\"blue\"\u001b[0m\u001b[0;34m)\u001b[0m\u001b[0;34m\u001b[0m\u001b[0;34m\u001b[0m\u001b[0m\n\u001b[0m\u001b[1;32m     10\u001b[0m \u001b[0mf1\u001b[0m\u001b[0;34m.\u001b[0m\u001b[0mplot\u001b[0m\u001b[0;34m(\u001b[0m\u001b[0mx\u001b[0m\u001b[0;34m,\u001b[0m\u001b[0mroot_he_c\u001b[0m\u001b[0;34m[\u001b[0m\u001b[0;36m1\u001b[0m\u001b[0;34m]\u001b[0m\u001b[0;34m,\u001b[0m \u001b[0mmarker\u001b[0m \u001b[0;34m=\u001b[0m \u001b[0;34m\"o\"\u001b[0m\u001b[0;34m,\u001b[0m \u001b[0mlinestyle\u001b[0m\u001b[0;34m=\u001b[0m\u001b[0;34m\"\"\u001b[0m\u001b[0;34m,\u001b[0m \u001b[0mcolor\u001b[0m \u001b[0;34m=\u001b[0m \u001b[0;34m\"red\"\u001b[0m\u001b[0;34m)\u001b[0m\u001b[0;34m\u001b[0m\u001b[0;34m\u001b[0m\u001b[0m\n\u001b[1;32m     11\u001b[0m \u001b[0;31m#a1 = f1.plot(days1, root_1_c_cf, color= \"blue\", marker = \"v\", label= \"Carbon feedback dry basal root \")\u001b[0m\u001b[0;34m\u001b[0m\u001b[0;34m\u001b[0m\u001b[0;34m\u001b[0m\u001b[0m\n",
      "\u001b[0;32m~/.local/lib/python3.6/site-packages/matplotlib/pyplot.py\u001b[0m in \u001b[0;36mplot\u001b[0;34m(scalex, scaley, data, *args, **kwargs)\u001b[0m\n\u001b[1;32m   2787\u001b[0m     return gca().plot(\n\u001b[1;32m   2788\u001b[0m         *args, scalex=scalex, scaley=scaley, **({\"data\": data} if data\n\u001b[0;32m-> 2789\u001b[0;31m         is not None else {}), **kwargs)\n\u001b[0m\u001b[1;32m   2790\u001b[0m \u001b[0;34m\u001b[0m\u001b[0m\n\u001b[1;32m   2791\u001b[0m \u001b[0;34m\u001b[0m\u001b[0m\n",
      "\u001b[0;32m~/.local/lib/python3.6/site-packages/matplotlib/axes/_axes.py\u001b[0m in \u001b[0;36mplot\u001b[0;34m(self, scalex, scaley, data, *args, **kwargs)\u001b[0m\n\u001b[1;32m   1663\u001b[0m         \"\"\"\n\u001b[1;32m   1664\u001b[0m         \u001b[0mkwargs\u001b[0m \u001b[0;34m=\u001b[0m \u001b[0mcbook\u001b[0m\u001b[0;34m.\u001b[0m\u001b[0mnormalize_kwargs\u001b[0m\u001b[0;34m(\u001b[0m\u001b[0mkwargs\u001b[0m\u001b[0;34m,\u001b[0m \u001b[0mmlines\u001b[0m\u001b[0;34m.\u001b[0m\u001b[0mLine2D\u001b[0m\u001b[0;34m.\u001b[0m\u001b[0m_alias_map\u001b[0m\u001b[0;34m)\u001b[0m\u001b[0;34m\u001b[0m\u001b[0;34m\u001b[0m\u001b[0m\n\u001b[0;32m-> 1665\u001b[0;31m         \u001b[0mlines\u001b[0m \u001b[0;34m=\u001b[0m \u001b[0;34m[\u001b[0m\u001b[0;34m*\u001b[0m\u001b[0mself\u001b[0m\u001b[0;34m.\u001b[0m\u001b[0m_get_lines\u001b[0m\u001b[0;34m(\u001b[0m\u001b[0;34m*\u001b[0m\u001b[0margs\u001b[0m\u001b[0;34m,\u001b[0m \u001b[0mdata\u001b[0m\u001b[0;34m=\u001b[0m\u001b[0mdata\u001b[0m\u001b[0;34m,\u001b[0m \u001b[0;34m**\u001b[0m\u001b[0mkwargs\u001b[0m\u001b[0;34m)\u001b[0m\u001b[0;34m]\u001b[0m\u001b[0;34m\u001b[0m\u001b[0;34m\u001b[0m\u001b[0m\n\u001b[0m\u001b[1;32m   1666\u001b[0m         \u001b[0;32mfor\u001b[0m \u001b[0mline\u001b[0m \u001b[0;32min\u001b[0m \u001b[0mlines\u001b[0m\u001b[0;34m:\u001b[0m\u001b[0;34m\u001b[0m\u001b[0;34m\u001b[0m\u001b[0m\n\u001b[1;32m   1667\u001b[0m             \u001b[0mself\u001b[0m\u001b[0;34m.\u001b[0m\u001b[0madd_line\u001b[0m\u001b[0;34m(\u001b[0m\u001b[0mline\u001b[0m\u001b[0;34m)\u001b[0m\u001b[0;34m\u001b[0m\u001b[0;34m\u001b[0m\u001b[0m\n",
      "\u001b[0;32m~/.local/lib/python3.6/site-packages/matplotlib/axes/_base.py\u001b[0m in \u001b[0;36m__call__\u001b[0;34m(self, *args, **kwargs)\u001b[0m\n\u001b[1;32m    223\u001b[0m                 \u001b[0mthis\u001b[0m \u001b[0;34m+=\u001b[0m \u001b[0margs\u001b[0m\u001b[0;34m[\u001b[0m\u001b[0;36m0\u001b[0m\u001b[0;34m]\u001b[0m\u001b[0;34m,\u001b[0m\u001b[0;34m\u001b[0m\u001b[0;34m\u001b[0m\u001b[0m\n\u001b[1;32m    224\u001b[0m                 \u001b[0margs\u001b[0m \u001b[0;34m=\u001b[0m \u001b[0margs\u001b[0m\u001b[0;34m[\u001b[0m\u001b[0;36m1\u001b[0m\u001b[0;34m:\u001b[0m\u001b[0;34m]\u001b[0m\u001b[0;34m\u001b[0m\u001b[0;34m\u001b[0m\u001b[0m\n\u001b[0;32m--> 225\u001b[0;31m             \u001b[0;32myield\u001b[0m \u001b[0;32mfrom\u001b[0m \u001b[0mself\u001b[0m\u001b[0;34m.\u001b[0m\u001b[0m_plot_args\u001b[0m\u001b[0;34m(\u001b[0m\u001b[0mthis\u001b[0m\u001b[0;34m,\u001b[0m \u001b[0mkwargs\u001b[0m\u001b[0;34m)\u001b[0m\u001b[0;34m\u001b[0m\u001b[0;34m\u001b[0m\u001b[0m\n\u001b[0m\u001b[1;32m    226\u001b[0m \u001b[0;34m\u001b[0m\u001b[0m\n\u001b[1;32m    227\u001b[0m     \u001b[0;32mdef\u001b[0m \u001b[0mget_next_color\u001b[0m\u001b[0;34m(\u001b[0m\u001b[0mself\u001b[0m\u001b[0;34m)\u001b[0m\u001b[0;34m:\u001b[0m\u001b[0;34m\u001b[0m\u001b[0;34m\u001b[0m\u001b[0m\n",
      "\u001b[0;32m~/.local/lib/python3.6/site-packages/matplotlib/axes/_base.py\u001b[0m in \u001b[0;36m_plot_args\u001b[0;34m(self, tup, kwargs)\u001b[0m\n\u001b[1;32m    389\u001b[0m             \u001b[0mx\u001b[0m\u001b[0;34m,\u001b[0m \u001b[0my\u001b[0m \u001b[0;34m=\u001b[0m \u001b[0mindex_of\u001b[0m\u001b[0;34m(\u001b[0m\u001b[0mtup\u001b[0m\u001b[0;34m[\u001b[0m\u001b[0;34m-\u001b[0m\u001b[0;36m1\u001b[0m\u001b[0;34m]\u001b[0m\u001b[0;34m)\u001b[0m\u001b[0;34m\u001b[0m\u001b[0;34m\u001b[0m\u001b[0m\n\u001b[1;32m    390\u001b[0m \u001b[0;34m\u001b[0m\u001b[0m\n\u001b[0;32m--> 391\u001b[0;31m         \u001b[0mx\u001b[0m\u001b[0;34m,\u001b[0m \u001b[0my\u001b[0m \u001b[0;34m=\u001b[0m \u001b[0mself\u001b[0m\u001b[0;34m.\u001b[0m\u001b[0m_xy_from_xy\u001b[0m\u001b[0;34m(\u001b[0m\u001b[0mx\u001b[0m\u001b[0;34m,\u001b[0m \u001b[0my\u001b[0m\u001b[0;34m)\u001b[0m\u001b[0;34m\u001b[0m\u001b[0;34m\u001b[0m\u001b[0m\n\u001b[0m\u001b[1;32m    392\u001b[0m \u001b[0;34m\u001b[0m\u001b[0m\n\u001b[1;32m    393\u001b[0m         \u001b[0;32mif\u001b[0m \u001b[0mself\u001b[0m\u001b[0;34m.\u001b[0m\u001b[0mcommand\u001b[0m \u001b[0;34m==\u001b[0m \u001b[0;34m'plot'\u001b[0m\u001b[0;34m:\u001b[0m\u001b[0;34m\u001b[0m\u001b[0;34m\u001b[0m\u001b[0m\n",
      "\u001b[0;32m~/.local/lib/python3.6/site-packages/matplotlib/axes/_base.py\u001b[0m in \u001b[0;36m_xy_from_xy\u001b[0;34m(self, x, y)\u001b[0m\n\u001b[1;32m    268\u001b[0m         \u001b[0;32mif\u001b[0m \u001b[0mx\u001b[0m\u001b[0;34m.\u001b[0m\u001b[0mshape\u001b[0m\u001b[0;34m[\u001b[0m\u001b[0;36m0\u001b[0m\u001b[0;34m]\u001b[0m \u001b[0;34m!=\u001b[0m \u001b[0my\u001b[0m\u001b[0;34m.\u001b[0m\u001b[0mshape\u001b[0m\u001b[0;34m[\u001b[0m\u001b[0;36m0\u001b[0m\u001b[0;34m]\u001b[0m\u001b[0;34m:\u001b[0m\u001b[0;34m\u001b[0m\u001b[0;34m\u001b[0m\u001b[0m\n\u001b[1;32m    269\u001b[0m             raise ValueError(\"x and y must have same first dimension, but \"\n\u001b[0;32m--> 270\u001b[0;31m                              \"have shapes {} and {}\".format(x.shape, y.shape))\n\u001b[0m\u001b[1;32m    271\u001b[0m         \u001b[0;32mif\u001b[0m \u001b[0mx\u001b[0m\u001b[0;34m.\u001b[0m\u001b[0mndim\u001b[0m \u001b[0;34m>\u001b[0m \u001b[0;36m2\u001b[0m \u001b[0;32mor\u001b[0m \u001b[0my\u001b[0m\u001b[0;34m.\u001b[0m\u001b[0mndim\u001b[0m \u001b[0;34m>\u001b[0m \u001b[0;36m2\u001b[0m\u001b[0;34m:\u001b[0m\u001b[0;34m\u001b[0m\u001b[0;34m\u001b[0m\u001b[0m\n\u001b[1;32m    272\u001b[0m             raise ValueError(\"x and y can be no greater than 2-D, but have \"\n",
      "\u001b[0;31mValueError\u001b[0m: x and y must have same first dimension, but have shapes (1,) and (2,)"
     ]
    },
    {
     "data": {
      "image/png": "[encoded data removed]",
      "text/plain": [
       "<Figure size 720x720 with 1 Axes>"
      ]
     },
     "metadata": {
      "needs_background": "light"
     },
     "output_type": "display_data"
    }
   ],
   "source": [
    "\n",
    "\n",
    "f1=plt\n",
    "f1.title(\" Growth rate at each root tip (blue:with carbon, black: no carbon\")\n",
    "#for i, day in enumerate(carbon_logger):\n",
    "x = [i+1]*len(day)\n",
    "f1.plot(x,carbon_logger[i], marker = \"o\", linestyle=\"\", color = \"black\")\n",
    "f1.ylabel(\" with carbon feedback: growth rate cm $day^{-1}$\")\n",
    "f1.xlabel(\"time (day)\")\n",
    "x = range(1,len(day))\n",
    "f1.plot(x,root_he_c[0], marker = \"o\", linestyle=\"\", color = \"blue\")\n",
    "f1.plot(x,root_he_c[1], marker = \"o\", linestyle=\"\", color = \"red\")\n",
    "#a1 = f1.plot(days1, root_1_c_cf, color= \"blue\", marker = \"v\", label= \"Carbon feedback dry basal root \")\n",
    "#a2 = f1.plot(days1, root_2_c_cf, color= \"red\", marker = \"v\", label= \"Carbon feedback wet basal root\")\n",
    "f1.legend()\n",
    "\n",
    "\n"
   ]
  },
  {
   "cell_type": "code",
   "execution_count": 11,
   "metadata": {},
   "outputs": [
    {
     "data": {
      "text/plain": [
       "[]"
      ]
     },
     "execution_count": 11,
     "metadata": {},
     "output_type": "execute_result"
    }
   ],
   "source": [
    "root_length_logger"
   ]
  },
  {
   "cell_type": "code",
   "execution_count": 13,
   "metadata": {},
   "outputs": [
    {
     "name": "stdout",
     "output_type": "stream",
     "text": [
      "1.9948599999999997e-05\n",
      "0\n",
      "1.96966e-05\n",
      "1\n"
     ]
    },
    {
     "data": {
      "image/png": "[encoded data removed]",
      "text/plain": [
       "<Figure size 720x720 with 1 Axes>"
      ]
     },
     "metadata": {
      "needs_background": "light"
     },
     "output_type": "display_data"
    }
   ],
   "source": [
    "f=plt\n",
    "for i in N1R_node:\n",
    "    f.plot(piaf_output[\"Q_ST\"][:,int(i[0]-1)])\n",
    "    print(piaf_output[\"Q_ST\"][-1,int(i[0]-1)])\n",
    "    print(node_id_to_organ[int(i[0]-1)])"
   ]
  },
  {
   "cell_type": "code",
   "execution_count": null,
   "metadata": {},
   "outputs": [],
   "source": []
  },
  {
   "cell_type": "code",
   "execution_count": 22,
   "metadata": {},
   "outputs": [
    {
     "data": {
      "image/png": "[encoded data removed]",
      "text/plain": [
       "<Figure size 720x720 with 1 Axes>"
      ]
     },
     "metadata": {
      "needs_background": "light"
     },
     "output_type": "display_data"
    }
   ],
   "source": [
    "f=plt\n",
    "f.plot(piaf_output[\"Q_ST\"][:,3])\n",
    "f.plot(piaf_output[\"Q_ST\"][:,4])\n",
    "f.show()"
   ]
  },
  {
   "cell_type": "code",
   "execution_count": null,
   "metadata": {},
   "outputs": [],
   "source": []
  },
  {
   "cell_type": "code",
   "execution_count": 595,
   "metadata": {},
   "outputs": [
    {
     "data": {
      "text/plain": [
       "[<matplotlib.lines.Line2D at 0x7f87815445f8>]"
      ]
     },
     "execution_count": 595,
     "metadata": {},
     "output_type": "execute_result"
    },
    {
     "data": {
      "image/png": "[encoded data removed]",
      "text/plain": [
       "<Figure size 720x720 with 1 Axes>"
      ]
     },
     "metadata": {
      "needs_background": "light"
     },
     "output_type": "display_data"
    }
   ],
   "source": [
    "f=plt\n",
    "f.plot(piaf_output[\"Q_ST\"][:,464])\n",
    "f.plot(piaf_output[\"Q_ST\"][:,463])"
   ]
  },
  {
   "cell_type": "code",
   "execution_count": 71,
   "metadata": {},
   "outputs": [
    {
     "name": "stderr",
     "output_type": "stream",
     "text": [
      "No handles with labels found to put in legend.\n"
     ]
    },
    {
     "ename": "ValueError",
     "evalue": "x and y must have same first dimension, but have shapes (10,) and (0,)",
     "output_type": "error",
     "traceback": [
      "\u001b[0;31m---------------------------------------------------------------------------\u001b[0m",
      "\u001b[0;31mValueError\u001b[0m                                Traceback (most recent call last)",
      "\u001b[0;32m<ipython-input-71-4056638860f2>\u001b[0m in \u001b[0;36m<module>\u001b[0;34m\u001b[0m\n\u001b[1;32m     16\u001b[0m \u001b[0;34m\u001b[0m\u001b[0m\n\u001b[1;32m     17\u001b[0m \u001b[0mfig\u001b[0m\u001b[0;34m,\u001b[0m\u001b[0mf2\u001b[0m\u001b[0;34m=\u001b[0m\u001b[0mplt\u001b[0m\u001b[0;34m.\u001b[0m\u001b[0msubplots\u001b[0m\u001b[0;34m(\u001b[0m\u001b[0;36m1\u001b[0m\u001b[0;34m)\u001b[0m\u001b[0;34m\u001b[0m\u001b[0;34m\u001b[0m\u001b[0m\n\u001b[0;32m---> 18\u001b[0;31m \u001b[0mf2\u001b[0m\u001b[0;34m.\u001b[0m\u001b[0mplot\u001b[0m\u001b[0;34m(\u001b[0m\u001b[0mdays\u001b[0m\u001b[0;34m,\u001b[0m \u001b[0mroot_1_l_cf\u001b[0m\u001b[0;34m,\u001b[0m \u001b[0mcolor\u001b[0m\u001b[0;34m=\u001b[0m \u001b[0;34m\"blue\"\u001b[0m\u001b[0;34m,\u001b[0m \u001b[0mmarker\u001b[0m \u001b[0;34m=\u001b[0m \u001b[0;34m\"o\"\u001b[0m\u001b[0;34m,\u001b[0m \u001b[0mlabel\u001b[0m\u001b[0;34m=\u001b[0m \u001b[0;34m\"basal root1 \"\u001b[0m\u001b[0;34m)\u001b[0m\u001b[0;34m\u001b[0m\u001b[0;34m\u001b[0m\u001b[0m\n\u001b[0m\u001b[1;32m     19\u001b[0m \u001b[0mf2\u001b[0m\u001b[0;34m.\u001b[0m\u001b[0mplot\u001b[0m\u001b[0;34m(\u001b[0m\u001b[0mdays\u001b[0m\u001b[0;34m,\u001b[0m \u001b[0mroot_2_l_cf\u001b[0m\u001b[0;34m,\u001b[0m \u001b[0mcolor\u001b[0m\u001b[0;34m=\u001b[0m \u001b[0;34m\"red\"\u001b[0m\u001b[0;34m,\u001b[0m \u001b[0mmarker\u001b[0m \u001b[0;34m=\u001b[0m \u001b[0;34m\"o\"\u001b[0m\u001b[0;34m,\u001b[0m \u001b[0mlabel\u001b[0m\u001b[0;34m=\u001b[0m \u001b[0;34m\"basal root2 \"\u001b[0m\u001b[0;34m)\u001b[0m\u001b[0;34m\u001b[0m\u001b[0;34m\u001b[0m\u001b[0m\n\u001b[1;32m     20\u001b[0m \u001b[0mf2\u001b[0m\u001b[0;34m.\u001b[0m\u001b[0mlegend\u001b[0m\u001b[0;34m(\u001b[0m\u001b[0;34m)\u001b[0m\u001b[0;34m\u001b[0m\u001b[0;34m\u001b[0m\u001b[0m\n",
      "\u001b[0;32m~/.local/lib/python3.6/site-packages/matplotlib/axes/_axes.py\u001b[0m in \u001b[0;36mplot\u001b[0;34m(self, scalex, scaley, data, *args, **kwargs)\u001b[0m\n\u001b[1;32m   1663\u001b[0m         \"\"\"\n\u001b[1;32m   1664\u001b[0m         \u001b[0mkwargs\u001b[0m \u001b[0;34m=\u001b[0m \u001b[0mcbook\u001b[0m\u001b[0;34m.\u001b[0m\u001b[0mnormalize_kwargs\u001b[0m\u001b[0;34m(\u001b[0m\u001b[0mkwargs\u001b[0m\u001b[0;34m,\u001b[0m \u001b[0mmlines\u001b[0m\u001b[0;34m.\u001b[0m\u001b[0mLine2D\u001b[0m\u001b[0;34m.\u001b[0m\u001b[0m_alias_map\u001b[0m\u001b[0;34m)\u001b[0m\u001b[0;34m\u001b[0m\u001b[0;34m\u001b[0m\u001b[0m\n\u001b[0;32m-> 1665\u001b[0;31m         \u001b[0mlines\u001b[0m \u001b[0;34m=\u001b[0m \u001b[0;34m[\u001b[0m\u001b[0;34m*\u001b[0m\u001b[0mself\u001b[0m\u001b[0;34m.\u001b[0m\u001b[0m_get_lines\u001b[0m\u001b[0;34m(\u001b[0m\u001b[0;34m*\u001b[0m\u001b[0margs\u001b[0m\u001b[0;34m,\u001b[0m \u001b[0mdata\u001b[0m\u001b[0;34m=\u001b[0m\u001b[0mdata\u001b[0m\u001b[0;34m,\u001b[0m \u001b[0;34m**\u001b[0m\u001b[0mkwargs\u001b[0m\u001b[0;34m)\u001b[0m\u001b[0;34m]\u001b[0m\u001b[0;34m\u001b[0m\u001b[0;34m\u001b[0m\u001b[0m\n\u001b[0m\u001b[1;32m   1666\u001b[0m         \u001b[0;32mfor\u001b[0m \u001b[0mline\u001b[0m \u001b[0;32min\u001b[0m \u001b[0mlines\u001b[0m\u001b[0;34m:\u001b[0m\u001b[0;34m\u001b[0m\u001b[0;34m\u001b[0m\u001b[0m\n\u001b[1;32m   1667\u001b[0m             \u001b[0mself\u001b[0m\u001b[0;34m.\u001b[0m\u001b[0madd_line\u001b[0m\u001b[0;34m(\u001b[0m\u001b[0mline\u001b[0m\u001b[0;34m)\u001b[0m\u001b[0;34m\u001b[0m\u001b[0;34m\u001b[0m\u001b[0m\n",
      "\u001b[0;32m~/.local/lib/python3.6/site-packages/matplotlib/axes/_base.py\u001b[0m in \u001b[0;36m__call__\u001b[0;34m(self, *args, **kwargs)\u001b[0m\n\u001b[1;32m    223\u001b[0m                 \u001b[0mthis\u001b[0m \u001b[0;34m+=\u001b[0m \u001b[0margs\u001b[0m\u001b[0;34m[\u001b[0m\u001b[0;36m0\u001b[0m\u001b[0;34m]\u001b[0m\u001b[0;34m,\u001b[0m\u001b[0;34m\u001b[0m\u001b[0;34m\u001b[0m\u001b[0m\n\u001b[1;32m    224\u001b[0m                 \u001b[0margs\u001b[0m \u001b[0;34m=\u001b[0m \u001b[0margs\u001b[0m\u001b[0;34m[\u001b[0m\u001b[0;36m1\u001b[0m\u001b[0;34m:\u001b[0m\u001b[0;34m]\u001b[0m\u001b[0;34m\u001b[0m\u001b[0;34m\u001b[0m\u001b[0m\n\u001b[0;32m--> 225\u001b[0;31m             \u001b[0;32myield\u001b[0m \u001b[0;32mfrom\u001b[0m \u001b[0mself\u001b[0m\u001b[0;34m.\u001b[0m\u001b[0m_plot_args\u001b[0m\u001b[0;34m(\u001b[0m\u001b[0mthis\u001b[0m\u001b[0;34m,\u001b[0m \u001b[0mkwargs\u001b[0m\u001b[0;34m)\u001b[0m\u001b[0;34m\u001b[0m\u001b[0;34m\u001b[0m\u001b[0m\n\u001b[0m\u001b[1;32m    226\u001b[0m \u001b[0;34m\u001b[0m\u001b[0m\n\u001b[1;32m    227\u001b[0m     \u001b[0;32mdef\u001b[0m \u001b[0mget_next_color\u001b[0m\u001b[0;34m(\u001b[0m\u001b[0mself\u001b[0m\u001b[0;34m)\u001b[0m\u001b[0;34m:\u001b[0m\u001b[0;34m\u001b[0m\u001b[0;34m\u001b[0m\u001b[0m\n",
      "\u001b[0;32m~/.local/lib/python3.6/site-packages/matplotlib/axes/_base.py\u001b[0m in \u001b[0;36m_plot_args\u001b[0;34m(self, tup, kwargs)\u001b[0m\n\u001b[1;32m    389\u001b[0m             \u001b[0mx\u001b[0m\u001b[0;34m,\u001b[0m \u001b[0my\u001b[0m \u001b[0;34m=\u001b[0m \u001b[0mindex_of\u001b[0m\u001b[0;34m(\u001b[0m\u001b[0mtup\u001b[0m\u001b[0;34m[\u001b[0m\u001b[0;34m-\u001b[0m\u001b[0;36m1\u001b[0m\u001b[0;34m]\u001b[0m\u001b[0;34m)\u001b[0m\u001b[0;34m\u001b[0m\u001b[0;34m\u001b[0m\u001b[0m\n\u001b[1;32m    390\u001b[0m \u001b[0;34m\u001b[0m\u001b[0m\n\u001b[0;32m--> 391\u001b[0;31m         \u001b[0mx\u001b[0m\u001b[0;34m,\u001b[0m \u001b[0my\u001b[0m \u001b[0;34m=\u001b[0m \u001b[0mself\u001b[0m\u001b[0;34m.\u001b[0m\u001b[0m_xy_from_xy\u001b[0m\u001b[0;34m(\u001b[0m\u001b[0mx\u001b[0m\u001b[0;34m,\u001b[0m \u001b[0my\u001b[0m\u001b[0;34m)\u001b[0m\u001b[0;34m\u001b[0m\u001b[0;34m\u001b[0m\u001b[0m\n\u001b[0m\u001b[1;32m    392\u001b[0m \u001b[0;34m\u001b[0m\u001b[0m\n\u001b[1;32m    393\u001b[0m         \u001b[0;32mif\u001b[0m \u001b[0mself\u001b[0m\u001b[0;34m.\u001b[0m\u001b[0mcommand\u001b[0m \u001b[0;34m==\u001b[0m \u001b[0;34m'plot'\u001b[0m\u001b[0;34m:\u001b[0m\u001b[0;34m\u001b[0m\u001b[0;34m\u001b[0m\u001b[0m\n",
      "\u001b[0;32m~/.local/lib/python3.6/site-packages/matplotlib/axes/_base.py\u001b[0m in \u001b[0;36m_xy_from_xy\u001b[0;34m(self, x, y)\u001b[0m\n\u001b[1;32m    268\u001b[0m         \u001b[0;32mif\u001b[0m \u001b[0mx\u001b[0m\u001b[0;34m.\u001b[0m\u001b[0mshape\u001b[0m\u001b[0;34m[\u001b[0m\u001b[0;36m0\u001b[0m\u001b[0;34m]\u001b[0m \u001b[0;34m!=\u001b[0m \u001b[0my\u001b[0m\u001b[0;34m.\u001b[0m\u001b[0mshape\u001b[0m\u001b[0;34m[\u001b[0m\u001b[0;36m0\u001b[0m\u001b[0;34m]\u001b[0m\u001b[0;34m:\u001b[0m\u001b[0;34m\u001b[0m\u001b[0;34m\u001b[0m\u001b[0m\n\u001b[1;32m    269\u001b[0m             raise ValueError(\"x and y must have same first dimension, but \"\n\u001b[0;32m--> 270\u001b[0;31m                              \"have shapes {} and {}\".format(x.shape, y.shape))\n\u001b[0m\u001b[1;32m    271\u001b[0m         \u001b[0;32mif\u001b[0m \u001b[0mx\u001b[0m\u001b[0;34m.\u001b[0m\u001b[0mndim\u001b[0m \u001b[0;34m>\u001b[0m \u001b[0;36m2\u001b[0m \u001b[0;32mor\u001b[0m \u001b[0my\u001b[0m\u001b[0;34m.\u001b[0m\u001b[0mndim\u001b[0m \u001b[0;34m>\u001b[0m \u001b[0;36m2\u001b[0m\u001b[0;34m:\u001b[0m\u001b[0;34m\u001b[0m\u001b[0;34m\u001b[0m\u001b[0m\n\u001b[1;32m    272\u001b[0m             raise ValueError(\"x and y can be no greater than 2-D, but have \"\n",
      "\u001b[0;31mValueError\u001b[0m: x and y must have same first dimension, but have shapes (10,) and (0,)"
     ]
    },
    {
     "data": {
      "image/png": "[encoded data removed]",
      "text/plain": [
       "<Figure size 720x720 with 1 Axes>"
      ]
     },
     "metadata": {
      "needs_background": "light"
     },
     "output_type": "display_data"
    },
    {
     "data": {
      "image/png": "[encoded data removed]",
      "text/plain": [
       "<Figure size 720x720 with 1 Axes>"
      ]
     },
     "metadata": {
      "needs_background": "light"
     },
     "output_type": "display_data"
    }
   ],
   "source": [
    "root_he_c = carbon_logger\n",
    "\n",
    "f1=plt\n",
    "f1.title(\" Growth rate at each root tip (blue:with carbon, black: no carbon\")\n",
    "for i, day in enumerate(carbon_logger):\n",
    "    x = [i+1]*len(day)\n",
    "    f1.plot(x,carbon_logger[i], marker = \"o\", linestyle=\"\", color = \"black\")\n",
    "f1.ylabel(\" with carbon feedback: growth rate cm $day^{-1}$\")\n",
    "f1.xlabel(\"time (day)\")\n",
    "for i, day in enumerate(root_he_c):\n",
    "    x = [i+1]*len(day)\n",
    "    f1.plot(x,root_he_c[i], marker = \"o\", linestyle=\"\", color = \"blue\")\n",
    "#a1 = f1.plot(days1, root_1_c_cf, color= \"blue\", marker = \"v\", label= \"Carbon feedback dry basal root \")\n",
    "#a2 = f1.plot(days1, root_2_c_cf, color= \"red\", marker = \"v\", label= \"Carbon feedback wet basal root\")\n",
    "f1.legend()\n",
    "\n"
   ]
  },
  {
   "cell_type": "code",
   "execution_count": 91,
   "metadata": {},
   "outputs": [
    {
     "ename": "AttributeError",
     "evalue": "'plantbox.Root' object has no attribute 'get'",
     "output_type": "error",
     "traceback": [
      "\u001b[0;31m---------------------------------------------------------------------------\u001b[0m",
      "\u001b[0;31mAttributeError\u001b[0m                            Traceback (most recent call last)",
      "\u001b[0;32m<ipython-input-91-a7fec6be5169>\u001b[0m in \u001b[0;36m<module>\u001b[0;34m\u001b[0m\n\u001b[0;32m----> 1\u001b[0;31m \u001b[0morgan\u001b[0m\u001b[0;34m[\u001b[0m\u001b[0;36m0\u001b[0m\u001b[0;34m]\u001b[0m\u001b[0;34m.\u001b[0m\u001b[0mget\u001b[0m\u001b[0;34m\u001b[0m\u001b[0;34m\u001b[0m\u001b[0m\n\u001b[0m",
      "\u001b[0;31mAttributeError\u001b[0m: 'plantbox.Root' object has no attribute 'get'"
     ]
    }
   ],
   "source": [
    "organ[0].get"
   ]
  },
  {
   "cell_type": "code",
   "execution_count": 598,
   "metadata": {},
   "outputs": [
    {
     "data": {
      "text/plain": [
       "0"
      ]
     },
     "execution_count": 598,
     "metadata": {},
     "output_type": "execute_result"
    }
   ],
   "source": [
    "node_id_to_organ[462]"
   ]
  },
  {
   "cell_type": "code",
   "execution_count": 529,
   "metadata": {},
   "outputs": [
    {
     "ename": "AttributeError",
     "evalue": "'plantbox.Plant' object has no attribute 'calcLength'",
     "output_type": "error",
     "traceback": [
      "\u001b[0;31m---------------------------------------------------------------------------\u001b[0m",
      "\u001b[0;31mAttributeError\u001b[0m                            Traceback (most recent call last)",
      "\u001b[0;32m<ipython-input-529-ad2b7c3fc401>\u001b[0m in \u001b[0;36m<module>\u001b[0;34m\u001b[0m\n\u001b[0;32m----> 1\u001b[0;31m \u001b[0mplant\u001b[0m\u001b[0;34m.\u001b[0m\u001b[0mcalcLength\u001b[0m\u001b[0;34m(\u001b[0m\u001b[0mcalcLength\u001b[0m\u001b[0;34m)\u001b[0m\u001b[0;34m\u001b[0m\u001b[0;34m\u001b[0m\u001b[0m\n\u001b[0m",
      "\u001b[0;31mAttributeError\u001b[0m: 'plantbox.Plant' object has no attribute 'calcLength'"
     ]
    }
   ],
   "source": [
    "organ[0].calcLength()"
   ]
  },
  {
   "cell_type": "code",
   "execution_count": 570,
   "metadata": {},
   "outputs": [
    {
     "ename": "AttributeError",
     "evalue": "'numpy.ndarray' object has no attribute 'int'",
     "output_type": "error",
     "traceback": [
      "\u001b[0;31m---------------------------------------------------------------------------\u001b[0m",
      "\u001b[0;31mAttributeError\u001b[0m                            Traceback (most recent call last)",
      "\u001b[0;32m<ipython-input-570-a92b3bf1b271>\u001b[0m in \u001b[0;36m<module>\u001b[0;34m\u001b[0m\n\u001b[0;32m----> 1\u001b[0;31m \u001b[0mN1R_node\u001b[0m\u001b[0;34m[\u001b[0m\u001b[0;34m:\u001b[0m\u001b[0;34m,\u001b[0m\u001b[0;34m-\u001b[0m\u001b[0;36m4\u001b[0m\u001b[0;34m]\u001b[0m\u001b[0;34m.\u001b[0m\u001b[0mint\u001b[0m\u001b[0;34m(\u001b[0m\u001b[0;34m)\u001b[0m\u001b[0;34m\u001b[0m\u001b[0;34m\u001b[0m\u001b[0m\n\u001b[0m",
      "\u001b[0;31mAttributeError\u001b[0m: 'numpy.ndarray' object has no attribute 'int'"
     ]
    }
   ],
   "source": [
    "N1R_node[:,-4]"
   ]
  },
  {
   "cell_type": "code",
   "execution_count": 594,
   "metadata": {},
   "outputs": [
    {
     "data": {
      "text/plain": [
       "array([464.,   2.,   1.,   1.])"
      ]
     },
     "execution_count": 594,
     "metadata": {},
     "output_type": "execute_result"
    }
   ],
   "source": [
    "N1R_node[9]"
   ]
  },
  {
   "cell_type": "code",
   "execution_count": 495,
   "metadata": {},
   "outputs": [
    {
     "data": {
      "text/plain": [
       "0"
      ]
     },
     "execution_count": 495,
     "metadata": {},
     "output_type": "execute_result"
    }
   ],
   "source": [
    "organ[0].getParent().getId()"
   ]
  },
  {
   "cell_type": "code",
   "execution_count": 422,
   "metadata": {},
   "outputs": [],
   "source": [
    "    for k in range(0, len(organ)):  # get all the organs\n",
    "        j=0\n",
    "        for j in range(0, organ[k].getNumberOfNodes()): # get all segments in one organs\n",
    "            node_id_to_organ[organ[k].getNodeId(j)]=k"
   ]
  },
  {
   "cell_type": "code",
   "execution_count": null,
   "metadata": {},
   "outputs": [],
   "source": [
    "root_length_logger"
   ]
  },
  {
   "cell_type": "code",
   "execution_count": null,
   "metadata": {},
   "outputs": [],
   "source": [
    "node_id_to_organ"
   ]
  },
  {
   "cell_type": "code",
   "execution_count": 533,
   "metadata": {},
   "outputs": [
    {
     "data": {
      "text/plain": [
       "<plantbox.Root at 0x7f87823b8ae8>"
      ]
     },
     "execution_count": 533,
     "metadata": {},
     "output_type": "execute_result"
    }
   ],
   "source": [
    "organ[0].getChild(10)"
   ]
  },
  {
   "cell_type": "code",
   "execution_count": null,
   "metadata": {},
   "outputs": [],
   "source": [
    "carbon_logger"
   ]
  },
  {
   "cell_type": "code",
   "execution_count": 3,
   "metadata": {},
   "outputs": [
    {
     "ename": "NameError",
     "evalue": "name 'carbon_logger' is not defined",
     "output_type": "error",
     "traceback": [
      "\u001b[0;31m---------------------------------------------------------------------------\u001b[0m",
      "\u001b[0;31mNameError\u001b[0m                                 Traceback (most recent call last)",
      "\u001b[0;32m<ipython-input-3-76babb291d8a>\u001b[0m in \u001b[0;36m<module>\u001b[0;34m\u001b[0m\n\u001b[1;32m      1\u001b[0m \u001b[0mf1\u001b[0m\u001b[0;34m=\u001b[0m\u001b[0mplt\u001b[0m\u001b[0;34m\u001b[0m\u001b[0;34m\u001b[0m\u001b[0m\n\u001b[1;32m      2\u001b[0m \u001b[0mf1\u001b[0m\u001b[0;34m.\u001b[0m\u001b[0mtitle\u001b[0m\u001b[0;34m(\u001b[0m\u001b[0;34m\"Growth rate at each root tip\"\u001b[0m\u001b[0;34m)\u001b[0m\u001b[0;34m\u001b[0m\u001b[0;34m\u001b[0m\u001b[0m\n\u001b[0;32m----> 3\u001b[0;31m \u001b[0;32mfor\u001b[0m \u001b[0mi\u001b[0m\u001b[0;34m,\u001b[0m \u001b[0mday\u001b[0m \u001b[0;32min\u001b[0m \u001b[0menumerate\u001b[0m\u001b[0;34m(\u001b[0m\u001b[0mcarbon_logger\u001b[0m\u001b[0;34m)\u001b[0m\u001b[0;34m:\u001b[0m\u001b[0;34m\u001b[0m\u001b[0;34m\u001b[0m\u001b[0m\n\u001b[0m\u001b[1;32m      4\u001b[0m     \u001b[0mx\u001b[0m \u001b[0;34m=\u001b[0m \u001b[0;34m[\u001b[0m\u001b[0mi\u001b[0m\u001b[0;34m+\u001b[0m\u001b[0;36m1\u001b[0m\u001b[0;34m]\u001b[0m\u001b[0;34m*\u001b[0m\u001b[0mlen\u001b[0m\u001b[0;34m(\u001b[0m\u001b[0mday\u001b[0m\u001b[0;34m)\u001b[0m\u001b[0;34m\u001b[0m\u001b[0;34m\u001b[0m\u001b[0m\n\u001b[1;32m      5\u001b[0m     \u001b[0mf1\u001b[0m\u001b[0;34m.\u001b[0m\u001b[0mplot\u001b[0m\u001b[0;34m(\u001b[0m\u001b[0mx\u001b[0m\u001b[0;34m,\u001b[0m\u001b[0mcarbon_logger\u001b[0m\u001b[0;34m[\u001b[0m\u001b[0mi\u001b[0m\u001b[0;34m]\u001b[0m\u001b[0;34m,\u001b[0m \u001b[0mmarker\u001b[0m \u001b[0;34m=\u001b[0m \u001b[0;34m\"o\"\u001b[0m\u001b[0;34m,\u001b[0m \u001b[0mlinestyle\u001b[0m\u001b[0;34m=\u001b[0m\u001b[0;34m\"\"\u001b[0m\u001b[0;34m)\u001b[0m\u001b[0;34m\u001b[0m\u001b[0;34m\u001b[0m\u001b[0m\n",
      "\u001b[0;31mNameError\u001b[0m: name 'carbon_logger' is not defined"
     ]
    },
    {
     "data": {
      "image/png": "[encoded data removed]",
      "text/plain": [
       "<Figure size 432x288 with 1 Axes>"
      ]
     },
     "metadata": {
      "needs_background": "light"
     },
     "output_type": "display_data"
    }
   ],
   "source": [
    "f1=plt\n",
    "f1.title(\"Growth rate at each root tip\")\n",
    "for i, day in enumerate(carbon_logger):\n",
    "    x = [i+1]*len(day)\n",
    "    f1.plot(x,carbon_logger[i], marker = \"o\", linestyle=\"\")\n",
    "f1.ylabel(\" with carbon feedback: growth rate cm $day^{-1}$\")\n",
    "f1.xlabel(\"time (day)\")\n",
    "a1 = f1.plot(days1, root_1_c_cf, color= \"blue\", marker = \"P\", label= \"Carbon feedback 1 basal root \", markersize = \"20\")\n",
    "a2 = f1.plot(days1, root_2_c_cf, color= \"red\", marker = \"P\", label= \"Carbon feedback 2 basal root\", markersize = \"20\")\n",
    "f1.legend()"
   ]
  },
  {
   "cell_type": "code",
   "execution_count": 4,
   "metadata": {},
   "outputs": [
    {
     "ename": "NameError",
     "evalue": "name 'carbon_logger' is not defined",
     "output_type": "error",
     "traceback": [
      "\u001b[0;31m---------------------------------------------------------------------------\u001b[0m",
      "\u001b[0;31mNameError\u001b[0m                                 Traceback (most recent call last)",
      "\u001b[0;32m<ipython-input-4-04c1465d7961>\u001b[0m in \u001b[0;36m<module>\u001b[0;34m\u001b[0m\n\u001b[0;32m----> 1\u001b[0;31m \u001b[0mroot_ho_c\u001b[0m \u001b[0;34m=\u001b[0m \u001b[0mcarbon_logger\u001b[0m\u001b[0;34m\u001b[0m\u001b[0;34m\u001b[0m\u001b[0m\n\u001b[0m\u001b[1;32m      2\u001b[0m \u001b[0mroot_ho_l\u001b[0m \u001b[0;34m=\u001b[0m \u001b[0mroot_length_logger\u001b[0m\u001b[0;34m\u001b[0m\u001b[0;34m\u001b[0m\u001b[0m\n",
      "\u001b[0;31mNameError\u001b[0m: name 'carbon_logger' is not defined"
     ]
    }
   ],
   "source": [
    "root_ho_c = carbon_logger\n",
    "root_ho_l = root_length_logger"
   ]
  },
  {
   "cell_type": "code",
   "execution_count": null,
   "metadata": {},
   "outputs": [],
   "source": [
    "root_ho_l"
   ]
  },
  {
   "cell_type": "code",
   "execution_count": 70,
   "metadata": {},
   "outputs": [
    {
     "ename": "NameError",
     "evalue": "name 'root_ho_l' is not defined",
     "output_type": "error",
     "traceback": [
      "\u001b[0;31m---------------------------------------------------------------------------\u001b[0m",
      "\u001b[0;31mNameError\u001b[0m                                 Traceback (most recent call last)",
      "\u001b[0;32m<ipython-input-70-3a7a5183a7b4>\u001b[0m in \u001b[0;36m<module>\u001b[0;34m\u001b[0m\n\u001b[1;32m      4\u001b[0m \u001b[0mroot_2_l_cf\u001b[0m \u001b[0;34m=\u001b[0m \u001b[0;34m[\u001b[0m\u001b[0;34m]\u001b[0m\u001b[0;34m\u001b[0m\u001b[0;34m\u001b[0m\u001b[0m\n\u001b[1;32m      5\u001b[0m \u001b[0mroot_2_c_cf\u001b[0m \u001b[0;34m=\u001b[0m \u001b[0;34m[\u001b[0m\u001b[0;34m]\u001b[0m\u001b[0;34m\u001b[0m\u001b[0;34m\u001b[0m\u001b[0m\n\u001b[0;32m----> 6\u001b[0;31m \u001b[0;32mfor\u001b[0m \u001b[0mi\u001b[0m\u001b[0;34m,\u001b[0m \u001b[0mlength_i\u001b[0m \u001b[0;32min\u001b[0m \u001b[0menumerate\u001b[0m\u001b[0;34m(\u001b[0m\u001b[0mroot_ho_l\u001b[0m\u001b[0;34m)\u001b[0m\u001b[0;34m:\u001b[0m\u001b[0;34m\u001b[0m\u001b[0;34m\u001b[0m\u001b[0m\n\u001b[0m\u001b[1;32m      7\u001b[0m     \u001b[0mroot_1_l_cf\u001b[0m\u001b[0;34m.\u001b[0m\u001b[0mappend\u001b[0m\u001b[0;34m(\u001b[0m\u001b[0mlength_i\u001b[0m\u001b[0;34m[\u001b[0m\u001b[0mnp\u001b[0m\u001b[0;34m.\u001b[0m\u001b[0marray\u001b[0m\u001b[0;34m(\u001b[0m\u001b[0mroot_ho_l\u001b[0m\u001b[0;34m[\u001b[0m\u001b[0mi\u001b[0m\u001b[0;34m]\u001b[0m\u001b[0;34m)\u001b[0m\u001b[0;34m.\u001b[0m\u001b[0mnonzero\u001b[0m\u001b[0;34m(\u001b[0m\u001b[0;34m)\u001b[0m\u001b[0;34m[\u001b[0m\u001b[0;36m0\u001b[0m\u001b[0;34m]\u001b[0m\u001b[0;34m[\u001b[0m\u001b[0;36m0\u001b[0m\u001b[0;34m]\u001b[0m\u001b[0;34m]\u001b[0m\u001b[0;34m)\u001b[0m\u001b[0;34m\u001b[0m\u001b[0;34m\u001b[0m\u001b[0m\n\u001b[1;32m      8\u001b[0m     \u001b[0mroot_2_l_cf\u001b[0m\u001b[0;34m.\u001b[0m\u001b[0mappend\u001b[0m\u001b[0;34m(\u001b[0m\u001b[0mlength_i\u001b[0m\u001b[0;34m[\u001b[0m\u001b[0mnp\u001b[0m\u001b[0;34m.\u001b[0m\u001b[0marray\u001b[0m\u001b[0;34m(\u001b[0m\u001b[0mroot_ho_l\u001b[0m\u001b[0;34m[\u001b[0m\u001b[0mi\u001b[0m\u001b[0;34m]\u001b[0m\u001b[0;34m)\u001b[0m\u001b[0;34m.\u001b[0m\u001b[0mnonzero\u001b[0m\u001b[0;34m(\u001b[0m\u001b[0;34m)\u001b[0m\u001b[0;34m[\u001b[0m\u001b[0;36m0\u001b[0m\u001b[0;34m]\u001b[0m\u001b[0;34m[\u001b[0m\u001b[0;36m1\u001b[0m\u001b[0;34m]\u001b[0m\u001b[0;34m]\u001b[0m\u001b[0;34m)\u001b[0m\u001b[0;34m\u001b[0m\u001b[0;34m\u001b[0m\u001b[0m\n",
      "\u001b[0;31mNameError\u001b[0m: name 'root_ho_l' is not defined"
     ]
    }
   ],
   "source": [
    "import matplotlib.patches as patches\n",
    "root_1_l_cf = []\n",
    "root_1_c_cf = []\n",
    "root_2_l_cf = []\n",
    "root_2_c_cf = []\n",
    "for i, length_i in enumerate(root_ho_l):\n",
    "    root_1_l_cf.append(length_i[np.array(root_ho_l[i]).nonzero()[0][0]])\n",
    "    root_2_l_cf.append(length_i[np.array(root_ho_l[i]).nonzero()[0][1]])\n",
    "    root_1_c_cf.append(root_ho_c[i][np.array(root_ho_l[i]).nonzero()[0][0]])\n",
    "    root_2_c_cf.append(root_ho_c[i][np.array(root_ho_l[i]).nonzero()[0][1]])\n",
    "    \n",
    "    \n",
    "days1 = range(1,47)\n",
    "# days1 = [1,2,3,4,5,6,7,8,9]\n",
    "# days1 = [1,2,3,4,5,6,7,8,9,10,11,12,13,14,15,16,17,18]\n",
    "\n",
    "\n",
    "fig,f2=plt.subplots(1)\n",
    "f2.plot(days1, root_1_l_cf, color= \"blue\", marker = \"o\", label= \"basal root1 \")\n",
    "f2.plot(days1, root_2_l_cf, color= \"red\", marker = \"o\", label= \"basal root2 \")\n",
    "f2.legend()\n",
    "plt.title(\"total root length on two main basal roots\")\n",
    "plt.xlabel(\"time (days)\")\n",
    "plt.ylabel(\"length (cm)\")\n",
    "\n",
    "# f2.add_patch(\n",
    "#      patches.Rectangle(\n",
    "#         (0.0, 0),\n",
    "#         9,\n",
    "#         23,\n",
    "#         fill=False, color=\"purple\" , label = \"homogeneous soil water\"     # remove background\n",
    "#      ) ) \n",
    "# f2.text(3,27,\"homogeneous \\n soil water\", color = \"purple\")\n",
    "\n",
    "\n",
    "# f2.add_patch(\n",
    "#      patches.Rectangle(\n",
    "#         (9, 23),\n",
    "#         19,\n",
    "#         38,\n",
    "#         fill=False, color=\"orange\" , label = \"homogeneous soil water\"     # remove background\n",
    "#      ) ) \n",
    "# f2.text(19,19,\"heterogenous \\n soil water \\n red -0.5 MPa \\ blue -0.1 MPa\", color = \"orange\")"
   ]
  },
  {
   "cell_type": "code",
   "execution_count": 366,
   "metadata": {},
   "outputs": [
    {
     "data": {
      "text/plain": [
       "Text(19, 19, 'heterogenous \\n soil water \\n red -0.5 MPa \\\\ blue -0.1 MPa')"
      ]
     },
     "execution_count": 366,
     "metadata": {},
     "output_type": "execute_result"
    },
    {
     "data": {
      "image/png": "[encoded data removed]",
      "text/plain": [
       "<Figure size 720x720 with 1 Axes>"
      ]
     },
     "metadata": {
      "needs_background": "light"
     },
     "output_type": "display_data"
    }
   ],
   "source": [
    "import matplotlib.patches as patches\n",
    "root_1_l_cf = []\n",
    "root_1_c_cf = []\n",
    "root_2_l_cf = []\n",
    "root_2_c_cf = []\n",
    "for i, length_i in enumerate(root_he_l):\n",
    "    root_1_l_cf.append(length_i[np.array(root_he_l[i]).nonzero()[0][0]])\n",
    "    root_2_l_cf.append(length_i[np.array(root_he_l[i]).nonzero()[0][1]])\n",
    "    root_1_c_cf.append(root_he_c[i][np.array(root_he_l[i]).nonzero()[0][0]])\n",
    "    root_2_c_cf.append(root_he_c[i][np.array(root_he_l[i]).nonzero()[0][1]])\n",
    "    \n",
    "    \n",
    "# days1 = [1,2,3,4,5,6,7,8,9,10,11,12,13,14,15,16,17,18,19,20,21,22,23,24,25,26,27]\n",
    "days1 = [1,2,3,4,5,6,7,8,9]\n",
    "days1 = [1,2,3,4,5,6,7,8,9,10,11,12,13,14,15,16,17,18,19,20,21,22,23,24,25,26,27]\n",
    "fig,f2=plt.subplots(1)\n",
    "f2.plot(days1, root_1_l_cf, color= \"blue\", marker = \"o\", label= \"basal root1 \")\n",
    "f2.plot(days1, root_2_l_cf, color= \"red\", marker = \"o\", label= \"basal root2 \")\n",
    "f2.legend()\n",
    "plt.title(\"total root length on two main basal roots\")\n",
    "plt.xlabel(\"time (days)\")\n",
    "plt.ylabel(\"length (cm)\")\n",
    "\n",
    "f2.add_patch(\n",
    "     patches.Rectangle(\n",
    "        (0.0, 0),\n",
    "        9,\n",
    "        23,\n",
    "        fill=False, color=\"purple\" , label = \"homogeneous soil water\"     # remove background\n",
    "     ) ) \n",
    "f2.text(3,27,\"homogeneous \\n soil water\", color = \"purple\")\n",
    "\n",
    "\n",
    "f2.add_patch(\n",
    "     patches.Rectangle(\n",
    "        (9, 23),\n",
    "        19,\n",
    "        38,\n",
    "        fill=False, color=\"orange\" , label = \"homogeneous soil water\"     # remove background\n",
    "     ) ) \n",
    "f2.text(19,19,\"heterogenous \\n soil water \\n red -0.5 MPa \\ blue -0.1 MPa\", color = \"orange\")"
   ]
  },
  {
   "cell_type": "code",
   "execution_count": 332,
   "metadata": {},
   "outputs": [],
   "source": [
    "root_noc_c = carbon_logger\n",
    "root_noc_l = root_length_logger"
   ]
  },
  {
   "cell_type": "code",
   "execution_count": null,
   "metadata": {},
   "outputs": [],
   "source": [
    "root_he_c\n",
    "root_he_l"
   ]
  },
  {
   "cell_type": "code",
   "execution_count": 226,
   "metadata": {},
   "outputs": [],
   "source": [
    "root_3_l = root_length_logger"
   ]
  },
  {
   "cell_type": "code",
   "execution_count": 223,
   "metadata": {},
   "outputs": [
    {
     "data": {
      "text/plain": [
       "[[0, 0, 0, 0, 0],\n",
       " [0.6900076905179044, 0, 0.6900076905179044, 0, 0, 0, 0, 0],\n",
       " [1.6238068459715733, 0, 1.6204350662911853, 0, 0, 0, 0, 0],\n",
       " [3.8668197871612557, 0, 0, 0, 3.8647867981235398, 0, 0, 0, 0, 0, 0, 0, 0]]"
      ]
     },
     "execution_count": 223,
     "metadata": {},
     "output_type": "execute_result"
    }
   ],
   "source": [
    "f=plt\n",
    "f.plot(piaf_output[\"Q_ST\"][:,8])\n",
    "f.plot(piaf_output[\"Q_ST\"][:,16])"
   ]
  },
  {
   "cell_type": "code",
   "execution_count": 87,
   "metadata": {},
   "outputs": [
    {
     "data": {
      "text/plain": [
       "(0.1794622100754001-0.08372893500033934j)"
      ]
     },
     "execution_count": 87,
     "metadata": {},
     "output_type": "execute_result"
    }
   ],
   "source": [
    "g_propotion(0-0.2)\n"
   ]
  },
  {
   "cell_type": "markdown",
   "metadata": {},
   "source": [
    "# No carbon feedback"
   ]
  },
  {
   "cell_type": "code",
   "execution_count": 312,
   "metadata": {},
   "outputs": [],
   "source": [
    "name = \"carbon2020.xml\"\n",
    "plant = pb.Plant()\n",
    "\n",
    "# 2. A split pot experiment\n",
    "topBox = pb.SDF_PlantBox(22, 20, 5)\n",
    "#topBox = pb.SDF_RotateTranslate(topBox, pb.Vector3d(0, 0, 5))\n",
    "# sideBox = pb.SDF_PlantBox(12, 12, 35)\n",
    "# left = pb.SDF_RotateTranslate(sideBox, pb.Vector3d(-6.5, 0, -5))\n",
    "# right = pb.SDF_RotateTranslate(sideBox, pb.Vector3d(6.5, 0, -5))\n",
    "sideBox = pb.SDF_PlantBox(10, 20, 35)\n",
    "left = pb.SDF_RotateTranslate(sideBox, pb.Vector3d(-6, 0, -5))\n",
    "right = pb.SDF_RotateTranslate(sideBox, pb.Vector3d(6, 0, -5))\n",
    "box_ = []\n",
    "box_.append(topBox)\n",
    "box_.append(left)\n",
    "box_.append(right)\n",
    "splitBox = pb.SDF_Union(box_)\n",
    "\n",
    "\n",
    "# Set geometry: rotatedRhizotron, splitBox, or rhizoTube\n",
    "plant.setGeometry(splitBox)\n",
    "#plant.write(\"splitBox.py\")\n",
    "plant.openXML(\"../../modelparameter/plant/\" + name)\n",
    "seeds = plant.getOrganRandomParameter(pb.OrganTypes.seed)\n",
    "roots = plant.getOrganRandomParameter(pb.OrganTypes.root)\n",
    "stems = plant.getOrganRandomParameter(pb.OrganTypes.stem)\n",
    "leafs = plant.getOrganRandomParameter(pb.OrganTypes.leaf)\n",
    "plant.initialize(True)\n",
    "\n",
    "carbon_logger = []\n",
    "root_length_logger = []\n",
    "taproot_n_all = []"
   ]
  },
  {
   "cell_type": "code",
   "execution_count": 313,
   "metadata": {},
   "outputs": [],
   "source": [
    "\n",
    "\n",
    "# absolute respiration maintenance of plant segment = volumen of the segment\n",
    "# TODO to see if some other parameters from the output can be used as input\n",
    "# carbon feedback loop by days.\n",
    "for i in range(1,10): # how many i*days to simulation\n",
    "    plant.setGeometry(splitBox)\n",
    "    day = 1 # the step of every loop (day)\n",
    "    hour = 24 # the hour of every loop (hour) used in PiafMunch\n",
    "    plant.simulate(day) # start simulation\n",
    "    organ = plant.getOrgans()\n",
    "    plant.write(\"{}{}{}.vtp\".format(\"only_Q_ST_test\",str(name),i*day)) #writes vtp the name is followed by the number of days simulated\n",
    "    # plant.write(\"{}{}{}.py\".format(hour,str(name),\"1st_test\"))\n",
    "    dict_all  = convert( plant ) # convert plant to python outputs\n",
    "    piafmunch_outputname = name +\".ini\" # set the name of the parameters\n",
    "    Soil_water = [0]*(len(dict_all['node_connection'])+1) # initiate soil water potentil\n",
    "    Seg_radius = [0]*((len(organ))+1) # initiate the radius of each segment\n",
    "    k1 = [0]*(len(dict_all['node_connection'])+1) # k1 parameter in equation\n",
    "    node_id_to_organ = [0]*plant.getNumberOfNodes() #\n",
    "    r_k1 = 1e-9 # magnitude midification, because the realistic value in literature need to be found\n",
    "    k = 0\n",
    "    ########################################## python nodes conversion #########################################\n",
    "    \n",
    "    nodes_organtype = dict_all['nodes_organtype']\n",
    "    # sink nodes (nodes have one connection and on the right hand side)\n",
    "    N1R_node = nodes_organtype[(nodes_organtype[:,0] >2 ) & (nodes_organtype[:,1] ==2 ) & (nodes_organtype[:,2] ==1 )] # no seed, root, one connection\n",
    "    # source nodes\n",
    "    N1L_node = nodes_organtype[(nodes_organtype[:,0] >2 ) & ((nodes_organtype[:,1] ==4)|(nodes_organtype[:,1] ==3)  ) & (nodes_organtype[:,2] ==1 )] # no seed, stem or leaf, one connection\n",
    "\n",
    "    \n",
    "    ########################## nodewise iteration to know which organ it belongs to ###########################################\n",
    "    \n",
    "    for k in range(0, len(organ)):  # get all the organs\n",
    "        Seg_radius[k] = organ[k].getParam().a #the diameter of root\n",
    "        j=0\n",
    "        for j in range(0,organ[k].getNumberOfNodes()): # get all segments in one organs\n",
    "            node_id_to_organ[organ[k].getNodeId(j)]=k # set an id, so we can get the organ number from a node number\n",
    "            Carbon_main = Seg_radius[k]**2*3.1415926* organ[k].getOrganRandomParameter().dx *r_k1 # calculate the maintenance by volume \n",
    "            # Carbon_main = 0\n",
    "            # print(Carbon_main)  absolute carbon maintentance\n",
    "            k1[organ[k].getNodeId(j)] = Carbon_main\n",
    "    \n",
    "    taproot_length = [0] * (len(plant.getOrgans())+1)\n",
    "    taproot_n =[]\n",
    "    for root_n, root in enumerate(plant.getOrgans()): # recrusive get all the roots\n",
    "        if root.organType() == 2 and root.getParent().organType()==1: #make sure it is taproot\n",
    "            taproot_n.append(root_n)\n",
    "    taproot_n_all.append(taproot_n)\n",
    "             ############################# water potential in left and right !root! ##################################################\n",
    "    for j,organ_i in enumerate(plant.getOrgans()): # get all segments in one organs\n",
    "        if j == taproot_n[0] or organ_i.getParent().getId() == 1: # first taproot\n",
    "            Soil_water[j] = 0.1\n",
    "        elif j == taproot_n[1] or organ_i.getParent().getId() == 2:\n",
    "            Soil_water[j] = 0.1        \n",
    "        \n",
    "        \n",
    "        \n",
    "        \n",
    "    ############################# water potential in left and right !boxex! ##################################################\n",
    "#     for i, roottip in enumerate(N1R_node): \n",
    "#         if left.getDist(plant.getNodes()[int(roottip[0])-1]) <0: # if it is in the left box\n",
    "#             Soil_water[i] = 0.1 # unit is added with a minus sign, actuall value is -0.2\n",
    "#         elif right.getDist(plant.getNodes()[int(roottip[0])-1]) <0: # if it is in the right box\n",
    "#             Soil_water[i] = 0.1 # actuall value is -0.5\n",
    "#         else:\n",
    "#             Soil_water[i] = 0.1 # actuall value is -0.1\n",
    "    \n",
    "    ################################# coupling layer with piafmunch ###################################################\n",
    "    \n",
    "#     # pass the absolute carbon maintentance to piafmunch\n",
    "#     write_PiafMunch_parameter(dict_all['node_connection'], dict_all['nodes_organtype'], dict_all['nodes_r_st'], dict_all['unq_cnt'], Soil_water, k1, piafmunch_outputname,hour)\n",
    "#     # call piafmunch and rename the output file of the PiafMunch\n",
    "#     os.system(' /mnt/c/prog_sct.bas/programs/C++/PIAFMunch2/projects/PIAFMunch2.exe {} -noGUI -q'.format(piafmunch_outputname))\n",
    "#     now = datetime.datetime.now()\n",
    "#     os.system('mv ./{}_{}-{:02}-{:02}*output.txt  ./{}_output.txt'.format(name, now.year ,now.month, now.day,name ) )\n",
    "    \n",
    "#     ########################## convert carbon to growth rate ###########################################\n",
    "    piaf_output = read_output(name,  dict_all[\"node_connection\"])\n",
    "    one_carbon_log = []\n",
    "    for i in N1R_node: # CPlantBox growth rate: cm day-1\n",
    "        # print(i)\n",
    "        carbon_content = piaf_output[\"Q_ST\"][-1][int(i[0])-1]* 1e5 # directly pass the Q_ST * 1e5 to carbon content\n",
    "        one_carbon_log.append(organ[node_id_to_organ[int(i[0])-1]].getParam().r)\n",
    "        #organ[node_id_to_organ[int(i[0])-1]].getParam().r =         carbon_content \n",
    "  #  print(plant.getSeed().getNumberOfChildren())\n",
    "    carbon_logger.append(one_carbon_log)\n",
    "    ############################################length logger ###########################\n",
    "    \n",
    "\n",
    "    \n",
    "    for root_n, root in enumerate(plant.getOrgans()): # recrusive get all the roots\n",
    "        if root.organType() == 2 and root.getParent().organType()==1: #make sure it is taproot: \n",
    "            taproot_length[root_n] = root.getLength()\n",
    "        elif root.organType() == 2 and root.getParent().organType()!=1: #make sure it is taproot: \n",
    "            # print(\"lateral\",root.getParent().organType() ,  root_n)\n",
    "            # print(root.getParent().getId())\n",
    "            taproot_length[taproot_n[root.getParent().getId()-1]] = taproot_length[taproot_n[root.getParent().getId()-1]] +root.getLength()\n",
    "    root_length_logger.append(taproot_length)\n",
    "\n",
    " # growthrate() CPlantBox growth rate: cm day-1\n",
    "#total length two curve with total water potential"
   ]
  },
  {
   "cell_type": "code",
   "execution_count": 324,
   "metadata": {},
   "outputs": [
    {
     "data": {
      "text/plain": [
       "Text(19, 19, 'heterogenous \\n soil water \\n red -0.5 MPa \\\\ blue -0.1 MPa')"
      ]
     },
     "execution_count": 324,
     "metadata": {},
     "output_type": "execute_result"
    },
    {
     "data": {
      "image/png": "[encoded data removed]",
      "text/plain": [
       "<Figure size 720x720 with 1 Axes>"
      ]
     },
     "metadata": {
      "needs_background": "light"
     },
     "output_type": "display_data"
    }
   ],
   "source": [
    "import matplotlib.patches as patches\n",
    "root_1_l = []\n",
    "root_2_l = []\n",
    "for i, length_i in enumerate(root_length_logger):\n",
    "    root_1_l.append(length_i[np.array(root_length_logger[i]).nonzero()[0][0]])\n",
    "    root_2_l.append(length_i[np.array(root_length_logger[i]).nonzero()[0][1]])\n",
    "\n",
    "days = [1,2,3,4,5,6,7,8,9]\n",
    "\n",
    "\n",
    "fig,f2=plt.subplots(1)\n",
    "f2.plot(days, root_1_l, color= \"blue\", marker = \"o\", label= \"basal root1 \")\n",
    "f2.plot(days, root_2_l, color= \"red\", marker = \"o\", label= \"basal root2 \")\n",
    "f2.legend()\n",
    "plt.title(\"NO CARBON: total root length on two main basal roots\")\n",
    "plt.xlabel(\"time (days)\")\n",
    "plt.ylabel(\"length (cm)\")\n",
    "\n",
    "days1 = [1,2,3,4,5,6,7,8,9,10,11,12,13,14,15,16,17,18,19,20,21,22,23,24,25,26,27]\n",
    "f2.plot(days1, root_1_l_cf, color= \"blue\", marker = \"v\", label= \"Carbon feedback basal root1 \")\n",
    "f2.plot(days1, root_2_l_cf, color= \"red\", marker = \"v\", label= \"Carbon feedback basal root2 \")\n",
    "f2.legend()\n",
    "\n",
    "\n",
    "f2.add_patch(\n",
    "     patches.Rectangle(\n",
    "        (0.0, 0),\n",
    "        9,\n",
    "        23,\n",
    "        fill=False, color=\"purple\" , label = \"homogeneous soil water\"     # remove background\n",
    "     ) ) \n",
    "f2.text(3,27,\"homogeneous \\n soil water\", color = \"purple\")\n",
    "\n",
    "\n",
    "f2.add_patch(\n",
    "     patches.Rectangle(\n",
    "        (9, 23),\n",
    "        19,\n",
    "        38,\n",
    "        fill=False, color=\"orange\" , label = \"homogeneous soil water\"     # remove background\n",
    "     ) ) \n",
    "f2.text(19,19,\"heterogenous \\n soil water \\n red -0.5 MPa \\ blue -0.1 MPa\", color = \"orange\")\n"
   ]
  },
  {
   "cell_type": "code",
   "execution_count": 343,
   "metadata": {},
   "outputs": [
    {
     "data": {
      "text/plain": [
       "<matplotlib.legend.Legend at 0x7f8783250240>"
      ]
     },
     "execution_count": 343,
     "metadata": {},
     "output_type": "execute_result"
    },
    {
     "data": {
      "image/png": "[encoded data removed]",
      "text/plain": [
       "<Figure size 720x720 with 1 Axes>"
      ]
     },
     "metadata": {
      "needs_background": "light"
     },
     "output_type": "display_data"
    }
   ],
   "source": [
    "f1=plt\n",
    "f1.title(\" Growth rate at each root tip (blue:with carbon, black: no carbon\")\n",
    "for i, day in enumerate(carbon_logger):\n",
    "    x = [i+1]*len(day)\n",
    "    f1.plot(x,carbon_logger[i], marker = \"o\", linestyle=\"\", color = \"black\")\n",
    "f1.ylabel(\" with carbon feedback: growth rate cm $day^{-1}$\")\n",
    "f1.xlabel(\"time (day)\")\n",
    "for i, day in enumerate(root_he_c):\n",
    "    x = [i+1]*len(day)\n",
    "    f1.plot(x,root_he_c[i], marker = \"o\", linestyle=\"\", color = \"blue\")\n",
    "a1 = f1.plot(days1, root_1_c_cf, color= \"blue\", marker = \"v\", label= \"Carbon feedback dry basal root \")\n",
    "a2 = f1.plot(days1, root_2_c_cf, color= \"red\", marker = \"v\", label= \"Carbon feedback wet basal root\")\n",
    "f1.legend()\n"
   ]
  },
  {
   "cell_type": "code",
   "execution_count": 35,
   "metadata": {},
   "outputs": [
    {
     "name": "stdout",
     "output_type": "stream",
     "text": [
      "142.0\n",
      "1\n",
      "144.0\n",
      "2\n",
      "146.0\n",
      "3\n",
      "149.0\n",
      "0\n",
      "151.0\n",
      "5\n",
      "153.0\n",
      "6\n",
      "156.0\n",
      "7\n",
      "158.0\n",
      "4\n"
     ]
    }
   ],
   "source": [
    "N1R_node\n",
    "for i, roottip in enumerate(N1R_node): \n",
    "    print(roottip[0]-1)\n",
    "    print(node_id_to_organ[int(roottip[0]-1)])"
   ]
  },
  {
   "cell_type": "code",
   "execution_count": 36,
   "metadata": {},
   "outputs": [
    {
     "ename": "SyntaxError",
     "evalue": "invalid syntax (<ipython-input-36-8931766144a0>, line 1)",
     "output_type": "error",
     "traceback": [
      "\u001b[0;36m  File \u001b[0;32m\"<ipython-input-36-8931766144a0>\"\u001b[0;36m, line \u001b[0;32m1\u001b[0m\n\u001b[0;31m    for i,organ enumerate plant.getOrgans():\u001b[0m\n\u001b[0m                        ^\u001b[0m\n\u001b[0;31mSyntaxError\u001b[0m\u001b[0;31m:\u001b[0m invalid syntax\n"
     ]
    }
   ],
   "source": [
    "for i,organ enumerate plant.getOrgans():\n",
    "    print(plant.getOrgans()[i].getPI())"
   ]
  },
  {
   "cell_type": "code",
   "execution_count": 55,
   "metadata": {},
   "outputs": [
    {
     "name": "stdout",
     "output_type": "stream",
     "text": [
      "[0.1, 0.1, 0.1, 0.1, 0.1, 0.5, 0.5, 0.5, 0.5, 0.5, 0, 0, 0, 0, 0, 0, 0, 0, 0, 0, 0, 0, 0, 0, 0, 0, 0, 0, 0, 0, 0, 0, 0, 0, 0, 0, 0, 0, 0, 0, 0, 0, 0, 0, 0, 0, 0, 0, 0, 0, 0, 0, 0, 0, 0, 0, 0, 0, 0, 0, 0, 0, 0, 0, 0, 0, 0, 0, 0, 0, 0, 0, 0, 0, 0, 0, 0, 0, 0, 0, 0, 0, 0, 0, 0, 0, 0, 0, 0, 0, 0, 0, 0, 0, 0, 0, 0, 0, 0, 0, 0, 0, 0, 0, 0, 0, 0, 0, 0, 0, 0, 0, 0, 0, 0, 0, 0, 0, 0, 0, 0, 0, 0, 0, 0, 0, 0, 0, 0, 0, 0, 0, 0, 0, 0, 0, 0, 0, 0, 0, 0, 0, 0, 0, 0, 0, 0, 0, 0, 0, 0, 0, 0, 0, 0, 0, 0, 0, 0, 0, 0, 0, 0, 0, 0, 0, 0, 0, 0, 0, 0, 0, 0, 0, 0, 0, 0, 0, 0, 0, 0, 0, 0, 0, 0, 0, 0, 0, 0, 0, 0, 0, 0, 0, 0, 0, 0, 0, 0, 0, 0, 0, 0, 0, 0, 0, 0, 0, 0, 0, 0, 0, 0, 0, 0, 0, 0, 0, 0, 0, 0, 0, 0, 0, 0, 0, 0, 0, 0, 0, 0, 0, 0, 0, 0, 0, 0, 0, 0, 0, 0, 0, 0, 0]\n"
     ]
    }
   ],
   "source": [
    "for j,organ in enumerate(plant.getOrgans()): # get all segments in one organs\n",
    "    if j == taproot_n[0] or organ.getParent().getId() == 1: # first taproot\n",
    "        Soil_water[j] = 0.1\n",
    "    elif j == taproot_n[1] or organ.getParent().getId() == 2:\n",
    "        Soil_water[j] = 0.5\n",
    "#     print(organ.getParent().getId())# set an id, so we can get the organ number from a node number\n",
    "print(Soil_water)"
   ]
  },
  {
   "cell_type": "code",
   "execution_count": null,
   "metadata": {},
   "outputs": [],
   "source": [
    "for k in range(0, len(organ)):  # get all the organs\n",
    "    Seg_radius[k] = organ[k].getParam().a #the diameter of root\n",
    "    j=0\n",
    "    for j in range(0,organ[k].getNumberOfNodes()): # get all segments in one organs\n",
    "        node_id_to_organ[organ[k].getNodeId(j)]=k # set an id, so we can get the organ number from a node number\n",
    "        print(k)"
   ]
  },
  {
   "cell_type": "code",
   "execution_count": null,
   "metadata": {},
   "outputs": [],
   "source": [
    "node_id_to_organ"
   ]
  },
  {
   "cell_type": "code",
   "execution_count": 46,
   "metadata": {},
   "outputs": [],
   "source": [
    "length_logger =[]\n",
    "taproot_n = []\n",
    "taproot_length = [0] * (len(plant.getOrgans())+1)\n",
    "for root_n, root in enumerate(plant.getOrgans()): # recrusive get all the roots\n",
    "    if root.organType() == 2 and root.getParent().organType()==1: #make sure it is taproot\n",
    "        taproot_length[root_n] = taproot_length[root_n] + root.getLength()\n",
    "        taproot_n.append(root_n)\n",
    "        # plant.getOrgans()[root_n].getLength()\n",
    "        # print(\"taproot\", root_n)\n",
    "    elif root.organType() == 2: \n",
    "        # print(\"lateral\",root.getParent().organType() ,  root_n)\n",
    "        # print(root.getParent().getId())\n",
    "        taproot_length[taproot_n[root.getParent().getId()-1]] = taproot_length[taproot_n[root.getParent().getId()-1]] +root.getLength()\n",
    "        length_logger.append(taproot_length)"
   ]
  },
  {
   "cell_type": "code",
   "execution_count": 11,
   "metadata": {},
   "outputs": [
    {
     "data": {
      "text/plain": [
       "[0, 4]"
      ]
     },
     "execution_count": 11,
     "metadata": {},
     "output_type": "execute_result"
    }
   ],
   "source": [
    "taproot_n"
   ]
  },
  {
   "cell_type": "code",
   "execution_count": 63,
   "metadata": {},
   "outputs": [
    {
     "data": {
      "text/plain": [
       "[[5.8042295727059035, 0, 5.777105120927999, 0, 0, 0, 0, 0],\n",
       " [5.8042295727059035, 0, 5.777105120927999, 0, 0, 0, 0, 0],\n",
       " [8.973574964382626, 0, 0, 0, 8.95187888151636, 0, 0, 0, 0, 0, 0, 0, 0],\n",
       " [8.973574964382626, 0, 0, 0, 8.95187888151636, 0, 0, 0, 0, 0, 0, 0, 0],\n",
       " [8.973574964382626, 0, 0, 0, 8.95187888151636, 0, 0, 0, 0, 0, 0, 0, 0],\n",
       " [8.973574964382626, 0, 0, 0, 8.95187888151636, 0, 0, 0, 0, 0, 0, 0, 0],\n",
       " [8.973574964382626, 0, 0, 0, 8.95187888151636, 0, 0, 0, 0, 0, 0, 0, 0],\n",
       " [8.973574964382626, 0, 0, 0, 8.95187888151636, 0, 0, 0, 0, 0, 0, 0, 0]]"
      ]
     },
     "execution_count": 63,
     "metadata": {},
     "output_type": "execute_result"
    }
   ],
   "source": [
    "root_length_logger"
   ]
  },
  {
   "cell_type": "code",
   "execution_count": 53,
   "metadata": {},
   "outputs": [
    {
     "data": {
      "text/plain": [
       "[[1.02119, 0.97453, 1.0097800000000001, 0.94774],\n",
       " [0.507528,\n",
       "  0.489009,\n",
       "  0.46643599999999996,\n",
       "  0.432213,\n",
       "  0.530354,\n",
       "  0.5292150000000001,\n",
       "  0.5250509999999999,\n",
       "  0.47243699999999994],\n",
       " [0.680918,\n",
       "  0.668493,\n",
       "  0.6285229999999999,\n",
       "  0.5971789999999999,\n",
       "  0.7597339999999999,\n",
       "  0.7073539999999999,\n",
       "  0.646437,\n",
       "  0.587283],\n",
       " [0.7569119999999999,\n",
       "  0.7238439999999999,\n",
       "  0.683122,\n",
       "  0.640183,\n",
       "  0.731056,\n",
       "  0.620657,\n",
       "  0.555297,\n",
       "  0.5762909999999999],\n",
       " [0.718978,\n",
       "  0.670938,\n",
       "  0.5936609999999999,\n",
       "  0.593245,\n",
       "  0.704311,\n",
       "  0.707697,\n",
       "  0.63051,\n",
       "  0.680666],\n",
       " [0.592557,\n",
       "  0.497737,\n",
       "  0.47241500000000003,\n",
       "  0.48858900000000005,\n",
       "  0.42117,\n",
       "  0.6412519999999999,\n",
       "  0.532628,\n",
       "  0.5826359999999999,\n",
       "  0.547192,\n",
       "  0.517054],\n",
       " [0.610355,\n",
       "  0.48473,\n",
       "  0.510219,\n",
       "  0.494507,\n",
       "  0.42913300000000004,\n",
       "  0.5554790000000001,\n",
       "  0.5724990000000001,\n",
       "  0.571927,\n",
       "  0.5645479999999999,\n",
       "  0.510891],\n",
       " [0.6268769999999999,\n",
       "  0.504499,\n",
       "  0.532802,\n",
       "  0.5125940000000001,\n",
       "  0.448892,\n",
       "  0.655659,\n",
       "  0.562014,\n",
       "  0.49872500000000003,\n",
       "  0.528297,\n",
       "  0.444091],\n",
       " [0.6321910000000001,\n",
       "  0.545263,\n",
       "  0.553447,\n",
       "  0.529644,\n",
       "  0.472022,\n",
       "  0.5362699999999999,\n",
       "  0.53667,\n",
       "  0.5453089999999999,\n",
       "  0.541331,\n",
       "  0.432594]]"
      ]
     },
     "execution_count": 53,
     "metadata": {},
     "output_type": "execute_result"
    }
   ],
   "source": [
    "carbon_logger"
   ]
  },
  {
   "cell_type": "code",
   "execution_count": null,
   "metadata": {},
   "outputs": [],
   "source": [
    "k=0\n",
    "for k in range(0, len(organ)):  # get all the organs\n",
    "        Seg_radius[k] = organ[k].getParam().a #the diameter of root\n",
    "        j=0\n",
    "        for j in range(0,organ[k].getNumberOfNodes()): # get all segments in one organs\n",
    "            print(organ[k].getNodeId(j))\n",
    "            print(k)\n",
    "            #node_id_to_organ[]=i # set an id, so we can get the organ number from a node number\n",
    "            # Carbon_main = Seg_radius[k]**2*3.1415926* organ[i].getOrganRandomParameter().dx *r_k1 # calculate the maintenance by volume \n",
    "            Carbon_main = 0\n",
    "            # print(Carbon_main)  absolute carbon maintentance\n",
    "            k1[organ[k].getNodeId(j)] = Carbon_main"
   ]
  },
  {
   "cell_type": "code",
   "execution_count": null,
   "metadata": {},
   "outputs": [],
   "source": []
  }
 ],
 "metadata": {
  "kernelspec": {
   "display_name": "Python 3",
   "language": "python",
   "name": "python3"
  },
  "language_info": {
   "codemirror_mode": {
    "name": "ipython",
    "version": 3
   },
   "file_extension": ".py",
   "mimetype": "text/x-python",
   "name": "python",
   "nbconvert_exporter": "python",
   "pygments_lexer": "ipython3",
   "version": "3.6.9"
  }
 },
 "nbformat": 4,
 "nbformat_minor": 4
}
