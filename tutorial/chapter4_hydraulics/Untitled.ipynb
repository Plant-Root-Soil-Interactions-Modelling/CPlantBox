{
 "cells": [
  {
   "cell_type": "code",
   "execution_count": 2,
   "id": "081f7023-5d92-40df-9a1d-4da30e9d1859",
   "metadata": {},
   "outputs": [
    {
     "ename": "IndexError",
     "evalue": "map::at",
     "output_type": "error",
     "traceback": [
      "\u001b[0;31m---------------------------------------------------------------------------\u001b[0m",
      "\u001b[0;31mIndexError\u001b[0m                                Traceback (most recent call last)",
      "Cell \u001b[0;32mIn[2], line 59\u001b[0m\n\u001b[1;32m     57\u001b[0m params\u001b[38;5;241m.\u001b[39mset_kr_const(\u001b[38;5;241m0.\u001b[39m,organType \u001b[38;5;241m=\u001b[39m pb\u001b[38;5;241m.\u001b[39mstem)\n\u001b[1;32m     58\u001b[0m params\u001b[38;5;241m.\u001b[39mset_kr_const(gmax,organType \u001b[38;5;241m=\u001b[39m pb\u001b[38;5;241m.\u001b[39mleaf)\n\u001b[0;32m---> 59\u001b[0m \u001b[43mparams\u001b[49m\u001b[38;5;241;43m.\u001b[39;49m\u001b[43mset_kx_const\u001b[49m\u001b[43m(\u001b[49m\u001b[43mkx\u001b[49m\u001b[43m,\u001b[49m\u001b[43morganType\u001b[49m\u001b[43m \u001b[49m\u001b[38;5;241;43m=\u001b[39;49m\u001b[43m \u001b[49m\u001b[38;5;241;43m-\u001b[39;49m\u001b[38;5;241;43m1\u001b[39;49m\u001b[43m)\u001b[49m\n\u001b[1;32m     60\u001b[0m hm \u001b[38;5;241m=\u001b[39m PhotosynthesisPython(plant, params)  \u001b[38;5;66;03m# |\\label{l41:model}|\u001b[39;00m\n",
      "File \u001b[0;32m~/CPB_tutorial/CPlantBox/tutorial/chapter4_hydraulics/../../src/functional/PlantHydraulicParameters.py:80\u001b[0m, in \u001b[0;36mPlantHydraulicParameters.set_kx_const\u001b[0;34m(self, kx, subType, organType)\u001b[0m\n\u001b[1;32m     78\u001b[0m \u001b[38;5;28;01mdef\u001b[39;00m \u001b[38;5;21mset_kx_const\u001b[39m(\u001b[38;5;28mself\u001b[39m, kx, subType \u001b[38;5;241m=\u001b[39m \u001b[38;5;241m-\u001b[39m\u001b[38;5;241m1\u001b[39m, organType \u001b[38;5;241m=\u001b[39m \u001b[38;5;28mint\u001b[39m(pb\u001b[38;5;241m.\u001b[39mOrganTypes\u001b[38;5;241m.\u001b[39mroot)):\n\u001b[1;32m     79\u001b[0m \u001b[38;5;250m    \u001b[39m\u001b[38;5;124;03m\"\"\" sets a constant axial conductivity [cm3/day] for roots for a subType (-1 for all subTypes) \"\"\"\u001b[39;00m\n\u001b[0;32m---> 80\u001b[0m     \u001b[38;5;28;43mself\u001b[39;49m\u001b[38;5;241;43m.\u001b[39;49m\u001b[43mset_flexible_\u001b[49m\u001b[43m(\u001b[49m\u001b[38;5;28;43mself\u001b[39;49m\u001b[38;5;241;43m.\u001b[39;49m\u001b[43msetKxConst\u001b[49m\u001b[43m,\u001b[49m\u001b[43m \u001b[49m\u001b[43m(\u001b[49m\u001b[43mkx\u001b[49m\u001b[43m,\u001b[49m\u001b[43m)\u001b[49m\u001b[43m,\u001b[49m\u001b[43m \u001b[49m\u001b[43msubType\u001b[49m\u001b[43m,\u001b[49m\u001b[43m \u001b[49m\u001b[43morganType\u001b[49m\u001b[43m)\u001b[49m\n",
      "File \u001b[0;32m~/CPB_tutorial/CPlantBox/tutorial/chapter4_hydraulics/../../src/functional/PlantHydraulicParameters.py:72\u001b[0m, in \u001b[0;36mPlantHydraulicParameters.set_flexible_\u001b[0;34m(self, f, params, subType, organType)\u001b[0m\n\u001b[1;32m     69\u001b[0m \u001b[38;5;28;01mfor\u001b[39;00m ot \u001b[38;5;129;01min\u001b[39;00m organTypes:\n\u001b[1;32m     70\u001b[0m     \u001b[38;5;28;01mfor\u001b[39;00m st \u001b[38;5;129;01min\u001b[39;00m subTypes:\n\u001b[1;32m     71\u001b[0m         \u001b[38;5;66;03m#print(f, st, ot)\u001b[39;00m\n\u001b[0;32m---> 72\u001b[0m         \u001b[43mf\u001b[49m\u001b[43m(\u001b[49m\u001b[38;5;241;43m*\u001b[39;49m\u001b[43mparams\u001b[49m\u001b[43m,\u001b[49m\u001b[43m \u001b[49m\u001b[43mst\u001b[49m\u001b[43m,\u001b[49m\u001b[43m \u001b[49m\u001b[43mot\u001b[49m\u001b[43m)\u001b[49m\n",
      "\u001b[0;31mIndexError\u001b[0m: map::at"
     ]
    }
   ],
   "source": [
    "\"\"\" Example of the photosynthesis module, using real data from the Selhausen lysimeter setup \"\"\"\n",
    "import sys; sys.path.append(\"../..\"); sys.path.append(\"../../src/\")\n",
    "import plantbox as pb\n",
    "import visualisation.vtk_plot as vp\n",
    "from functional.PlantHydraulicParameters import PlantHydraulicParameters  # |\\label{l41:imports}|\n",
    "from functional.Photosynthesis import PhotosynthesisPython  # |\\label{l41:imports}|\n",
    "\n",
    "import matplotlib.pyplot as plt\n",
    "from matplotlib.ticker import MaxNLocator\n",
    "import pandas as pd\n",
    "import numpy as np\n",
    "\n",
    "\"\"\" Parameters and variables \"\"\"\n",
    "plant_age = 14  # plant age [day]\n",
    "kx = 4.32e-2  # axial conductivity [cm3/day]\n",
    "kr = 1.728e-4  # radial conductivity [1/day]\n",
    "gmax = 0.004  #  cm3/day radial conductivity of leaves = stomatal conductivity [1/day]\n",
    "Hs = -1000  # soil total potential [cm]\n",
    "depth = 60 # soil depth [cm]\n",
    "\n",
    "sim_init = '11:00:00'\n",
    "sim_end = '14:00:00'\n",
    "weatherData = pd.read_csv('../../modelparameter/functional/climate/Selhausen_weather_data.txt', delimiter = \"\\t\")\n",
    "line_init = weatherData.index[weatherData['time'] == sim_init].tolist()[0]\n",
    "line_end = weatherData.index[weatherData['time'] == sim_end].tolist()[0]\n",
    "\n",
    "plotResults = True\n",
    "saveResults = False\n",
    "\n",
    "\n",
    "\"\"\" soil \"\"\"\n",
    "min_ = np.array([-5, -5, -60])\n",
    "max_ = np.array([9, 4, 0])\n",
    "# res_ = np.array([5, 5, 5])\n",
    "soilSpace = pb.SDF_PlantContainer(max_[0] - min_[0], max_[1] - min_[1], max_[2] - min_[2], True) #to avoid root growing aboveground\n",
    "soil_index = lambda x,y,z : max(int(np.floor(-z)),-1) # abovegroud nodes get index -1\n",
    "\n",
    "\n",
    "\n",
    "\"\"\" plant \"\"\"\n",
    "plant = pb.MappedPlant()\n",
    "path = \"../../modelparameter/structural/plant/\"\n",
    "name = \"fspm2023\" \n",
    "plant.readParameters(path + name + \".xml\")\n",
    "\n",
    "#plant.setRectangularGrid(pb.Vector3d(min_), pb.Vector3d(max_), pb.Vector3d(res_), True)  # cut and map segments\n",
    "plant.setGeometry(soilSpace) # creates soil space to stop roots from growing out of the soil\n",
    "plant.setSoilGrid(soil_index)\n",
    "\n",
    "verbose = False\n",
    "plant.initialize(verbose)\n",
    "plant.simulate(plant_age,verbose)\n",
    "\n",
    "\"\"\" plant hydraulic properties \"\"\"\n",
    "params = PlantHydraulicParameters()  # |\\label{l41:hydraulicparams}|\n",
    "params.set_kr_const(kr,organType = pb.root)\n",
    "params.set_kr_const(0.,organType = pb.stem)\n",
    "params.set_kr_const(gmax,organType = pb.leaf)\n",
    "params.set_kx_const(kx,organType = -1)\n",
    "hm = PhotosynthesisPython(plant, params)  # |\\label{l41:model}|\n"
   ]
  },
  {
   "cell_type": "code",
   "execution_count": 29,
   "id": "4477e8e4-6e51-46b7-b435-4493179ad1ef",
   "metadata": {},
   "outputs": [
    {
     "data": {
      "text/plain": [
       "4"
      ]
     },
     "execution_count": 29,
     "metadata": {},
     "output_type": "execute_result"
    }
   ],
   "source": [
    "int(pb.OrganTypes.leaf)"
   ]
  },
  {
   "cell_type": "code",
   "execution_count": 30,
   "id": "ac59c575-a777-4b68-89c5-ee9fc777e52c",
   "metadata": {},
   "outputs": [
    {
     "data": {
      "text/plain": [
       "True"
      ]
     },
     "execution_count": 30,
     "metadata": {},
     "output_type": "execute_result"
    }
   ],
   "source": [
    "isinstance(pb.OrganTypes.leaf, (int,pb.OrganTypes))"
   ]
  },
  {
   "cell_type": "code",
   "execution_count": 3,
   "id": "613e8f0e-d807-4d7e-95d5-1bc2f326891d",
   "metadata": {},
   "outputs": [
    {
     "data": {
      "text/plain": [
       "'11:40:00'"
      ]
     },
     "execution_count": 3,
     "metadata": {},
     "output_type": "execute_result"
    }
   ],
   "source": [
    "weatherData['time'][line_init]"
   ]
  },
  {
   "cell_type": "code",
   "execution_count": 4,
   "id": "38487d23-2e5c-4410-9f2d-45af23b4142c",
   "metadata": {},
   "outputs": [
    {
     "data": {
      "text/plain": [
       "0      False\n",
       "1      False\n",
       "2      False\n",
       "3      False\n",
       "4      False\n",
       "       ...  \n",
       "139    False\n",
       "140    False\n",
       "141    False\n",
       "142    False\n",
       "143    False\n",
       "Name: time, Length: 144, dtype: bool"
      ]
     },
     "execution_count": 4,
     "metadata": {},
     "output_type": "execute_result"
    }
   ],
   "source": [
    "weatherData['time'] == '11:00:00'"
   ]
  },
  {
   "cell_type": "code",
   "execution_count": 7,
   "id": "705e26ae-e1b0-45f1-8a5f-30d90114f8fa",
   "metadata": {},
   "outputs": [
    {
     "data": {
      "text/plain": [
       "66"
      ]
     },
     "execution_count": 7,
     "metadata": {},
     "output_type": "execute_result"
    }
   ],
   "source": []
  },
  {
   "cell_type": "code",
   "execution_count": 11,
   "id": "e0319186-6b61-4db2-9b52-a0ae7b50bcce",
   "metadata": {},
   "outputs": [],
   "source": [
    "t0 = weatherData['time'][66]\n",
    "tf = weatherData['time'][84]"
   ]
  },
  {
   "cell_type": "code",
   "execution_count": 10,
   "id": "85803d34-0f0a-49f0-9efe-015f7d96c863",
   "metadata": {},
   "outputs": [
    {
     "data": {
      "text/plain": [
       "84"
      ]
     },
     "execution_count": 10,
     "metadata": {},
     "output_type": "execute_result"
    }
   ],
   "source": [
    "weatherData.index[weatherData['time'] == '14:00:00'].tolist()[0]"
   ]
  },
  {
   "cell_type": "code",
   "execution_count": 12,
   "id": "e12ef915-f7b7-4b6b-80f1-02cbbd082e67",
   "metadata": {},
   "outputs": [
    {
     "data": {
      "text/plain": [
       "'11:00:00'"
      ]
     },
     "execution_count": 12,
     "metadata": {},
     "output_type": "execute_result"
    }
   ],
   "source": [
    "t0"
   ]
  },
  {
   "cell_type": "code",
   "execution_count": 19,
   "id": "de56041e-aacb-4c42-adcb-a922ef5f18f2",
   "metadata": {},
   "outputs": [
    {
     "data": {
      "text/plain": [
       "0.125"
      ]
     },
     "execution_count": 19,
     "metadata": {},
     "output_type": "execute_result"
    }
   ],
   "source": [
    "(pd.to_timedelta(tf) - pd.to_timedelta(t0)).total_seconds()/(60*60*24)"
   ]
  },
  {
   "cell_type": "code",
   "execution_count": 20,
   "id": "d787444f-32e9-4c8c-be46-6e53186680e1",
   "metadata": {},
   "outputs": [
    {
     "data": {
      "text/plain": [
       "10800.0"
      ]
     },
     "execution_count": 20,
     "metadata": {},
     "output_type": "execute_result"
    }
   ],
   "source": [
    "0.125*24*60*60"
   ]
  },
  {
   "cell_type": "code",
   "execution_count": 21,
   "id": "2c334ccf-0070-4205-9575-c3e30179dca6",
   "metadata": {},
   "outputs": [
    {
     "data": {
      "text/plain": [
       "3.0"
      ]
     },
     "execution_count": 21,
     "metadata": {},
     "output_type": "execute_result"
    }
   ],
   "source": [
    "0.125*24"
   ]
  },
  {
   "cell_type": "code",
   "execution_count": null,
   "id": "dcb3e04a-5f24-4c29-9d2f-57a8001d2f24",
   "metadata": {},
   "outputs": [],
   "source": []
  }
 ],
 "metadata": {
  "kernelspec": {
   "display_name": "Python 3 (ipykernel)",
   "language": "python",
   "name": "python3"
  },
  "language_info": {
   "codemirror_mode": {
    "name": "ipython",
    "version": 3
   },
   "file_extension": ".py",
   "mimetype": "text/x-python",
   "name": "python",
   "nbconvert_exporter": "python",
   "pygments_lexer": "ipython3",
   "version": "3.12.3"
  }
 },
 "nbformat": 4,
 "nbformat_minor": 5
}
