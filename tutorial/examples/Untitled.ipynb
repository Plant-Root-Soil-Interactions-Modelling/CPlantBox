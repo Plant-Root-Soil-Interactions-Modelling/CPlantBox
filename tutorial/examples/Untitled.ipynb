{
 "cells": [
  {
   "cell_type": "code",
   "execution_count": 1,
   "id": "cff0a7cb-7d38-48d8-b0b9-980cf8c9b98d",
   "metadata": {},
   "outputs": [],
   "source": [
    "import sys; sys.path.append(\"../..\"); sys.path.append(\"../../src/\")\n",
    "path = \"../../modelparameter/structural/plant/\"\n",
    "sys.path.append(path)\n",
    "import plantbox as pb\n",
    "from example1f import template_text\n",
    "import visualisation.vtk_plot as vp"
   ]
  },
  {
   "cell_type": "code",
   "execution_count": 2,
   "id": "4af8d350-5d0b-436d-9919-8b8aed41f85c",
   "metadata": {},
   "outputs": [
    {
     "name": "stdout",
     "output_type": "stream",
     "text": [
      "Organism::readParameters: plant tag was not found in xml file, retrying with Plant \n",
      "OrganRandomParameter::readXML: warning! parameter plantingdepth is defined in the xml, but not available in organ seed\n",
      "OrganRandomParameter::readXML: warning! parameter nob is defined in the xml, but not available in organ root\n",
      "OrganRandomParameter::readXML: warning! parameter RotBeta is defined in the xml, but not available in organ root\n",
      "OrganRandomParameter::readXML: warning! parameter BetaDev is defined in the xml, but not available in organ root\n",
      "OrganRandomParameter::readXML: warning! parameter InitBeta is defined in the xml, but not available in organ root\n",
      "OrganRandomParameter::readXML: warning! parameter RotBeta is defined in the xml, but not available in organ root\n",
      "OrganRandomParameter::readXML: warning! parameter BetaDev is defined in the xml, but not available in organ root\n",
      "OrganRandomParameter::readXML: warning! parameter InitBeta is defined in the xml, but not available in organ root\n",
      "OrganRandomParameter::readXML: warning! parameter RotBeta is defined in the xml, but not available in organ root\n",
      "OrganRandomParameter::readXML: warning! parameter BetaDev is defined in the xml, but not available in organ root\n",
      "OrganRandomParameter::readXML: warning! parameter InitBeta is defined in the xml, but not available in organ root\n",
      "OrganRandomParameter::readXML: warning! parameter nob is defined in the xml, but not available in organ stem\n",
      "OrganRandomParameter::readSuccessor: gave a stem a successor of subtype 2 and did not specify type. For backward compatibility, this will be considered as a leaf successor\n"
     ]
    }
   ],
   "source": [
    "successors = {\n",
    "        \"root\":\"\"\"<parameter name=\"successor\" ruleId=\"0\" organType=\"2\" subType=\"2\" probability=\"1\"/>\"\"\",\n",
    "        \"stem\":\"\"\"<parameter name=\"successor\" ruleId=\"0\" organType=\"3\" subType=\"2\" probability=\"1\"/>\"\"\"\n",
    "        }\n",
    "\n",
    "filledText = template_text.format(**successors)\n",
    "f = open(path + \"example1f.xml\", \"w\")\n",
    "f.write(filledText)\n",
    "f.close()\n",
    "p = pb.MappedPlant(2)\n",
    "p.readParameters(path + \"example1f.xml\", verbose = True)\n",
    "p.initialize(False)\n",
    "\n",
    "\n",
    "#            .def_readwrite(\"successorOT\", &OrganRandomParameter::successorOT)\n",
    "#            .def_readwrite(\"successorST\", &OrganRandomParameter::successorST)\n",
    "#            .def_readwrite(\"successorWhere\", &OrganRandomParameter::successorWhere)\n",
    "#            .def_readwrite(\"successorNo\", &OrganRandomParameter::successorNo)\n",
    "#            .def_readwrite(\"successorP\", &OrganRandomParameter::successorP)"
   ]
  },
  {
   "cell_type": "code",
   "execution_count": 4,
   "id": "d9c3967b-82fb-4edc-993b-0167688899e3",
   "metadata": {},
   "outputs": [
    {
     "name": "stdout",
     "output_type": "stream",
     "text": [
      "orgp.successorST= [[2]] orgp.successorP= [[1.0]] orgp.successorOT= [[2]] orgp.successorNo= [1] orgp.successorWhere= [[]]\n"
     ]
    }
   ],
   "source": [
    "orgp = p.getOrganRandomParameter(2)[1]\n",
    "print(\"orgp.successorST=\",orgp.successorST, \n",
    "      \"orgp.successorP=\",orgp.successorP,\n",
    "      'orgp.successorOT=',orgp.successorOT,\n",
    "      'orgp.successorNo=',orgp.successorNo, \n",
    "      'orgp.successorWhere=',orgp.successorWhere)"
   ]
  },
  {
   "cell_type": "code",
   "execution_count": 5,
   "id": "8c58c757-4e8e-4721-b782-b2b334b3eb33",
   "metadata": {},
   "outputs": [
    {
     "name": "stdout",
     "output_type": "stream",
     "text": [
      "orgp.successorST= [[2]] orgp.successorP= [[1.0]] orgp.successorOT= [[3]] orgp.successorNo= [1] orgp.successorWhere= [[]]\n"
     ]
    }
   ],
   "source": [
    "orgp = p.getOrganRandomParameter(2)[1]\n",
    "print(\"orgp.successorST=\",orgp.successorST, \n",
    "      \"orgp.successorP=\",orgp.successorP,\n",
    "      'orgp.successorOT=',orgp.successorOT,\n",
    "      'orgp.successorNo=',orgp.successorNo, \n",
    "      'orgp.successorWhere=',orgp.successorWhere)\n",
    "orgp = p.getOrganRandomParameter(3)[1]\n",
    "print(\"orgp.successorST=\",orgp.successorST, \n",
    "      \"orgp.successorP=\",orgp.successorP,\n",
    "      'orgp.successorOT=',orgp.successorOT,\n",
    "      'orgp.successorNo=',orgp.successorNo, \n",
    "      'orgp.successorWhere=',orgp.successorWhere)"
   ]
  },
  {
   "cell_type": "code",
   "execution_count": 10,
   "id": "2eb24803-5e7a-465a-9d55-1753a356687b",
   "metadata": {},
   "outputs": [
    {
     "name": "stdout",
     "output_type": "stream",
     "text": [
      "[[2]]\n"
     ]
    }
   ],
   "source": [
    "print(orgp[1].successorST)"
   ]
  },
  {
   "cell_type": "code",
   "execution_count": 3,
   "id": "db703013-a7fb-4ed0-b05e-281a10872b46",
   "metadata": {},
   "outputs": [],
   "source": [
    "\n",
    "# ## Several successor types, specific locations\n",
    "'''\n",
    "giving positive integers for \"where\" define the linking node to include (here \"root\" successor). Giving negative integers to \"where\" define linking nodes to exclude  (here 1st \"stem\" successor).\n",
    "By default, the rule is applied at all linking nodes   (here 2nd \"stem\" successor).\n",
    "via \"numlat\" several laterals can grow at each selected linking nodes.\n",
    "Roots can grow out of shoot organs and vice-versa\n",
    " \n",
    "'''\n",
    "successors = {\n",
    "        \"root\":\n",
    "\"\"\"<parameter name=\"successor\" ruleId=\"0\" numLat=\"4\" where=\"-1,-3,-5,-7\" organType=\"2\" subtype=\"2\" probability=\"1\"/>\n",
    "    <parameter name=\"successor\" ruleId=\"1\" numLat=\"1\" organType=\"4\" subtype=\"1\" probability=\"1\"/>\n",
    "    <parameter name=\"successor\" ruleId=\"2\" numLat=\"6\" organType=\"3\" subtype=\"2\" probability=\"1\"/>\"\"\",\n",
    "        \"stem\":\"\"\"<parameter name=\"successor\" ruleId=\"0\" where=\"4,6,8\" organType=\"2\" subtype=\"1\" probability=\"1\"/>\n",
    "        <parameter name=\"successor\" ruleId=\"1\" numLat=\"4\" where=\"-3\" organType=\"4\" subtype=\"1\" probability=\"1\"/>\"\"\"\n",
    "        }\n",
    "\n",
    "filledText = template_text.format(**successors)\n",
    "f = open(path + \"example1f.xml\", \"w\")\n",
    "f.write(filledText)\n",
    "f.close()\n",
    "p = pb.Plant(2)\n",
    "p.readParameters(path + \"example1f.xml\")\n",
    "\n",
    "\n",
    "p.initialize(False)\n"
   ]
  },
  {
   "cell_type": "code",
   "execution_count": 5,
   "id": "b0962a94-29ee-4425-98de-8580a0f82f42",
   "metadata": {},
   "outputs": [
    {
     "name": "stdout",
     "output_type": "stream",
     "text": [
      "rrp.successorST= [[2], [1], [2]] rrp.successorP= [[1.0], [1.0], [1.0]] rrp.successorOT= [[2], [4], [3]] rrp.successorNo= [4, 1, 6] rrp.successorWhere= [[-1.0, -3.0, -5.0, -7.0], [], []]\n",
      "srp.successorST= [[1], [1]] srp.successorP= [[1.0], [1.0]] srp.successorOT= [[2], [4]] srp.successorNo= [1, 4] srp.successorWhere= [[4.0, 6.0, 8.0], [-3.0]]\n"
     ]
    }
   ],
   "source": [
    "orgp = p.getOrganRandomParameter(2)[1]\n",
    "print(\"rrp.successorST=\",orgp.successorST, \n",
    "      \"rrp.successorP=\",orgp.successorP,\n",
    "      'rrp.successorOT=',orgp.successorOT,\n",
    "      'rrp.successorNo=',orgp.successorNo, \n",
    "      'rrp.successorWhere=',orgp.successorWhere)\n",
    "orgp = p.getOrganRandomParameter(3)[1]\n",
    "print(\"srp.successorST=\",orgp.successorST, \n",
    "      \"srp.successorP=\",orgp.successorP,\n",
    "      'srp.successorOT=',orgp.successorOT,\n",
    "      'srp.successorNo=',orgp.successorNo, \n",
    "      'srp.successorWhere=',orgp.successorWhere)"
   ]
  },
  {
   "cell_type": "code",
   "execution_count": 6,
   "id": "fae9d85e-7f8c-4af5-8f6c-d15eb6e72521",
   "metadata": {},
   "outputs": [],
   "source": [
    "\n",
    "successors = {\n",
    "        \"root\":\"\"\"<parameter name=\"successor\" ruleId=\"0\" where=\"3, 5\" organType=\"2\" subtype=\"2\" probability=\"1\"/>\"\"\",\n",
    "        \"stem\":\"\"\"<parameter name=\"successor\" ruleId=\"0\" where=\"-3\" numLat=\"4\" organType=\"3,4,2\" subtype=\"2,1,3\" probability=\"0.2,0.3,0.3\"/>\n",
    "        <parameter name=\"successor\" ruleId=\"1\" where=\"3\" numLat=\"1\" organType=\"3\" subtype=\"2\" probability=\"1\"/>\"\"\"\n",
    "        }\n",
    "\n",
    "filledText = template_text.format(**successors)\n",
    "f = open(path + \"example1f.xml\", \"w\")\n",
    "f.write(filledText)\n",
    "f.close()\n",
    "    \n",
    "p = pb.MappedPlant(2)\n",
    "p.readParameters(path + \"example1f.xml\")\n",
    "p.initialize(False)"
   ]
  },
  {
   "cell_type": "code",
   "execution_count": 7,
   "id": "23835acd-d8ca-4481-9542-c350dc2a545e",
   "metadata": {},
   "outputs": [
    {
     "name": "stdout",
     "output_type": "stream",
     "text": [
      "rrp.successorOT= [[2]] rrp.successorST= [[2]] rrp.successorP= [[1.0]] rrp.successorNo= [1] rrp.successorWhere= [[3.0, 5.0]]\n",
      "srp.successorOT= [[3, 4, 2], [3]] srp.successorST= [[2, 1, 3], [2]] srp.successorP= [[0.2, 0.3, 0.3], [1.0]] srp.successorNo= [4, 1] srp.successorWhere= [[-3.0], [3.0]]\n"
     ]
    }
   ],
   "source": [
    "orgp = p.getOrganRandomParameter(2)[1]\n",
    "print('rrp.successorOT=',orgp.successorOT,\n",
    "      \"rrp.successorST=\",orgp.successorST, \n",
    "      \"rrp.successorP=\",orgp.successorP,      \n",
    "      'rrp.successorNo=',orgp.successorNo, \n",
    "      'rrp.successorWhere=',orgp.successorWhere)\n",
    "orgp = p.getOrganRandomParameter(3)[1]\n",
    "print('srp.successorOT=',orgp.successorOT,\n",
    "      \"srp.successorST=\",orgp.successorST, \n",
    "      \"srp.successorP=\",orgp.successorP,      \n",
    "      'srp.successorNo=',orgp.successorNo, \n",
    "      'srp.successorWhere=',orgp.successorWhere)"
   ]
  },
  {
   "cell_type": "code",
   "execution_count": null,
   "id": "ad0cb3ae-4fe7-4d50-974f-eb02056b60f1",
   "metadata": {},
   "outputs": [],
   "source": []
  }
 ],
 "metadata": {
  "kernelspec": {
   "display_name": "Python 3 (ipykernel)",
   "language": "python",
   "name": "python3"
  },
  "language_info": {
   "codemirror_mode": {
    "name": "ipython",
    "version": 3
   },
   "file_extension": ".py",
   "mimetype": "text/x-python",
   "name": "python",
   "nbconvert_exporter": "python",
   "pygments_lexer": "ipython3",
   "version": "3.12.3"
  }
 },
 "nbformat": 4,
 "nbformat_minor": 5
}
