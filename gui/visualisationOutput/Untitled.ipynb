{
 "cells": [
  {
   "cell_type": "code",
   "execution_count": 1,
   "id": "d0b53344-6eb6-44f3-a399-e10bdaf7d9d3",
   "metadata": {},
   "outputs": [],
   "source": [
    "\n",
    "import sys; sys.path.append(\"../..\"); sys.path.append(\"../../src/\")\n",
    "from visualisation.vtk_tools import *\n",
    "from visualisation.vtk_plot import *\n",
    "import vtk\n",
    "\n",
    "import numpy as np\n",
    "import pandas as pd\n",
    "import string\n",
    "\n",
    "from dash import html, dcc, Input, Output, State, ctx\n",
    "import plotly.graph_objs as go\n",
    "from plotly.colors import qualitative\n",
    "import dash_vtk\n",
    "import matplotlib.pyplot as plt\n",
    "from matplotlib import colors\n",
    "from matplotlib.lines import Line2D\n",
    "from matplotlib.ticker import ScalarFormatter\n",
    "import pickle\n",
    "import plotly.graph_objects as go\n",
    "from plotly.subplots import make_subplots\n",
    "from vtk.util.numpy_support import vtk_to_numpy\n",
    "from dash_vtk.utils import to_mesh_state, to_volume_state"
   ]
  },
  {
   "cell_type": "code",
   "execution_count": 11,
   "id": "a5ec993c-6d94-4593-b3a4-4442e320d878",
   "metadata": {},
   "outputs": [
    {
     "name": "stdout",
     "output_type": "stream",
     "text": [
      "Number of values: 1440\n"
     ]
    }
   ],
   "source": [
    "path = \"data/vtpvti/b5/vtpvti/\"\n",
    "file_main =  path + \"soil_rx\"+str(int(20*10))+ \".vti\"\n",
    "image_data  = read_rect_vtu(file_main)\n",
    "cell_data = image_data.GetCellData()\n",
    "pressure_head_array = cell_data.GetArray(\"pressure head\")\n",
    "\n",
    "print(\"Number of values:\", pressure_head_array.GetNumberOfTuples())\n",
    "#ugrid  = read_vtu(file_main)"
   ]
  },
  {
   "cell_type": "code",
   "execution_count": 12,
   "id": "ef92ff71-3c61-4b8d-8e65-798bc818599a",
   "metadata": {},
   "outputs": [
    {
     "data": {
      "text/plain": [
       "<CellData(0x14482c50) at 0x7f62e8d243a0>"
      ]
     },
     "execution_count": 12,
     "metadata": {},
     "output_type": "execute_result"
    }
   ],
   "source": [
    "image_data.GetCellData()"
   ]
  },
  {
   "cell_type": "code",
   "execution_count": 16,
   "id": "4b07e359-cbd2-46b0-ae61-fb6bd0d5cc23",
   "metadata": {},
   "outputs": [
    {
     "name": "stdout",
     "output_type": "stream",
     "text": [
      "- [0] water content\n",
      "- [1] pressure head\n",
      "- [2] theta (cm3/cm3)\n"
     ]
    }
   ],
   "source": [
    "num_arrays = cell_data.GetNumberOfArrays()\n",
    "for i in range(num_arrays):\n",
    "    array = cell_data.GetArray(i)\n",
    "    name = array.GetName()\n",
    "    print(f\"- [{i}] {name}\")"
   ]
  },
  {
   "cell_type": "code",
   "execution_count": 7,
   "id": "1d6782e3-5045-4415-9ca0-3386d85d2713",
   "metadata": {},
   "outputs": [],
   "source": [
    "\n",
    "# Use the correct reader for .vti files\n",
    "reader = vtk.vtkXMLImageDataReader()\n",
    "reader.SetFileName(file_main)\n",
    "reader.Update()\n",
    "\n",
    "image_data = reader.GetOutput()\n",
    "\n",
    "# Access the cell data array named \"pressure head\"\n",
    "cell_data = image_data.GetCellData()\n",
    "pressure_head_array = cell_data.GetArray(\"pressure head\")"
   ]
  },
  {
   "cell_type": "code",
   "execution_count": 8,
   "id": "c967db27-e1d7-45f7-93cc-e79c8ded3906",
   "metadata": {},
   "outputs": [
    {
     "data": {
      "text/plain": [
       "<vtkmodules.vtkCommonCore.vtkTypeFloat64Array(0x13327a80) at 0x7f62e8d24580>"
      ]
     },
     "execution_count": 8,
     "metadata": {},
     "output_type": "execute_result"
    }
   ],
   "source": []
  },
  {
   "cell_type": "code",
   "execution_count": null,
   "id": "2e2718c9-cece-42a7-8276-6ff2f8894282",
   "metadata": {},
   "outputs": [],
   "source": [
    "\n",
    "# Extract scalar range from point data  \n",
    "print(\"Number of arrays in cell data vti:\",  image_data.GetCellData().GetNumberOfArrays())  \n",
    "print(\"Number of arrays in point data vti:\",  image_data.GetPointData().GetNumberOfArrays())  \n",
    "if image_data.GetPointData().GetNumberOfArrays() == 0:\n",
    "    raise ValueError(\"No point data arrays found in the VTU file.\")\n",
    "\n",
    "pname = image_data.GetPointData().GetArrayName(0)\n",
    "array = image_data.GetPointData().GetArray(pname)\n",
    "q_exud = vtk_to_numpy(array) if array else np.array([])\n",
    "q_range = [float(q_exud.min()), float(q_exud.max())] if q_exud.size > 0 else [0.0, 1e-6]\n",
    "\n",
    "print('q_exud', pname, q_range)\n",
    "\n",
    "# Create volume state from image data\n",
    "vol_state = to_volume_state(image_data, field_to_encode=pname)\n",
    "q_range = vol_state[\"field\"][\"dataRange\"]  # Updated after conversion"
   ]
  }
 ],
 "metadata": {
  "kernelspec": {
   "display_name": "Python 3 (ipykernel)",
   "language": "python",
   "name": "python3"
  },
  "language_info": {
   "codemirror_mode": {
    "name": "ipython",
    "version": 3
   },
   "file_extension": ".py",
   "mimetype": "text/x-python",
   "name": "python",
   "nbconvert_exporter": "python",
   "pygments_lexer": "ipython3",
   "version": "3.12.3"
  }
 },
 "nbformat": 4,
 "nbformat_minor": 5
}
